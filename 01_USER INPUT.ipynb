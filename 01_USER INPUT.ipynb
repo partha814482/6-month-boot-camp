{
 "cells": [
  {
   "cell_type": "code",
   "execution_count": 10,
   "id": "235e1ed0-a4f7-484c-968e-db2adb6a991b",
   "metadata": {},
   "outputs": [],
   "source": [
    "f = open('text.txt','r')"
   ]
  },
  {
   "cell_type": "code",
   "execution_count": 11,
   "id": "c255980a-47ef-4c99-9d35-7b2174b28b44",
   "metadata": {},
   "outputs": [
    {
     "data": {
      "text/plain": [
       "'i am doing my internship under senapati sir in nit'"
      ]
     },
     "execution_count": 11,
     "metadata": {},
     "output_type": "execute_result"
    }
   ],
   "source": [
    "f.read()"
   ]
  },
  {
   "cell_type": "code",
   "execution_count": 12,
   "id": "b3ea49ad-5d78-4237-9495-3eee0d9c0c04",
   "metadata": {},
   "outputs": [],
   "source": [
    "#f.write('chittadeeprout')"
   ]
  },
  {
   "cell_type": "code",
   "execution_count": 13,
   "id": "375a5714-0942-4b05-bb34-b49cceee21c1",
   "metadata": {},
   "outputs": [],
   "source": [
    "f.close()"
   ]
  },
  {
   "cell_type": "code",
   "execution_count": 14,
   "id": "a908eab9-92c5-4a35-8bfb-9968c1dca4ce",
   "metadata": {},
   "outputs": [],
   "source": [
    "s = 'i am doing my internship under senapati sir in nit'"
   ]
  },
  {
   "cell_type": "code",
   "execution_count": 15,
   "id": "bd7032e9-5d96-4386-9654-48e182a299db",
   "metadata": {},
   "outputs": [],
   "source": [
    "f = open('text.txt','w')"
   ]
  },
  {
   "cell_type": "code",
   "execution_count": 16,
   "id": "63c79bb8-fa81-4a5c-b146-07ac4b133f2b",
   "metadata": {},
   "outputs": [
    {
     "data": {
      "text/plain": [
       "50"
      ]
     },
     "execution_count": 16,
     "metadata": {},
     "output_type": "execute_result"
    }
   ],
   "source": [
    "f.write(s)"
   ]
  },
  {
   "cell_type": "code",
   "execution_count": 17,
   "id": "12c1ad39-ea67-4c8a-b9f9-a6fb8d9cc69b",
   "metadata": {},
   "outputs": [],
   "source": [
    "f.close()\n"
   ]
  },
  {
   "cell_type": "code",
   "execution_count": 18,
   "id": "23bbf26b-b924-472e-b1e9-c398f8935fa5",
   "metadata": {},
   "outputs": [
    {
     "ename": "ValueError",
     "evalue": "I/O operation on closed file.",
     "output_type": "error",
     "traceback": [
      "\u001b[1;31m---------------------------------------------------------------------------\u001b[0m",
      "\u001b[1;31mValueError\u001b[0m                                Traceback (most recent call last)",
      "Cell \u001b[1;32mIn[18], line 1\u001b[0m\n\u001b[1;32m----> 1\u001b[0m f\u001b[38;5;241m.\u001b[39mread()\n",
      "\u001b[1;31mValueError\u001b[0m: I/O operation on closed file."
     ]
    }
   ],
   "source": [
    "f.read()"
   ]
  },
  {
   "cell_type": "code",
   "execution_count": 19,
   "id": "d85379f7-1267-484f-9042-2235b028790f",
   "metadata": {},
   "outputs": [],
   "source": [
    "f = open('partha.txt','w')"
   ]
  },
  {
   "cell_type": "code",
   "execution_count": 20,
   "id": "a9217c21-d40d-4e4b-a213-84230a027f88",
   "metadata": {},
   "outputs": [
    {
     "data": {
      "text/plain": [
       "50"
      ]
     },
     "execution_count": 20,
     "metadata": {},
     "output_type": "execute_result"
    }
   ],
   "source": [
    "f.write(s)"
   ]
  },
  {
   "cell_type": "code",
   "execution_count": 21,
   "id": "0fb6dfc7-caf1-4378-8176-fac87ab1fda7",
   "metadata": {},
   "outputs": [],
   "source": [
    "f.close()\n"
   ]
  },
  {
   "cell_type": "code",
   "execution_count": 22,
   "id": "1eafdf64-1a71-4bbd-8e63-4c820fa3f2ba",
   "metadata": {},
   "outputs": [],
   "source": [
    "a = 5\n",
    "b = 6"
   ]
  },
  {
   "cell_type": "code",
   "execution_count": 23,
   "id": "b84d0c2a-130a-45cf-8786-b7125ddf7b6b",
   "metadata": {},
   "outputs": [],
   "source": [
    "a = a^b"
   ]
  },
  {
   "cell_type": "code",
   "execution_count": 24,
   "id": "b532bcd6-494c-4199-b700-be9a55c32eda",
   "metadata": {},
   "outputs": [
    {
     "data": {
      "text/plain": [
       "3"
      ]
     },
     "execution_count": 24,
     "metadata": {},
     "output_type": "execute_result"
    }
   ],
   "source": [
    "a"
   ]
  },
  {
   "cell_type": "code",
   "execution_count": 25,
   "id": "c3a783e2-baf7-4c89-9812-f4dc96035f93",
   "metadata": {},
   "outputs": [
    {
     "data": {
      "text/plain": [
       "6"
      ]
     },
     "execution_count": 25,
     "metadata": {},
     "output_type": "execute_result"
    }
   ],
   "source": [
    "b"
   ]
  },
  {
   "cell_type": "code",
   "execution_count": 26,
   "id": "1305af5d-6e22-46f1-ac34-0c6e2052408e",
   "metadata": {},
   "outputs": [],
   "source": [
    "b = a ^ b"
   ]
  },
  {
   "cell_type": "code",
   "execution_count": 27,
   "id": "d5cdcc19-0fd8-485e-a43d-bf3b6072ebec",
   "metadata": {},
   "outputs": [
    {
     "data": {
      "text/plain": [
       "5"
      ]
     },
     "execution_count": 27,
     "metadata": {},
     "output_type": "execute_result"
    }
   ],
   "source": [
    "b\n"
   ]
  },
  {
   "cell_type": "code",
   "execution_count": 28,
   "id": "f640771d-a746-4290-af5e-aca89e12cfa2",
   "metadata": {},
   "outputs": [
    {
     "data": {
      "text/plain": [
       "3"
      ]
     },
     "execution_count": 28,
     "metadata": {},
     "output_type": "execute_result"
    }
   ],
   "source": [
    "a"
   ]
  },
  {
   "cell_type": "code",
   "execution_count": 29,
   "id": "062e41c1-a668-4247-a2c0-4db0bbf9e0af",
   "metadata": {},
   "outputs": [],
   "source": [
    "#there is other way to work using swap variable also which is XOR because it will not waste extra bit \n",
    "a = a ^ b\n",
    "b = a ^ b\n",
    "a = a ^ b"
   ]
  },
  {
   "cell_type": "code",
   "execution_count": 30,
   "id": "8e022299-5b08-4d27-ae34-1f006afc8a48",
   "metadata": {},
   "outputs": [
    {
     "name": "stdout",
     "output_type": "stream",
     "text": [
      "5\n",
      "3\n"
     ]
    }
   ],
   "source": [
    "print(a)\n",
    "print(b)"
   ]
  },
  {
   "cell_type": "code",
   "execution_count": 31,
   "id": "7c896769-8c68-4409-acf5-7b67c1005976",
   "metadata": {},
   "outputs": [],
   "source": [
    "a,b =  b,a"
   ]
  },
  {
   "cell_type": "code",
   "execution_count": 32,
   "id": "bfeffdc8-95f3-42b4-9502-208ba5b19058",
   "metadata": {},
   "outputs": [
    {
     "name": "stdout",
     "output_type": "stream",
     "text": [
      "3\n",
      "5\n"
     ]
    }
   ],
   "source": [
    "print(a)\n",
    "print(b)"
   ]
  },
  {
   "cell_type": "code",
   "execution_count": 33,
   "id": "8e0414ba-4ab5-4c2a-b808-8f0c7202904c",
   "metadata": {},
   "outputs": [],
   "source": [
    "a1 = 12\n",
    "b1 = 15\n"
   ]
  },
  {
   "cell_type": "code",
   "execution_count": 34,
   "id": "e77363ed-9518-4e62-ba24-72a38edd0a29",
   "metadata": {},
   "outputs": [],
   "source": [
    "a1,b1 = b1,a1"
   ]
  },
  {
   "cell_type": "code",
   "execution_count": 35,
   "id": "57082420-2f52-4e2f-87d5-584809d1cb40",
   "metadata": {},
   "outputs": [
    {
     "name": "stdout",
     "output_type": "stream",
     "text": [
      "15\n",
      "12\n"
     ]
    }
   ],
   "source": [
    "print(a1)\n",
    "print(b1)"
   ]
  },
  {
   "cell_type": "code",
   "execution_count": 39,
   "id": "88681f72-9898-4f1b-9597-05ac29dad59b",
   "metadata": {},
   "outputs": [],
   "source": [
    "temp = a1\n",
    "a1 = b1\n",
    "b1 = temp"
   ]
  },
  {
   "cell_type": "code",
   "execution_count": 40,
   "id": "8d279a16-53a2-418e-a76f-8ba925635a69",
   "metadata": {},
   "outputs": [
    {
     "name": "stdout",
     "output_type": "stream",
     "text": [
      "15\n",
      "12\n"
     ]
    }
   ],
   "source": [
    "print(a1)\n",
    "print(b1)"
   ]
  },
  {
   "cell_type": "code",
   "execution_count": 41,
   "id": "996b1fe8-8b5b-4717-98ed-bf45338c72f5",
   "metadata": {},
   "outputs": [],
   "source": [
    "a1,b1 = b1,a1"
   ]
  },
  {
   "cell_type": "code",
   "execution_count": 42,
   "id": "5f00f253-9605-49e6-be22-a8dc8f19cf8a",
   "metadata": {},
   "outputs": [
    {
     "name": "stdout",
     "output_type": "stream",
     "text": [
      "12\n",
      "15\n"
     ]
    }
   ],
   "source": [
    "print(a1)\n",
    "print(b1)"
   ]
  },
  {
   "cell_type": "markdown",
   "id": "276d0dd9-08dd-4900-adc8-23346b7eea55",
   "metadata": {},
   "source": [
    "BITWISE OPERATOR"
   ]
  },
  {
   "cell_type": "code",
   "execution_count": 43,
   "id": "0c1e6042-4056-4d05-b67d-319c72e39c73",
   "metadata": {},
   "outputs": [
    {
     "data": {
      "text/plain": [
       "-2"
      ]
     },
     "execution_count": 43,
     "metadata": {},
     "output_type": "execute_result"
    }
   ],
   "source": [
    "~1"
   ]
  },
  {
   "cell_type": "code",
   "execution_count": 44,
   "id": "e5cd2a53-3fa3-4b84-a6d4-eef063f8c286",
   "metadata": {},
   "outputs": [
    {
     "data": {
      "text/plain": [
       "-1"
      ]
     },
     "execution_count": 44,
     "metadata": {},
     "output_type": "execute_result"
    }
   ],
   "source": [
    "~0"
   ]
  },
  {
   "cell_type": "code",
   "execution_count": 45,
   "id": "1ad63055-9dc6-45d9-b4ea-7b32d22a3745",
   "metadata": {},
   "outputs": [
    {
     "data": {
      "text/plain": [
       "0"
      ]
     },
     "execution_count": 45,
     "metadata": {},
     "output_type": "execute_result"
    }
   ],
   "source": [
    "~-1"
   ]
  },
  {
   "cell_type": "code",
   "execution_count": 47,
   "id": "72b4f8ad-7eec-4028-8dc3-686be6c8d8b2",
   "metadata": {},
   "outputs": [
    {
     "data": {
      "text/plain": [
       "'0b1100'"
      ]
     },
     "execution_count": 47,
     "metadata": {},
     "output_type": "execute_result"
    }
   ],
   "source": [
    "bin(12)"
   ]
  },
  {
   "cell_type": "code",
   "execution_count": 49,
   "id": "6cbcfee4-23ab-4910-985d-a0426179c8d4",
   "metadata": {},
   "outputs": [
    {
     "data": {
      "text/plain": [
       "-13"
      ]
     },
     "execution_count": 49,
     "metadata": {},
     "output_type": "execute_result"
    }
   ],
   "source": [
    "~(12)"
   ]
  },
  {
   "cell_type": "code",
   "execution_count": 50,
   "id": "fdb39691-12e9-424d-9d8e-d7158a2996e5",
   "metadata": {},
   "outputs": [
    {
     "data": {
      "text/plain": [
       "-47"
      ]
     },
     "execution_count": 50,
     "metadata": {},
     "output_type": "execute_result"
    }
   ],
   "source": [
    "~46"
   ]
  },
  {
   "cell_type": "code",
   "execution_count": 51,
   "id": "433a4a9c-8f67-4490-900c-93c17615c80f",
   "metadata": {},
   "outputs": [
    {
     "data": {
      "text/plain": [
       "-101"
      ]
     },
     "execution_count": 51,
     "metadata": {},
     "output_type": "execute_result"
    }
   ],
   "source": [
    "~100"
   ]
  },
  {
   "cell_type": "code",
   "execution_count": 52,
   "id": "04334459-9de4-447c-9e97-c9eafe9b64c2",
   "metadata": {},
   "outputs": [
    {
     "data": {
      "text/plain": [
       "99"
      ]
     },
     "execution_count": 52,
     "metadata": {},
     "output_type": "execute_result"
    }
   ],
   "source": [
    "~-100"
   ]
  },
  {
   "cell_type": "code",
   "execution_count": 53,
   "id": "7f8fd953-4994-42b4-be8d-fbed304e84f2",
   "metadata": {},
   "outputs": [
    {
     "data": {
      "text/plain": [
       "3"
      ]
     },
     "execution_count": 53,
     "metadata": {},
     "output_type": "execute_result"
    }
   ],
   "source": [
    "~-4"
   ]
  },
  {
   "cell_type": "code",
   "execution_count": 54,
   "id": "9d85df1a-948e-4f25-b0de-a625b3096e26",
   "metadata": {},
   "outputs": [
    {
     "data": {
      "text/plain": [
       "4"
      ]
     },
     "execution_count": 54,
     "metadata": {},
     "output_type": "execute_result"
    }
   ],
   "source": [
    "~-5"
   ]
  },
  {
   "cell_type": "code",
   "execution_count": 55,
   "id": "a6c81e77-1497-4f6a-b7ac-2e69e462af63",
   "metadata": {},
   "outputs": [
    {
     "data": {
      "text/plain": [
       "-5"
      ]
     },
     "execution_count": 55,
     "metadata": {},
     "output_type": "execute_result"
    }
   ],
   "source": [
    "~4"
   ]
  },
  {
   "cell_type": "markdown",
   "id": "25ae6d11-21a3-4e38-b7c3-bf2f9cb2dc90",
   "metadata": {},
   "source": [
    "BIT WISE AND OPERATOR"
   ]
  },
  {
   "cell_type": "code",
   "execution_count": 56,
   "id": "e6c03de7-afb6-4edc-82c0-b65e1771e4d0",
   "metadata": {},
   "outputs": [
    {
     "data": {
      "text/plain": [
       "12"
      ]
     },
     "execution_count": 56,
     "metadata": {},
     "output_type": "execute_result"
    }
   ],
   "source": [
    "12&13"
   ]
  },
  {
   "cell_type": "code",
   "execution_count": 57,
   "id": "57760d5c-fa4d-48df-858c-4619382d8168",
   "metadata": {},
   "outputs": [
    {
     "data": {
      "text/plain": [
       "13"
      ]
     },
     "execution_count": 57,
     "metadata": {},
     "output_type": "execute_result"
    }
   ],
   "source": [
    "12|13"
   ]
  },
  {
   "cell_type": "code",
   "execution_count": 2,
   "id": "3229d1fc-4f62-489c-a55b-ef1c820624b6",
   "metadata": {},
   "outputs": [
    {
     "data": {
      "text/plain": [
       "0"
      ]
     },
     "execution_count": 2,
     "metadata": {},
     "output_type": "execute_result"
    }
   ],
   "source": [
    "0&1"
   ]
  },
  {
   "cell_type": "code",
   "execution_count": 4,
   "id": "7b9e05d0-3e1f-4045-ab35-950ec0e89d62",
   "metadata": {},
   "outputs": [
    {
     "data": {
      "text/plain": [
       "1"
      ]
     },
     "execution_count": 4,
     "metadata": {},
     "output_type": "execute_result"
    }
   ],
   "source": [
    "0|1"
   ]
  },
  {
   "cell_type": "code",
   "execution_count": 6,
   "id": "349b6736-5a5d-454e-a869-62482f058434",
   "metadata": {},
   "outputs": [
    {
     "name": "stdout",
     "output_type": "stream",
     "text": [
      "0b101000\n",
      "0b100011\n"
     ]
    }
   ],
   "source": [
    "print(bin(40))\n",
    "print(bin(35))"
   ]
  },
  {
   "cell_type": "code",
   "execution_count": 8,
   "id": "05658d13-9e03-4931-83fc-5b226eee4d9e",
   "metadata": {},
   "outputs": [
    {
     "data": {
      "text/plain": [
       "32"
      ]
     },
     "execution_count": 8,
     "metadata": {},
     "output_type": "execute_result"
    }
   ],
   "source": [
    "40 &35"
   ]
  },
  {
   "cell_type": "code",
   "execution_count": 10,
   "id": "0c85df98-8677-4d3a-adf4-03beb4c0f315",
   "metadata": {},
   "outputs": [
    {
     "data": {
      "text/plain": [
       "43"
      ]
     },
     "execution_count": 10,
     "metadata": {},
     "output_type": "execute_result"
    }
   ],
   "source": [
    "40 | 35"
   ]
  },
  {
   "cell_type": "code",
   "execution_count": 11,
   "id": "c92dada1-1793-4208-8ad2-91a70b8d23bd",
   "metadata": {},
   "outputs": [
    {
     "name": "stdout",
     "output_type": "stream",
     "text": [
      "0b110010\n",
      "0b100011\n"
     ]
    }
   ],
   "source": [
    "print(bin(50))\n",
    "print(bin(35))"
   ]
  },
  {
   "cell_type": "code",
   "execution_count": 13,
   "id": "9045e7d5-22c0-4bc1-b8ef-1e850df923c6",
   "metadata": {},
   "outputs": [
    {
     "data": {
      "text/plain": [
       "34"
      ]
     },
     "execution_count": 13,
     "metadata": {},
     "output_type": "execute_result"
    }
   ],
   "source": [
    "50 & 35"
   ]
  },
  {
   "cell_type": "code",
   "execution_count": 14,
   "id": "4c9c8b77-2391-4eb9-878b-67d2a6dfc3b7",
   "metadata": {},
   "outputs": [
    {
     "data": {
      "text/plain": [
       "51"
      ]
     },
     "execution_count": 14,
     "metadata": {},
     "output_type": "execute_result"
    }
   ],
   "source": [
    "50 | 35"
   ]
  },
  {
   "cell_type": "code",
   "execution_count": 15,
   "id": "d9c6b5c9-e934-42ae-8f61-fc14c79fac46",
   "metadata": {},
   "outputs": [
    {
     "name": "stdout",
     "output_type": "stream",
     "text": [
      "0b110010\n",
      "0b100011\n"
     ]
    }
   ],
   "source": [
    "print(bin(50))\n",
    "print(bin(35))"
   ]
  },
  {
   "cell_type": "code",
   "execution_count": 17,
   "id": "c9306f97-6529-466f-88c5-2a0c10245b31",
   "metadata": {},
   "outputs": [
    {
     "data": {
      "text/plain": [
       "17"
      ]
     },
     "execution_count": 17,
     "metadata": {},
     "output_type": "execute_result"
    }
   ],
   "source": [
    "50^35"
   ]
  },
  {
   "cell_type": "code",
   "execution_count": 18,
   "id": "912e2901-715b-4747-96ae-a4e4d98cb34f",
   "metadata": {},
   "outputs": [
    {
     "name": "stdout",
     "output_type": "stream",
     "text": [
      "0b101000\n",
      "0b100011\n"
     ]
    }
   ],
   "source": [
    "print(bin(40))\n",
    "print(bin(35))"
   ]
  },
  {
   "cell_type": "code",
   "execution_count": 19,
   "id": "1020cf54-3ab3-4b79-859a-5b25eec3519f",
   "metadata": {},
   "outputs": [
    {
     "data": {
      "text/plain": [
       "11"
      ]
     },
     "execution_count": 19,
     "metadata": {},
     "output_type": "execute_result"
    }
   ],
   "source": [
    "40^35"
   ]
  },
  {
   "cell_type": "code",
   "execution_count": 20,
   "id": "e1740f4b-d20c-486d-9d14-96e32f63bf66",
   "metadata": {},
   "outputs": [
    {
     "data": {
      "text/plain": [
       "20"
      ]
     },
     "execution_count": 20,
     "metadata": {},
     "output_type": "execute_result"
    }
   ],
   "source": [
    "10<<1"
   ]
  },
  {
   "cell_type": "code",
   "execution_count": 21,
   "id": "3a506ac4-3d60-480e-a16a-d052ddefbb18",
   "metadata": {},
   "outputs": [
    {
     "data": {
      "text/plain": [
       "5"
      ]
     },
     "execution_count": 21,
     "metadata": {},
     "output_type": "execute_result"
    }
   ],
   "source": [
    "10>>1"
   ]
  },
  {
   "cell_type": "code",
   "execution_count": 22,
   "id": "911ec38f-acaf-49fc-a649-2fd10624cd14",
   "metadata": {},
   "outputs": [
    {
     "data": {
      "text/plain": [
       "80"
      ]
     },
     "execution_count": 22,
     "metadata": {},
     "output_type": "execute_result"
    }
   ],
   "source": [
    "10<<3"
   ]
  },
  {
   "cell_type": "code",
   "execution_count": 24,
   "id": "5cf2bdc8-12b6-448e-93f2-7a95ab81669e",
   "metadata": {},
   "outputs": [
    {
     "data": {
      "text/plain": [
       "'0b1010'"
      ]
     },
     "execution_count": 24,
     "metadata": {},
     "output_type": "execute_result"
    }
   ],
   "source": [
    "bin(10)"
   ]
  },
  {
   "cell_type": "code",
   "execution_count": 25,
   "id": "a1cabb87-687e-4a6c-9027-dbd9a664e4bf",
   "metadata": {},
   "outputs": [
    {
     "data": {
      "text/plain": [
       "40"
      ]
     },
     "execution_count": 25,
     "metadata": {},
     "output_type": "execute_result"
    }
   ],
   "source": [
    "10<<2"
   ]
  },
  {
   "cell_type": "code",
   "execution_count": 27,
   "id": "003db1d6-8ccd-4ff4-9e7a-bdd2431072cf",
   "metadata": {},
   "outputs": [
    {
     "data": {
      "text/plain": [
       "160"
      ]
     },
     "execution_count": 27,
     "metadata": {},
     "output_type": "execute_result"
    }
   ],
   "source": [
    "20<<3"
   ]
  },
  {
   "cell_type": "code",
   "execution_count": 28,
   "id": "e45c5f74-2953-4697-b982-9796bc0546b3",
   "metadata": {},
   "outputs": [
    {
     "data": {
      "text/plain": [
       "'0b10100'"
      ]
     },
     "execution_count": 28,
     "metadata": {},
     "output_type": "execute_result"
    }
   ],
   "source": [
    "bin(20)"
   ]
  },
  {
   "cell_type": "code",
   "execution_count": 29,
   "id": "87534e12-9b2d-42fc-aff2-b9a70c2878ce",
   "metadata": {},
   "outputs": [
    {
     "data": {
      "text/plain": [
       "2"
      ]
     },
     "execution_count": 29,
     "metadata": {},
     "output_type": "execute_result"
    }
   ],
   "source": [
    "20>>3"
   ]
  },
  {
   "cell_type": "code",
   "execution_count": 30,
   "id": "eaaf6045-998c-4b4e-8d69-222e3424c37d",
   "metadata": {},
   "outputs": [
    {
     "data": {
      "text/plain": [
       "'0b1000010'"
      ]
     },
     "execution_count": 30,
     "metadata": {},
     "output_type": "execute_result"
    }
   ],
   "source": [
    "bin(66)"
   ]
  },
  {
   "cell_type": "code",
   "execution_count": 32,
   "id": "10e9bdc1-571b-4c06-822b-681c835e2d8d",
   "metadata": {},
   "outputs": [
    {
     "data": {
      "text/plain": [
       "512"
      ]
     },
     "execution_count": 32,
     "metadata": {},
     "output_type": "execute_result"
    }
   ],
   "source": [
    "2**9"
   ]
  },
  {
   "cell_type": "code",
   "execution_count": 34,
   "id": "73c560fc-1ed2-440a-9395-f584e1076c3f",
   "metadata": {},
   "outputs": [
    {
     "name": "stdout",
     "output_type": "stream",
     "text": [
      "528\n",
      "8\n"
     ]
    }
   ],
   "source": [
    "print(66<<3)\n",
    "print(66>>3)"
   ]
  },
  {
   "cell_type": "code",
   "execution_count": 33,
   "id": "2a736b06-5eb9-4f18-b4d2-164783675b52",
   "metadata": {},
   "outputs": [
    {
     "data": {
      "text/plain": [
       "528"
      ]
     },
     "execution_count": 33,
     "metadata": {},
     "output_type": "execute_result"
    }
   ],
   "source": [
    "512+16"
   ]
  },
  {
   "cell_type": "markdown",
   "id": "796c42b1-8f28-4c2d-be33-229207e475e3",
   "metadata": {},
   "source": [
    "import math module"
   ]
  },
  {
   "cell_type": "code",
   "execution_count": 35,
   "id": "aefe62e3-32a9-4e51-b0b6-7ce72d931911",
   "metadata": {},
   "outputs": [
    {
     "ename": "NameError",
     "evalue": "name 'squrt' is not defined",
     "output_type": "error",
     "traceback": [
      "\u001b[1;31m----------------------------------------------------------------\u001b[0m",
      "\u001b[1;31mNameError\u001b[0m                      Traceback (most recent call last)",
      "Cell \u001b[1;32mIn[35], line 1\u001b[0m\n\u001b[1;32m----> 1\u001b[0m x \u001b[38;5;241m=\u001b[39m squrt(\u001b[38;5;241m25\u001b[39m)\n",
      "\u001b[1;31mNameError\u001b[0m: name 'squrt' is not defined"
     ]
    }
   ],
   "source": [
    "x = squrt(25)"
   ]
  },
  {
   "cell_type": "code",
   "execution_count": 36,
   "id": "f62e73fa-4d21-49f2-a530-a79b61b04e56",
   "metadata": {},
   "outputs": [],
   "source": [
    "import math"
   ]
  },
  {
   "cell_type": "code",
   "execution_count": 38,
   "id": "3934aeb3-0a08-445f-ac7c-7669c812d4a2",
   "metadata": {},
   "outputs": [
    {
     "data": {
      "text/plain": [
       "5.0"
      ]
     },
     "execution_count": 38,
     "metadata": {},
     "output_type": "execute_result"
    }
   ],
   "source": [
    "x = math.sqrt(25)\n",
    "x"
   ]
  },
  {
   "cell_type": "code",
   "execution_count": 43,
   "id": "5fadcd5e-84cb-4e71-aa3d-6ca6dc09ec6a",
   "metadata": {},
   "outputs": [
    {
     "data": {
      "text/plain": [
       "10.0"
      ]
     },
     "execution_count": 43,
     "metadata": {},
     "output_type": "execute_result"
    }
   ],
   "source": [
    "x1 = math.sqrt(100)\n",
    "x1"
   ]
  },
  {
   "cell_type": "code",
   "execution_count": 44,
   "id": "0c2a3810-d8dc-4eb0-8884-9dc50a759eb8",
   "metadata": {},
   "outputs": [
    {
     "name": "stdout",
     "output_type": "stream",
     "text": [
      "2\n"
     ]
    }
   ],
   "source": [
    "print(math.floor(2.9))"
   ]
  },
  {
   "cell_type": "code",
   "execution_count": 46,
   "id": "e1219c8a-b598-46f0-91aa-a6f31c38e725",
   "metadata": {},
   "outputs": [
    {
     "name": "stdout",
     "output_type": "stream",
     "text": [
      "3\n"
     ]
    }
   ],
   "source": [
    "print(math.ceil(2.9))"
   ]
  },
  {
   "cell_type": "code",
   "execution_count": 48,
   "id": "96246d4b-9f89-48fe-8f2a-8f9f14cfce6e",
   "metadata": {},
   "outputs": [
    {
     "data": {
      "text/plain": [
       "2"
      ]
     },
     "execution_count": 48,
     "metadata": {},
     "output_type": "execute_result"
    }
   ],
   "source": [
    "math.floor(2.5)"
   ]
  },
  {
   "cell_type": "code",
   "execution_count": 50,
   "id": "272395ac-6458-4ce3-a3cf-7a81da21a948",
   "metadata": {},
   "outputs": [
    {
     "data": {
      "text/plain": [
       "3"
      ]
     },
     "execution_count": 50,
     "metadata": {},
     "output_type": "execute_result"
    }
   ],
   "source": [
    "math.ceil(2.5)"
   ]
  },
  {
   "cell_type": "code",
   "execution_count": 51,
   "id": "b6f4d458-0ea5-491d-afef-660aeb7e76f5",
   "metadata": {},
   "outputs": [
    {
     "data": {
      "text/plain": [
       "27.0"
      ]
     },
     "execution_count": 51,
     "metadata": {},
     "output_type": "execute_result"
    }
   ],
   "source": [
    "math.pow(3,3)"
   ]
  },
  {
   "cell_type": "code",
   "execution_count": 53,
   "id": "801ad40d-4dad-4cc9-92bc-9131a3fe42e4",
   "metadata": {},
   "outputs": [
    {
     "data": {
      "text/plain": [
       "4.0"
      ]
     },
     "execution_count": 53,
     "metadata": {},
     "output_type": "execute_result"
    }
   ],
   "source": [
    "math.pow(-2,2)"
   ]
  },
  {
   "cell_type": "code",
   "execution_count": 54,
   "id": "5b303824-d579-4db6-b55c-e2f13ffa7bc9",
   "metadata": {},
   "outputs": [
    {
     "data": {
      "text/plain": [
       "3.141592653589793"
      ]
     },
     "execution_count": 54,
     "metadata": {},
     "output_type": "execute_result"
    }
   ],
   "source": [
    "math.pi"
   ]
  },
  {
   "cell_type": "code",
   "execution_count": 55,
   "id": "15c41660-fea9-46c3-b8a0-68415ccf07c0",
   "metadata": {},
   "outputs": [
    {
     "data": {
      "text/plain": [
       "2.718281828459045"
      ]
     },
     "execution_count": 55,
     "metadata": {},
     "output_type": "execute_result"
    }
   ],
   "source": [
    "math.e"
   ]
  },
  {
   "cell_type": "code",
   "execution_count": 57,
   "id": "221f337e-ac66-418c-a677-109dee4bb1ec",
   "metadata": {},
   "outputs": [
    {
     "name": "stdout",
     "output_type": "stream",
     "text": [
      "11.135528725660043\n",
      "64.0\n",
      "3.141592653589793\n"
     ]
    }
   ],
   "source": [
    "from math import sqrt,pow,pi\n",
    "print(sqrt(124))\n",
    "print(pow(4,3))\n",
    "print(pi)"
   ]
  },
  {
   "cell_type": "code",
   "execution_count": 59,
   "id": "c372ca91-479d-4412-bda5-955b19678f7b",
   "metadata": {},
   "outputs": [
    {
     "data": {
      "text/plain": [
       "8"
      ]
     },
     "execution_count": 59,
     "metadata": {},
     "output_type": "execute_result"
    }
   ],
   "source": [
    "round(pow(2,3))"
   ]
  },
  {
   "cell_type": "markdown",
   "id": "10902b7a-547a-4a93-9a3d-64d438a97fa8",
   "metadata": {},
   "source": [
    "USER INPUT"
   ]
  },
  {
   "cell_type": "code",
   "execution_count": 61,
   "id": "7761e0f6-c379-4b2e-8544-7c0605ece7cf",
   "metadata": {},
   "outputs": [
    {
     "name": "stdin",
     "output_type": "stream",
     "text": [
      "enter the first number 98\n",
      "enter the 2nd number 87\n"
     ]
    },
    {
     "name": "stdout",
     "output_type": "stream",
     "text": [
      "9887\n"
     ]
    }
   ],
   "source": [
    "x = input('enter the first number')\n",
    "y = input('enter the 2nd number')\n",
    "sum = x+y\n",
    "print(sum)"
   ]
  },
  {
   "cell_type": "code",
   "execution_count": 63,
   "id": "e8cab7f0-67b9-4e69-9c9b-7b7346de924d",
   "metadata": {},
   "outputs": [
    {
     "name": "stdin",
     "output_type": "stream",
     "text": [
      "enter the first number 34\n",
      "enter the 2nd number 12\n"
     ]
    },
    {
     "name": "stdout",
     "output_type": "stream",
     "text": [
      "46\n"
     ]
    }
   ],
   "source": [
    "x = int(input('enter the first number'))\n",
    "y =int(input('enter the 2nd number'))\n",
    "sum = x+y\n",
    "print(sum)"
   ]
  },
  {
   "cell_type": "code",
   "execution_count": 66,
   "id": "c4b10e4e-2382-4b32-aabe-552f84a4c88f",
   "metadata": {},
   "outputs": [
    {
     "name": "stdin",
     "output_type": "stream",
     "text": [
      "enter the first number 789\n",
      "enter the 2nd number 89\n"
     ]
    },
    {
     "name": "stdout",
     "output_type": "stream",
     "text": [
      "878\n"
     ]
    }
   ],
   "source": [
    "x = int(input('enter the first number'))\n",
    "y =int(input('enter the 2nd number'))\n",
    "sum = x+y\n",
    "print(sum)"
   ]
  },
  {
   "cell_type": "code",
   "execution_count": null,
   "id": "7d2b93af-3b22-45d2-b7c7-c377601835f4",
   "metadata": {},
   "outputs": [],
   "source": [
    "ch = input('enter the cher')\n",
    "ch"
   ]
  },
  {
   "cell_type": "code",
   "execution_count": null,
   "id": "f0c7490b-027b-45da-bdf1-3c49d6c23d45",
   "metadata": {},
   "outputs": [],
   "source": []
  }
 ],
 "metadata": {
  "kernelspec": {
   "display_name": "Python 3 (ipykernel)",
   "language": "python",
   "name": "python3"
  },
  "language_info": {
   "codemirror_mode": {
    "name": "ipython",
    "version": 3
   },
   "file_extension": ".py",
   "mimetype": "text/x-python",
   "name": "python",
   "nbconvert_exporter": "python",
   "pygments_lexer": "ipython3",
   "version": "3.13.5"
  }
 },
 "nbformat": 4,
 "nbformat_minor": 5
}
