{
 "cells": [
  {
   "cell_type": "markdown",
   "id": "9fd12d04-c4d6-4955-ac9d-aae49b5c23e0",
   "metadata": {},
   "source": [
    "list1 = []"
   ]
  },
  {
   "cell_type": "code",
   "execution_count": 2,
   "id": "f74867aa-616c-4252-8454-d99ade10f78e",
   "metadata": {},
   "outputs": [
    {
     "data": {
      "text/plain": [
       "[]"
      ]
     },
     "execution_count": 2,
     "metadata": {},
     "output_type": "execute_result"
    }
   ],
   "source": [
    "list1"
   ]
  },
  {
   "cell_type": "code",
   "execution_count": 3,
   "id": "7b01d26c-ed2f-48a6-99c5-c555c47fced4",
   "metadata": {},
   "outputs": [
    {
     "data": {
      "text/plain": [
       "0"
      ]
     },
     "execution_count": 3,
     "metadata": {},
     "output_type": "execute_result"
    }
   ],
   "source": [
    "len(list1)"
   ]
  },
  {
   "cell_type": "code",
   "execution_count": 4,
   "id": "b18bb11c-b08a-4ab9-aed8-035eaef3a2e1",
   "metadata": {},
   "outputs": [],
   "source": [
    "list2 = [1,2,3,4,5,6]\n",
    "list3 = [1.2,3.4,5.3,9.99]\n",
    "list4 = ['apple','orange','banaba','grapes']\n",
    "list5 = [True,False]\n",
    "list6 = [2+3j,4+7j]\n"
   ]
  },
  {
   "cell_type": "code",
   "execution_count": 5,
   "id": "848278f9-ebce-4d4c-947f-06c2b2b923fb",
   "metadata": {},
   "outputs": [
    {
     "name": "stdout",
     "output_type": "stream",
     "text": [
      "The integer type list is list2 = [1, 2, 3, 4, 5, 6]\n",
      "The float type list is list3 = [1.2, 3.4, 5.3, 9.99]\n",
      "The string type list is list4 = ['apple', 'orange', 'banaba', 'grapes']\n",
      "The boolean type list is list5 = [True, False]\n",
      "The complex type lst is list6 = [(2+3j), (4+7j)]\n"
     ]
    }
   ],
   "source": [
    "print(f'The integer type list is list2 = {list2}')\n",
    "print(f'The float type list is list3 = {list3}')\n",
    "print(f'The string type list is list4 = {list4}')\n",
    "print(f'The boolean type list is list5 = {list5}')\n",
    "print(f'The complex type lst is list6 = {list6}')"
   ]
  },
  {
   "cell_type": "code",
   "execution_count": 6,
   "id": "82a51f8f-04c8-4956-9d5e-2500ed01efd7",
   "metadata": {},
   "outputs": [],
   "source": [
    "list7 = [10,2.3,'partha',[12,23,4,5],[2.4,5.6]]"
   ]
  },
  {
   "cell_type": "code",
   "execution_count": 7,
   "id": "06915586-d6a5-4f9e-80ae-9c5662605645",
   "metadata": {},
   "outputs": [
    {
     "data": {
      "text/plain": [
       "[10, 2.3, 'partha', [12, 23, 4, 5], [2.4, 5.6]]"
      ]
     },
     "execution_count": 7,
     "metadata": {},
     "output_type": "execute_result"
    }
   ],
   "source": [
    "list7"
   ]
  },
  {
   "cell_type": "code",
   "execution_count": 8,
   "id": "28510062-bb74-44be-a7b8-ecfd909ee950",
   "metadata": {},
   "outputs": [
    {
     "data": {
      "text/plain": [
       "[1, 2, 3, 4, 5, 6]"
      ]
     },
     "execution_count": 8,
     "metadata": {},
     "output_type": "execute_result"
    }
   ],
   "source": [
    "list2"
   ]
  },
  {
   "cell_type": "code",
   "execution_count": 9,
   "id": "c084d5a7-afa8-4959-baf9-149639e325b8",
   "metadata": {},
   "outputs": [
    {
     "data": {
      "text/plain": [
       "[1, 2, 3, 4]"
      ]
     },
     "execution_count": 9,
     "metadata": {},
     "output_type": "execute_result"
    }
   ],
   "source": [
    "list2[0:4]"
   ]
  },
  {
   "cell_type": "code",
   "execution_count": 10,
   "id": "cda3d2fa-b432-4143-b5f0-8f3c5aedf7a4",
   "metadata": {},
   "outputs": [
    {
     "data": {
      "text/plain": [
       "6"
      ]
     },
     "execution_count": 10,
     "metadata": {},
     "output_type": "execute_result"
    }
   ],
   "source": [
    "list2[-1]"
   ]
  },
  {
   "cell_type": "code",
   "execution_count": 11,
   "id": "0e236990-ff66-4766-99f5-7eecc9959645",
   "metadata": {},
   "outputs": [
    {
     "data": {
      "text/plain": [
       "[1]"
      ]
     },
     "execution_count": 11,
     "metadata": {},
     "output_type": "execute_result"
    }
   ],
   "source": [
    "list2[-0:1]"
   ]
  },
  {
   "cell_type": "code",
   "execution_count": 12,
   "id": "62a0acd7-ec40-4919-bd96-a99f99a66f4f",
   "metadata": {},
   "outputs": [
    {
     "data": {
      "text/plain": [
       "['apple', 'orange', 'banaba', 'grapes']"
      ]
     },
     "execution_count": 12,
     "metadata": {},
     "output_type": "execute_result"
    }
   ],
   "source": [
    "list4"
   ]
  },
  {
   "cell_type": "code",
   "execution_count": 13,
   "id": "adec3c0c-a1ff-4cba-900f-a0df73917820",
   "metadata": {},
   "outputs": [
    {
     "data": {
      "text/plain": [
       "'a'"
      ]
     },
     "execution_count": 13,
     "metadata": {},
     "output_type": "execute_result"
    }
   ],
   "source": [
    "list4[0][0]"
   ]
  },
  {
   "cell_type": "code",
   "execution_count": 14,
   "id": "f1e8c4e8-19b1-4606-83c7-805e067c3326",
   "metadata": {},
   "outputs": [
    {
     "data": {
      "text/plain": [
       "'n'"
      ]
     },
     "execution_count": 14,
     "metadata": {},
     "output_type": "execute_result"
    }
   ],
   "source": [
    "list4[-2][2]"
   ]
  },
  {
   "cell_type": "markdown",
   "id": "14ce716e-9547-41c2-8db4-964c53a149b2",
   "metadata": {},
   "source": [
    "Add Renove and Change Items"
   ]
  },
  {
   "cell_type": "code",
   "execution_count": 15,
   "id": "fdebedf6-2cea-45cd-bbf0-3f52fb9adb70",
   "metadata": {},
   "outputs": [],
   "source": [
    "mylist = ['one','two','three','four','five','six']"
   ]
  },
  {
   "cell_type": "code",
   "execution_count": 16,
   "id": "802b7c48-8b08-447a-b529-f586563989c4",
   "metadata": {},
   "outputs": [
    {
     "data": {
      "text/plain": [
       "['one', 'two', 'three', 'four', 'five', 'six']"
      ]
     },
     "execution_count": 16,
     "metadata": {},
     "output_type": "execute_result"
    }
   ],
   "source": [
    "mylist"
   ]
  },
  {
   "cell_type": "code",
   "execution_count": 20,
   "id": "5dfa88ff-b2b2-491a-9e64-d4ae5576c6f3",
   "metadata": {},
   "outputs": [],
   "source": [
    "#import numpy as np"
   ]
  },
  {
   "cell_type": "code",
   "execution_count": 23,
   "id": "fc917199-ed4d-4902-876f-a98729a3f7f9",
   "metadata": {},
   "outputs": [],
   "source": [
    "#mylist = np.asarray(mylist)"
   ]
  },
  {
   "cell_type": "code",
   "execution_count": 24,
   "id": "f94e9e79-1cfc-4342-b5ab-b38b146f4702",
   "metadata": {},
   "outputs": [
    {
     "data": {
      "text/plain": [
       "array(['one', 'two', 'three', 'four', 'five', 'six'], dtype='<U5')"
      ]
     },
     "execution_count": 24,
     "metadata": {},
     "output_type": "execute_result"
    }
   ],
   "source": [
    "mylist"
   ]
  },
  {
   "cell_type": "code",
   "execution_count": 25,
   "id": "e83f3868-1b48-4f9e-8ca3-cd6d8d92d61e",
   "metadata": {},
   "outputs": [
    {
     "data": {
      "text/plain": [
       "array(['one', 'two', 'three', 'four', 'five', 'six'], dtype='<U5')"
      ]
     },
     "execution_count": 25,
     "metadata": {},
     "output_type": "execute_result"
    }
   ],
   "source": [
    "mylist"
   ]
  },
  {
   "cell_type": "code",
   "execution_count": 26,
   "id": "4e3c5bc9-6acc-4ad3-b6e7-d7cd86876f16",
   "metadata": {},
   "outputs": [],
   "source": [
    "mylist1 = ['one','two','three','four','five','six']"
   ]
  },
  {
   "cell_type": "code",
   "execution_count": 27,
   "id": "f6024224-f170-42ad-abf6-60939f21d45e",
   "metadata": {},
   "outputs": [
    {
     "data": {
      "text/plain": [
       "['one', 'two', 'three', 'four', 'five', 'six']"
      ]
     },
     "execution_count": 27,
     "metadata": {},
     "output_type": "execute_result"
    }
   ],
   "source": [
    "mylist1"
   ]
  },
  {
   "cell_type": "code",
   "execution_count": 28,
   "id": "64843574-d9be-4aad-b0ee-e6e92d679e32",
   "metadata": {},
   "outputs": [
    {
     "data": {
      "text/plain": [
       "['one', 'two', 'three', 'four', 'five', 'six', 'ten']"
      ]
     },
     "execution_count": 28,
     "metadata": {},
     "output_type": "execute_result"
    }
   ],
   "source": [
    "mylist1.append('ten')\n",
    "mylist1"
   ]
  },
  {
   "cell_type": "code",
   "execution_count": 29,
   "id": "5c201dbc-50f1-4c7b-adfd-eac385abbc75",
   "metadata": {},
   "outputs": [
    {
     "data": {
      "text/plain": [
       "['one', 'two', 'three', 'four', 'five', 'six', 'ten', 'partha']"
      ]
     },
     "execution_count": 29,
     "metadata": {},
     "output_type": "execute_result"
    }
   ],
   "source": [
    "mylist1.append('partha')\n",
    "mylist1"
   ]
  },
  {
   "cell_type": "code",
   "execution_count": 30,
   "id": "c43cbedf-ecc3-4704-8c1d-470a8a9f908a",
   "metadata": {},
   "outputs": [
    {
     "data": {
      "text/plain": [
       "['one', 'two', 'three', 'four', 'five', 'six', 'ten', 'partha']"
      ]
     },
     "execution_count": 30,
     "metadata": {},
     "output_type": "execute_result"
    }
   ],
   "source": [
    "mylist1.index('partha')\n",
    "mylist1"
   ]
  },
  {
   "cell_type": "code",
   "execution_count": 32,
   "id": "21fe7290-87b8-42ca-8424-87ac3763d546",
   "metadata": {},
   "outputs": [
    {
     "data": {
      "text/plain": [
       "['one', 'two', 'three', 'four', 'five', 'six', 'ten', 'partha']"
      ]
     },
     "execution_count": 32,
     "metadata": {},
     "output_type": "execute_result"
    }
   ],
   "source": [
    "mylist1.index('partha')\n",
    "mylist1"
   ]
  },
  {
   "cell_type": "code",
   "execution_count": 35,
   "id": "43c5351a-3f58-40cb-a5d3-b87609349477",
   "metadata": {},
   "outputs": [
    {
     "data": {
      "text/plain": [
       "['one', 'two', 'three', 'four', 'five', 'partha gudu', 'six', 'ten', 'partha']"
      ]
     },
     "execution_count": 35,
     "metadata": {},
     "output_type": "execute_result"
    }
   ],
   "source": [
    "mylist1.insert(5,'partha gudu')\n",
    "mylist1"
   ]
  },
  {
   "cell_type": "code",
   "execution_count": 36,
   "id": "52823789-f699-4477-8e5d-f9fefd5e8aeb",
   "metadata": {},
   "outputs": [
    {
     "data": {
      "text/plain": [
       "['one',\n",
       " 'two',\n",
       " 'apple',\n",
       " 'three',\n",
       " 'four',\n",
       " 'five',\n",
       " 'partha gudu',\n",
       " 'six',\n",
       " 'ten',\n",
       " 'partha']"
      ]
     },
     "execution_count": 36,
     "metadata": {},
     "output_type": "execute_result"
    }
   ],
   "source": [
    "mylist1.insert(2,'apple')\n",
    "mylist1"
   ]
  },
  {
   "cell_type": "code",
   "execution_count": 38,
   "id": "5d7ac84b-ff05-47ef-87a6-7a5eaf92faeb",
   "metadata": {},
   "outputs": [],
   "source": [
    "mylist1.remove('apple')"
   ]
  },
  {
   "cell_type": "code",
   "execution_count": 39,
   "id": "619ed638-38f3-4ec3-bcfe-9417090145f2",
   "metadata": {},
   "outputs": [
    {
     "data": {
      "text/plain": [
       "['one', 'two', 'three', 'four', 'five', 'partha gudu', 'six', 'ten', 'partha']"
      ]
     },
     "execution_count": 39,
     "metadata": {},
     "output_type": "execute_result"
    }
   ],
   "source": [
    "mylist1"
   ]
  },
  {
   "cell_type": "code",
   "execution_count": 40,
   "id": "ee5c7579-d579-4dd1-8d49-cb2bb6091224",
   "metadata": {},
   "outputs": [
    {
     "data": {
      "text/plain": [
       "['one', 'two', 'three', 'four', 'five', 'partha gudu', 'six', 'ten']"
      ]
     },
     "execution_count": 40,
     "metadata": {},
     "output_type": "execute_result"
    }
   ],
   "source": [
    "mylist1.pop()\n",
    "mylist1"
   ]
  },
  {
   "cell_type": "code",
   "execution_count": 41,
   "id": "c775f103-e78f-47cf-977d-aecbc27cee5f",
   "metadata": {},
   "outputs": [
    {
     "data": {
      "text/plain": [
       "['one', 'two', 'three', 'five', 'partha gudu', 'six', 'ten']"
      ]
     },
     "execution_count": 41,
     "metadata": {},
     "output_type": "execute_result"
    }
   ],
   "source": [
    "mylist1.pop(3)\n",
    "mylist1"
   ]
  },
  {
   "cell_type": "code",
   "execution_count": 43,
   "id": "01bda815-6a91-45c4-8f76-ab4c8367f335",
   "metadata": {},
   "outputs": [
    {
     "data": {
      "text/plain": [
       "['one', 'two', 'five', 'partha gudu', 'six', 'ten']"
      ]
     },
     "execution_count": 43,
     "metadata": {},
     "output_type": "execute_result"
    }
   ],
   "source": [
    "del mylist1[2]\n",
    "mylist1"
   ]
  },
  {
   "cell_type": "code",
   "execution_count": 44,
   "id": "4da520d8-0a0b-4cf9-bd2b-54febec079c4",
   "metadata": {},
   "outputs": [
    {
     "data": {
      "text/plain": [
       "[1, 2, 3, 4, 5, 6]"
      ]
     },
     "execution_count": 44,
     "metadata": {},
     "output_type": "execute_result"
    }
   ],
   "source": [
    "list2"
   ]
  },
  {
   "cell_type": "code",
   "execution_count": 47,
   "id": "f46c2720-f852-4e91-8675-4d15c465468a",
   "metadata": {},
   "outputs": [],
   "source": [
    "list2[0] = 1\n",
    "list2[3] = 3\n",
    "list2[2] = 9"
   ]
  },
  {
   "cell_type": "code",
   "execution_count": 48,
   "id": "e5c16819-14a3-4376-8828-02cdbf091f43",
   "metadata": {},
   "outputs": [
    {
     "data": {
      "text/plain": [
       "[1, 2, 9, 3, 5, 6]"
      ]
     },
     "execution_count": 48,
     "metadata": {},
     "output_type": "execute_result"
    }
   ],
   "source": [
    "list2"
   ]
  },
  {
   "cell_type": "code",
   "execution_count": 49,
   "id": "1a407c83-08e5-494f-8627-387ac0afca06",
   "metadata": {},
   "outputs": [],
   "source": [
    "mylist1.clear()"
   ]
  },
  {
   "cell_type": "code",
   "execution_count": 50,
   "id": "b1887fbb-29e2-4516-8cd2-b3f74c6b47a8",
   "metadata": {},
   "outputs": [
    {
     "data": {
      "text/plain": [
       "[]"
      ]
     },
     "execution_count": 50,
     "metadata": {},
     "output_type": "execute_result"
    }
   ],
   "source": [
    "mylist1"
   ]
  },
  {
   "cell_type": "code",
   "execution_count": 52,
   "id": "1773d9af-4867-4e88-a0b0-2ba3aa85c2fc",
   "metadata": {},
   "outputs": [
    {
     "data": {
      "text/plain": [
       "[1, 2, 9, 3, 5, 6]"
      ]
     },
     "execution_count": 52,
     "metadata": {},
     "output_type": "execute_result"
    }
   ],
   "source": [
    "list2"
   ]
  },
  {
   "cell_type": "code",
   "execution_count": 53,
   "id": "2354d058-3659-4eab-951d-ee77c9ab821b",
   "metadata": {},
   "outputs": [
    {
     "data": {
      "text/plain": [
       "[1, 2, 9, 3, 5, 6]"
      ]
     },
     "execution_count": 53,
     "metadata": {},
     "output_type": "execute_result"
    }
   ],
   "source": [
    "l1 = list2.copy()\n",
    "l1"
   ]
  },
  {
   "cell_type": "code",
   "execution_count": 54,
   "id": "0fa4a1a2-26de-4ef3-a0b5-5e2806197680",
   "metadata": {},
   "outputs": [],
   "source": [
    "l1 = list2"
   ]
  },
  {
   "cell_type": "code",
   "execution_count": 56,
   "id": "6792e93c-6845-4834-b9df-7b8a3e92608a",
   "metadata": {},
   "outputs": [
    {
     "data": {
      "text/plain": [
       "2486760931456"
      ]
     },
     "execution_count": 56,
     "metadata": {},
     "output_type": "execute_result"
    }
   ],
   "source": [
    "id(l1)"
   ]
  },
  {
   "cell_type": "code",
   "execution_count": 57,
   "id": "1a465f84-d17a-4ab2-94ab-d9bf09b1bd99",
   "metadata": {},
   "outputs": [
    {
     "data": {
      "text/plain": [
       "2486760931456"
      ]
     },
     "execution_count": 57,
     "metadata": {},
     "output_type": "execute_result"
    }
   ],
   "source": [
    "id(list2)"
   ]
  },
  {
   "cell_type": "code",
   "execution_count": 58,
   "id": "68dc2066-9bed-4781-bda5-ebdaf273ae26",
   "metadata": {},
   "outputs": [
    {
     "data": {
      "text/plain": [
       "'parthasarathi'"
      ]
     },
     "execution_count": 58,
     "metadata": {},
     "output_type": "execute_result"
    }
   ],
   "source": [
    "l2 = 'partha'\n",
    "l3 = 'sarathi'\n",
    "sum = l2+l3\n",
    "sum"
   ]
  },
  {
   "cell_type": "code",
   "execution_count": 59,
   "id": "36f0bdf5-5ef7-4052-a667-7f5a72c8c443",
   "metadata": {},
   "outputs": [
    {
     "data": {
      "text/plain": [
       "['partha', 'sarathi']"
      ]
     },
     "execution_count": 59,
     "metadata": {},
     "output_type": "execute_result"
    }
   ],
   "source": [
    "l2 = ['partha']\n",
    "l3 = ['sarathi']\n",
    "sum = l2+l3\n",
    "sum"
   ]
  },
  {
   "cell_type": "code",
   "execution_count": 60,
   "id": "707031da-54c5-45d4-8050-4bf61085f004",
   "metadata": {},
   "outputs": [
    {
     "data": {
      "text/plain": [
       "['partha']"
      ]
     },
     "execution_count": 60,
     "metadata": {},
     "output_type": "execute_result"
    }
   ],
   "source": [
    "l2"
   ]
  },
  {
   "cell_type": "code",
   "execution_count": 61,
   "id": "67b61e41-0e17-4567-a86a-c257e28cc863",
   "metadata": {},
   "outputs": [
    {
     "data": {
      "text/plain": [
       "[1, 2, 9, 3, 5, 6]"
      ]
     },
     "execution_count": 61,
     "metadata": {},
     "output_type": "execute_result"
    }
   ],
   "source": [
    "l1"
   ]
  },
  {
   "cell_type": "code",
   "execution_count": 62,
   "id": "5e20aa1c-5a5b-4496-8cfa-9b68a8051a40",
   "metadata": {},
   "outputs": [
    {
     "data": {
      "text/plain": [
       "True"
      ]
     },
     "execution_count": 62,
     "metadata": {},
     "output_type": "execute_result"
    }
   ],
   "source": [
    "1 in l1"
   ]
  },
  {
   "cell_type": "code",
   "execution_count": 63,
   "id": "c21467d5-5e77-4b96-b5c7-cd4226c93dbf",
   "metadata": {},
   "outputs": [
    {
     "data": {
      "text/plain": [
       "False"
      ]
     },
     "execution_count": 63,
     "metadata": {},
     "output_type": "execute_result"
    }
   ],
   "source": [
    "23 in l1"
   ]
  },
  {
   "cell_type": "code",
   "execution_count": 64,
   "id": "3a4fccd6-c599-431f-8dc6-6af496e019a9",
   "metadata": {},
   "outputs": [],
   "source": [
    "l1.reverse()"
   ]
  },
  {
   "cell_type": "code",
   "execution_count": 65,
   "id": "5fbb7de8-496d-4a41-a12a-5370bb365ca0",
   "metadata": {},
   "outputs": [
    {
     "data": {
      "text/plain": [
       "[6, 5, 3, 9, 2, 1]"
      ]
     },
     "execution_count": 65,
     "metadata": {},
     "output_type": "execute_result"
    }
   ],
   "source": [
    "l1"
   ]
  },
  {
   "cell_type": "code",
   "execution_count": 66,
   "id": "700e6768-6779-4175-9cce-9194df045da5",
   "metadata": {},
   "outputs": [],
   "source": [
    "l1.sort()"
   ]
  },
  {
   "cell_type": "code",
   "execution_count": 67,
   "id": "ae238bbd-4d9b-4602-8ccb-9917e090f81a",
   "metadata": {},
   "outputs": [
    {
     "data": {
      "text/plain": [
       "[1, 2, 3, 5, 6, 9]"
      ]
     },
     "execution_count": 67,
     "metadata": {},
     "output_type": "execute_result"
    }
   ],
   "source": [
    "l1"
   ]
  },
  {
   "cell_type": "code",
   "execution_count": 68,
   "id": "5fbb74e9-468c-44f1-af0a-20a4b7051cfd",
   "metadata": {},
   "outputs": [
    {
     "data": {
      "text/plain": [
       "[9, 6, 5, 3, 2, 1]"
      ]
     },
     "execution_count": 68,
     "metadata": {},
     "output_type": "execute_result"
    }
   ],
   "source": [
    "l1.sort(reverse=True)\n",
    "l1"
   ]
  },
  {
   "cell_type": "code",
   "execution_count": 69,
   "id": "bad5755a-3969-440f-b65c-0b0e393f508e",
   "metadata": {},
   "outputs": [
    {
     "name": "stdout",
     "output_type": "stream",
     "text": [
      "9\n",
      "6\n",
      "5\n",
      "3\n",
      "2\n",
      "1\n"
     ]
    }
   ],
   "source": [
    "for i in l1:\n",
    "    print(i)"
   ]
  },
  {
   "cell_type": "code",
   "execution_count": 70,
   "id": "cfcdc385-98e3-4923-aae2-c46b7e689a67",
   "metadata": {},
   "outputs": [
    {
     "name": "stdout",
     "output_type": "stream",
     "text": [
      "[9, 6, 5, 3, 2, 1]\n",
      "[9, 6, 5, 3, 2, 1]\n",
      "[9, 6, 5, 3, 2, 1]\n",
      "[9, 6, 5, 3, 2, 1]\n",
      "[9, 6, 5, 3, 2, 1]\n",
      "[9, 6, 5, 3, 2, 1]\n"
     ]
    }
   ],
   "source": [
    "for i in enumerate(l1):\n",
    "    print(l1)"
   ]
  },
  {
   "cell_type": "code",
   "execution_count": 71,
   "id": "49154e70-fb22-45fd-a3cb-4d089a4a5055",
   "metadata": {},
   "outputs": [
    {
     "name": "stdout",
     "output_type": "stream",
     "text": [
      "(0, 9)\n",
      "(1, 6)\n",
      "(2, 5)\n",
      "(3, 3)\n",
      "(4, 2)\n",
      "(5, 1)\n"
     ]
    }
   ],
   "source": [
    "for i in enumerate(l1):\n",
    "    print(i)"
   ]
  },
  {
   "cell_type": "markdown",
   "id": "84d095b6-b866-4928-890a-a8902d9b69e6",
   "metadata": {},
   "source": [
    "Tuple"
   ]
  },
  {
   "cell_type": "code",
   "execution_count": 72,
   "id": "96920507-1ed0-46be-9f10-d04edae7efd6",
   "metadata": {},
   "outputs": [],
   "source": [
    "tup1 = ()"
   ]
  },
  {
   "cell_type": "code",
   "execution_count": 73,
   "id": "ca78a610-f6af-430d-8f03-0ad95e566fb5",
   "metadata": {},
   "outputs": [
    {
     "data": {
      "text/plain": [
       "()"
      ]
     },
     "execution_count": 73,
     "metadata": {},
     "output_type": "execute_result"
    }
   ],
   "source": [
    "tup1"
   ]
  },
  {
   "cell_type": "code",
   "execution_count": 77,
   "id": "eab63b40-1482-4db3-89ee-2a3f6203b5c6",
   "metadata": {},
   "outputs": [
    {
     "data": {
      "text/plain": [
       "(11, 22, 33, 444, 23, 123, 893, 90, 10, 345)"
      ]
     },
     "execution_count": 77,
     "metadata": {},
     "output_type": "execute_result"
    }
   ],
   "source": [
    "tup1 = (11,22,33,444,23,123,893,90,10,345)\n",
    "tup1"
   ]
  },
  {
   "cell_type": "code",
   "execution_count": 78,
   "id": "f19bc796-a24a-4dee-9ed0-b9663d79a6c8",
   "metadata": {},
   "outputs": [
    {
     "data": {
      "text/plain": [
       "('chicken', 'egg', 'fish', 'motton')"
      ]
     },
     "execution_count": 78,
     "metadata": {},
     "output_type": "execute_result"
    }
   ],
   "source": [
    "tup2 = ('chicken','egg','fish','motton')\n",
    "tup2"
   ]
  },
  {
   "cell_type": "code",
   "execution_count": 84,
   "id": "db09d8f6-1c07-47c6-b9cf-be768a801ec1",
   "metadata": {},
   "outputs": [
    {
     "data": {
      "text/plain": [
       "(12, 3.43, (3+3j), 23)"
      ]
     },
     "execution_count": 84,
     "metadata": {},
     "output_type": "execute_result"
    }
   ],
   "source": [
    "tup3 =(12,3.43,3+3j,23)\n",
    "tup3"
   ]
  },
  {
   "cell_type": "code",
   "execution_count": 85,
   "id": "d2ee7918-77b4-4c9f-b996-28a1b5ca4fbb",
   "metadata": {},
   "outputs": [
    {
     "data": {
      "text/plain": [
       "('partha', 12, 3.43, (3+3j), 23)"
      ]
     },
     "execution_count": 85,
     "metadata": {},
     "output_type": "execute_result"
    }
   ],
   "source": [
    "tup4 =('partha',12,3.43,3+3j,23)\n",
    "tup4"
   ]
  },
  {
   "cell_type": "code",
   "execution_count": 86,
   "id": "cdacc8e3-8a79-49d1-b286-475cee00fd4a",
   "metadata": {},
   "outputs": [
    {
     "data": {
      "text/plain": [
       "('partha', (12, 3.43), [(3+3j)], {23})"
      ]
     },
     "execution_count": 86,
     "metadata": {},
     "output_type": "execute_result"
    }
   ],
   "source": [
    "tup4 =('partha',(12,3.43),[3+3j],{23})\n",
    "tup4"
   ]
  },
  {
   "cell_type": "markdown",
   "id": "e954a332-bf76-452d-941f-7400be31621d",
   "metadata": {},
   "source": [
    "Lamda Function"
   ]
  },
  {
   "cell_type": "code",
   "execution_count": 2,
   "id": "c0e0e8ba-b471-4bcb-bad9-5b0f8146d903",
   "metadata": {},
   "outputs": [
    {
     "data": {
      "text/plain": [
       "125"
      ]
     },
     "execution_count": 2,
     "metadata": {},
     "output_type": "execute_result"
    }
   ],
   "source": [
    "cube = lambda x : x*x*x\n",
    "cube(5)"
   ]
  },
  {
   "cell_type": "code",
   "execution_count": 3,
   "id": "1ac319c3-fa91-4b77-a07a-333b60ee8dcc",
   "metadata": {},
   "outputs": [
    {
     "data": {
      "text/plain": [
       "-25"
      ]
     },
     "execution_count": 3,
     "metadata": {},
     "output_type": "execute_result"
    }
   ],
   "source": [
    "multiplication = lambda x,y: x*y\n",
    "multiplication(-5,5)"
   ]
  },
  {
   "cell_type": "code",
   "execution_count": 5,
   "id": "41d4d126-db6d-4dc0-b17e-3ec30b91f93a",
   "metadata": {},
   "outputs": [
    {
     "data": {
      "text/plain": [
       "1110"
      ]
     },
     "execution_count": 5,
     "metadata": {},
     "output_type": "execute_result"
    }
   ],
   "source": [
    "sum = lambda x,y:x+y\n",
    "sum(123,987)"
   ]
  },
  {
   "cell_type": "code",
   "execution_count": 6,
   "id": "80dd3eab-24c9-4f77-a951-970602e80dd8",
   "metadata": {},
   "outputs": [
    {
     "name": "stdout",
     "output_type": "stream",
     "text": [
      "1\n",
      "2\n",
      "3\n",
      "4\n",
      "5\n",
      "6\n",
      "7\n",
      "8\n",
      "9\n",
      "10\n"
     ]
    }
   ],
   "source": [
    "table = []\n",
    "for i in range(1,11):\n",
    "    print(i)"
   ]
  },
  {
   "cell_type": "code",
   "execution_count": 9,
   "id": "6c283718-75c3-4f95-b1a2-5ef018f213c0",
   "metadata": {},
   "outputs": [
    {
     "name": "stdout",
     "output_type": "stream",
     "text": [
      "7 X 1 = 7\n",
      "7 X 2 = 14\n",
      "7 X 3 = 21\n",
      "7 X 4 = 28\n",
      "7 X 5 = 35\n",
      "7 X 6 = 42\n",
      "7 X 7 = 49\n",
      "7 X 8 = 56\n",
      "7 X 9 = 63\n",
      "7 X 10 = 70\n"
     ]
    }
   ],
   "source": [
    "table = []\n",
    "for i in range(1,11):\n",
    "    print(f'7 X {i} = {7*i}')\n"
   ]
  },
  {
   "cell_type": "code",
   "execution_count": 10,
   "id": "518b1f97-2344-41d2-b663-b17f6f1395b8",
   "metadata": {},
   "outputs": [],
   "source": [
    "table.append(7*i)"
   ]
  },
  {
   "cell_type": "code",
   "execution_count": 11,
   "id": "7fd69127-de79-4c88-98ec-0d423cca848c",
   "metadata": {},
   "outputs": [
    {
     "data": {
      "text/plain": [
       "[70]"
      ]
     },
     "execution_count": 11,
     "metadata": {},
     "output_type": "execute_result"
    }
   ],
   "source": [
    "table"
   ]
  },
  {
   "cell_type": "code",
   "execution_count": 13,
   "id": "db4971a1-9ad3-46b3-a309-1c72cd664b9d",
   "metadata": {},
   "outputs": [
    {
     "name": "stdout",
     "output_type": "stream",
     "text": [
      "13 X 1 = 13\n",
      "13 X 2 = 26\n",
      "13 X 3 = 39\n",
      "13 X 4 = 52\n",
      "13 X 5 = 65\n",
      "13 X 6 = 78\n",
      "13 X 7 = 91\n",
      "13 X 8 = 104\n",
      "13 X 9 = 117\n",
      "13 X 10 = 130\n"
     ]
    }
   ],
   "source": [
    "for i in range(1,11):\n",
    "    print(f'13 X {i} = {13*i}')\n",
    "table =[]\n",
    "table.append(13*i)"
   ]
  },
  {
   "cell_type": "code",
   "execution_count": 14,
   "id": "0cf2a271-9548-4bf8-a411-ab066e74a051",
   "metadata": {},
   "outputs": [
    {
     "data": {
      "text/plain": [
       "[130]"
      ]
     },
     "execution_count": 14,
     "metadata": {},
     "output_type": "execute_result"
    }
   ],
   "source": [
    "table"
   ]
  },
  {
   "cell_type": "code",
   "execution_count": 16,
   "id": "7d2d2457-74b8-4a14-bc6e-fb74b2682c62",
   "metadata": {},
   "outputs": [
    {
     "data": {
      "text/plain": [
       "[14, 28, 42, 56, 70, 84, 98, 112, 126, 140]"
      ]
     },
     "execution_count": 16,
     "metadata": {},
     "output_type": "execute_result"
    }
   ],
   "source": [
    "t1 = [14*i for i in range(1,11)]\n",
    "t1"
   ]
  },
  {
   "cell_type": "code",
   "execution_count": 19,
   "id": "bb3cd457-19d5-4c8a-bae7-1996e2da643a",
   "metadata": {},
   "outputs": [
    {
     "data": {
      "text/plain": [
       "[29, 58, 87, 116, 145, 174, 203, 232, 261, 290]"
      ]
     },
     "execution_count": 19,
     "metadata": {},
     "output_type": "execute_result"
    }
   ],
   "source": [
    "t11 = [29*i for i in range(1,11)]\n",
    "t11"
   ]
  },
  {
   "cell_type": "markdown",
   "id": "f4d6598f-92d5-443d-b210-fd05eea1591a",
   "metadata": {},
   "source": [
    "using if condition in list comprehension"
   ]
  },
  {
   "cell_type": "code",
   "execution_count": 21,
   "id": "62b6ce77-0cd9-449b-9163-6b5eff0a23cd",
   "metadata": {},
   "outputs": [
    {
     "data": {
      "text/plain": [
       "[4, 8, 12, 16, 20]"
      ]
     },
     "execution_count": 21,
     "metadata": {},
     "output_type": "execute_result"
    }
   ],
   "source": [
    "even = [2*i for i in range(1,11) if i %2 ==0]\n",
    "even"
   ]
  },
  {
   "cell_type": "code",
   "execution_count": 24,
   "id": "145380f2-f8ce-4be0-8380-5d4d9a321945",
   "metadata": {},
   "outputs": [
    {
     "data": {
      "text/plain": [
       "[13, 39, 65, 91, 117]"
      ]
     },
     "execution_count": 24,
     "metadata": {},
     "output_type": "execute_result"
    }
   ],
   "source": [
    "odd =  [13*i for i in range(1,11) if i%2==1]\n",
    "odd"
   ]
  },
  {
   "cell_type": "code",
   "execution_count": 25,
   "id": "a1f001d3-b1a6-4c82-89a2-7eb2e98e15cd",
   "metadata": {},
   "outputs": [
    {
     "data": {
      "text/plain": [
       "[26, 52, 78, 104, 130]"
      ]
     },
     "execution_count": 25,
     "metadata": {},
     "output_type": "execute_result"
    }
   ],
   "source": [
    "even = [13*i for i in range(1,11) if i %2 == 0]\n",
    "even"
   ]
  },
  {
   "cell_type": "markdown",
   "id": "56eb7eed-febb-4766-b68f-de8e4c562226",
   "metadata": {},
   "source": [
    "using if-else condition in list comprehension"
   ]
  },
  {
   "cell_type": "code",
   "execution_count": 30,
   "id": "6f16aa66-38f1-4f24-ad2a-53c0604e9351",
   "metadata": {},
   "outputs": [],
   "source": [
    "number = ['even' if x %2 ==0 else'odd' for x in range(1,11)]"
   ]
  },
  {
   "cell_type": "code",
   "execution_count": 31,
   "id": "4c3cd903-a7bb-4aa7-9211-05c88c1cf9c2",
   "metadata": {},
   "outputs": [
    {
     "data": {
      "text/plain": [
       "['odd', 'even', 'odd', 'even', 'odd', 'even', 'odd', 'even', 'odd', 'even']"
      ]
     },
     "execution_count": 31,
     "metadata": {},
     "output_type": "execute_result"
    }
   ],
   "source": [
    "number"
   ]
  },
  {
   "cell_type": "code",
   "execution_count": 39,
   "id": "77bb9b87-46db-4e4a-977d-334130f9f466",
   "metadata": {},
   "outputs": [
    {
     "name": "stdout",
     "output_type": "stream",
     "text": [
      "1\n",
      "2\n",
      "2\n",
      "3\n",
      "4\n",
      "4\n",
      "5\n",
      "6\n",
      "6\n",
      "7\n",
      "8\n",
      "8\n",
      "9\n",
      "10\n",
      "10\n"
     ]
    }
   ],
   "source": [
    "for i in range(1,11):\n",
    "    print(i) \n",
    "    if i % 2 ==0:\n",
    "        print(i)\n",
    "    \n",
    "\n",
    "            \n",
    "        \n",
    "    "
   ]
  },
  {
   "cell_type": "code",
   "execution_count": 49,
   "id": "a0684e57-a581-40d1-8e41-44e18797db1c",
   "metadata": {},
   "outputs": [
    {
     "name": "stdin",
     "output_type": "stream",
     "text": [
      "enter the number 3\n"
     ]
    },
    {
     "name": "stdout",
     "output_type": "stream",
     "text": [
      "3\n"
     ]
    }
   ],
   "source": [
    "number = int(input('enter the number'))\n",
    "for i in range(1,50):\n",
    "    i % 2 ==0\n",
    "print(number)"
   ]
  },
  {
   "cell_type": "code",
   "execution_count": 51,
   "id": "9aabe534-7da9-42c4-87d9-18ab6e976a6b",
   "metadata": {},
   "outputs": [
    {
     "name": "stdin",
     "output_type": "stream",
     "text": [
      "Enter the upper limit to print even numbers:  8\n"
     ]
    },
    {
     "name": "stdout",
     "output_type": "stream",
     "text": [
      "Even numbers up to 8:\n",
      "2\n",
      "4\n",
      "6\n",
      "8\n"
     ]
    }
   ],
   "source": [
    "# Get the upper limit from the user\n",
    "limit = int(input(\"Enter the upper limit to print even numbers: \"))\n",
    "\n",
    "print(f\"Even numbers up to {limit}:\")\n",
    "# Iterate from 1 up to the specified limit (inclusive)\n",
    "for i in range(1, limit + 1):\n",
    "    # Check if the number is even using the modulo operator\n",
    "    if i % 2 == 0:\n",
    "        print(i)"
   ]
  },
  {
   "cell_type": "code",
   "execution_count": 56,
   "id": "c3b829b6-eb17-4916-91ea-bce4e636671a",
   "metadata": {},
   "outputs": [
    {
     "name": "stdin",
     "output_type": "stream",
     "text": [
      "enter the number 234\n"
     ]
    },
    {
     "name": "stdout",
     "output_type": "stream",
     "text": [
      "the number is even\n"
     ]
    }
   ],
   "source": [
    "number = int(input('enter the number'))\n",
    "if (number % 2 ==0):\n",
    "    print('the number is even')\n",
    "else:\n",
    "    print('the number is odd')"
   ]
  },
  {
   "cell_type": "code",
   "execution_count": 60,
   "id": "9a4d44f4-7a00-4953-8ecc-3196a6b3fa44",
   "metadata": {},
   "outputs": [
    {
     "name": "stdin",
     "output_type": "stream",
     "text": [
      "enter the number 20\n"
     ]
    },
    {
     "name": "stdout",
     "output_type": "stream",
     "text": [
      "20\n"
     ]
    }
   ],
   "source": [
    "number = int(input('enter the number'))\n",
    "['even'if number % 2 ==0  else 'odd']\n",
    "print(number)"
   ]
  },
  {
   "cell_type": "code",
   "execution_count": 61,
   "id": "db668ba8-9fa4-4d30-b516-0065d77610a5",
   "metadata": {},
   "outputs": [
    {
     "name": "stdout",
     "output_type": "stream",
     "text": [
      "[(0, 0), (0, 1), (0, 2), (0, 3), (1, 0), (1, 1), (1, 2), (1, 3), (2, 0), (2, 1), (2, 2), (2, 3)]\n"
     ]
    }
   ],
   "source": [
    "pairs = [(x,y) for x in range(3) for y in range(4)]\n",
    "print(pairs)"
   ]
  },
  {
   "cell_type": "code",
   "execution_count": 62,
   "id": "2c5c3e62-bc7b-4101-b382-d3aba124c59b",
   "metadata": {},
   "outputs": [
    {
     "name": "stdout",
     "output_type": "stream",
     "text": [
      "['HEY', 'BUDY', 'HOW', 'ARE', 'YOU']\n"
     ]
    }
   ],
   "source": [
    "words = ['hey','budy','how','are','you']\n",
    "upper_words = [word.upper() for word in words]\n",
    "print(upper_words)"
   ]
  },
  {
   "cell_type": "code",
   "execution_count": 71,
   "id": "8bc3c317-8c37-4b6b-8abb-083fa6a70a1e",
   "metadata": {},
   "outputs": [
    {
     "name": "stdout",
     "output_type": "stream",
     "text": [
      "['ONE', 'TWO', 'THREE', 'FOUR']\n"
     ]
    }
   ],
   "source": [
    "numbers = ['one','two','three','four']\n",
    "upper_number = [number.upper() for number in numbers]\n",
    "print(upper_number)"
   ]
  },
  {
   "cell_type": "code",
   "execution_count": 72,
   "id": "46c76b59-46fb-4d80-9f30-3d7c6b60b31b",
   "metadata": {},
   "outputs": [
    {
     "ename": "AttributeError",
     "evalue": "'str' object has no attribute 'lowercase_number'",
     "output_type": "error",
     "traceback": [
      "\u001b[1;31m---------------------------------------------------------------------------\u001b[0m",
      "\u001b[1;31mAttributeError\u001b[0m                            Traceback (most recent call last)",
      "Cell \u001b[1;32mIn[72], line 2\u001b[0m\n\u001b[0;32m      1\u001b[0m numbers \u001b[38;5;241m=\u001b[39m [\u001b[38;5;124m'\u001b[39m\u001b[38;5;124mONE\u001b[39m\u001b[38;5;124m'\u001b[39m, \u001b[38;5;124m'\u001b[39m\u001b[38;5;124mTWO\u001b[39m\u001b[38;5;124m'\u001b[39m, \u001b[38;5;124m'\u001b[39m\u001b[38;5;124mTHREE\u001b[39m\u001b[38;5;124m'\u001b[39m, \u001b[38;5;124m'\u001b[39m\u001b[38;5;124mFOUR\u001b[39m\u001b[38;5;124m'\u001b[39m]\n\u001b[1;32m----> 2\u001b[0m lowercase_number \u001b[38;5;241m=\u001b[39m [number\u001b[38;5;241m.\u001b[39mlowercase_number() \u001b[38;5;28;01mfor\u001b[39;00m number \u001b[38;5;129;01min\u001b[39;00m numbers]\n\u001b[0;32m      3\u001b[0m \u001b[38;5;28mprint\u001b[39m(lowercase_number)\n",
      "\u001b[1;31mAttributeError\u001b[0m: 'str' object has no attribute 'lowercase_number'"
     ]
    }
   ],
   "source": [
    "numbers = ['ONE', 'TWO', 'THREE', 'FOUR']\n",
    "lowercase_number = [number.lowercase_number() for number in numbers]\n",
    "print(lowercase_number)\n"
   ]
  },
  {
   "cell_type": "code",
   "execution_count": 73,
   "id": "e96bf334-8b00-41d1-b706-d1311456cef3",
   "metadata": {},
   "outputs": [
    {
     "name": "stdout",
     "output_type": "stream",
     "text": [
      "[1, 2, 3, 4, 5, 6]\n"
     ]
    }
   ],
   "source": [
    "matrix = [[1,2],[3,4],[5,6]]\n",
    "matrices = [num for row in matrix for num in row]\n",
    "print(matrices)"
   ]
  },
  {
   "cell_type": "code",
   "execution_count": 76,
   "id": "f48f5c24-c887-4955-bf35-88e5854b06ee",
   "metadata": {},
   "outputs": [
    {
     "name": "stdout",
     "output_type": "stream",
     "text": [
      "{1, 2, 3, 4, 5}\n"
     ]
    }
   ],
   "source": [
    "unique_number =  {x for x in [1,2,3,4,5,2,2,3,3,4,4,5,5]}\n",
    "print(unique_number)"
   ]
  },
  {
   "cell_type": "code",
   "execution_count": 77,
   "id": "3848f10c-24fb-416b-8ca6-41987db6b40f",
   "metadata": {},
   "outputs": [
    {
     "name": "stdout",
     "output_type": "stream",
     "text": [
      "{1.2, 3.4, 5.6, 7.8}\n"
     ]
    }
   ],
   "source": [
    "unique_number = {x for x in[1.2,1.2,3.4,3.4,3.4,5.6,5.6,7.8]}\n",
    "print(unique_number)"
   ]
  },
  {
   "cell_type": "code",
   "execution_count": 78,
   "id": "d16e4bbb-636b-4a56-acda-e1021fe76831",
   "metadata": {},
   "outputs": [
    {
     "name": "stdout",
     "output_type": "stream",
     "text": [
      "{0: 0, 1: 1, 2: 4, 3: 9, 4: 16, 5: 25}\n"
     ]
    }
   ],
   "source": [
    "squard_dict = {x: x**2 for x in range(6)}\n",
    "print(squard_dict)"
   ]
  },
  {
   "cell_type": "code",
   "execution_count": null,
   "id": "dc5e787b-f4ec-4d02-b0ce-39ddb906ce59",
   "metadata": {},
   "outputs": [],
   "source": []
  }
 ],
 "metadata": {
  "kernelspec": {
   "display_name": "Python 3 (ipykernel)",
   "language": "python",
   "name": "python3"
  },
  "language_info": {
   "codemirror_mode": {
    "name": "ipython",
    "version": 3
   },
   "file_extension": ".py",
   "mimetype": "text/x-python",
   "name": "python",
   "nbconvert_exporter": "python",
   "pygments_lexer": "ipython3",
   "version": "3.13.5"
  }
 },
 "nbformat": 4,
 "nbformat_minor": 5
}
