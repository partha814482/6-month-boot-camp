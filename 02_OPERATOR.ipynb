{
 "cells": [
  {
   "cell_type": "code",
   "execution_count": 1,
   "id": "1da871d6-b6fd-401f-8ecb-6f4b77ebab50",
   "metadata": {},
   "outputs": [
    {
     "name": "stdout",
     "output_type": "stream",
     "text": [
      "15\n"
     ]
    }
   ],
   "source": [
    "x = 10\n",
    "y = 5\n",
    "z = x + y\n",
    "print(z)"
   ]
  },
  {
   "cell_type": "code",
   "execution_count": 2,
   "id": "7b890e88-58fe-497d-8d21-583bcf794a05",
   "metadata": {},
   "outputs": [
    {
     "name": "stdout",
     "output_type": "stream",
     "text": [
      "True "
     ]
    }
   ],
   "source": [
    "print(str(True), end=\" \")\n",
    "#int(\"4.5\")"
   ]
  },
  {
   "cell_type": "code",
   "execution_count": 3,
   "id": "f8de650d-c63a-4942-b21e-00673549eebe",
   "metadata": {},
   "outputs": [
    {
     "name": "stdout",
     "output_type": "stream",
     "text": [
      "llo\n",
      "ello\n"
     ]
    }
   ],
   "source": [
    "name = \"Hello, World!\"\n",
    "print(name[2:5])\n",
    "print(name[1:5])"
   ]
  },
  {
   "cell_type": "code",
   "execution_count": 4,
   "id": "b0151824-1cb2-4a6b-b69a-0fdaa625cb54",
   "metadata": {},
   "outputs": [
    {
     "name": "stdout",
     "output_type": "stream",
     "text": [
      "banana\n"
     ]
    }
   ],
   "source": [
    "x = {\"apple\", \"banana\", \"cherry\"}\n",
    "y = x.pop()\n",
    "print(y)"
   ]
  },
  {
   "cell_type": "code",
   "execution_count": 5,
   "id": "334eee29-4314-4686-ac4c-ffdc99918cbb",
   "metadata": {},
   "outputs": [
    {
     "name": "stdout",
     "output_type": "stream",
     "text": [
      "[1, 4, 2, 3]\n"
     ]
    }
   ],
   "source": [
    "x = [1, 2, 3]\n",
    "x.insert(1, 4)\n",
    "print(x)"
   ]
  },
  {
   "cell_type": "markdown",
   "id": "1dccbe7c-bddd-4816-8e08-12e0be56ec2e",
   "metadata": {},
   "source": [
    "RANGE"
   ]
  },
  {
   "cell_type": "code",
   "execution_count": 6,
   "id": "8b323dc5-fe8d-4c09-9f1b-79426efecfbc",
   "metadata": {},
   "outputs": [
    {
     "data": {
      "text/plain": [
       "range(0, 6)"
      ]
     },
     "execution_count": 6,
     "metadata": {},
     "output_type": "execute_result"
    }
   ],
   "source": [
    "r = range(0,6)\n",
    "r"
   ]
  },
  {
   "cell_type": "code",
   "execution_count": 8,
   "id": "c36367b4-5f8d-45fb-8c40-e50f8b43377c",
   "metadata": {},
   "outputs": [
    {
     "data": {
      "text/plain": [
       "range"
      ]
     },
     "execution_count": 8,
     "metadata": {},
     "output_type": "execute_result"
    }
   ],
   "source": [
    "type(r)"
   ]
  },
  {
   "cell_type": "code",
   "execution_count": 10,
   "id": "536f373d-d882-450f-a8f5-422f2ef9741b",
   "metadata": {},
   "outputs": [
    {
     "data": {
      "text/plain": [
       "range(-5, 0)"
      ]
     },
     "execution_count": 10,
     "metadata": {},
     "output_type": "execute_result"
    }
   ],
   "source": [
    "r = range(-5,0)\n",
    "r"
   ]
  },
  {
   "cell_type": "code",
   "execution_count": 12,
   "id": "b5d1201b-1fb9-4795-9625-f2d9b044de5c",
   "metadata": {},
   "outputs": [
    {
     "data": {
      "text/plain": [
       "1983435608528"
      ]
     },
     "execution_count": 12,
     "metadata": {},
     "output_type": "execute_result"
    }
   ],
   "source": [
    "id(r)"
   ]
  },
  {
   "cell_type": "code",
   "execution_count": 15,
   "id": "095fa05b-44b6-49c8-9b48-a1ef21cacc20",
   "metadata": {},
   "outputs": [
    {
     "data": {
      "text/plain": [
       "[0, 1, 2, 3, 4, 5, 6, 7, 8, 9]"
      ]
     },
     "execution_count": 15,
     "metadata": {},
     "output_type": "execute_result"
    }
   ],
   "source": [
    "#if we want to print the range so we use list function\n",
    "list(range(0,10))\n",
    "#It take last element as (n-1)"
   ]
  },
  {
   "cell_type": "code",
   "execution_count": 20,
   "id": "31d73c1d-a6be-4885-88d5-d82cd9c73570",
   "metadata": {},
   "outputs": [
    {
     "data": {
      "text/plain": [
       "[20, 21, 22, 23, 24]"
      ]
     },
     "execution_count": 20,
     "metadata": {},
     "output_type": "execute_result"
    }
   ],
   "source": [
    "list(range(20,25))"
   ]
  },
  {
   "cell_type": "code",
   "execution_count": 21,
   "id": "edaeda11-dbb3-4967-a3a8-4df323dade0d",
   "metadata": {},
   "outputs": [
    {
     "data": {
      "text/plain": [
       "[]"
      ]
     },
     "execution_count": 21,
     "metadata": {},
     "output_type": "execute_result"
    }
   ],
   "source": [
    "list(range(-1,-10))"
   ]
  },
  {
   "cell_type": "code",
   "execution_count": 23,
   "id": "e00824fb-5447-4347-ab17-3d6c1e9b2be6",
   "metadata": {},
   "outputs": [
    {
     "data": {
      "text/plain": [
       "[-5, -4, -3, -2, -1]"
      ]
     },
     "execution_count": 23,
     "metadata": {},
     "output_type": "execute_result"
    }
   ],
   "source": [
    "list(range(-5,0))"
   ]
  },
  {
   "cell_type": "code",
   "execution_count": 25,
   "id": "c50d6b60-eb17-4893-90ac-326b2312c7f0",
   "metadata": {},
   "outputs": [
    {
     "data": {
      "text/plain": [
       "[-5, -4, -3, -2, -1, 0, 1, 2, 3, 4, 5, 6, 7, 8, 9, 10]"
      ]
     },
     "execution_count": 25,
     "metadata": {},
     "output_type": "execute_result"
    }
   ],
   "source": [
    "list(range(-5,11))"
   ]
  },
  {
   "cell_type": "code",
   "execution_count": 28,
   "id": "b87d3143-4d09-4bb5-8e73-87c46ab6d1d1",
   "metadata": {},
   "outputs": [
    {
     "name": "stdout",
     "output_type": "stream",
     "text": [
      "[1, 2, 3, 4, 5, 6, 7, 8, 9, 10]\n"
     ]
    }
   ],
   "source": [
    "a_range = list(range(1,11))\n",
    "print(a_range)"
   ]
  },
  {
   "cell_type": "code",
   "execution_count": 31,
   "id": "195ac8e9-4cbd-4af7-99a9-fbdb6dbf2b0f",
   "metadata": {},
   "outputs": [
    {
     "name": "stdout",
     "output_type": "stream",
     "text": [
      "1\n",
      "2\n",
      "3\n",
      "4\n",
      "5\n",
      "6\n",
      "7\n",
      "8\n",
      "9\n",
      "10\n"
     ]
    }
   ],
   "source": [
    "for i in a_range:\n",
    "    print(i)"
   ]
  },
  {
   "cell_type": "code",
   "execution_count": 33,
   "id": "ece178d8-e8ae-40bf-b16c-4c91e0b610d9",
   "metadata": {},
   "outputs": [
    {
     "name": "stdout",
     "output_type": "stream",
     "text": [
      "(0, 1)\n",
      "(1, 2)\n",
      "(2, 3)\n",
      "(3, 4)\n",
      "(4, 5)\n",
      "(5, 6)\n",
      "(6, 7)\n",
      "(7, 8)\n",
      "(8, 9)\n",
      "(9, 10)\n"
     ]
    }
   ],
   "source": [
    "for i in enumerate( a_range):\n",
    "    print(i)"
   ]
  },
  {
   "cell_type": "code",
   "execution_count": 36,
   "id": "9d723a71-d2c3-49b1-ac7a-5a32df63414f",
   "metadata": {},
   "outputs": [
    {
     "data": {
      "text/plain": [
       "[-5, -4, -3, -2, -1]"
      ]
     },
     "execution_count": 36,
     "metadata": {},
     "output_type": "execute_result"
    }
   ],
   "source": [
    "prange = list(range(-5,0))\n",
    "prange"
   ]
  },
  {
   "cell_type": "code",
   "execution_count": 38,
   "id": "c47ded69-1730-453e-98dd-59ae83220230",
   "metadata": {},
   "outputs": [
    {
     "name": "stdout",
     "output_type": "stream",
     "text": [
      "-5\n",
      "-4\n",
      "-3\n",
      "-2\n",
      "-1\n"
     ]
    }
   ],
   "source": [
    "for i in prange:\n",
    "    print(i)"
   ]
  },
  {
   "cell_type": "code",
   "execution_count": 40,
   "id": "b180c975-8888-42b9-b19d-20436bc6b46c",
   "metadata": {},
   "outputs": [
    {
     "name": "stdout",
     "output_type": "stream",
     "text": [
      "(0, -5)\n",
      "(1, -4)\n",
      "(2, -3)\n",
      "(3, -2)\n",
      "(4, -1)\n"
     ]
    }
   ],
   "source": [
    "for i in enumerate(prange):\n",
    "    print(i)"
   ]
  },
  {
   "cell_type": "code",
   "execution_count": 42,
   "id": "ef610f30-36cb-45e4-aef3-23c573399f4e",
   "metadata": {},
   "outputs": [
    {
     "ename": "NameError",
     "evalue": "name 'a' is not defined",
     "output_type": "error",
     "traceback": [
      "\u001b[1;31m----------------------------------------------------------------\u001b[0m",
      "\u001b[1;31mNameError\u001b[0m                      Traceback (most recent call last)",
      "Cell \u001b[1;32mIn[42], line 1\u001b[0m\n\u001b[1;32m----> 1\u001b[0m \u001b[38;5;28mlist\u001b[39m(\u001b[38;5;28mrange\u001b[39m(a,z))\n",
      "\u001b[1;31mNameError\u001b[0m: name 'a' is not defined"
     ]
    }
   ],
   "source": [
    "list(range(a,z)) #in range string ang float iss not allowed"
   ]
  },
  {
   "cell_type": "code",
   "execution_count": 50,
   "id": "744be1cd-425d-4580-bc8e-541f208f8fc9",
   "metadata": {},
   "outputs": [
    {
     "name": "stdout",
     "output_type": "stream",
     "text": [
      "[0, 2, 4, 6, 8, 10, 12, 14, 16, 18]\n"
     ]
    }
   ],
   "source": [
    "# if we want to print the even no.so\n",
    "even_number = list(range(0,20,2))\n",
    "print(even_number)"
   ]
  },
  {
   "cell_type": "code",
   "execution_count": 52,
   "id": "e278bf71-1e75-41a7-9b27-c3cbb0810a08",
   "metadata": {},
   "outputs": [
    {
     "data": {
      "text/plain": [
       "[1, 4, 7]"
      ]
     },
     "execution_count": 52,
     "metadata": {},
     "output_type": "execute_result"
    }
   ],
   "source": [
    "oddnumber = list(range(1,10,3))\n",
    "oddnumber"
   ]
  },
  {
   "cell_type": "code",
   "execution_count": 56,
   "id": "2af1fb3f-f205-4996-8304-61464b2f4a7d",
   "metadata": {},
   "outputs": [
    {
     "data": {
      "text/plain": [
       "{1: 'one', 2: 'two', 3: 'three', 4: 'four'}"
      ]
     },
     "execution_count": 56,
     "metadata": {},
     "output_type": "execute_result"
    }
   ],
   "source": [
    "d = {1:'one',2:'two',3:'three',4:'four'}\n",
    "d"
   ]
  },
  {
   "cell_type": "code",
   "execution_count": 58,
   "id": "fb6ceaec-adb4-489c-a9d1-ddf6378553d8",
   "metadata": {},
   "outputs": [
    {
     "data": {
      "text/plain": [
       "dict_keys([1, 2, 3, 4])"
      ]
     },
     "execution_count": 58,
     "metadata": {},
     "output_type": "execute_result"
    }
   ],
   "source": [
    "d.keys()"
   ]
  },
  {
   "cell_type": "code",
   "execution_count": 60,
   "id": "a492d917-8046-40e5-b9e8-736413f5ad42",
   "metadata": {},
   "outputs": [
    {
     "data": {
      "text/plain": [
       "dict_values(['one', 'two', 'three', 'four'])"
      ]
     },
     "execution_count": 60,
     "metadata": {},
     "output_type": "execute_result"
    }
   ],
   "source": [
    "d.values()"
   ]
  },
  {
   "cell_type": "markdown",
   "id": "8918fb78-8be5-4b52-be5a-74807c2a7934",
   "metadata": {},
   "source": [
    "OPERATER"
   ]
  },
  {
   "cell_type": "code",
   "execution_count": 65,
   "id": "b5c77044-a1ee-45ef-bf5e-915403ac657f",
   "metadata": {},
   "outputs": [
    {
     "name": "stdout",
     "output_type": "stream",
     "text": [
      "12\n",
      "6\n"
     ]
    }
   ],
   "source": [
    "x,y = 12,6\n",
    "print(x)\n",
    "print(y)"
   ]
  },
  {
   "cell_type": "code",
   "execution_count": 67,
   "id": "4353a417-d4eb-470c-9b43-f6163654e2a3",
   "metadata": {},
   "outputs": [
    {
     "name": "stdout",
     "output_type": "stream",
     "text": [
      "18\n",
      "6\n",
      "72\n",
      "2.0\n",
      "2\n",
      "0\n",
      "2985984\n"
     ]
    }
   ],
   "source": [
    "print(x+y)\n",
    "print(x-y)\n",
    "print(x*y)\n",
    "print(x/y)\n",
    "print(x//y)\n",
    "print(x%y)\n",
    "print(x**y)"
   ]
  },
  {
   "cell_type": "code",
   "execution_count": 72,
   "id": "d7a36047-11cf-47cd-bbb3-63b823a7e783",
   "metadata": {},
   "outputs": [],
   "source": [
    "x1 = 5\n",
    "y1 = 4"
   ]
  },
  {
   "cell_type": "code",
   "execution_count": 74,
   "id": "4d8befef-7dc8-4b83-8ccf-e9e245c66885",
   "metadata": {},
   "outputs": [
    {
     "data": {
      "text/plain": [
       "1"
      ]
     },
     "execution_count": 74,
     "metadata": {},
     "output_type": "execute_result"
    }
   ],
   "source": [
    "x1%y1"
   ]
  },
  {
   "cell_type": "markdown",
   "id": "4f169ae8-89a8-4494-9a82-21702ca0cde2",
   "metadata": {},
   "source": [
    "ASSIGNMENT OPERATER"
   ]
  },
  {
   "cell_type": "code",
   "execution_count": 76,
   "id": "cef97bbd-2fb0-4f66-9e52-4f95b3d3e84a",
   "metadata": {},
   "outputs": [
    {
     "data": {
      "text/plain": [
       "6"
      ]
     },
     "execution_count": 76,
     "metadata": {},
     "output_type": "execute_result"
    }
   ],
   "source": [
    "y = 3\n",
    "y = y+3\n",
    "y"
   ]
  },
  {
   "cell_type": "code",
   "execution_count": 81,
   "id": "58a98d14-5f0c-4e83-9f36-5e61510d6980",
   "metadata": {},
   "outputs": [
    {
     "data": {
      "text/plain": [
       "30"
      ]
     },
     "execution_count": 81,
     "metadata": {},
     "output_type": "execute_result"
    }
   ],
   "source": [
    "y"
   ]
  },
  {
   "cell_type": "code",
   "execution_count": 82,
   "id": "a1a1d473-2a3e-4da5-baaf-a29766cbdc20",
   "metadata": {},
   "outputs": [
    {
     "data": {
      "text/plain": [
       "42"
      ]
     },
     "execution_count": 82,
     "metadata": {},
     "output_type": "execute_result"
    }
   ],
   "source": [
    "y = x+y\n",
    "y"
   ]
  },
  {
   "cell_type": "code",
   "execution_count": 83,
   "id": "1164a615-0322-400c-bb26-6b553dee27b2",
   "metadata": {},
   "outputs": [
    {
     "data": {
      "text/plain": [
       "12"
      ]
     },
     "execution_count": 83,
     "metadata": {},
     "output_type": "execute_result"
    }
   ],
   "source": [
    "x"
   ]
  },
  {
   "cell_type": "code",
   "execution_count": 84,
   "id": "6af9c06a-3d15-441a-9380-3d0fef0ba22d",
   "metadata": {},
   "outputs": [
    {
     "data": {
      "text/plain": [
       "42"
      ]
     },
     "execution_count": 84,
     "metadata": {},
     "output_type": "execute_result"
    }
   ],
   "source": [
    "y"
   ]
  },
  {
   "cell_type": "code",
   "execution_count": 85,
   "id": "abb5dfb7-9093-49a4-aa21-da68e9efeabe",
   "metadata": {},
   "outputs": [
    {
     "data": {
      "text/plain": [
       "12"
      ]
     },
     "execution_count": 85,
     "metadata": {},
     "output_type": "execute_result"
    }
   ],
   "source": [
    "x"
   ]
  },
  {
   "cell_type": "code",
   "execution_count": 86,
   "id": "d886f69b-14ad-45ba-a1eb-b8ec67df26a8",
   "metadata": {},
   "outputs": [
    {
     "data": {
      "text/plain": [
       "14"
      ]
     },
     "execution_count": 86,
     "metadata": {},
     "output_type": "execute_result"
    }
   ],
   "source": [
    "x +=2\n",
    "x"
   ]
  },
  {
   "cell_type": "code",
   "execution_count": 87,
   "id": "b109378e-bc7b-4d14-baf8-42e54717dd9c",
   "metadata": {},
   "outputs": [
    {
     "data": {
      "text/plain": [
       "12"
      ]
     },
     "execution_count": 87,
     "metadata": {},
     "output_type": "execute_result"
    }
   ],
   "source": [
    "x -=2\n",
    "x"
   ]
  },
  {
   "cell_type": "code",
   "execution_count": 88,
   "id": "ec6dde06-98cc-40c0-bc80-883077ce816c",
   "metadata": {},
   "outputs": [
    {
     "data": {
      "text/plain": [
       "36"
      ]
     },
     "execution_count": 88,
     "metadata": {},
     "output_type": "execute_result"
    }
   ],
   "source": [
    "x *=3\n",
    "x"
   ]
  },
  {
   "cell_type": "code",
   "execution_count": 89,
   "id": "37292add-eba1-4947-8e2f-847bf93c34b8",
   "metadata": {},
   "outputs": [
    {
     "data": {
      "text/plain": [
       "18"
      ]
     },
     "execution_count": 89,
     "metadata": {},
     "output_type": "execute_result"
    }
   ],
   "source": [
    "x //=2\n",
    "x"
   ]
  },
  {
   "cell_type": "code",
   "execution_count": 90,
   "id": "de489531-befa-46d4-a636-8c2b71327ecb",
   "metadata": {},
   "outputs": [
    {
     "data": {
      "text/plain": [
       "18"
      ]
     },
     "execution_count": 90,
     "metadata": {},
     "output_type": "execute_result"
    }
   ],
   "source": [
    "x"
   ]
  },
  {
   "cell_type": "markdown",
   "id": "c1f20cd7-312d-4719-91ee-9b0fc8e092a0",
   "metadata": {},
   "source": [
    "UNARY OPERATER"
   ]
  },
  {
   "cell_type": "code",
   "execution_count": 91,
   "id": "ea56a5e7-fe47-4320-a1d9-b834968a1204",
   "metadata": {},
   "outputs": [
    {
     "data": {
      "text/plain": [
       "2"
      ]
     },
     "execution_count": 91,
     "metadata": {},
     "output_type": "execute_result"
    }
   ],
   "source": [
    "n= 2\n",
    "n"
   ]
  },
  {
   "cell_type": "code",
   "execution_count": 93,
   "id": "918fcfba-03af-440c-9838-a98bbc180216",
   "metadata": {},
   "outputs": [
    {
     "data": {
      "text/plain": [
       "-2"
      ]
     },
     "execution_count": 93,
     "metadata": {},
     "output_type": "execute_result"
    }
   ],
   "source": [
    "m = -n\n",
    "m"
   ]
  },
  {
   "cell_type": "code",
   "execution_count": 94,
   "id": "0d2910f7-f860-4bbe-940c-3bb0da3a94ff",
   "metadata": {},
   "outputs": [
    {
     "data": {
      "text/plain": [
       "2"
      ]
     },
     "execution_count": 94,
     "metadata": {},
     "output_type": "execute_result"
    }
   ],
   "source": [
    "n"
   ]
  },
  {
   "cell_type": "markdown",
   "id": "f9da9be2-540b-4644-a269-339062893e06",
   "metadata": {},
   "source": [
    "RELATIONAL OPERATOR\n",
    "-->>> we use the relational operater to compair"
   ]
  },
  {
   "cell_type": "code",
   "execution_count": 95,
   "id": "9ecbac7f-933a-433d-b405-19c1707a48c8",
   "metadata": {},
   "outputs": [
    {
     "name": "stdout",
     "output_type": "stream",
     "text": [
      "18\n",
      "42\n"
     ]
    }
   ],
   "source": [
    "print(x)\n",
    "print(y)"
   ]
  },
  {
   "cell_type": "code",
   "execution_count": 97,
   "id": "1ea8fcc5-cc12-4a7d-83f7-ceeeb6e0bcd4",
   "metadata": {},
   "outputs": [
    {
     "name": "stdout",
     "output_type": "stream",
     "text": [
      "5\n",
      "4\n"
     ]
    }
   ],
   "source": [
    "print(x1)\n",
    "print(y1)"
   ]
  },
  {
   "cell_type": "code",
   "execution_count": 98,
   "id": "952ae14a-d80a-4194-9f0a-fa57dae0d647",
   "metadata": {},
   "outputs": [
    {
     "data": {
      "text/plain": [
       "True"
      ]
     },
     "execution_count": 98,
     "metadata": {},
     "output_type": "execute_result"
    }
   ],
   "source": [
    "x1>y1"
   ]
  },
  {
   "cell_type": "code",
   "execution_count": 100,
   "id": "a975d467-b7a2-4564-9bb8-68c027e77ec6",
   "metadata": {},
   "outputs": [
    {
     "data": {
      "text/plain": [
       "False"
      ]
     },
     "execution_count": 100,
     "metadata": {},
     "output_type": "execute_result"
    }
   ],
   "source": [
    "x1<y1"
   ]
  },
  {
   "cell_type": "code",
   "execution_count": 103,
   "id": "4a4cddc3-787c-42db-b683-4eecea99afa2",
   "metadata": {},
   "outputs": [
    {
     "data": {
      "text/plain": [
       "False"
      ]
     },
     "execution_count": 103,
     "metadata": {},
     "output_type": "execute_result"
    }
   ],
   "source": [
    "x == y"
   ]
  },
  {
   "cell_type": "code",
   "execution_count": 104,
   "id": "070c8ddc-ea05-4d95-a336-18f2ec7036da",
   "metadata": {},
   "outputs": [
    {
     "data": {
      "text/plain": [
       "True"
      ]
     },
     "execution_count": 104,
     "metadata": {},
     "output_type": "execute_result"
    }
   ],
   "source": [
    "x!=y"
   ]
  },
  {
   "cell_type": "code",
   "execution_count": 105,
   "id": "89fd3e43-54a3-4f98-bac2-a600b6821dfe",
   "metadata": {},
   "outputs": [
    {
     "data": {
      "text/plain": [
       "5"
      ]
     },
     "execution_count": 105,
     "metadata": {},
     "output_type": "execute_result"
    }
   ],
   "source": [
    "x1 "
   ]
  },
  {
   "cell_type": "code",
   "execution_count": 106,
   "id": "b412c7bd-5f27-4239-a696-77052fa4682d",
   "metadata": {},
   "outputs": [
    {
     "data": {
      "text/plain": [
       "4"
      ]
     },
     "execution_count": 106,
     "metadata": {},
     "output_type": "execute_result"
    }
   ],
   "source": [
    "y1"
   ]
  },
  {
   "cell_type": "code",
   "execution_count": 107,
   "id": "d72b8a59-bafd-4bf6-8156-32987ddc4c1c",
   "metadata": {},
   "outputs": [],
   "source": [
    "y1 = 5"
   ]
  },
  {
   "cell_type": "code",
   "execution_count": 108,
   "id": "c6d3076e-4556-43f4-9dcb-2e1676c158d5",
   "metadata": {},
   "outputs": [
    {
     "data": {
      "text/plain": [
       "5"
      ]
     },
     "execution_count": 108,
     "metadata": {},
     "output_type": "execute_result"
    }
   ],
   "source": [
    "y1"
   ]
  },
  {
   "cell_type": "code",
   "execution_count": 109,
   "id": "e87110b1-a592-4f60-bd1b-95ebbfb3ebcf",
   "metadata": {},
   "outputs": [
    {
     "data": {
      "text/plain": [
       "True"
      ]
     },
     "execution_count": 109,
     "metadata": {},
     "output_type": "execute_result"
    }
   ],
   "source": [
    "x1==y1"
   ]
  },
  {
   "cell_type": "markdown",
   "id": "7691a588-a5d3-400b-9716-c27586d76c8b",
   "metadata": {},
   "source": [
    "LOGICAL OPERATER"
   ]
  },
  {
   "cell_type": "code",
   "execution_count": 110,
   "id": "fc1609f9-9734-4bea-8108-13a51c813b52",
   "metadata": {},
   "outputs": [],
   "source": [
    "a = 5\n",
    "b = 4"
   ]
  },
  {
   "cell_type": "code",
   "execution_count": 116,
   "id": "86caca43-5757-46a9-b821-443bcb5fe0c7",
   "metadata": {},
   "outputs": [
    {
     "name": "stdout",
     "output_type": "stream",
     "text": [
      "False\n",
      "True\n",
      "False\n"
     ]
    }
   ],
   "source": [
    "print(a>b and a<b) # in and operater if one stetment is False then whole stetment is False\n",
    "print(a>b)\n",
    "print(a<b)"
   ]
  },
  {
   "cell_type": "code",
   "execution_count": 117,
   "id": "758ad372-62f0-4acc-aecc-4659cecbe576",
   "metadata": {},
   "outputs": [
    {
     "name": "stdout",
     "output_type": "stream",
     "text": [
      "True\n"
     ]
    }
   ],
   "source": [
    "print(a>b or a<b) #in or operater if one stetment is False and 2nd stetment is true then the whole stetmwnt is True"
   ]
  },
  {
   "cell_type": "code",
   "execution_count": 118,
   "id": "d9ee9ae8-8906-495c-96bc-3cc52ee0a156",
   "metadata": {},
   "outputs": [
    {
     "name": "stdout",
     "output_type": "stream",
     "text": [
      "5\n",
      "4\n"
     ]
    }
   ],
   "source": [
    "print(a)\n",
    "print(b)\n"
   ]
  },
  {
   "cell_type": "code",
   "execution_count": 119,
   "id": "1e84ea66-2719-4715-a45b-5df9dde1bd17",
   "metadata": {},
   "outputs": [
    {
     "data": {
      "text/plain": [
       "True"
      ]
     },
     "execution_count": 119,
     "metadata": {},
     "output_type": "execute_result"
    }
   ],
   "source": [
    "a<7 and b<a"
   ]
  },
  {
   "cell_type": "code",
   "execution_count": 120,
   "id": "708221c2-aa04-44cd-bb30-d81de2cd5875",
   "metadata": {},
   "outputs": [
    {
     "data": {
      "text/plain": [
       "False"
      ]
     },
     "execution_count": 120,
     "metadata": {},
     "output_type": "execute_result"
    }
   ],
   "source": [
    "7<a and b<9"
   ]
  },
  {
   "cell_type": "code",
   "execution_count": 121,
   "id": "5f754145-f43c-4431-807a-722391bd7ad8",
   "metadata": {},
   "outputs": [
    {
     "data": {
      "text/plain": [
       "True"
      ]
     },
     "execution_count": 121,
     "metadata": {},
     "output_type": "execute_result"
    }
   ],
   "source": [
    "b<5 or a>9"
   ]
  },
  {
   "cell_type": "code",
   "execution_count": 124,
   "id": "17cf7e03-6f4b-4c16-9a3c-679ca0e7f493",
   "metadata": {},
   "outputs": [],
   "source": [
    "a=5 or a>9"
   ]
  },
  {
   "cell_type": "code",
   "execution_count": 125,
   "id": "106418b7-dded-415e-a7c7-326e8cc95057",
   "metadata": {},
   "outputs": [
    {
     "data": {
      "text/plain": [
       "18"
      ]
     },
     "execution_count": 125,
     "metadata": {},
     "output_type": "execute_result"
    }
   ],
   "source": [
    "x"
   ]
  },
  {
   "cell_type": "code",
   "execution_count": 126,
   "id": "de59f4ca-2f1a-4cb1-95fc-f793babee602",
   "metadata": {},
   "outputs": [
    {
     "data": {
      "text/plain": [
       "False"
      ]
     },
     "execution_count": 126,
     "metadata": {},
     "output_type": "execute_result"
    }
   ],
   "source": [
    "x2 = False\n",
    "x2"
   ]
  },
  {
   "cell_type": "code",
   "execution_count": 128,
   "id": "ab5c968d-d203-4049-8a5e-04f19e318ec0",
   "metadata": {},
   "outputs": [
    {
     "data": {
      "text/plain": [
       "True"
      ]
     },
     "execution_count": 128,
     "metadata": {},
     "output_type": "execute_result"
    }
   ],
   "source": [
    "not x2"
   ]
  },
  {
   "cell_type": "markdown",
   "id": "8890f04c-c476-4a68-8fbc-54dbae4f9cfc",
   "metadata": {},
   "source": [
    "Number system converstion"
   ]
  },
  {
   "cell_type": "code",
   "execution_count": 130,
   "id": "497e5455-8805-4011-ad22-c0bd9d60008c",
   "metadata": {},
   "outputs": [
    {
     "data": {
      "text/plain": [
       "'0b1010'"
      ]
     },
     "execution_count": 130,
     "metadata": {},
     "output_type": "execute_result"
    }
   ],
   "source": [
    "bin(10)"
   ]
  },
  {
   "cell_type": "code",
   "execution_count": 1,
   "id": "f2d42cff-9f7b-42c4-9b2f-a4168fd72f2c",
   "metadata": {},
   "outputs": [
    {
     "data": {
      "text/plain": [
       "'0b1100'"
      ]
     },
     "execution_count": 1,
     "metadata": {},
     "output_type": "execute_result"
    }
   ],
   "source": [
    "bin(12)"
   ]
  },
  {
   "cell_type": "code",
   "execution_count": 3,
   "id": "1b7b74f4-363f-4255-92f8-ce2dee645045",
   "metadata": {},
   "outputs": [
    {
     "data": {
      "text/plain": [
       "12"
      ]
     },
     "execution_count": 3,
     "metadata": {},
     "output_type": "execute_result"
    }
   ],
   "source": [
    "\n",
    "int(0b1100)"
   ]
  },
  {
   "cell_type": "code",
   "execution_count": 5,
   "id": "6ba3be1b-4446-43b2-b9d0-ce313f311509",
   "metadata": {},
   "outputs": [
    {
     "data": {
      "text/plain": [
       "'0b110010'"
      ]
     },
     "execution_count": 5,
     "metadata": {},
     "output_type": "execute_result"
    }
   ],
   "source": [
    "bin(50)"
   ]
  },
  {
   "cell_type": "code",
   "execution_count": 8,
   "id": "ea58b17b-ed1d-441d-86dc-86ac74cffb8a",
   "metadata": {},
   "outputs": [
    {
     "data": {
      "text/plain": [
       "50"
      ]
     },
     "execution_count": 8,
     "metadata": {},
     "output_type": "execute_result"
    }
   ],
   "source": [
    "int(0b110010)"
   ]
  },
  {
   "cell_type": "code",
   "execution_count": 10,
   "id": "a1e95565-f63e-4901-b123-e714f5325fa4",
   "metadata": {},
   "outputs": [
    {
     "data": {
      "text/plain": [
       "int"
      ]
     },
     "execution_count": 10,
     "metadata": {},
     "output_type": "execute_result"
    }
   ],
   "source": [
    "type(int(0b110010))"
   ]
  },
  {
   "cell_type": "code",
   "execution_count": 12,
   "id": "3b5ca57e-116a-4fdf-95d9-3ae387c5ee43",
   "metadata": {},
   "outputs": [
    {
     "data": {
      "text/plain": [
       "str"
      ]
     },
     "execution_count": 12,
     "metadata": {},
     "output_type": "execute_result"
    }
   ],
   "source": [
    "type(bin(50))"
   ]
  },
  {
   "cell_type": "code",
   "execution_count": 14,
   "id": "7bca233e-82bd-41c0-bca1-3a7c911e9544",
   "metadata": {},
   "outputs": [
    {
     "data": {
      "text/plain": [
       "'0o31'"
      ]
     },
     "execution_count": 14,
     "metadata": {},
     "output_type": "execute_result"
    }
   ],
   "source": [
    "oct(25)"
   ]
  },
  {
   "cell_type": "code",
   "execution_count": 15,
   "id": "c71542a2-7fe3-41e8-b853-8aff95ad4fa2",
   "metadata": {},
   "outputs": [
    {
     "data": {
      "text/plain": [
       "'0o24'"
      ]
     },
     "execution_count": 15,
     "metadata": {},
     "output_type": "execute_result"
    }
   ],
   "source": [
    "oct(20)"
   ]
  },
  {
   "cell_type": "code",
   "execution_count": 17,
   "id": "a97455e0-784d-451f-8712-e31cf74e50d4",
   "metadata": {},
   "outputs": [
    {
     "data": {
      "text/plain": [
       "20"
      ]
     },
     "execution_count": 17,
     "metadata": {},
     "output_type": "execute_result"
    }
   ],
   "source": [
    "int(0o24)"
   ]
  },
  {
   "cell_type": "code",
   "execution_count": 18,
   "id": "6010f88b-73b7-4ce2-afde-32624fa4158d",
   "metadata": {},
   "outputs": [
    {
     "data": {
      "text/plain": [
       "'0x19'"
      ]
     },
     "execution_count": 18,
     "metadata": {},
     "output_type": "execute_result"
    }
   ],
   "source": [
    "hex(25)"
   ]
  },
  {
   "cell_type": "code",
   "execution_count": 20,
   "id": "954fdbbb-d18f-4e93-a1f8-b5b910e2202a",
   "metadata": {},
   "outputs": [
    {
     "data": {
      "text/plain": [
       "'0b10'"
      ]
     },
     "execution_count": 20,
     "metadata": {},
     "output_type": "execute_result"
    }
   ],
   "source": [
    "bin(2)"
   ]
  },
  {
   "cell_type": "code",
   "execution_count": 22,
   "id": "43c81db7-dd7f-4093-bd55-e49ca59c8395",
   "metadata": {},
   "outputs": [
    {
     "data": {
      "text/plain": [
       "'0o10'"
      ]
     },
     "execution_count": 22,
     "metadata": {},
     "output_type": "execute_result"
    }
   ],
   "source": [
    "oct(8)"
   ]
  },
  {
   "cell_type": "code",
   "execution_count": 24,
   "id": "b522489a-53f3-44c9-a33f-d9f91ccd8efa",
   "metadata": {},
   "outputs": [
    {
     "data": {
      "text/plain": [
       "'0x10'"
      ]
     },
     "execution_count": 24,
     "metadata": {},
     "output_type": "execute_result"
    }
   ],
   "source": [
    "hex(16)"
   ]
  },
  {
   "cell_type": "code",
   "execution_count": 26,
   "id": "108e2d74-d1d8-4487-b85c-eb7514d12d3a",
   "metadata": {},
   "outputs": [
    {
     "data": {
      "text/plain": [
       "2"
      ]
     },
     "execution_count": 26,
     "metadata": {},
     "output_type": "execute_result"
    }
   ],
   "source": [
    "int(0b10)"
   ]
  },
  {
   "cell_type": "code",
   "execution_count": 28,
   "id": "471da057-827a-4d9e-9ec7-9c0ad0a9c42e",
   "metadata": {},
   "outputs": [
    {
     "data": {
      "text/plain": [
       "16"
      ]
     },
     "execution_count": 28,
     "metadata": {},
     "output_type": "execute_result"
    }
   ],
   "source": [
    "int(0x10)"
   ]
  },
  {
   "cell_type": "code",
   "execution_count": 30,
   "id": "b29b6a6f-3ac4-40ba-baba-6aa57400f2c1",
   "metadata": {},
   "outputs": [
    {
     "data": {
      "text/plain": [
       "'0x1'"
      ]
     },
     "execution_count": 30,
     "metadata": {},
     "output_type": "execute_result"
    }
   ],
   "source": [
    "hex(1)"
   ]
  },
  {
   "cell_type": "code",
   "execution_count": 32,
   "id": "0a550d12-4365-45ac-893b-f19e4714c5c9",
   "metadata": {},
   "outputs": [
    {
     "data": {
      "text/plain": [
       "'0x2'"
      ]
     },
     "execution_count": 32,
     "metadata": {},
     "output_type": "execute_result"
    }
   ],
   "source": [
    "hex(2)"
   ]
  },
  {
   "cell_type": "code",
   "execution_count": 34,
   "id": "7cd6bb51-100c-4d61-b8aa-521d5a7a3626",
   "metadata": {},
   "outputs": [
    {
     "data": {
      "text/plain": [
       "'0xc'"
      ]
     },
     "execution_count": 34,
     "metadata": {},
     "output_type": "execute_result"
    }
   ],
   "source": [
    "hex(12)"
   ]
  },
  {
   "cell_type": "code",
   "execution_count": 37,
   "id": "3d74dfa6-815f-4b9e-be98-ed76ab0e425e",
   "metadata": {},
   "outputs": [
    {
     "data": {
      "text/plain": [
       "'0xf'"
      ]
     },
     "execution_count": 37,
     "metadata": {},
     "output_type": "execute_result"
    }
   ],
   "source": [
    "hex(15)"
   ]
  },
  {
   "cell_type": "code",
   "execution_count": 39,
   "id": "be79d7b3-1a08-4c84-b010-a7177d266dc8",
   "metadata": {},
   "outputs": [
    {
     "data": {
      "text/plain": [
       "'0o2'"
      ]
     },
     "execution_count": 39,
     "metadata": {},
     "output_type": "execute_result"
    }
   ],
   "source": [
    "oct(2)"
   ]
  },
  {
   "cell_type": "markdown",
   "id": "643e5851-06ab-474c-9972-39f429b97bf2",
   "metadata": {},
   "source": [
    "SWAP TWO VARIABLE IN PYTHON"
   ]
  },
  {
   "cell_type": "code",
   "execution_count": 43,
   "id": "8b1a740d-511d-42ff-a5d4-ab847d624fbd",
   "metadata": {},
   "outputs": [],
   "source": [
    "a = 5\n",
    "b = 6"
   ]
  },
  {
   "cell_type": "code",
   "execution_count": 46,
   "id": "ad6ce321-7bd3-4add-af97-723c7af3213c",
   "metadata": {},
   "outputs": [],
   "source": [
    "a = b\n",
    "b = a"
   ]
  },
  {
   "cell_type": "code",
   "execution_count": 48,
   "id": "d35a44f7-4c1d-4e0d-9591-416cd17112b0",
   "metadata": {},
   "outputs": [
    {
     "name": "stdout",
     "output_type": "stream",
     "text": [
      "6\n",
      "6\n"
     ]
    }
   ],
   "source": [
    "print(a)\n",
    "print(b)"
   ]
  },
  {
   "cell_type": "code",
   "execution_count": 49,
   "id": "c4a909ad-6ce7-47e7-84d5-c2e097c395a0",
   "metadata": {},
   "outputs": [],
   "source": [
    "a1 = 7\n",
    "b1 = 8"
   ]
  },
  {
   "cell_type": "code",
   "execution_count": 50,
   "id": "a971bec4-2162-4e1f-b28e-25f4b83db278",
   "metadata": {},
   "outputs": [],
   "source": [
    "temp = a1\n",
    "a1 = b1\n",
    "b1 = temp"
   ]
  },
  {
   "cell_type": "code",
   "execution_count": 52,
   "id": "34185afb-9840-4f73-8234-dbab0d393aaf",
   "metadata": {},
   "outputs": [
    {
     "name": "stdout",
     "output_type": "stream",
     "text": [
      "8\n",
      "7\n"
     ]
    }
   ],
   "source": [
    "print(a1)\n",
    "print(b1)"
   ]
  },
  {
   "cell_type": "code",
   "execution_count": 53,
   "id": "c99c046e-dda4-4f86-a2e4-75729c20b41d",
   "metadata": {},
   "outputs": [],
   "source": [
    "a3 = 9\n",
    "b3 = 10"
   ]
  },
  {
   "cell_type": "code",
   "execution_count": 59,
   "id": "6feb093d-a893-4102-b9d5-f77b4590cbf0",
   "metadata": {},
   "outputs": [],
   "source": [
    "temp = a3\n",
    "a3 = b3\n",
    "b3 = temp\n"
   ]
  },
  {
   "cell_type": "code",
   "execution_count": 62,
   "id": "907490dc-cd7a-4761-87ca-6a4c5b921357",
   "metadata": {},
   "outputs": [
    {
     "name": "stdout",
     "output_type": "stream",
     "text": [
      "10\n",
      "10\n"
     ]
    }
   ],
   "source": [
    "print(a3)\n",
    "print(b3)"
   ]
  },
  {
   "cell_type": "code",
   "execution_count": 63,
   "id": "e3cad95b-8eec-46bb-970b-c9537081ebf4",
   "metadata": {},
   "outputs": [],
   "source": [
    "p = 2\n",
    "q = 3\n"
   ]
  },
  {
   "cell_type": "code",
   "execution_count": 64,
   "id": "07e1b840-9404-4604-922d-8ea6dae4bae5",
   "metadata": {},
   "outputs": [],
   "source": [
    "temp = p\n",
    "p=q\n",
    "q = temp"
   ]
  },
  {
   "cell_type": "code",
   "execution_count": 66,
   "id": "b0650de8-fc24-45cb-b3e0-c7ff869b22aa",
   "metadata": {},
   "outputs": [
    {
     "name": "stdout",
     "output_type": "stream",
     "text": [
      "3\n",
      "2\n"
     ]
    }
   ],
   "source": [
    "print(p)\n",
    "print(q)"
   ]
  },
  {
   "cell_type": "code",
   "execution_count": 67,
   "id": "7f1977b0-5265-4e5a-83c9-e1449110317f",
   "metadata": {},
   "outputs": [
    {
     "name": "stdout",
     "output_type": "stream",
     "text": [
      "6\n",
      "5\n"
     ]
    }
   ],
   "source": [
    "print(0b110)\n",
    "print(0b101)"
   ]
  },
  {
   "cell_type": "code",
   "execution_count": null,
   "id": "5d163d6b-89f8-4c03-848b-52ed09e032bf",
   "metadata": {},
   "outputs": [],
   "source": []
  }
 ],
 "metadata": {
  "kernelspec": {
   "display_name": "Python 3 (ipykernel)",
   "language": "python",
   "name": "python3"
  },
  "language_info": {
   "codemirror_mode": {
    "name": "ipython",
    "version": 3
   },
   "file_extension": ".py",
   "mimetype": "text/x-python",
   "name": "python",
   "nbconvert_exporter": "python",
   "pygments_lexer": "ipython3",
   "version": "3.13.5"
  }
 },
 "nbformat": 4,
 "nbformat_minor": 5
}
