{
 "cells": [
  {
   "cell_type": "code",
   "execution_count": 1,
   "id": "6afcaba7-d3b0-4ac5-a15c-f555117a07ff",
   "metadata": {},
   "outputs": [],
   "source": [
    "import numpy as np\n",
    "import pandas as pd\n",
    "import matplotlib.pyplot as plt\n",
    "import glob\n",
    "import re\n",
    "import math"
   ]
  },
  {
   "cell_type": "code",
   "execution_count": 2,
   "id": "acaf5735-2320-4b04-bb60-bae2f7db565e",
   "metadata": {},
   "outputs": [],
   "source": [
    "import warnings\n",
    "warnings.filterwarnings('ignore')"
   ]
  },
  {
   "cell_type": "code",
   "execution_count": 3,
   "id": "b27548b7-de11-403c-ad74-da59d56b6772",
   "metadata": {},
   "outputs": [
    {
     "data": {
      "text/plain": [
       "0    1\n",
       "1    2\n",
       "2    3\n",
       "3    4\n",
       "4    5\n",
       "5    6\n",
       "dtype: int64"
      ]
     },
     "execution_count": 3,
     "metadata": {},
     "output_type": "execute_result"
    }
   ],
   "source": [
    "# Creating serise from numpy array\n",
    "v = np.array([1,2,3,4,5,6])\n",
    "s1 = pd.Series(v)\n",
    "s1"
   ]
  },
  {
   "cell_type": "code",
   "execution_count": 4,
   "id": "35eaf304-f883-4f74-999f-3f98ed86481e",
   "metadata": {},
   "outputs": [
    {
     "data": {
      "text/plain": [
       "dtype('int64')"
      ]
     },
     "execution_count": 4,
     "metadata": {},
     "output_type": "execute_result"
    }
   ],
   "source": [
    "s1.dtype"
   ]
  },
  {
   "cell_type": "code",
   "execution_count": 5,
   "id": "a7e1c0d3-145a-4010-8318-04271c949274",
   "metadata": {},
   "outputs": [
    {
     "data": {
      "text/plain": [
       "<bound method IndexOpsMixin.item of 0    1\n",
       "1    2\n",
       "2    3\n",
       "3    4\n",
       "4    5\n",
       "5    6\n",
       "dtype: int64>"
      ]
     },
     "execution_count": 5,
     "metadata": {},
     "output_type": "execute_result"
    }
   ],
   "source": [
    "s1.item"
   ]
  },
  {
   "cell_type": "code",
   "execution_count": 6,
   "id": "aba73bc4-264a-4eba-8177-1a48aab36fec",
   "metadata": {},
   "outputs": [
    {
     "data": {
      "text/plain": [
       "48"
      ]
     },
     "execution_count": 6,
     "metadata": {},
     "output_type": "execute_result"
    }
   ],
   "source": [
    "s1.nbytes"
   ]
  },
  {
   "cell_type": "code",
   "execution_count": 7,
   "id": "fb790482-db50-46e8-8485-cb97fdf3050e",
   "metadata": {},
   "outputs": [
    {
     "data": {
      "text/plain": [
       "0    1\n",
       "1    2\n",
       "2    3\n",
       "3    4\n",
       "4    5\n",
       "5    6\n",
       "dtype: int64"
      ]
     },
     "execution_count": 7,
     "metadata": {},
     "output_type": "execute_result"
    }
   ],
   "source": [
    "s1"
   ]
  },
  {
   "cell_type": "code",
   "execution_count": 8,
   "id": "bdafdd43-2c80-447f-b734-303c39339c0a",
   "metadata": {},
   "outputs": [
    {
     "data": {
      "text/plain": [
       "(6,)"
      ]
     },
     "execution_count": 8,
     "metadata": {},
     "output_type": "execute_result"
    }
   ],
   "source": [
    "s1.shape # shape of serise"
   ]
  },
  {
   "cell_type": "code",
   "execution_count": 9,
   "id": "cb8b53fa-ad7b-45d4-919b-a93730a2e2a8",
   "metadata": {},
   "outputs": [
    {
     "data": {
      "text/plain": [
       "1"
      ]
     },
     "execution_count": 9,
     "metadata": {},
     "output_type": "execute_result"
    }
   ],
   "source": [
    "s1.ndim #give dimenson of the serise"
   ]
  },
  {
   "cell_type": "code",
   "execution_count": 10,
   "id": "10bcbf03-6339-4db0-87c0-2ee5eb47b36e",
   "metadata": {},
   "outputs": [
    {
     "data": {
      "text/plain": [
       "6"
      ]
     },
     "execution_count": 10,
     "metadata": {},
     "output_type": "execute_result"
    }
   ],
   "source": [
    "len(s1)"
   ]
  },
  {
   "cell_type": "code",
   "execution_count": 11,
   "id": "5328274d-69ba-4a8c-926b-d847858726c2",
   "metadata": {},
   "outputs": [
    {
     "name": "stdout",
     "output_type": "stream",
     "text": [
      "6\n"
     ]
    }
   ],
   "source": [
    "p = s1.count()\n",
    "print(p)"
   ]
  },
  {
   "cell_type": "code",
   "execution_count": 12,
   "id": "e0274dc4-fa9a-4942-b5cc-dbe2ba6e4500",
   "metadata": {},
   "outputs": [
    {
     "name": "stdout",
     "output_type": "stream",
     "text": [
      "6\n"
     ]
    }
   ],
   "source": [
    "p1 = s1.size\n",
    "print(p1)"
   ]
  },
  {
   "cell_type": "code",
   "execution_count": 13,
   "id": "8c297f91-f361-4900-9f54-65ec37d495f1",
   "metadata": {},
   "outputs": [
    {
     "data": {
      "text/plain": [
       "0    11\n",
       "1    22\n",
       "2    33\n",
       "3    44\n",
       "4    55\n",
       "5    66\n",
       "dtype: int64"
      ]
     },
     "execution_count": 13,
     "metadata": {},
     "output_type": "execute_result"
    }
   ],
   "source": [
    "v1 = np.array([11,22,33,44,55,66])\n",
    "s2 = pd.Series(v1)\n",
    "(s2)"
   ]
  },
  {
   "cell_type": "code",
   "execution_count": 14,
   "id": "8e8c5246-9997-4fe4-9f59-53545703ab44",
   "metadata": {},
   "outputs": [
    {
     "data": {
      "text/plain": [
       "dtype('int64')"
      ]
     },
     "execution_count": 14,
     "metadata": {},
     "output_type": "execute_result"
    }
   ],
   "source": [
    "s2.dtype"
   ]
  },
  {
   "cell_type": "code",
   "execution_count": 15,
   "id": "fa7df139-3285-4967-b34e-ab9a9bedfeca",
   "metadata": {},
   "outputs": [
    {
     "data": {
      "text/plain": [
       "dtype('int64')"
      ]
     },
     "execution_count": 15,
     "metadata": {},
     "output_type": "execute_result"
    }
   ],
   "source": [
    "s2.dtypes"
   ]
  },
  {
   "cell_type": "code",
   "execution_count": 16,
   "id": "5ab40287-cd9a-4e9f-831a-cfa971e4b1bf",
   "metadata": {},
   "outputs": [
    {
     "data": {
      "text/plain": [
       "1"
      ]
     },
     "execution_count": 16,
     "metadata": {},
     "output_type": "execute_result"
    }
   ],
   "source": [
    "s2.ndim"
   ]
  },
  {
   "cell_type": "code",
   "execution_count": 17,
   "id": "d66e613d-efa0-45f1-9bb8-d1d7dd3ada76",
   "metadata": {},
   "outputs": [
    {
     "data": {
      "text/plain": [
       "(6,)"
      ]
     },
     "execution_count": 17,
     "metadata": {},
     "output_type": "execute_result"
    }
   ],
   "source": [
    "s2.shape"
   ]
  },
  {
   "cell_type": "code",
   "execution_count": 18,
   "id": "487ce735-9a71-4856-85b9-fb634e3e7f44",
   "metadata": {},
   "outputs": [
    {
     "data": {
      "text/plain": [
       "6"
      ]
     },
     "execution_count": 18,
     "metadata": {},
     "output_type": "execute_result"
    }
   ],
   "source": [
    "s2.size"
   ]
  },
  {
   "cell_type": "code",
   "execution_count": 19,
   "id": "ddf77bd6-fb86-497a-8e37-0cd0d71a30ad",
   "metadata": {},
   "outputs": [
    {
     "data": {
      "text/plain": [
       "np.int64(6)"
      ]
     },
     "execution_count": 19,
     "metadata": {},
     "output_type": "execute_result"
    }
   ],
   "source": [
    "s2.count()"
   ]
  },
  {
   "cell_type": "code",
   "execution_count": 20,
   "id": "913766de-b8f3-4fb1-8090-f0f5c744aa98",
   "metadata": {},
   "outputs": [
    {
     "data": {
      "text/plain": [
       "a    1\n",
       "b    2\n",
       "c    3\n",
       "d    4\n",
       "dtype: int64"
      ]
     },
     "execution_count": 20,
     "metadata": {},
     "output_type": "execute_result"
    }
   ],
   "source": [
    "# creating serise from list\n",
    "s0 = pd.Series([1,2,3,4],index=['a','b','c','d'])\n",
    "s0"
   ]
  },
  {
   "cell_type": "code",
   "execution_count": 21,
   "id": "49421f29-0107-4060-8761-106d2d62c6d7",
   "metadata": {},
   "outputs": [
    {
     "data": {
      "text/plain": [
       "a    10\n",
       "b    20\n",
       "c    30\n",
       "d    40\n",
       "dtype: int64"
      ]
     },
     "execution_count": 21,
     "metadata": {},
     "output_type": "execute_result"
    }
   ],
   "source": [
    "p1 = np.array([10,20,30,40])\n",
    "a1 = pd.Series(p1,index= ['a','b','c','d'])\n",
    "a1"
   ]
  },
  {
   "cell_type": "code",
   "execution_count": 22,
   "id": "47e84fa1-20dc-4481-9f77-e005e2559354",
   "metadata": {},
   "outputs": [
    {
     "data": {
      "text/plain": [
       "a    1\n",
       "b    2\n",
       "c    3\n",
       "d    4\n",
       "dtype: int64"
      ]
     },
     "execution_count": 22,
     "metadata": {},
     "output_type": "execute_result"
    }
   ],
   "source": [
    "s0"
   ]
  },
  {
   "cell_type": "code",
   "execution_count": 23,
   "id": "fdbc9f71-ed9b-4b4b-978b-10cf21211d94",
   "metadata": {},
   "outputs": [
    {
     "data": {
      "text/plain": [
       "0    1\n",
       "1    2\n",
       "2    3\n",
       "3    4\n",
       "4    5\n",
       "5    6\n",
       "dtype: int64"
      ]
     },
     "execution_count": 23,
     "metadata": {},
     "output_type": "execute_result"
    }
   ],
   "source": [
    "s1"
   ]
  },
  {
   "cell_type": "code",
   "execution_count": 24,
   "id": "dc179600-4f98-4684-ac84-f5d3f57e8fc5",
   "metadata": {},
   "outputs": [
    {
     "data": {
      "text/plain": [
       "1st    1\n",
       "2nd    2\n",
       "3rd    3\n",
       "4th    4\n",
       "5th    5\n",
       "6th    6\n",
       "dtype: int64"
      ]
     },
     "execution_count": 24,
     "metadata": {},
     "output_type": "execute_result"
    }
   ],
   "source": [
    "# Modifying index in serise\n",
    "s1.index = ['1st','2nd','3rd','4th','5th','6th']\n",
    "s1"
   ]
  },
  {
   "cell_type": "code",
   "execution_count": 25,
   "id": "8de3d973-a39f-42d7-9468-55305296131c",
   "metadata": {},
   "outputs": [
    {
     "data": {
      "text/plain": [
       "0    11\n",
       "1    22\n",
       "2    33\n",
       "3    44\n",
       "4    55\n",
       "5    66\n",
       "dtype: int64"
      ]
     },
     "execution_count": 25,
     "metadata": {},
     "output_type": "execute_result"
    }
   ],
   "source": [
    "s2"
   ]
  },
  {
   "cell_type": "code",
   "execution_count": 26,
   "id": "f0f778aa-09bf-4459-9a8e-651306c67899",
   "metadata": {},
   "outputs": [
    {
     "data": {
      "text/plain": [
       "partha     11\n",
       "gudu       22\n",
       "prakash    33\n",
       "chitta     44\n",
       "ramesh     55\n",
       "rudr       66\n",
       "dtype: int64"
      ]
     },
     "execution_count": 26,
     "metadata": {},
     "output_type": "execute_result"
    }
   ],
   "source": [
    "s2.index = ['partha','gudu','prakash','chitta','ramesh','rudr']\n",
    "s2"
   ]
  },
  {
   "cell_type": "code",
   "execution_count": 27,
   "id": "05e40f41-2306-4ede-8f58-2f7b025893c2",
   "metadata": {},
   "outputs": [
    {
     "data": {
      "text/plain": [
       "array([0.74433293, 0.61977799, 0.7096556 , 0.58435916, 0.9611704 ,\n",
       "       0.48593765, 0.60749172, 0.77008379, 0.92651279, 0.78655443])"
      ]
     },
     "execution_count": 27,
     "metadata": {},
     "output_type": "execute_result"
    }
   ],
   "source": [
    "# creating Serise using randome and range fuction \n",
    "v2 = np.random.random(10)\n",
    "ind2 = np.arange(0,10)\n",
    "s = pd.Series(v2,ind2)\n",
    "v2"
   ]
  },
  {
   "cell_type": "code",
   "execution_count": 28,
   "id": "3830f7d5-c22b-436c-8bdc-1bfb0b3e10ce",
   "metadata": {},
   "outputs": [
    {
     "data": {
      "text/plain": [
       "array([0, 1, 2, 3, 4, 5, 6, 7, 8, 9])"
      ]
     },
     "execution_count": 28,
     "metadata": {},
     "output_type": "execute_result"
    }
   ],
   "source": [
    "# creating Serise using randome and range fuction \n",
    "v2 = np.random.random(10)\n",
    "ind2 = np.arange(0,10)\n",
    "s = pd.Series(v2,ind2)\n",
    "ind2"
   ]
  },
  {
   "cell_type": "code",
   "execution_count": 29,
   "id": "01457b12-ee89-4c9c-95c7-7384e9a39a8f",
   "metadata": {},
   "outputs": [
    {
     "data": {
      "text/plain": [
       "0    0.894821\n",
       "1    0.441283\n",
       "2    0.197766\n",
       "3    0.143007\n",
       "4    0.150858\n",
       "5    0.164684\n",
       "6    0.331593\n",
       "7    0.970741\n",
       "8    0.410253\n",
       "9    0.380552\n",
       "dtype: float64"
      ]
     },
     "execution_count": 29,
     "metadata": {},
     "output_type": "execute_result"
    }
   ],
   "source": [
    "# creating Serise using randome and range fuction \n",
    "v2 = np.random.random(10)\n",
    "ind2 = np.arange(0,10)\n",
    "s = pd.Series(v2,ind2)\n",
    "s"
   ]
  },
  {
   "cell_type": "code",
   "execution_count": 30,
   "id": "37f8d689-8238-4984-885d-2858ee8a110e",
   "metadata": {},
   "outputs": [
    {
     "name": "stdout",
     "output_type": "stream",
     "text": [
      "[0.48660563 0.9480763  0.3628231  0.51811204 0.54148048 0.04455489\n",
      " 0.06476164 0.37377981 0.66969106 0.7815424 ]\n",
      "[0 1 2 3 4 5 6 7 8 9]\n",
      "0    0.486606\n",
      "1    0.948076\n",
      "2    0.362823\n",
      "3    0.518112\n",
      "4    0.541480\n",
      "5    0.044555\n",
      "6    0.064762\n",
      "7    0.373780\n",
      "8    0.669691\n",
      "9    0.781542\n",
      "dtype: float64\n"
     ]
    }
   ],
   "source": [
    "# creating Serise using randome and range fuction \n",
    "v2 = np.random.random(10)\n",
    "ind2 = np.arange(0,10)\n",
    "s = pd.Series(v2,ind2)\n",
    "print(v2)\n",
    "print(ind2)\n",
    "print(s)"
   ]
  },
  {
   "cell_type": "code",
   "execution_count": 31,
   "id": "d2d04e8b-18a0-4de3-b92e-3dabcd64e862",
   "metadata": {},
   "outputs": [
    {
     "data": {
      "text/plain": [
       "array([0.50755434, 0.77440022, 0.86666488, 0.90169874, 0.86051871,\n",
       "       0.01471151, 0.57016071, 0.12905374, 0.6673408 , 0.83422704])"
      ]
     },
     "execution_count": 31,
     "metadata": {},
     "output_type": "execute_result"
    }
   ],
   "source": [
    "# creating Serise using randome and range fuction \n",
    "v2 = np.random.rand(10)\n",
    "ind2 = np.arange(0,10)\n",
    "s = pd.Series(v2,ind2)\n",
    "v2"
   ]
  },
  {
   "cell_type": "code",
   "execution_count": 32,
   "id": "4c690b5e-3a31-457c-9931-b92ce2459b09",
   "metadata": {},
   "outputs": [
    {
     "data": {
      "text/plain": [
       "20"
      ]
     },
     "execution_count": 32,
     "metadata": {},
     "output_type": "execute_result"
    }
   ],
   "source": [
    "# creating Serise using randome and range fuction \n",
    "v2 = np.random.randint(10,60)\n",
    "ind2 = np.arange(0,10)\n",
    "s = pd.Series(v2,ind2)\n",
    "v2"
   ]
  },
  {
   "cell_type": "code",
   "execution_count": 33,
   "id": "261ccd6f-8097-4696-b42d-1060e4a1140c",
   "metadata": {},
   "outputs": [
    {
     "data": {
      "text/plain": [
       "array([0.23278768, 0.95925337, 0.59520227, 0.180134  , 0.26499201,\n",
       "       0.39333728, 0.30720863, 0.65564247, 0.44852959, 0.83306243])"
      ]
     },
     "execution_count": 33,
     "metadata": {},
     "output_type": "execute_result"
    }
   ],
   "source": [
    "# creating Serise using randome and range fuction \n",
    "v2 = np.random.rand(10)\n",
    "ind2 = np.arange(0,10)\n",
    "s = pd.Series(v2,ind2)\n",
    "v2"
   ]
  },
  {
   "cell_type": "code",
   "execution_count": 34,
   "id": "0a353e66-0ea9-4e16-9768-c48a70d20d05",
   "metadata": {},
   "outputs": [
    {
     "data": {
      "text/plain": [
       "array([0, 1, 2, 3, 4])"
      ]
     },
     "execution_count": 34,
     "metadata": {},
     "output_type": "execute_result"
    }
   ],
   "source": [
    "\n",
    "aa = np.arange(0,5)\n",
    "aa"
   ]
  },
  {
   "cell_type": "code",
   "execution_count": 35,
   "id": "967ffff7-15ce-46a2-8a53-d2de2061e78c",
   "metadata": {},
   "outputs": [
    {
     "name": "stdout",
     "output_type": "stream",
     "text": [
      "6\n",
      "[0 1 2 3 4 5 6 7 8 9]\n",
      "0    6\n",
      "1    6\n",
      "2    6\n",
      "3    6\n",
      "4    6\n",
      "5    6\n",
      "6    6\n",
      "7    6\n",
      "8    6\n",
      "9    6\n",
      "dtype: int32\n"
     ]
    }
   ],
   "source": [
    "# creating Serise using randome and range fuction \n",
    "v2 = np.random.random_integers(10)\n",
    "ind2 = np.arange(0,10)\n",
    "s = pd.Series(v2,ind2)\n",
    "print(v2)\n",
    "print(ind2)\n",
    "print(s)"
   ]
  },
  {
   "cell_type": "code",
   "execution_count": 36,
   "id": "f5172174-dc28-4abe-b4e8-3a5aac35d143",
   "metadata": {},
   "outputs": [
    {
     "data": {
      "text/plain": [
       "a1    10\n",
       "a2    20\n",
       "a3    30\n",
       "a4    40\n",
       "dtype: int64"
      ]
     },
     "execution_count": 36,
     "metadata": {},
     "output_type": "execute_result"
    }
   ],
   "source": [
    "# creating Serise from dictionary\n",
    "dict1 = {'a1':10, 'a2':20, 'a3':30, 'a4':40}\n",
    "s3 = pd.Series(dict1)\n",
    "s3"
   ]
  },
  {
   "cell_type": "code",
   "execution_count": 37,
   "id": "ee86c873-c075-4bbe-a603-224178fc2dd9",
   "metadata": {},
   "outputs": [
    {
     "ename": "TypeError",
     "evalue": "'set' type is unordered",
     "output_type": "error",
     "traceback": [
      "\u001b[1;31m----------------------------------------------------------------\u001b[0m",
      "\u001b[1;31mTypeError\u001b[0m                      Traceback (most recent call last)",
      "Cell \u001b[1;32mIn[37], line 2\u001b[0m\n\u001b[0;32m      1\u001b[0m set1 \u001b[38;5;241m=\u001b[39m {\u001b[38;5;241m12\u001b[39m,\u001b[38;5;241m13\u001b[39m,\u001b[38;5;241m14\u001b[39m,\u001b[38;5;241m17\u001b[39m,\u001b[38;5;241m47\u001b[39m}\n\u001b[1;32m----> 2\u001b[0m s4 \u001b[38;5;241m=\u001b[39m pd\u001b[38;5;241m.\u001b[39mSeries(set1) \u001b[38;5;66;03m# set is onordered so set is not used in pandas\u001b[39;00m\n\u001b[0;32m      3\u001b[0m s4\n",
      "File \u001b[1;32m~\\AppData\\Roaming\\Python\\Python313\\site-packages\\pandas\\core\\series.py:584\u001b[0m, in \u001b[0;36mSeries.__init__\u001b[1;34m(self, data, index, dtype, name, copy, fastpath)\u001b[0m\n\u001b[0;32m    582\u001b[0m         data \u001b[38;5;241m=\u001b[39m data\u001b[38;5;241m.\u001b[39mcopy()\n\u001b[0;32m    583\u001b[0m \u001b[38;5;28;01melse\u001b[39;00m:\n\u001b[1;32m--> 584\u001b[0m     data \u001b[38;5;241m=\u001b[39m sanitize_array(data, index, dtype, copy)\n\u001b[0;32m    586\u001b[0m     manager \u001b[38;5;241m=\u001b[39m _get_option(\u001b[38;5;124m\"\u001b[39m\u001b[38;5;124mmode.data_manager\u001b[39m\u001b[38;5;124m\"\u001b[39m, silent\u001b[38;5;241m=\u001b[39m\u001b[38;5;28;01mTrue\u001b[39;00m)\n\u001b[0;32m    587\u001b[0m     \u001b[38;5;28;01mif\u001b[39;00m manager \u001b[38;5;241m==\u001b[39m \u001b[38;5;124m\"\u001b[39m\u001b[38;5;124mblock\u001b[39m\u001b[38;5;124m\"\u001b[39m:\n",
      "File \u001b[1;32m~\\AppData\\Roaming\\Python\\Python313\\site-packages\\pandas\\core\\construction.py:639\u001b[0m, in \u001b[0;36msanitize_array\u001b[1;34m(data, index, dtype, copy, allow_2d)\u001b[0m\n\u001b[0;32m    630\u001b[0m     \u001b[38;5;28;01mreturn\u001b[39;00m sanitize_array(\n\u001b[0;32m    631\u001b[0m         data,\n\u001b[0;32m    632\u001b[0m         index\u001b[38;5;241m=\u001b[39mindex,\n\u001b[1;32m   (...)\u001b[0m\n\u001b[0;32m    635\u001b[0m         allow_2d\u001b[38;5;241m=\u001b[39mallow_2d,\n\u001b[0;32m    636\u001b[0m     )\n\u001b[0;32m    638\u001b[0m \u001b[38;5;28;01melse\u001b[39;00m:\n\u001b[1;32m--> 639\u001b[0m     _sanitize_non_ordered(data)\n\u001b[0;32m    640\u001b[0m     \u001b[38;5;66;03m# materialize e.g. generators, convert e.g. tuples, abc.ValueView\u001b[39;00m\n\u001b[0;32m    641\u001b[0m     data \u001b[38;5;241m=\u001b[39m \u001b[38;5;28mlist\u001b[39m(data)\n",
      "File \u001b[1;32m~\\AppData\\Roaming\\Python\\Python313\\site-packages\\pandas\\core\\construction.py:690\u001b[0m, in \u001b[0;36m_sanitize_non_ordered\u001b[1;34m(data)\u001b[0m\n\u001b[0;32m    686\u001b[0m \u001b[38;5;250m\u001b[39m\u001b[38;5;124;03m\"\"\"\u001b[39;00m\n\u001b[0;32m    687\u001b[0m \u001b[38;5;124;03mRaise only for unordered sets, e.g., not for dict_keys\u001b[39;00m\n\u001b[0;32m    688\u001b[0m \u001b[38;5;124;03m\"\"\"\u001b[39;00m\n\u001b[0;32m    689\u001b[0m \u001b[38;5;28;01mif\u001b[39;00m \u001b[38;5;28misinstance\u001b[39m(data, (\u001b[38;5;28mset\u001b[39m, \u001b[38;5;28mfrozenset\u001b[39m)):\n\u001b[1;32m--> 690\u001b[0m     \u001b[38;5;28;01mraise\u001b[39;00m \u001b[38;5;167;01mTypeError\u001b[39;00m(\u001b[38;5;124mf\u001b[39m\u001b[38;5;124m\"\u001b[39m\u001b[38;5;124m'\u001b[39m\u001b[38;5;132;01m{\u001b[39;00m\u001b[38;5;28mtype\u001b[39m(data)\u001b[38;5;241m.\u001b[39m\u001b[38;5;18m__name__\u001b[39m\u001b[38;5;132;01m}\u001b[39;00m\u001b[38;5;124m'\u001b[39m\u001b[38;5;124m type is unordered\u001b[39m\u001b[38;5;124m\"\u001b[39m)\n",
      "\u001b[1;31mTypeError\u001b[0m: 'set' type is unordered"
     ]
    }
   ],
   "source": [
    "set1 = {12,13,14,17,47}\n",
    "s4 = pd.Series(set1) # set is onordered so set is not used in pandas\n",
    "s4"
   ]
  },
  {
   "cell_type": "code",
   "execution_count": 38,
   "id": "575375e8-e36b-4db4-b968-128e6d9cfb17",
   "metadata": {},
   "outputs": [
    {
     "data": {
      "text/plain": [
       "0      potato\n",
       "1      tomato\n",
       "2    cocomber\n",
       "3      carret\n",
       "dtype: object"
      ]
     },
     "execution_count": 38,
     "metadata": {},
     "output_type": "execute_result"
    }
   ],
   "source": [
    "vegetable = 'potato','tomato','cocomber','carret'\n",
    "r = pd.Series(vegetable)\n",
    "r"
   ]
  },
  {
   "cell_type": "code",
   "execution_count": 39,
   "id": "62a14819-8f4b-456f-87cb-f2f660af86c6",
   "metadata": {},
   "outputs": [
    {
     "data": {
      "text/plain": [
       "a1    10\n",
       "a2    20\n",
       "a3    30\n",
       "a4    40\n",
       "dtype: int64"
      ]
     },
     "execution_count": 39,
     "metadata": {},
     "output_type": "execute_result"
    }
   ],
   "source": [
    "# creating Serise from dictionary\n",
    "dict1 = {'a1':10, 'a2':20, 'a3':30, 'a4':40}\n",
    "s3 = pd.Series(dict1)\n",
    "s3"
   ]
  },
  {
   "cell_type": "code",
   "execution_count": 40,
   "id": "fa96b5f3-359e-4d02-a3f7-63e8595f9478",
   "metadata": {},
   "outputs": [
    {
     "name": "stdout",
     "output_type": "stream",
     "text": [
      "0    66\n",
      "dtype: int64\n"
     ]
    }
   ],
   "source": [
    "r = pd.Series(66)\n",
    "print(r)"
   ]
  },
  {
   "cell_type": "code",
   "execution_count": 41,
   "id": "bf4e251e-f84e-402f-aa8a-81489f64d54a",
   "metadata": {},
   "outputs": [
    {
     "data": {
      "text/plain": [
       "1    33\n",
       "2    33\n",
       "3    33\n",
       "4    33\n",
       "5    33\n",
       "6    33\n",
       "dtype: int64"
      ]
     },
     "execution_count": 41,
     "metadata": {},
     "output_type": "execute_result"
    }
   ],
   "source": [
    "pd.Series(33,index=[1,2,3,4,5,6])"
   ]
  },
  {
   "cell_type": "code",
   "execution_count": 42,
   "id": "cb0e3270-32b8-490f-80c1-46c41d825862",
   "metadata": {},
   "outputs": [
    {
     "data": {
      "text/plain": [
       "0    6\n",
       "1    6\n",
       "2    6\n",
       "3    6\n",
       "4    6\n",
       "5    6\n",
       "6    6\n",
       "7    6\n",
       "8    6\n",
       "9    6\n",
       "dtype: int32"
      ]
     },
     "execution_count": 42,
     "metadata": {},
     "output_type": "execute_result"
    }
   ],
   "source": [
    "s"
   ]
  },
  {
   "cell_type": "code",
   "execution_count": 43,
   "id": "26412e9b-021c-4094-aa42-4c3d6cf16ec3",
   "metadata": {},
   "outputs": [
    {
     "name": "stdout",
     "output_type": "stream",
     "text": [
      "[0.88587086 0.30073216 0.66166685 0.32618496 0.8208876  0.39281166\n",
      " 0.38177938 0.5362901  0.00926864 0.57032694]\n",
      "[0 1 2 3 4 5 6 7 8 9]\n",
      "0    0.885871\n",
      "1    0.300732\n",
      "2    0.661667\n",
      "3    0.326185\n",
      "4    0.820888\n",
      "5    0.392812\n",
      "6    0.381779\n",
      "7    0.536290\n",
      "8    0.009269\n",
      "9    0.570327\n",
      "dtype: float64\n"
     ]
    }
   ],
   "source": [
    "# creating Serise using randome and range fuction \n",
    "v2 = np.random.random(10)\n",
    "ind2 = np.arange(0,10)\n",
    "a = pd.Series(v2,ind2)\n",
    "print(v2)\n",
    "print(ind2)\n",
    "print(a)"
   ]
  },
  {
   "cell_type": "code",
   "execution_count": 44,
   "id": "1409f046-eef2-4f4a-a015-ce11c133b155",
   "metadata": {},
   "outputs": [
    {
     "data": {
      "text/plain": [
       "0    0.885871\n",
       "1    0.300732\n",
       "2    0.661667\n",
       "3    0.326185\n",
       "4    0.820888\n",
       "5    0.392812\n",
       "6    0.381779\n",
       "7    0.536290\n",
       "8    0.009269\n",
       "9    0.570327\n",
       "dtype: float64"
      ]
     },
     "execution_count": 44,
     "metadata": {},
     "output_type": "execute_result"
    }
   ],
   "source": [
    "a"
   ]
  },
  {
   "cell_type": "code",
   "execution_count": 45,
   "id": "af05d4f8-ebf9-4b71-ba27-e44d71ce118a",
   "metadata": {},
   "outputs": [
    {
     "data": {
      "text/plain": [
       "0    0.885871\n",
       "1    0.300732\n",
       "2    0.661667\n",
       "3    0.326185\n",
       "4    0.820888\n",
       "5    0.392812\n",
       "6    0.381779\n",
       "7    0.536290\n",
       "8    0.009269\n",
       "9    0.570327\n",
       "dtype: float64"
      ]
     },
     "execution_count": 45,
     "metadata": {},
     "output_type": "execute_result"
    }
   ],
   "source": [
    "a[:]"
   ]
  },
  {
   "cell_type": "code",
   "execution_count": 46,
   "id": "18f216cd-5d30-4df9-9a94-91b0211dea84",
   "metadata": {},
   "outputs": [
    {
     "data": {
      "text/plain": [
       "0    0.885871\n",
       "1    0.300732\n",
       "2    0.661667\n",
       "dtype: float64"
      ]
     },
     "execution_count": 46,
     "metadata": {},
     "output_type": "execute_result"
    }
   ],
   "source": [
    "a[:3] # it give first three element"
   ]
  },
  {
   "cell_type": "code",
   "execution_count": 47,
   "id": "c7b283a4-639d-4cd5-a678-8f66696471f2",
   "metadata": {},
   "outputs": [
    {
     "data": {
      "text/plain": [
       "3    0.326185\n",
       "4    0.820888\n",
       "5    0.392812\n",
       "6    0.381779\n",
       "7    0.536290\n",
       "8    0.009269\n",
       "9    0.570327\n",
       "dtype: float64"
      ]
     },
     "execution_count": 47,
     "metadata": {},
     "output_type": "execute_result"
    }
   ],
   "source": [
    "a[3:] # it give the 3rd index element to the last element"
   ]
  },
  {
   "cell_type": "code",
   "execution_count": 48,
   "id": "aaf971f2-d6ad-4ba3-b83a-f6d8be56d8e8",
   "metadata": {},
   "outputs": [
    {
     "data": {
      "text/plain": [
       "0    0.885871\n",
       "1    0.300732\n",
       "2    0.661667\n",
       "3    0.326185\n",
       "4    0.820888\n",
       "5    0.392812\n",
       "6    0.381779\n",
       "7    0.536290\n",
       "8    0.009269\n",
       "dtype: float64"
      ]
     },
     "execution_count": 48,
     "metadata": {},
     "output_type": "execute_result"
    }
   ],
   "source": [
    "a[:-1]"
   ]
  },
  {
   "cell_type": "code",
   "execution_count": 49,
   "id": "2cfe6b5e-6054-4b79-baed-03833647a494",
   "metadata": {},
   "outputs": [
    {
     "data": {
      "text/plain": [
       "np.float64(0.8858708613470033)"
      ]
     },
     "execution_count": 49,
     "metadata": {},
     "output_type": "execute_result"
    }
   ],
   "source": [
    "a[0]"
   ]
  },
  {
   "cell_type": "code",
   "execution_count": 50,
   "id": "6793be7f-400d-4be5-8b69-d393075cd7d6",
   "metadata": {},
   "outputs": [
    {
     "data": {
      "text/plain": [
       "np.float64(0.00926863885237006)"
      ]
     },
     "execution_count": 50,
     "metadata": {},
     "output_type": "execute_result"
    }
   ],
   "source": [
    "a[8]"
   ]
  },
  {
   "cell_type": "code",
   "execution_count": 51,
   "id": "81efcf93-21d7-4065-86bd-25238697edae",
   "metadata": {},
   "outputs": [
    {
     "data": {
      "text/plain": [
       "0    0.885871\n",
       "1    0.300732\n",
       "2    0.661667\n",
       "3    0.326185\n",
       "4    0.820888\n",
       "5    0.392812\n",
       "6    0.381779\n",
       "7    0.536290\n",
       "dtype: float64"
      ]
     },
     "execution_count": 51,
     "metadata": {},
     "output_type": "execute_result"
    }
   ],
   "source": [
    "a[:-2]"
   ]
  },
  {
   "cell_type": "code",
   "execution_count": 52,
   "id": "ae448f25-4b20-4281-b2fa-5ed01cf9f209",
   "metadata": {},
   "outputs": [
    {
     "data": {
      "text/plain": [
       "0    0.885871\n",
       "1    0.300732\n",
       "2    0.661667\n",
       "3    0.326185\n",
       "4    0.820888\n",
       "5    0.392812\n",
       "6    0.381779\n",
       "7    0.536290\n",
       "8    0.009269\n",
       "9    0.570327\n",
       "dtype: float64"
      ]
     },
     "execution_count": 52,
     "metadata": {},
     "output_type": "execute_result"
    }
   ],
   "source": [
    "a"
   ]
  },
  {
   "cell_type": "code",
   "execution_count": 53,
   "id": "d93d698b-a2ab-479d-be7e-32ffd9663f2b",
   "metadata": {},
   "outputs": [
    {
     "data": {
      "text/plain": [
       "8    0.009269\n",
       "9    0.570327\n",
       "dtype: float64"
      ]
     },
     "execution_count": 53,
     "metadata": {},
     "output_type": "execute_result"
    }
   ],
   "source": [
    "a[-2:]"
   ]
  },
  {
   "cell_type": "code",
   "execution_count": 54,
   "id": "bd1bd709-3d53-4e54-8130-40babcdc964e",
   "metadata": {},
   "outputs": [
    {
     "data": {
      "text/plain": [
       "7    0.536290\n",
       "8    0.009269\n",
       "dtype: float64"
      ]
     },
     "execution_count": 54,
     "metadata": {},
     "output_type": "execute_result"
    }
   ],
   "source": [
    "a[-3:-1]"
   ]
  },
  {
   "cell_type": "code",
   "execution_count": 55,
   "id": "5488593f-adc9-4a89-9bbd-e4a38a4fad50",
   "metadata": {},
   "outputs": [
    {
     "data": {
      "text/plain": [
       "5    0.392812\n",
       "6    0.381779\n",
       "7    0.536290\n",
       "8    0.009269\n",
       "dtype: float64"
      ]
     },
     "execution_count": 55,
     "metadata": {},
     "output_type": "execute_result"
    }
   ],
   "source": [
    "a[-5:-1]"
   ]
  },
  {
   "cell_type": "markdown",
   "id": "9079956a-ae7b-43a2-a19a-3f2207d31010",
   "metadata": {},
   "source": [
    "Append Serise"
   ]
  },
  {
   "cell_type": "code",
   "execution_count": 56,
   "id": "739bb225-a70e-4300-a904-6edb884651dd",
   "metadata": {},
   "outputs": [
    {
     "data": {
      "text/plain": [
       "partha     11\n",
       "gudu       22\n",
       "prakash    33\n",
       "chitta     44\n",
       "ramesh     55\n",
       "rudr       66\n",
       "dtype: int64"
      ]
     },
     "execution_count": 56,
     "metadata": {},
     "output_type": "execute_result"
    }
   ],
   "source": [
    "s2"
   ]
  },
  {
   "cell_type": "code",
   "execution_count": 57,
   "id": "2dc8f880-0fb7-42e1-b1e1-f251233499f6",
   "metadata": {},
   "outputs": [
    {
     "data": {
      "text/plain": [
       "1st    1\n",
       "2nd    2\n",
       "3rd    3\n",
       "4th    4\n",
       "5th    5\n",
       "6th    6\n",
       "dtype: int64"
      ]
     },
     "execution_count": 57,
     "metadata": {},
     "output_type": "execute_result"
    }
   ],
   "source": [
    "s1"
   ]
  },
  {
   "cell_type": "code",
   "execution_count": 58,
   "id": "a8e79892-83d8-41d2-ad36-2f1687b1c79b",
   "metadata": {},
   "outputs": [],
   "source": [
    "x = s1.copy()\n"
   ]
  },
  {
   "cell_type": "code",
   "execution_count": 59,
   "id": "519c3cd8-e739-4360-aefa-79396984b390",
   "metadata": {},
   "outputs": [
    {
     "data": {
      "text/plain": [
       "1st    1\n",
       "2nd    2\n",
       "3rd    3\n",
       "4th    4\n",
       "5th    5\n",
       "6th    6\n",
       "dtype: int64"
      ]
     },
     "execution_count": 59,
     "metadata": {},
     "output_type": "execute_result"
    }
   ],
   "source": [
    "x"
   ]
  },
  {
   "cell_type": "code",
   "execution_count": 60,
   "id": "6c3580d4-865f-4bfa-ad06-83751166cbe4",
   "metadata": {},
   "outputs": [
    {
     "data": {
      "text/plain": [
       "1st    1\n",
       "2nd    2\n",
       "3rd    3\n",
       "4th    4\n",
       "5th    5\n",
       "6th    6\n",
       "dtype: int64"
      ]
     },
     "execution_count": 60,
     "metadata": {},
     "output_type": "execute_result"
    }
   ],
   "source": [
    "s1"
   ]
  },
  {
   "cell_type": "code",
   "execution_count": 61,
   "id": "44ae5bc3-1a0f-45fc-8048-ca25d27a0de9",
   "metadata": {},
   "outputs": [
    {
     "name": "stdout",
     "output_type": "stream",
     "text": [
      "2871199340624\n",
      "2873294615088\n"
     ]
    }
   ],
   "source": [
    "print(id(x))\n",
    "print(id(s1))"
   ]
  },
  {
   "cell_type": "code",
   "execution_count": 62,
   "id": "ee9699d4-aed0-43ef-93e5-942febcc875a",
   "metadata": {},
   "outputs": [
    {
     "name": "stdout",
     "output_type": "stream",
     "text": [
      "2873294615088\n",
      "2873294615088\n"
     ]
    }
   ],
   "source": [
    "x = s1\n",
    "print(id(x))\n",
    "print(id(s1))"
   ]
  },
  {
   "cell_type": "code",
   "execution_count": 63,
   "id": "e21d9a31-2cf3-4d23-bb39-d92d54669423",
   "metadata": {},
   "outputs": [
    {
     "data": {
      "text/plain": [
       "partha     11\n",
       "gudu       22\n",
       "prakash    33\n",
       "chitta     44\n",
       "ramesh     55\n",
       "rudr       66\n",
       "dtype: int64"
      ]
     },
     "execution_count": 63,
     "metadata": {},
     "output_type": "execute_result"
    }
   ],
   "source": [
    "s2"
   ]
  },
  {
   "cell_type": "code",
   "execution_count": 64,
   "id": "5c0153b1-cda0-43ee-88b2-267441c182d5",
   "metadata": {},
   "outputs": [
    {
     "data": {
      "text/plain": [
       "0    10\n",
       "1    20\n",
       "2    30\n",
       "3    40\n",
       "4    50\n",
       "dtype: int64"
      ]
     },
     "execution_count": 64,
     "metadata": {},
     "output_type": "execute_result"
    }
   ],
   "source": [
    "v11 = np.array([10,20,30,40,50])\n",
    "s11 = pd.Series(v11)\n",
    "s11"
   ]
  },
  {
   "cell_type": "code",
   "execution_count": 65,
   "id": "2038893e-4091-41fc-b29f-ae657bb1097a",
   "metadata": {},
   "outputs": [
    {
     "name": "stdout",
     "output_type": "stream",
     "text": [
      "partha     11\\ngudu       22\\nprakash    33\\nchitta     44\\nramesh     55\\nrudr       66\\ndtype: int640    10\n",
      "partha     11\\ngudu       22\\nprakash    33\\nchitta     44\\nramesh     55\\nrudr       66\\ndtype: int641    20\n",
      "partha     11\\ngudu       22\\nprakash    33\\nchitta     44\\nramesh     55\\nrudr       66\\ndtype: int642    30\n",
      "partha     11\\ngudu       22\\nprakash    33\\nchitta     44\\nramesh     55\\nrudr       66\\ndtype: int643    40\n",
      "partha     11\\ngudu       22\\nprakash    33\\nchitta     44\\nramesh     55\\nrudr       66\\ndtype: int644    50\n",
      "dtype: int64\n"
     ]
    }
   ],
   "source": [
    "s12 = s11.add_prefix(s2)\n",
    "print(s12)"
   ]
  },
  {
   "cell_type": "code",
   "execution_count": 66,
   "id": "72e34fbc-2938-4e69-90cd-5b95f7512ba8",
   "metadata": {},
   "outputs": [
    {
     "data": {
      "text/plain": [
       "partha     11\n",
       "gudu       22\n",
       "prakash    33\n",
       "chitta     44\n",
       "ramesh     55\n",
       "rudr       66\n",
       "dtype: int64"
      ]
     },
     "execution_count": 66,
     "metadata": {},
     "output_type": "execute_result"
    }
   ],
   "source": [
    "s2"
   ]
  },
  {
   "cell_type": "code",
   "execution_count": 67,
   "id": "fe53b56b-0486-4454-9acd-9a94d96c913b",
   "metadata": {},
   "outputs": [
    {
     "data": {
      "text/plain": [
       "1st    1\n",
       "2nd    2\n",
       "3rd    3\n",
       "4th    4\n",
       "5th    5\n",
       "6th    6\n",
       "dtype: int64"
      ]
     },
     "execution_count": 67,
     "metadata": {},
     "output_type": "execute_result"
    }
   ],
   "source": [
    "s1"
   ]
  },
  {
   "cell_type": "code",
   "execution_count": 68,
   "id": "4930fa55-8485-4dfb-8cb7-36544743852b",
   "metadata": {},
   "outputs": [
    {
     "name": "stdout",
     "output_type": "stream",
     "text": [
      "1st    1\\n2nd    2\\n3rd    3\\n4th    4\\n5th    5\\n6th    6\\ndtype: int640    10\n",
      "1st    1\\n2nd    2\\n3rd    3\\n4th    4\\n5th    5\\n6th    6\\ndtype: int641    20\n",
      "1st    1\\n2nd    2\\n3rd    3\\n4th    4\\n5th    5\\n6th    6\\ndtype: int642    30\n",
      "1st    1\\n2nd    2\\n3rd    3\\n4th    4\\n5th    5\\n6th    6\\ndtype: int643    40\n",
      "1st    1\\n2nd    2\\n3rd    3\\n4th    4\\n5th    5\\n6th    6\\ndtype: int644    50\n",
      "dtype: int64\n"
     ]
    }
   ],
   "source": [
    "s12 = s11.add_prefix(s1)\n",
    "print(s12)"
   ]
  },
  {
   "cell_type": "code",
   "execution_count": 69,
   "id": "965369d8-144e-49ae-bec8-38cbfc655bc4",
   "metadata": {},
   "outputs": [
    {
     "data": {
      "text/plain": [
       "0    10\n",
       "1    20\n",
       "2    30\n",
       "3    40\n",
       "4    50\n",
       "dtype: int64"
      ]
     },
     "execution_count": 69,
     "metadata": {},
     "output_type": "execute_result"
    }
   ],
   "source": [
    "s11"
   ]
  },
  {
   "cell_type": "code",
   "execution_count": 70,
   "id": "3722ac13-9397-4ef9-980d-207dc108ab9a",
   "metadata": {},
   "outputs": [
    {
     "data": {
      "text/plain": [
       "0    10\n",
       "1    20\n",
       "2    30\n",
       "4    50\n",
       "dtype: int64"
      ]
     },
     "execution_count": 70,
     "metadata": {},
     "output_type": "execute_result"
    }
   ],
   "source": [
    "s11.drop(3,inplace=False)"
   ]
  },
  {
   "cell_type": "code",
   "execution_count": 71,
   "id": "e269856f-f6ae-4c5f-857a-bb3dfcc2e99d",
   "metadata": {},
   "outputs": [
    {
     "data": {
      "text/plain": [
       "0    10\n",
       "1    20\n",
       "2    30\n",
       "3    40\n",
       "4    50\n",
       "dtype: int64"
      ]
     },
     "execution_count": 71,
     "metadata": {},
     "output_type": "execute_result"
    }
   ],
   "source": [
    "s11"
   ]
  },
  {
   "cell_type": "code",
   "execution_count": 72,
   "id": "568cfe6e-820d-4856-8218-aafc6e2a2ccd",
   "metadata": {},
   "outputs": [
    {
     "data": {
      "text/plain": [
       "a1    10\n",
       "a2    20\n",
       "a3    30\n",
       "a4    40\n",
       "dtype: int64"
      ]
     },
     "execution_count": 72,
     "metadata": {},
     "output_type": "execute_result"
    }
   ],
   "source": [
    "s3"
   ]
  },
  {
   "cell_type": "code",
   "execution_count": 73,
   "id": "dcb5bd7b-5da1-4c00-ae54-c6ad785e43f4",
   "metadata": {},
   "outputs": [
    {
     "data": {
      "text/plain": [
       "count     4.000000\n",
       "mean     25.000000\n",
       "std      12.909944\n",
       "min      10.000000\n",
       "25%      17.500000\n",
       "50%      25.000000\n",
       "75%      32.500000\n",
       "max      40.000000\n",
       "dtype: float64"
      ]
     },
     "execution_count": 73,
     "metadata": {},
     "output_type": "execute_result"
    }
   ],
   "source": [
    "s3.describe()"
   ]
  },
  {
   "cell_type": "code",
   "execution_count": 74,
   "id": "caecb6b5-b695-4b28-bc5c-9ebc92bb0ab4",
   "metadata": {},
   "outputs": [
    {
     "data": {
      "text/plain": [
       "a2    20\n",
       "a3    30\n",
       "a4    40\n",
       "dtype: int64"
      ]
     },
     "execution_count": 74,
     "metadata": {},
     "output_type": "execute_result"
    }
   ],
   "source": [
    "s3.drop('a1')"
   ]
  },
  {
   "cell_type": "code",
   "execution_count": 75,
   "id": "7b1afeef-b9f5-486e-a25e-360528d70fb8",
   "metadata": {},
   "outputs": [
    {
     "data": {
      "text/plain": [
       "a1    10\n",
       "a2    20\n",
       "a3    30\n",
       "a4    40\n",
       "dtype: int64"
      ]
     },
     "execution_count": 75,
     "metadata": {},
     "output_type": "execute_result"
    }
   ],
   "source": [
    "s3"
   ]
  },
  {
   "cell_type": "code",
   "execution_count": 76,
   "id": "f8aa4826-6d7f-4998-bf8d-4a4af818faea",
   "metadata": {},
   "outputs": [
    {
     "ename": "NameError",
     "evalue": "name 'a4' is not defined",
     "output_type": "error",
     "traceback": [
      "\u001b[1;31m----------------------------------------------------------------\u001b[0m",
      "\u001b[1;31mNameError\u001b[0m                      Traceback (most recent call last)",
      "Cell \u001b[1;32mIn[76], line 1\u001b[0m\n\u001b[1;32m----> 1\u001b[0m s3\u001b[38;5;241m.\u001b[39mdrop(a4,inplace\u001b[38;5;241m=\u001b[39m\u001b[38;5;28;01mTrue\u001b[39;00m)\n\u001b[0;32m      2\u001b[0m s3\n",
      "\u001b[1;31mNameError\u001b[0m: name 'a4' is not defined"
     ]
    }
   ],
   "source": [
    "s3.drop(a4,inplace=True)\n",
    "s3"
   ]
  },
  {
   "cell_type": "code",
   "execution_count": null,
   "id": "b814980e-44b3-4cfb-8582-db7c5315f0cd",
   "metadata": {},
   "outputs": [],
   "source": [
    "s11.drop(3,inplace=True)\n",
    "s11"
   ]
  },
  {
   "cell_type": "code",
   "execution_count": 77,
   "id": "aed3d8b8-9766-411e-8f70-f2e27db7a00a",
   "metadata": {},
   "outputs": [
    {
     "data": {
      "text/plain": [
       "a1    10\n",
       "a2    20\n",
       "a3    30\n",
       "a4    40\n",
       "dtype: int64"
      ]
     },
     "execution_count": 77,
     "metadata": {},
     "output_type": "execute_result"
    }
   ],
   "source": [
    "s3"
   ]
  },
  {
   "cell_type": "code",
   "execution_count": 78,
   "id": "063704b0-c8da-4591-9af8-76039a387746",
   "metadata": {},
   "outputs": [
    {
     "data": {
      "text/plain": [
       "0    10\n",
       "1    20\n",
       "2    30\n",
       "3    40\n",
       "4    50\n",
       "dtype: int64"
      ]
     },
     "execution_count": 78,
     "metadata": {},
     "output_type": "execute_result"
    }
   ],
   "source": [
    "s11"
   ]
  },
  {
   "cell_type": "markdown",
   "id": "080e865d-32a1-48d0-ba3f-c63f65b144e7",
   "metadata": {},
   "source": [
    "Operation on serise"
   ]
  },
  {
   "cell_type": "code",
   "execution_count": 79,
   "id": "0da85849-606a-4e21-a855-4e6d3211d727",
   "metadata": {},
   "outputs": [
    {
     "data": {
      "text/plain": [
       "(0    10\n",
       " 1    20\n",
       " 2    30\n",
       " dtype: int64,\n",
       " 0    1\n",
       " 1    2\n",
       " 2    3\n",
       " dtype: int64)"
      ]
     },
     "execution_count": 79,
     "metadata": {},
     "output_type": "execute_result"
    }
   ],
   "source": [
    "v1 = np.array([10,20,30])\n",
    "v2 = np.array([1,2,3])\n",
    "s1 = pd.Series(v1)\n",
    "s2 = pd.Series(v2)\n",
    "s1,s2"
   ]
  },
  {
   "cell_type": "code",
   "execution_count": 80,
   "id": "c6c8f6de-a8f2-4251-844b-2fbb6ebbb953",
   "metadata": {},
   "outputs": [
    {
     "name": "stdout",
     "output_type": "stream",
     "text": [
      "0    1\n",
      "1    2\n",
      "2    3\n",
      "dtype: int64\n",
      "0    10\n",
      "1    20\n",
      "2    30\n",
      "dtype: int64\n"
     ]
    }
   ],
   "source": [
    "v1 = np.array([10,20,30])\n",
    "v2 = np.array([1,2,3])\n",
    "s1 = pd.Series(v1)\n",
    "s2 = pd.Series(v2)\n",
    "print(s2)\n",
    "print(s1)"
   ]
  },
  {
   "cell_type": "code",
   "execution_count": 81,
   "id": "35725faa-c9de-4519-ab53-d5a4bc1ea78a",
   "metadata": {},
   "outputs": [
    {
     "data": {
      "text/plain": [
       "0    11\n",
       "1    22\n",
       "2    33\n",
       "dtype: int64"
      ]
     },
     "execution_count": 81,
     "metadata": {},
     "output_type": "execute_result"
    }
   ],
   "source": [
    "s1.add(s2)"
   ]
  },
  {
   "cell_type": "code",
   "execution_count": 82,
   "id": "1b777fe7-1443-4776-aeee-4138f888bacd",
   "metadata": {},
   "outputs": [
    {
     "data": {
      "text/plain": [
       "0     9\n",
       "1    18\n",
       "2    27\n",
       "dtype: int64"
      ]
     },
     "execution_count": 82,
     "metadata": {},
     "output_type": "execute_result"
    }
   ],
   "source": [
    "s1.sub(s2)"
   ]
  },
  {
   "cell_type": "code",
   "execution_count": 83,
   "id": "accdd7d9-914d-4a0b-88fc-014b2bcd9614",
   "metadata": {},
   "outputs": [
    {
     "data": {
      "text/plain": [
       "0    10\n",
       "1    40\n",
       "2    90\n",
       "dtype: int64"
      ]
     },
     "execution_count": 83,
     "metadata": {},
     "output_type": "execute_result"
    }
   ],
   "source": [
    "s1.multiply(s2)"
   ]
  },
  {
   "cell_type": "code",
   "execution_count": 84,
   "id": "b9a31b52-0e2d-4ee4-a0ff-0b150b4c4ee6",
   "metadata": {},
   "outputs": [
    {
     "data": {
      "text/plain": [
       "(0    10\n",
       " 1    20\n",
       " 2    30\n",
       " dtype: int64,\n",
       " 0    1\n",
       " 1    2\n",
       " 2    3\n",
       " dtype: int64)"
      ]
     },
     "execution_count": 84,
     "metadata": {},
     "output_type": "execute_result"
    }
   ],
   "source": [
    "s1,s2"
   ]
  },
  {
   "cell_type": "code",
   "execution_count": 85,
   "id": "4b3840cc-5298-40eb-92dd-5adea168087b",
   "metadata": {},
   "outputs": [
    {
     "data": {
      "text/plain": [
       "0    10.0\n",
       "1    10.0\n",
       "2    10.0\n",
       "dtype: float64"
      ]
     },
     "execution_count": 85,
     "metadata": {},
     "output_type": "execute_result"
    }
   ],
   "source": [
    "s1.divide(s2)"
   ]
  },
  {
   "cell_type": "code",
   "execution_count": 86,
   "id": "48b86689-02a5-465a-b269-5776d1e51236",
   "metadata": {},
   "outputs": [
    {
     "data": {
      "text/plain": [
       "(0    20\n",
       " 1    21\n",
       " 2    22\n",
       " 3    23\n",
       " 4    24\n",
       " dtype: int64,\n",
       " 0    5\n",
       " 1    6\n",
       " 2    7\n",
       " 3    8\n",
       " 4    9\n",
       " dtype: int64)"
      ]
     },
     "execution_count": 86,
     "metadata": {},
     "output_type": "execute_result"
    }
   ],
   "source": [
    "b1 = np.array([20,21,22,23,24])\n",
    "c1 = np.array([5,6,7,8,9])\n",
    "d1 = pd.Series(b1)\n",
    "d2 = pd.Series(c1)\n",
    "d1,d2"
   ]
  },
  {
   "cell_type": "code",
   "execution_count": 87,
   "id": "b8a676ac-1582-4cd2-8294-84b0f7a7b46c",
   "metadata": {},
   "outputs": [
    {
     "data": {
      "text/plain": [
       "0    25\n",
       "1    27\n",
       "2    29\n",
       "3    31\n",
       "4    33\n",
       "dtype: int64"
      ]
     },
     "execution_count": 87,
     "metadata": {},
     "output_type": "execute_result"
    }
   ],
   "source": [
    "d1.add(d2)"
   ]
  },
  {
   "cell_type": "code",
   "execution_count": 88,
   "id": "971bc65c-8cc1-4999-9046-488b33faad3c",
   "metadata": {},
   "outputs": [
    {
     "data": {
      "text/plain": [
       "(0    20\n",
       " 1    21\n",
       " 2    22\n",
       " 3    23\n",
       " 4    24\n",
       " dtype: int64,\n",
       " 0    5\n",
       " 1    6\n",
       " 2    7\n",
       " 3    8\n",
       " 4    9\n",
       " dtype: int64)"
      ]
     },
     "execution_count": 88,
     "metadata": {},
     "output_type": "execute_result"
    }
   ],
   "source": [
    "d1,d2"
   ]
  },
  {
   "cell_type": "code",
   "execution_count": 89,
   "id": "ebe442f8-9bd7-421d-a0fe-e905ddc3cff0",
   "metadata": {},
   "outputs": [
    {
     "data": {
      "text/plain": [
       "0    15\n",
       "1    15\n",
       "2    15\n",
       "3    15\n",
       "4    15\n",
       "dtype: int64"
      ]
     },
     "execution_count": 89,
     "metadata": {},
     "output_type": "execute_result"
    }
   ],
   "source": [
    "d1.sub(d2)"
   ]
  },
  {
   "cell_type": "code",
   "execution_count": 90,
   "id": "b19c7443-8b4e-4e0b-a6ab-83e943fab67b",
   "metadata": {},
   "outputs": [
    {
     "data": {
      "text/plain": [
       "0   -15\n",
       "1   -15\n",
       "2   -15\n",
       "3   -15\n",
       "4   -15\n",
       "dtype: int64"
      ]
     },
     "execution_count": 90,
     "metadata": {},
     "output_type": "execute_result"
    }
   ],
   "source": [
    "d2.sub(d1)"
   ]
  },
  {
   "cell_type": "code",
   "execution_count": 91,
   "id": "ede7ce98-bcc1-4f3d-a8bb-aa771454901d",
   "metadata": {},
   "outputs": [
    {
     "data": {
      "text/plain": [
       "0    100\n",
       "1    126\n",
       "2    154\n",
       "3    184\n",
       "4    216\n",
       "dtype: int64"
      ]
     },
     "execution_count": 91,
     "metadata": {},
     "output_type": "execute_result"
    }
   ],
   "source": [
    "d1.multiply(d2)"
   ]
  },
  {
   "cell_type": "code",
   "execution_count": 92,
   "id": "2afcf51c-133c-412a-bd50-fe604f5f901c",
   "metadata": {},
   "outputs": [
    {
     "data": {
      "text/plain": [
       "0    4.000000\n",
       "1    3.500000\n",
       "2    3.142857\n",
       "3    2.875000\n",
       "4    2.666667\n",
       "dtype: float64"
      ]
     },
     "execution_count": 92,
     "metadata": {},
     "output_type": "execute_result"
    }
   ],
   "source": [
    "d1.divide(d2)"
   ]
  },
  {
   "cell_type": "code",
   "execution_count": 93,
   "id": "3026ef5f-97bf-4d20-8cc6-0e46dfae3e1c",
   "metadata": {},
   "outputs": [
    {
     "data": {
      "text/plain": [
       "(0    10\n",
       " 1    20\n",
       " 2    30\n",
       " dtype: int64,\n",
       " 0    1\n",
       " 1    2\n",
       " 2    3\n",
       " dtype: int64)"
      ]
     },
     "execution_count": 93,
     "metadata": {},
     "output_type": "execute_result"
    }
   ],
   "source": [
    "s1,s2"
   ]
  },
  {
   "cell_type": "code",
   "execution_count": 94,
   "id": "ee97093f-3978-4248-9389-3c8c47aa72a2",
   "metadata": {},
   "outputs": [
    {
     "data": {
      "text/plain": [
       "0    10000\n",
       "1    20000\n",
       "2    30000\n",
       "dtype: int64"
      ]
     },
     "execution_count": 94,
     "metadata": {},
     "output_type": "execute_result"
    }
   ],
   "source": [
    "s1.multiply(1000)"
   ]
  },
  {
   "cell_type": "code",
   "execution_count": 95,
   "id": "a35c6843-78fc-4328-81a7-32856f928df0",
   "metadata": {},
   "outputs": [
    {
     "data": {
      "text/plain": [
       "30"
      ]
     },
     "execution_count": 95,
     "metadata": {},
     "output_type": "execute_result"
    }
   ],
   "source": [
    "s1.max()"
   ]
  },
  {
   "cell_type": "code",
   "execution_count": 96,
   "id": "d84ffa8d-6847-4098-9feb-c73fa5936175",
   "metadata": {},
   "outputs": [
    {
     "data": {
      "text/plain": [
       "1"
      ]
     },
     "execution_count": 96,
     "metadata": {},
     "output_type": "execute_result"
    }
   ],
   "source": [
    "s2.min()"
   ]
  },
  {
   "cell_type": "code",
   "execution_count": 97,
   "id": "26c763ae-9c9d-4a23-9db7-d97b81110a21",
   "metadata": {},
   "outputs": [
    {
     "data": {
      "text/plain": [
       "24"
      ]
     },
     "execution_count": 97,
     "metadata": {},
     "output_type": "execute_result"
    }
   ],
   "source": [
    "d1.max()"
   ]
  },
  {
   "cell_type": "code",
   "execution_count": 98,
   "id": "4f9818d7-b37c-495f-97e4-37d842fb56ac",
   "metadata": {},
   "outputs": [
    {
     "data": {
      "text/plain": [
       "<bound method Series.min of 0    5\n",
       "1    6\n",
       "2    7\n",
       "3    8\n",
       "4    9\n",
       "dtype: int64>"
      ]
     },
     "execution_count": 98,
     "metadata": {},
     "output_type": "execute_result"
    }
   ],
   "source": [
    "d2.min"
   ]
  },
  {
   "cell_type": "code",
   "execution_count": 99,
   "id": "3b1952ee-5406-4d05-ae16-2f1483eaaa1d",
   "metadata": {},
   "outputs": [
    {
     "data": {
      "text/plain": [
       "(0    20\n",
       " 1    21\n",
       " 2    22\n",
       " 3    23\n",
       " 4    24\n",
       " dtype: int64,\n",
       " 0    5\n",
       " 1    6\n",
       " 2    7\n",
       " 3    8\n",
       " 4    9\n",
       " dtype: int64)"
      ]
     },
     "execution_count": 99,
     "metadata": {},
     "output_type": "execute_result"
    }
   ],
   "source": [
    "d1,d2"
   ]
  },
  {
   "cell_type": "code",
   "execution_count": 100,
   "id": "e4f9696b-5e5e-4652-a0ae-5ca9bde50316",
   "metadata": {},
   "outputs": [
    {
     "data": {
      "text/plain": [
       "(0    10\n",
       " 1    20\n",
       " 2    30\n",
       " dtype: int64,\n",
       " 0    1\n",
       " 1    2\n",
       " 2    3\n",
       " dtype: int64)"
      ]
     },
     "execution_count": 100,
     "metadata": {},
     "output_type": "execute_result"
    }
   ],
   "source": [
    "s1,s2"
   ]
  },
  {
   "cell_type": "code",
   "execution_count": 101,
   "id": "f0754691-2cfc-4ad8-9a30-f0d1b508821a",
   "metadata": {},
   "outputs": [
    {
     "data": {
      "text/plain": [
       "np.float64(20.0)"
      ]
     },
     "execution_count": 101,
     "metadata": {},
     "output_type": "execute_result"
    }
   ],
   "source": [
    "s1.mean() # here mean() == average"
   ]
  },
  {
   "cell_type": "code",
   "execution_count": 102,
   "id": "10abb5df-6533-47d9-946e-5f79fa238653",
   "metadata": {},
   "outputs": [
    {
     "data": {
      "text/plain": [
       "np.float64(2.0)"
      ]
     },
     "execution_count": 102,
     "metadata": {},
     "output_type": "execute_result"
    }
   ],
   "source": [
    "s2.mean()"
   ]
  },
  {
   "cell_type": "code",
   "execution_count": 103,
   "id": "c1382059-146f-4a81-b5b2-6e7a0013f066",
   "metadata": {},
   "outputs": [
    {
     "data": {
      "text/plain": [
       "np.float64(22.0)"
      ]
     },
     "execution_count": 103,
     "metadata": {},
     "output_type": "execute_result"
    }
   ],
   "source": [
    "d1.mean()"
   ]
  },
  {
   "cell_type": "code",
   "execution_count": 104,
   "id": "d7e0caf7-5386-435a-9286-f9b9e34dd4be",
   "metadata": {},
   "outputs": [
    {
     "data": {
      "text/plain": [
       "np.float64(7.0)"
      ]
     },
     "execution_count": 104,
     "metadata": {},
     "output_type": "execute_result"
    }
   ],
   "source": [
    "d2.mean()"
   ]
  },
  {
   "cell_type": "code",
   "execution_count": 105,
   "id": "90fc0ec1-7c04-4689-b19c-6827d6fd8d69",
   "metadata": {},
   "outputs": [
    {
     "data": {
      "text/plain": [
       "20.0"
      ]
     },
     "execution_count": 105,
     "metadata": {},
     "output_type": "execute_result"
    }
   ],
   "source": [
    "s1.median()"
   ]
  },
  {
   "cell_type": "code",
   "execution_count": 106,
   "id": "23ff6204-6c69-4972-b60a-14c35bf90f80",
   "metadata": {},
   "outputs": [
    {
     "data": {
      "text/plain": [
       "0    1\n",
       "1    2\n",
       "2    3\n",
       "3    4\n",
       "4    9\n",
       "dtype: int64"
      ]
     },
     "execution_count": 106,
     "metadata": {},
     "output_type": "execute_result"
    }
   ],
   "source": [
    "e = np.array([1,2,3,4,9])\n",
    "e1 = pd.Series(e)\n",
    "e1"
   ]
  },
  {
   "cell_type": "code",
   "execution_count": 107,
   "id": "2df3410d-2023-4025-9575-8129a1eed609",
   "metadata": {},
   "outputs": [
    {
     "data": {
      "text/plain": [
       "3.0"
      ]
     },
     "execution_count": 107,
     "metadata": {},
     "output_type": "execute_result"
    }
   ],
   "source": [
    "e1.median()"
   ]
  },
  {
   "cell_type": "code",
   "execution_count": 108,
   "id": "9cc3572d-f2ba-4d5b-b157-fa63bb8d16f9",
   "metadata": {},
   "outputs": [
    {
     "data": {
      "text/plain": [
       "0    10\n",
       "1    20\n",
       "2    30\n",
       "dtype: int64"
      ]
     },
     "execution_count": 108,
     "metadata": {},
     "output_type": "execute_result"
    }
   ],
   "source": [
    "s1"
   ]
  },
  {
   "cell_type": "code",
   "execution_count": 109,
   "id": "0c2fc063-b6d7-422d-b6d3-77ab71cfbbcc",
   "metadata": {},
   "outputs": [
    {
     "data": {
      "text/plain": [
       "10.0"
      ]
     },
     "execution_count": 109,
     "metadata": {},
     "output_type": "execute_result"
    }
   ],
   "source": [
    "s1.std()"
   ]
  },
  {
   "cell_type": "code",
   "execution_count": 110,
   "id": "7b9ddd52-fdd4-4487-9283-85f490673c09",
   "metadata": {},
   "outputs": [
    {
     "data": {
      "text/plain": [
       "0    False\n",
       "1    False\n",
       "2    False\n",
       "dtype: bool"
      ]
     },
     "execution_count": 110,
     "metadata": {},
     "output_type": "execute_result"
    }
   ],
   "source": [
    "s1==s2"
   ]
  },
  {
   "cell_type": "code",
   "execution_count": 111,
   "id": "feed5683-e58f-41af-afd1-522305029705",
   "metadata": {},
   "outputs": [
    {
     "data": {
      "text/plain": [
       "False"
      ]
     },
     "execution_count": 111,
     "metadata": {},
     "output_type": "execute_result"
    }
   ],
   "source": [
    "s1.equals(s2)"
   ]
  },
  {
   "cell_type": "code",
   "execution_count": 112,
   "id": "726c9078-5633-4aa4-ae4a-edbd5565cedb",
   "metadata": {},
   "outputs": [
    {
     "data": {
      "text/plain": [
       "0    True\n",
       "1    True\n",
       "2    True\n",
       "dtype: bool"
      ]
     },
     "execution_count": 112,
     "metadata": {},
     "output_type": "execute_result"
    }
   ],
   "source": [
    "s1!=s2"
   ]
  },
  {
   "cell_type": "code",
   "execution_count": 113,
   "id": "355f8118-2adc-4756-9721-dc030d5f28fe",
   "metadata": {},
   "outputs": [
    {
     "data": {
      "text/plain": [
       "0    1\n",
       "1    1\n",
       "2    2\n",
       "3    2\n",
       "4    3\n",
       "5    3\n",
       "6    3\n",
       "7    4\n",
       "8    4\n",
       "dtype: int64"
      ]
     },
     "execution_count": 113,
     "metadata": {},
     "output_type": "execute_result"
    }
   ],
   "source": [
    "s5 = pd.Series([1,1,2,2,3,3,3,4,4])\n",
    "s5"
   ]
  },
  {
   "cell_type": "code",
   "execution_count": 114,
   "id": "bfb0287d-8fa1-498f-a88a-a6585bb9bfc0",
   "metadata": {},
   "outputs": [
    {
     "data": {
      "text/plain": [
       "3    3\n",
       "1    2\n",
       "2    2\n",
       "4    2\n",
       "Name: count, dtype: int64"
      ]
     },
     "execution_count": 114,
     "metadata": {},
     "output_type": "execute_result"
    }
   ],
   "source": [
    "s5.value_counts()"
   ]
  },
  {
   "cell_type": "markdown",
   "id": "c4f13b20-e6d4-41e7-8430-23940beffbb3",
   "metadata": {},
   "source": [
    "DataFrame\n",
    "== Create DataFrame"
   ]
  },
  {
   "cell_type": "code",
   "execution_count": 115,
   "id": "b808109e-4c4c-4cfd-b95c-88e013179923",
   "metadata": {},
   "outputs": [
    {
     "data": {
      "text/html": [
       "<div>\n",
       "<style scoped>\n",
       "    .dataframe tbody tr th:only-of-type {\n",
       "        vertical-align: middle;\n",
       "    }\n",
       "\n",
       "    .dataframe tbody tr th {\n",
       "        vertical-align: top;\n",
       "    }\n",
       "\n",
       "    .dataframe thead th {\n",
       "        text-align: right;\n",
       "    }\n",
       "</style>\n",
       "<table border=\"1\" class=\"dataframe\">\n",
       "  <thead>\n",
       "    <tr style=\"text-align: right;\">\n",
       "      <th></th>\n",
       "    </tr>\n",
       "  </thead>\n",
       "  <tbody>\n",
       "  </tbody>\n",
       "</table>\n",
       "</div>"
      ],
      "text/plain": [
       "Empty DataFrame\n",
       "Columns: []\n",
       "Index: []"
      ]
     },
     "execution_count": 115,
     "metadata": {},
     "output_type": "execute_result"
    }
   ],
   "source": [
    "df = pd.DataFrame()\n",
    "df"
   ]
  },
  {
   "cell_type": "code",
   "execution_count": 116,
   "id": "507733e5-3211-448f-b1a1-b39f44c49f51",
   "metadata": {},
   "outputs": [
    {
     "data": {
      "text/plain": [
       "0         java\n",
       "1    clanguage\n",
       "2       python\n",
       "3          c++\n",
       "dtype: object"
      ]
     },
     "execution_count": 116,
     "metadata": {},
     "output_type": "execute_result"
    }
   ],
   "source": [
    "# create dataframe using list\n",
    "lang = ['java','clanguage','python','c++']\n",
    "df = pd.Series(lang)\n",
    "df"
   ]
  },
  {
   "cell_type": "code",
   "execution_count": 118,
   "id": "83ccf420-9c74-4dfd-a461-5355f66fc387",
   "metadata": {},
   "outputs": [
    {
     "data": {
      "text/html": [
       "<div>\n",
       "<style scoped>\n",
       "    .dataframe tbody tr th:only-of-type {\n",
       "        vertical-align: middle;\n",
       "    }\n",
       "\n",
       "    .dataframe tbody tr th {\n",
       "        vertical-align: top;\n",
       "    }\n",
       "\n",
       "    .dataframe thead th {\n",
       "        text-align: right;\n",
       "    }\n",
       "</style>\n",
       "<table border=\"1\" class=\"dataframe\">\n",
       "  <thead>\n",
       "    <tr style=\"text-align: right;\">\n",
       "      <th></th>\n",
       "      <th>0</th>\n",
       "    </tr>\n",
       "  </thead>\n",
       "  <tbody>\n",
       "    <tr>\n",
       "      <th>0</th>\n",
       "      <td>java</td>\n",
       "    </tr>\n",
       "    <tr>\n",
       "      <th>1</th>\n",
       "      <td>python</td>\n",
       "    </tr>\n",
       "    <tr>\n",
       "      <th>2</th>\n",
       "      <td>c</td>\n",
       "    </tr>\n",
       "    <tr>\n",
       "      <th>3</th>\n",
       "      <td>c++</td>\n",
       "    </tr>\n",
       "  </tbody>\n",
       "</table>\n",
       "</div>"
      ],
      "text/plain": [
       "        0\n",
       "0    java\n",
       "1  python\n",
       "2       c\n",
       "3     c++"
      ]
     },
     "execution_count": 118,
     "metadata": {},
     "output_type": "execute_result"
    }
   ],
   "source": [
    "lang = ['java','python','c','c++'] # when we use DataFrame() program cannot give dtype\n",
    "df = pd.DataFrame(lang)\n",
    "df"
   ]
  },
  {
   "cell_type": "code",
   "execution_count": 119,
   "id": "c482b9e4-9912-4068-98a8-b2b94a9dde9c",
   "metadata": {},
   "outputs": [
    {
     "data": {
      "text/html": [
       "<div>\n",
       "<style scoped>\n",
       "    .dataframe tbody tr th:only-of-type {\n",
       "        vertical-align: middle;\n",
       "    }\n",
       "\n",
       "    .dataframe tbody tr th {\n",
       "        vertical-align: top;\n",
       "    }\n",
       "\n",
       "    .dataframe thead th {\n",
       "        text-align: right;\n",
       "    }\n",
       "</style>\n",
       "<table border=\"1\" class=\"dataframe\">\n",
       "  <thead>\n",
       "    <tr style=\"text-align: right;\">\n",
       "      <th></th>\n",
       "      <th>0</th>\n",
       "      <th>1</th>\n",
       "    </tr>\n",
       "  </thead>\n",
       "  <tbody>\n",
       "    <tr>\n",
       "      <th>0</th>\n",
       "      <td>java</td>\n",
       "      <td>1</td>\n",
       "    </tr>\n",
       "    <tr>\n",
       "      <th>1</th>\n",
       "      <td>python</td>\n",
       "      <td>2</td>\n",
       "    </tr>\n",
       "    <tr>\n",
       "      <th>2</th>\n",
       "      <td>c</td>\n",
       "      <td>3</td>\n",
       "    </tr>\n",
       "    <tr>\n",
       "      <th>3</th>\n",
       "      <td>c++</td>\n",
       "      <td>4</td>\n",
       "    </tr>\n",
       "  </tbody>\n",
       "</table>\n",
       "</div>"
      ],
      "text/plain": [
       "        0  1\n",
       "0    java  1\n",
       "1  python  2\n",
       "2       c  3\n",
       "3     c++  4"
      ]
     },
     "execution_count": 119,
     "metadata": {},
     "output_type": "execute_result"
    }
   ],
   "source": [
    "# add column in the Dataframe\n",
    "rating = [1,2,3,4]\n",
    "df[1] = rating\n",
    "df"
   ]
  },
  {
   "cell_type": "code",
   "execution_count": 125,
   "id": "23c42ff8-f7e0-49ce-a356-9fe4948e0b67",
   "metadata": {},
   "outputs": [],
   "source": [
    "#rating = [5,6,7,8]\n",
    "#df[2] = rating\n",
    "#df"
   ]
  },
  {
   "cell_type": "code",
   "execution_count": 126,
   "id": "ea8e7c09-64b3-456e-989b-271d88e923c7",
   "metadata": {},
   "outputs": [],
   "source": [
    "#addcolumn = [10,11,12,13]\n",
    "#df[3] = addcolumn\n",
    "#df"
   ]
  },
  {
   "cell_type": "code",
   "execution_count": 127,
   "id": "9a5b9573-dcb9-4fbd-9ca3-b2d7c371ccbd",
   "metadata": {},
   "outputs": [
    {
     "data": {
      "text/plain": [
       "RangeIndex(start=0, stop=4, step=1)"
      ]
     },
     "execution_count": 127,
     "metadata": {},
     "output_type": "execute_result"
    }
   ],
   "source": [
    "df.columns"
   ]
  },
  {
   "cell_type": "code",
   "execution_count": 140,
   "id": "de0d90b1-a44e-4240-9c4a-29857ae55c62",
   "metadata": {},
   "outputs": [],
   "source": [
    "df.columns = ['Language','Rating1']"
   ]
  },
  {
   "cell_type": "code",
   "execution_count": 141,
   "id": "e196e1b1-8967-42bb-a64e-28623f1f7d99",
   "metadata": {},
   "outputs": [
    {
     "data": {
      "text/html": [
       "<div>\n",
       "<style scoped>\n",
       "    .dataframe tbody tr th:only-of-type {\n",
       "        vertical-align: middle;\n",
       "    }\n",
       "\n",
       "    .dataframe tbody tr th {\n",
       "        vertical-align: top;\n",
       "    }\n",
       "\n",
       "    .dataframe thead th {\n",
       "        text-align: right;\n",
       "    }\n",
       "</style>\n",
       "<table border=\"1\" class=\"dataframe\">\n",
       "  <thead>\n",
       "    <tr style=\"text-align: right;\">\n",
       "      <th></th>\n",
       "      <th>Language</th>\n",
       "      <th>Rating1</th>\n",
       "    </tr>\n",
       "  </thead>\n",
       "  <tbody>\n",
       "    <tr>\n",
       "      <th>0</th>\n",
       "      <td>java</td>\n",
       "      <td>1</td>\n",
       "    </tr>\n",
       "    <tr>\n",
       "      <th>1</th>\n",
       "      <td>python</td>\n",
       "      <td>2</td>\n",
       "    </tr>\n",
       "    <tr>\n",
       "      <th>2</th>\n",
       "      <td>c</td>\n",
       "      <td>3</td>\n",
       "    </tr>\n",
       "    <tr>\n",
       "      <th>3</th>\n",
       "      <td>c++</td>\n",
       "      <td>4</td>\n",
       "    </tr>\n",
       "  </tbody>\n",
       "</table>\n",
       "</div>"
      ],
      "text/plain": [
       "  Language  Rating1\n",
       "0     java        1\n",
       "1   python        2\n",
       "2        c        3\n",
       "3      c++        4"
      ]
     },
     "execution_count": 141,
     "metadata": {},
     "output_type": "execute_result"
    }
   ],
   "source": [
    "df"
   ]
  },
  {
   "cell_type": "code",
   "execution_count": 136,
   "id": "fd71f916-8f2f-4494-a3f2-4d40f2bbabde",
   "metadata": {},
   "outputs": [
    {
     "data": {
      "text/html": [
       "<div>\n",
       "<style scoped>\n",
       "    .dataframe tbody tr th:only-of-type {\n",
       "        vertical-align: middle;\n",
       "    }\n",
       "\n",
       "    .dataframe tbody tr th {\n",
       "        vertical-align: top;\n",
       "    }\n",
       "\n",
       "    .dataframe thead th {\n",
       "        text-align: right;\n",
       "    }\n",
       "</style>\n",
       "<table border=\"1\" class=\"dataframe\">\n",
       "  <thead>\n",
       "    <tr style=\"text-align: right;\">\n",
       "      <th></th>\n",
       "      <th>0</th>\n",
       "    </tr>\n",
       "  </thead>\n",
       "  <tbody>\n",
       "    <tr>\n",
       "      <th>0</th>\n",
       "      <td>java</td>\n",
       "    </tr>\n",
       "    <tr>\n",
       "      <th>1</th>\n",
       "      <td>python</td>\n",
       "    </tr>\n",
       "    <tr>\n",
       "      <th>2</th>\n",
       "      <td>c</td>\n",
       "    </tr>\n",
       "    <tr>\n",
       "      <th>3</th>\n",
       "      <td>c++</td>\n",
       "    </tr>\n",
       "  </tbody>\n",
       "</table>\n",
       "</div>"
      ],
      "text/plain": [
       "        0\n",
       "0    java\n",
       "1  python\n",
       "2       c\n",
       "3     c++"
      ]
     },
     "execution_count": 136,
     "metadata": {},
     "output_type": "execute_result"
    }
   ],
   "source": [
    "lang1 = ['java' , 'python','c','c++']\n",
    "df1 = pd.DataFrame(lang1)\n",
    "df1"
   ]
  },
  {
   "cell_type": "code",
   "execution_count": 137,
   "id": "9333a357-b0d1-48b9-abfe-4053aad4074f",
   "metadata": {},
   "outputs": [
    {
     "data": {
      "text/html": [
       "<div>\n",
       "<style scoped>\n",
       "    .dataframe tbody tr th:only-of-type {\n",
       "        vertical-align: middle;\n",
       "    }\n",
       "\n",
       "    .dataframe tbody tr th {\n",
       "        vertical-align: top;\n",
       "    }\n",
       "\n",
       "    .dataframe thead th {\n",
       "        text-align: right;\n",
       "    }\n",
       "</style>\n",
       "<table border=\"1\" class=\"dataframe\">\n",
       "  <thead>\n",
       "    <tr style=\"text-align: right;\">\n",
       "      <th></th>\n",
       "      <th>0</th>\n",
       "      <th>1</th>\n",
       "    </tr>\n",
       "  </thead>\n",
       "  <tbody>\n",
       "    <tr>\n",
       "      <th>0</th>\n",
       "      <td>java</td>\n",
       "      <td>1</td>\n",
       "    </tr>\n",
       "    <tr>\n",
       "      <th>1</th>\n",
       "      <td>python</td>\n",
       "      <td>2</td>\n",
       "    </tr>\n",
       "    <tr>\n",
       "      <th>2</th>\n",
       "      <td>c</td>\n",
       "      <td>3</td>\n",
       "    </tr>\n",
       "    <tr>\n",
       "      <th>3</th>\n",
       "      <td>c++</td>\n",
       "      <td>4</td>\n",
       "    </tr>\n",
       "  </tbody>\n",
       "</table>\n",
       "</div>"
      ],
      "text/plain": [
       "        0  1\n",
       "0    java  1\n",
       "1  python  2\n",
       "2       c  3\n",
       "3     c++  4"
      ]
     },
     "execution_count": 137,
     "metadata": {},
     "output_type": "execute_result"
    }
   ],
   "source": [
    "rating  = [1,2,3,4]\n",
    "df1[1] = rating\n",
    "df1"
   ]
  },
  {
   "cell_type": "code",
   "execution_count": 138,
   "id": "696a3063-7d2a-4ebc-8248-dd9cd7df67c9",
   "metadata": {},
   "outputs": [
    {
     "data": {
      "text/html": [
       "<div>\n",
       "<style scoped>\n",
       "    .dataframe tbody tr th:only-of-type {\n",
       "        vertical-align: middle;\n",
       "    }\n",
       "\n",
       "    .dataframe tbody tr th {\n",
       "        vertical-align: top;\n",
       "    }\n",
       "\n",
       "    .dataframe thead th {\n",
       "        text-align: right;\n",
       "    }\n",
       "</style>\n",
       "<table border=\"1\" class=\"dataframe\">\n",
       "  <thead>\n",
       "    <tr style=\"text-align: right;\">\n",
       "      <th></th>\n",
       "      <th>Language</th>\n",
       "      <th>Rating</th>\n",
       "    </tr>\n",
       "  </thead>\n",
       "  <tbody>\n",
       "    <tr>\n",
       "      <th>0</th>\n",
       "      <td>java</td>\n",
       "      <td>1</td>\n",
       "    </tr>\n",
       "    <tr>\n",
       "      <th>1</th>\n",
       "      <td>python</td>\n",
       "      <td>2</td>\n",
       "    </tr>\n",
       "    <tr>\n",
       "      <th>2</th>\n",
       "      <td>c</td>\n",
       "      <td>3</td>\n",
       "    </tr>\n",
       "    <tr>\n",
       "      <th>3</th>\n",
       "      <td>c++</td>\n",
       "      <td>4</td>\n",
       "    </tr>\n",
       "  </tbody>\n",
       "</table>\n",
       "</div>"
      ],
      "text/plain": [
       "  Language  Rating\n",
       "0     java       1\n",
       "1   python       2\n",
       "2        c       3\n",
       "3      c++       4"
      ]
     },
     "execution_count": 138,
     "metadata": {},
     "output_type": "execute_result"
    }
   ],
   "source": [
    "df1.columns = ['Language','Rating']\n",
    "df1"
   ]
  },
  {
   "cell_type": "code",
   "execution_count": 142,
   "id": "201625c8-9513-4464-9e9e-67cd7366a6c1",
   "metadata": {},
   "outputs": [
    {
     "data": {
      "text/html": [
       "<div>\n",
       "<style scoped>\n",
       "    .dataframe tbody tr th:only-of-type {\n",
       "        vertical-align: middle;\n",
       "    }\n",
       "\n",
       "    .dataframe tbody tr th {\n",
       "        vertical-align: top;\n",
       "    }\n",
       "\n",
       "    .dataframe thead th {\n",
       "        text-align: right;\n",
       "    }\n",
       "</style>\n",
       "<table border=\"1\" class=\"dataframe\">\n",
       "  <thead>\n",
       "    <tr style=\"text-align: right;\">\n",
       "      <th></th>\n",
       "      <th>Language</th>\n",
       "      <th>Rating1</th>\n",
       "    </tr>\n",
       "  </thead>\n",
       "  <tbody>\n",
       "    <tr>\n",
       "      <th>0</th>\n",
       "      <td>java</td>\n",
       "      <td>1</td>\n",
       "    </tr>\n",
       "    <tr>\n",
       "      <th>1</th>\n",
       "      <td>python</td>\n",
       "      <td>2</td>\n",
       "    </tr>\n",
       "    <tr>\n",
       "      <th>2</th>\n",
       "      <td>c</td>\n",
       "      <td>3</td>\n",
       "    </tr>\n",
       "    <tr>\n",
       "      <th>3</th>\n",
       "      <td>c++</td>\n",
       "      <td>4</td>\n",
       "    </tr>\n",
       "  </tbody>\n",
       "</table>\n",
       "</div>"
      ],
      "text/plain": [
       "  Language  Rating1\n",
       "0     java        1\n",
       "1   python        2\n",
       "2        c        3\n",
       "3      c++        4"
      ]
     },
     "execution_count": 142,
     "metadata": {},
     "output_type": "execute_result"
    }
   ],
   "source": [
    "df"
   ]
  },
  {
   "cell_type": "code",
   "execution_count": 143,
   "id": "7c688164-05a5-4e7b-aa9b-1a67c5f7b9bb",
   "metadata": {},
   "outputs": [
    {
     "data": {
      "text/html": [
       "<div>\n",
       "<style scoped>\n",
       "    .dataframe tbody tr th:only-of-type {\n",
       "        vertical-align: middle;\n",
       "    }\n",
       "\n",
       "    .dataframe tbody tr th {\n",
       "        vertical-align: top;\n",
       "    }\n",
       "\n",
       "    .dataframe thead th {\n",
       "        text-align: right;\n",
       "    }\n",
       "</style>\n",
       "<table border=\"1\" class=\"dataframe\">\n",
       "  <thead>\n",
       "    <tr style=\"text-align: right;\">\n",
       "      <th></th>\n",
       "      <th>Language</th>\n",
       "      <th>Rating</th>\n",
       "    </tr>\n",
       "  </thead>\n",
       "  <tbody>\n",
       "    <tr>\n",
       "      <th>0</th>\n",
       "      <td>java</td>\n",
       "      <td>1</td>\n",
       "    </tr>\n",
       "    <tr>\n",
       "      <th>1</th>\n",
       "      <td>python</td>\n",
       "      <td>2</td>\n",
       "    </tr>\n",
       "    <tr>\n",
       "      <th>2</th>\n",
       "      <td>c</td>\n",
       "      <td>3</td>\n",
       "    </tr>\n",
       "    <tr>\n",
       "      <th>3</th>\n",
       "      <td>c++</td>\n",
       "      <td>4</td>\n",
       "    </tr>\n",
       "  </tbody>\n",
       "</table>\n",
       "</div>"
      ],
      "text/plain": [
       "  Language  Rating\n",
       "0     java       1\n",
       "1   python       2\n",
       "2        c       3\n",
       "3      c++       4"
      ]
     },
     "execution_count": 143,
     "metadata": {},
     "output_type": "execute_result"
    }
   ],
   "source": [
    "df1"
   ]
  },
  {
   "cell_type": "code",
   "execution_count": 146,
   "id": "ee2695b5-4f40-49c5-90e5-eff8cf8ee7f2",
   "metadata": {},
   "outputs": [
    {
     "data": {
      "text/plain": [
       "[{'a': 1, 'b': 2}, {'a': 5, 'b': 10, 'c': 20}]"
      ]
     },
     "execution_count": 146,
     "metadata": {},
     "output_type": "execute_result"
    }
   ],
   "source": [
    "data = [{'a': 1, 'b': 2},{'a': 5, 'b': 10, 'c': 20}]\n",
    "data"
   ]
  },
  {
   "cell_type": "code",
   "execution_count": 148,
   "id": "18d7c0db-ede8-498d-b8e1-6cdbed60e3f4",
   "metadata": {},
   "outputs": [
    {
     "data": {
      "text/html": [
       "<div>\n",
       "<style scoped>\n",
       "    .dataframe tbody tr th:only-of-type {\n",
       "        vertical-align: middle;\n",
       "    }\n",
       "\n",
       "    .dataframe tbody tr th {\n",
       "        vertical-align: top;\n",
       "    }\n",
       "\n",
       "    .dataframe thead th {\n",
       "        text-align: right;\n",
       "    }\n",
       "</style>\n",
       "<table border=\"1\" class=\"dataframe\">\n",
       "  <thead>\n",
       "    <tr style=\"text-align: right;\">\n",
       "      <th></th>\n",
       "      <th>a</th>\n",
       "      <th>b</th>\n",
       "      <th>c</th>\n",
       "    </tr>\n",
       "  </thead>\n",
       "  <tbody>\n",
       "    <tr>\n",
       "      <th>0</th>\n",
       "      <td>1</td>\n",
       "      <td>2</td>\n",
       "      <td>NaN</td>\n",
       "    </tr>\n",
       "    <tr>\n",
       "      <th>1</th>\n",
       "      <td>5</td>\n",
       "      <td>10</td>\n",
       "      <td>20.0</td>\n",
       "    </tr>\n",
       "  </tbody>\n",
       "</table>\n",
       "</div>"
      ],
      "text/plain": [
       "   a   b     c\n",
       "0  1   2   NaN\n",
       "1  5  10  20.0"
      ]
     },
     "execution_count": 148,
     "metadata": {},
     "output_type": "execute_result"
    }
   ],
   "source": [
    "data = [{'a': 1, 'b': 2},{'a': 5, 'b': 10, 'c': 20}]\n",
    "df2 = pd.DataFrame(data)\n",
    "df2"
   ]
  },
  {
   "cell_type": "code",
   "execution_count": 149,
   "id": "7cbd18a7-201e-4392-9366-fc34306c2c30",
   "metadata": {},
   "outputs": [
    {
     "data": {
      "text/html": [
       "<div>\n",
       "<style scoped>\n",
       "    .dataframe tbody tr th:only-of-type {\n",
       "        vertical-align: middle;\n",
       "    }\n",
       "\n",
       "    .dataframe tbody tr th {\n",
       "        vertical-align: top;\n",
       "    }\n",
       "\n",
       "    .dataframe thead th {\n",
       "        text-align: right;\n",
       "    }\n",
       "</style>\n",
       "<table border=\"1\" class=\"dataframe\">\n",
       "  <thead>\n",
       "    <tr style=\"text-align: right;\">\n",
       "      <th></th>\n",
       "      <th>a</th>\n",
       "      <th>b</th>\n",
       "    </tr>\n",
       "  </thead>\n",
       "  <tbody>\n",
       "    <tr>\n",
       "      <th>row1</th>\n",
       "      <td>1</td>\n",
       "      <td>2</td>\n",
       "    </tr>\n",
       "    <tr>\n",
       "      <th>row2</th>\n",
       "      <td>5</td>\n",
       "      <td>10</td>\n",
       "    </tr>\n",
       "  </tbody>\n",
       "</table>\n",
       "</div>"
      ],
      "text/plain": [
       "      a   b\n",
       "row1  1   2\n",
       "row2  5  10"
      ]
     },
     "execution_count": 149,
     "metadata": {},
     "output_type": "execute_result"
    }
   ],
   "source": [
    "data = [{'a': 1, 'b': 2},{'a': 5, 'b': 10, 'c': 20}]\n",
    "df3 = pd.DataFrame(data,index=['row1','row2'],columns=['a','b'])\n",
    "df3\n"
   ]
  },
  {
   "cell_type": "code",
   "execution_count": 150,
   "id": "da0b6ed0-37ea-4b17-80d4-f6136ff4ae41",
   "metadata": {},
   "outputs": [
    {
     "data": {
      "text/html": [
       "<div>\n",
       "<style scoped>\n",
       "    .dataframe tbody tr th:only-of-type {\n",
       "        vertical-align: middle;\n",
       "    }\n",
       "\n",
       "    .dataframe tbody tr th {\n",
       "        vertical-align: top;\n",
       "    }\n",
       "\n",
       "    .dataframe thead th {\n",
       "        text-align: right;\n",
       "    }\n",
       "</style>\n",
       "<table border=\"1\" class=\"dataframe\">\n",
       "  <thead>\n",
       "    <tr style=\"text-align: right;\">\n",
       "      <th></th>\n",
       "      <th>a</th>\n",
       "      <th>b</th>\n",
       "      <th>c</th>\n",
       "    </tr>\n",
       "  </thead>\n",
       "  <tbody>\n",
       "    <tr>\n",
       "      <th>row1</th>\n",
       "      <td>1</td>\n",
       "      <td>2</td>\n",
       "      <td>NaN</td>\n",
       "    </tr>\n",
       "    <tr>\n",
       "      <th>row2</th>\n",
       "      <td>5</td>\n",
       "      <td>10</td>\n",
       "      <td>20.0</td>\n",
       "    </tr>\n",
       "  </tbody>\n",
       "</table>\n",
       "</div>"
      ],
      "text/plain": [
       "      a   b     c\n",
       "row1  1   2   NaN\n",
       "row2  5  10  20.0"
      ]
     },
     "execution_count": 150,
     "metadata": {},
     "output_type": "execute_result"
    }
   ],
   "source": [
    "data = [{'a': 1, 'b': 2},{'a': 5, 'b': 10, 'c': 20}]\n",
    "df4 = pd.DataFrame(data,index=['row1','row2'],columns=['a','b','c'])\n",
    "\n",
    "df4"
   ]
  },
  {
   "cell_type": "code",
   "execution_count": 151,
   "id": "64531910-ddb1-4156-8feb-fd191f62e680",
   "metadata": {},
   "outputs": [
    {
     "data": {
      "text/html": [
       "<div>\n",
       "<style scoped>\n",
       "    .dataframe tbody tr th:only-of-type {\n",
       "        vertical-align: middle;\n",
       "    }\n",
       "\n",
       "    .dataframe tbody tr th {\n",
       "        vertical-align: top;\n",
       "    }\n",
       "\n",
       "    .dataframe thead th {\n",
       "        text-align: right;\n",
       "    }\n",
       "</style>\n",
       "<table border=\"1\" class=\"dataframe\">\n",
       "  <thead>\n",
       "    <tr style=\"text-align: right;\">\n",
       "      <th></th>\n",
       "      <th>a</th>\n",
       "      <th>b</th>\n",
       "      <th>c</th>\n",
       "      <th>d</th>\n",
       "    </tr>\n",
       "  </thead>\n",
       "  <tbody>\n",
       "    <tr>\n",
       "      <th>row1</th>\n",
       "      <td>1</td>\n",
       "      <td>2</td>\n",
       "      <td>NaN</td>\n",
       "      <td>NaN</td>\n",
       "    </tr>\n",
       "    <tr>\n",
       "      <th>row2</th>\n",
       "      <td>5</td>\n",
       "      <td>10</td>\n",
       "      <td>20.0</td>\n",
       "      <td>NaN</td>\n",
       "    </tr>\n",
       "  </tbody>\n",
       "</table>\n",
       "</div>"
      ],
      "text/plain": [
       "      a   b     c   d\n",
       "row1  1   2   NaN NaN\n",
       "row2  5  10  20.0 NaN"
      ]
     },
     "execution_count": 151,
     "metadata": {},
     "output_type": "execute_result"
    }
   ],
   "source": [
    "data = [{'a': 1, 'b': 2},{'a': 5, 'b': 10, 'c': 20}]\n",
    "df5 = pd.DataFrame(data,index=['row1','row2'],columns=['a','b','c','d'])\n",
    "\n",
    "df5"
   ]
  },
  {
   "cell_type": "code",
   "execution_count": 152,
   "id": "4c1145ef-db0b-4401-ba4b-224dd2e32488",
   "metadata": {},
   "outputs": [
    {
     "data": {
      "text/html": [
       "<div>\n",
       "<style scoped>\n",
       "    .dataframe tbody tr th:only-of-type {\n",
       "        vertical-align: middle;\n",
       "    }\n",
       "\n",
       "    .dataframe tbody tr th {\n",
       "        vertical-align: top;\n",
       "    }\n",
       "\n",
       "    .dataframe thead th {\n",
       "        text-align: right;\n",
       "    }\n",
       "</style>\n",
       "<table border=\"1\" class=\"dataframe\">\n",
       "  <thead>\n",
       "    <tr style=\"text-align: right;\">\n",
       "      <th></th>\n",
       "      <th>A</th>\n",
       "      <th>B</th>\n",
       "    </tr>\n",
       "  </thead>\n",
       "  <tbody>\n",
       "    <tr>\n",
       "      <th>a</th>\n",
       "      <td>1.0</td>\n",
       "      <td>1</td>\n",
       "    </tr>\n",
       "    <tr>\n",
       "      <th>b</th>\n",
       "      <td>2.0</td>\n",
       "      <td>2</td>\n",
       "    </tr>\n",
       "    <tr>\n",
       "      <th>c</th>\n",
       "      <td>3.0</td>\n",
       "      <td>3</td>\n",
       "    </tr>\n",
       "    <tr>\n",
       "      <th>d</th>\n",
       "      <td>NaN</td>\n",
       "      <td>4</td>\n",
       "    </tr>\n",
       "  </tbody>\n",
       "</table>\n",
       "</div>"
      ],
      "text/plain": [
       "     A  B\n",
       "a  1.0  1\n",
       "b  2.0  2\n",
       "c  3.0  3\n",
       "d  NaN  4"
      ]
     },
     "execution_count": 152,
     "metadata": {},
     "output_type": "execute_result"
    }
   ],
   "source": [
    "#creating dataframe from dict of string\n",
    "dict = {'A' : pd.Series([1,2,3], index=['a','b','c']),\n",
    "        'B' : pd.Series([1,2,3,4], index=['a','b','c','d'])}\n",
    "df1 = pd.DataFrame(dict)\n",
    "df1"
   ]
  },
  {
   "cell_type": "code",
   "execution_count": 153,
   "id": "aca3a72b-94d5-49b8-9bd4-afeaeb655da7",
   "metadata": {},
   "outputs": [
    {
     "data": {
      "text/plain": [
       "DatetimeIndex(['2020-01-20', '2020-01-21', '2020-01-22', '2020-01-23',\n",
       "               '2020-01-24', '2020-01-25', '2020-01-26'],\n",
       "              dtype='datetime64[ns]', freq='D')"
      ]
     },
     "execution_count": 153,
     "metadata": {},
     "output_type": "execute_result"
    }
   ],
   "source": [
    "dates = pd.date_range(start = '2020-01-20', end = '2020-01-26')\n",
    "dates"
   ]
  },
  {
   "cell_type": "code",
   "execution_count": 154,
   "id": "860d9371-35f4-40d3-91c7-bc313185a7b9",
   "metadata": {},
   "outputs": [
    {
     "data": {
      "text/plain": [
       "DatetimeIndex(['2020-01-20', '2020-01-21', '2020-01-22', '2020-01-23',\n",
       "               '2020-01-24', '2020-01-25', '2020-01-26'],\n",
       "              dtype='datetime64[ns]', freq='D')"
      ]
     },
     "execution_count": 154,
     "metadata": {},
     "output_type": "execute_result"
    }
   ],
   "source": [
    "dates = pd.date_range(start = '20-01-2020', end = '26-01-2020')\n",
    "dates"
   ]
  },
  {
   "cell_type": "code",
   "execution_count": 157,
   "id": "e2da2166-1bbd-41b4-a16c-0af674bafaa5",
   "metadata": {},
   "outputs": [
    {
     "data": {
      "text/plain": [
       "dtype('<M8[ns]')"
      ]
     },
     "execution_count": 157,
     "metadata": {},
     "output_type": "execute_result"
    }
   ],
   "source": [
    "dates.dtype"
   ]
  },
  {
   "cell_type": "code",
   "execution_count": 158,
   "id": "288be0cc-e393-417c-942c-524c0494d861",
   "metadata": {},
   "outputs": [
    {
     "data": {
      "text/plain": [
       "DatetimeIndex(['2025-08-20 17:56:08.524578', '2025-08-21 17:56:08.524578',\n",
       "               '2025-08-22 17:56:08.524578', '2025-08-23 17:56:08.524578',\n",
       "               '2025-08-24 17:56:08.524578', '2025-08-25 17:56:08.524578'],\n",
       "              dtype='datetime64[ns]', freq='D')"
      ]
     },
     "execution_count": 158,
     "metadata": {},
     "output_type": "execute_result"
    }
   ],
   "source": [
    "dates = pd.date_range('today',periods = 6)\n",
    "dates"
   ]
  },
  {
   "cell_type": "code",
   "execution_count": 159,
   "id": "87b53c9f-ee0c-496a-b0f0-1d4a25b48a21",
   "metadata": {},
   "outputs": [
    {
     "data": {
      "text/plain": [
       "DatetimeIndex(['2020-01-20', '2020-01-21', '2020-01-22', '2020-01-23',\n",
       "               '2020-01-24', '2020-01-25', '2020-01-26'],\n",
       "              dtype='datetime64[ns]', freq='D')"
      ]
     },
     "execution_count": 159,
     "metadata": {},
     "output_type": "execute_result"
    }
   ],
   "source": [
    "dates = pd.date_range(start = '20-01-2020',periods = 7)\n",
    "dates"
   ]
  },
  {
   "cell_type": "code",
   "execution_count": 160,
   "id": "60371364-a178-49ce-9a28-6126b981c75f",
   "metadata": {},
   "outputs": [
    {
     "data": {
      "text/plain": [
       "array([[0.23947233, 0.41004757, 0.7343337 , 0.50607744, 0.32030511],\n",
       "       [0.76432035, 0.98261409, 0.68434586, 0.93665522, 0.32079869],\n",
       "       [0.68949781, 0.25135973, 0.92498466, 0.21642492, 0.35554308],\n",
       "       [0.12494354, 0.07425566, 0.40642058, 0.94876175, 0.5278151 ],\n",
       "       [0.00587455, 0.55746624, 0.08530305, 0.20044351, 0.38741713]])"
      ]
     },
     "execution_count": 160,
     "metadata": {},
     "output_type": "execute_result"
    }
   ],
   "source": [
    "M = np.random.random((5,5))\n",
    "M"
   ]
  },
  {
   "cell_type": "code",
   "execution_count": null,
   "id": "4ca8b2dc-3e9e-4cbd-8019-edc707ff5e1f",
   "metadata": {},
   "outputs": [],
   "source": []
  }
 ],
 "metadata": {
  "kernelspec": {
   "display_name": "Python 3 (ipykernel)",
   "language": "python",
   "name": "python3"
  },
  "language_info": {
   "codemirror_mode": {
    "name": "ipython",
    "version": 3
   },
   "file_extension": ".py",
   "mimetype": "text/x-python",
   "name": "python",
   "nbconvert_exporter": "python",
   "pygments_lexer": "ipython3",
   "version": "3.13.5"
  }
 },
 "nbformat": 4,
 "nbformat_minor": 5
}
