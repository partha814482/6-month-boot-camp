{
 "cells": [
  {
   "cell_type": "code",
   "execution_count": 1,
   "id": "e6ec6a1d-23bd-4821-89d1-e82c2a2492a1",
   "metadata": {},
   "outputs": [],
   "source": [
    "a =  {1, 2, 3, 4, 5, 6, 7, 8, 9}"
   ]
  },
  {
   "cell_type": "code",
   "execution_count": 2,
   "id": "d494aece-d77a-407f-9e3e-2a0d1e5ee1f7",
   "metadata": {},
   "outputs": [
    {
     "data": {
      "text/plain": [
       "45"
      ]
     },
     "execution_count": 2,
     "metadata": {},
     "output_type": "execute_result"
    }
   ],
   "source": [
    "sum(a)"
   ]
  },
  {
   "cell_type": "code",
   "execution_count": 3,
   "id": "f5fedc25-7ca0-4d10-b066-6ca65494583f",
   "metadata": {},
   "outputs": [],
   "source": [
    "b ={1,2,3,4}"
   ]
  },
  {
   "cell_type": "code",
   "execution_count": 4,
   "id": "a3a9329c-bf58-4349-982c-9483e70c1f41",
   "metadata": {},
   "outputs": [
    {
     "data": {
      "text/plain": [
       "10"
      ]
     },
     "execution_count": 4,
     "metadata": {},
     "output_type": "execute_result"
    }
   ],
   "source": [
    "sum(b)"
   ]
  },
  {
   "cell_type": "code",
   "execution_count": 5,
   "id": "8f6352e9-3e74-4e3a-b8a3-430f89989437",
   "metadata": {},
   "outputs": [
    {
     "data": {
      "text/plain": [
       "9"
      ]
     },
     "execution_count": 5,
     "metadata": {},
     "output_type": "execute_result"
    }
   ],
   "source": [
    "max(a)"
   ]
  },
  {
   "cell_type": "code",
   "execution_count": 6,
   "id": "9524a74a-eaf2-47ca-8730-0a2a803fa317",
   "metadata": {},
   "outputs": [
    {
     "data": {
      "text/plain": [
       "1"
      ]
     },
     "execution_count": 6,
     "metadata": {},
     "output_type": "execute_result"
    }
   ],
   "source": [
    "min(a)"
   ]
  },
  {
   "cell_type": "code",
   "execution_count": 7,
   "id": "9be5c838-b391-418c-9bc3-b551a698d4c1",
   "metadata": {},
   "outputs": [
    {
     "data": {
      "text/plain": [
       "9"
      ]
     },
     "execution_count": 7,
     "metadata": {},
     "output_type": "execute_result"
    }
   ],
   "source": [
    "len(a)"
   ]
  },
  {
   "cell_type": "code",
   "execution_count": 8,
   "id": "f7120abe-52f8-4cc0-a5d8-20438bbf9ee9",
   "metadata": {},
   "outputs": [
    {
     "data": {
      "text/plain": [
       "[1, 2, 3, 4, 5, 6, 7, 8, 9]"
      ]
     },
     "execution_count": 8,
     "metadata": {},
     "output_type": "execute_result"
    }
   ],
   "source": [
    "sorted(a)"
   ]
  },
  {
   "cell_type": "code",
   "execution_count": 9,
   "id": "1d893704-f93d-42f5-aefe-87a12459f34a",
   "metadata": {},
   "outputs": [
    {
     "data": {
      "text/plain": [
       "[9, 8, 7, 6, 5, 4, 3, 2, 1]"
      ]
     },
     "execution_count": 9,
     "metadata": {},
     "output_type": "execute_result"
    }
   ],
   "source": [
    "sorted(a,reverse=True)"
   ]
  },
  {
   "cell_type": "code",
   "execution_count": 10,
   "id": "76bb22d2-9d43-473f-a455-8069a8731926",
   "metadata": {},
   "outputs": [
    {
     "data": {
      "text/plain": [
       "<enumerate at 0x1db380ddee0>"
      ]
     },
     "execution_count": 10,
     "metadata": {},
     "output_type": "execute_result"
    }
   ],
   "source": [
    "enumerate(a)"
   ]
  },
  {
   "cell_type": "code",
   "execution_count": 11,
   "id": "3288c821-62ad-458e-8214-adac28debbf7",
   "metadata": {},
   "outputs": [
    {
     "data": {
      "text/plain": [
       "{1, 2, 3, 4, 5, 6, 7, 8, 9}"
      ]
     },
     "execution_count": 11,
     "metadata": {},
     "output_type": "execute_result"
    }
   ],
   "source": [
    "a"
   ]
  },
  {
   "cell_type": "code",
   "execution_count": 12,
   "id": "6efa4b5f-a856-4a21-9067-a99465af8e5d",
   "metadata": {},
   "outputs": [
    {
     "data": {
      "text/plain": [
       "[(0, 1), (1, 2), (2, 3), (3, 4), (4, 5), (5, 6), (6, 7), (7, 8), (8, 9)]"
      ]
     },
     "execution_count": 12,
     "metadata": {},
     "output_type": "execute_result"
    }
   ],
   "source": [
    "list(enumerate(a))"
   ]
  },
  {
   "cell_type": "code",
   "execution_count": 13,
   "id": "ecd4b2dc-ad98-4e42-be22-2eb8f0f17dbd",
   "metadata": {},
   "outputs": [
    {
     "data": {
      "text/plain": [
       "{1, 2, 3, 4}"
      ]
     },
     "execution_count": 13,
     "metadata": {},
     "output_type": "execute_result"
    }
   ],
   "source": [
    "b"
   ]
  },
  {
   "cell_type": "code",
   "execution_count": 14,
   "id": "8892cc34-5a92-4ec3-9699-1a6821795a86",
   "metadata": {},
   "outputs": [
    {
     "data": {
      "text/plain": [
       "[(0, 1), (1, 2), (2, 3), (3, 4)]"
      ]
     },
     "execution_count": 14,
     "metadata": {},
     "output_type": "execute_result"
    }
   ],
   "source": [
    "list(enumerate(b))"
   ]
  },
  {
   "cell_type": "markdown",
   "id": "a34576bd-7e15-404b-ad26-900007205761",
   "metadata": {},
   "source": [
    "Dictionary"
   ]
  },
  {
   "cell_type": "code",
   "execution_count": 15,
   "id": "4892d40f-008e-4429-bdc2-ac8ed71bd2ac",
   "metadata": {},
   "outputs": [],
   "source": [
    "mydict = {}"
   ]
  },
  {
   "cell_type": "code",
   "execution_count": 16,
   "id": "6dd7e8c0-ace1-4928-b2b7-af480316fdb5",
   "metadata": {},
   "outputs": [
    {
     "data": {
      "text/plain": [
       "{}"
      ]
     },
     "execution_count": 16,
     "metadata": {},
     "output_type": "execute_result"
    }
   ],
   "source": [
    "mydict"
   ]
  },
  {
   "cell_type": "code",
   "execution_count": 17,
   "id": "61e8507d-39be-48c2-a342-be736e457e98",
   "metadata": {},
   "outputs": [
    {
     "data": {
      "text/plain": [
       "dict"
      ]
     },
     "execution_count": 17,
     "metadata": {},
     "output_type": "execute_result"
    }
   ],
   "source": [
    "type(mydict)"
   ]
  },
  {
   "cell_type": "code",
   "execution_count": 18,
   "id": "56ff5886-664b-4e7e-85b4-b228519c1872",
   "metadata": {},
   "outputs": [
    {
     "data": {
      "text/plain": [
       "0"
      ]
     },
     "execution_count": 18,
     "metadata": {},
     "output_type": "execute_result"
    }
   ],
   "source": [
    "len(mydict)"
   ]
  },
  {
   "cell_type": "code",
   "execution_count": 19,
   "id": "d4640249-ada1-4b30-a2bb-4e5061510226",
   "metadata": {},
   "outputs": [],
   "source": [
    "mydict1 = {1:'one' , 2:'two' , 3:'three'} \n",
    "mydict2 = dict({1:'one' , 2:'two' , 3:'three'})\n",
    "mydict3 = {'a':'one','b':'two','c':'three'}\n",
    "mydict4 = {1:'one','s':'secand',4.5:'float number'}\n"
   ]
  },
  {
   "cell_type": "code",
   "execution_count": 20,
   "id": "1c07a27a-c107-43e6-9530-0915b31939ec",
   "metadata": {},
   "outputs": [
    {
     "name": "stdout",
     "output_type": "stream",
     "text": [
      "in mydict1 the key value is integer = {1: 'one', 2: 'two', 3: 'three'}\n",
      "mydict2 is created using dict function = {1: 'one', 2: 'two', 3: 'three'}\n",
      "mydict4 is crested using cheracter value = {'a': 'one', 'b': 'two', 'c': 'three'}\n",
      "the mydict5 is created with mix cherecter = {1: 'one', 's': 'secand', 4.5: 'float number'}\n"
     ]
    }
   ],
   "source": [
    "print(f'in mydict1 the key value is integer = {mydict1}')\n",
    "print(f'mydict2 is created using dict function = {mydict2}')\n",
    "print(f'mydict4 is crested using cheracter value = {mydict3}')\n",
    "print(f'the mydict5 is created with mix cherecter = {mydict4}')"
   ]
  },
  {
   "cell_type": "code",
   "execution_count": 21,
   "id": "3bb0299c-c50e-4757-a6e5-fce725a14ac5",
   "metadata": {},
   "outputs": [
    {
     "data": {
      "text/plain": [
       "dict_keys([1, 2, 3])"
      ]
     },
     "execution_count": 21,
     "metadata": {},
     "output_type": "execute_result"
    }
   ],
   "source": [
    "mydict1.keys()"
   ]
  },
  {
   "cell_type": "code",
   "execution_count": 22,
   "id": "246b6ca1-7cf4-4b86-828f-d786a680f8ef",
   "metadata": {},
   "outputs": [
    {
     "data": {
      "text/plain": [
       "dict_keys(['a', 'b', 'c'])"
      ]
     },
     "execution_count": 22,
     "metadata": {},
     "output_type": "execute_result"
    }
   ],
   "source": [
    "mydict3.keys()"
   ]
  },
  {
   "cell_type": "code",
   "execution_count": 23,
   "id": "a062bd40-f238-4b5c-aace-807214469874",
   "metadata": {},
   "outputs": [
    {
     "data": {
      "text/plain": [
       "dict_keys([1, 's', 4.5])"
      ]
     },
     "execution_count": 23,
     "metadata": {},
     "output_type": "execute_result"
    }
   ],
   "source": [
    "mydict4.keys()"
   ]
  },
  {
   "cell_type": "code",
   "execution_count": 24,
   "id": "7a8a99e5-5894-4dc1-ab8c-2e550e5c24c2",
   "metadata": {},
   "outputs": [
    {
     "data": {
      "text/plain": [
       "dict_values(['one', 'secand', 'float number'])"
      ]
     },
     "execution_count": 24,
     "metadata": {},
     "output_type": "execute_result"
    }
   ],
   "source": [
    "mydict4.values()"
   ]
  },
  {
   "cell_type": "code",
   "execution_count": 25,
   "id": "b3190a1f-982c-4163-ad5f-965deef9b68a",
   "metadata": {},
   "outputs": [
    {
     "data": {
      "text/plain": [
       "dict_values(['one', 'two', 'three'])"
      ]
     },
     "execution_count": 25,
     "metadata": {},
     "output_type": "execute_result"
    }
   ],
   "source": [
    "mydict3.values()"
   ]
  },
  {
   "cell_type": "code",
   "execution_count": 26,
   "id": "67ff1373-0b24-401b-9a60-81d976ad2cdf",
   "metadata": {},
   "outputs": [
    {
     "data": {
      "text/plain": [
       "dict_items([(1, 'one'), ('s', 'secand'), (4.5, 'float number')])"
      ]
     },
     "execution_count": 26,
     "metadata": {},
     "output_type": "execute_result"
    }
   ],
   "source": [
    "mydict4.items()"
   ]
  },
  {
   "cell_type": "code",
   "execution_count": 27,
   "id": "b5185db2-8e60-40eb-9a11-a0105339f7cb",
   "metadata": {},
   "outputs": [
    {
     "data": {
      "text/plain": [
       "3"
      ]
     },
     "execution_count": 27,
     "metadata": {},
     "output_type": "execute_result"
    }
   ],
   "source": [
    "len(mydict4)"
   ]
  },
  {
   "cell_type": "code",
   "execution_count": 28,
   "id": "942b3884-e565-4517-8694-0927b23193f6",
   "metadata": {},
   "outputs": [],
   "source": [
    "d1 = {2:'two',9:'nine','friends':['bapu','amit','nirban']}"
   ]
  },
  {
   "cell_type": "code",
   "execution_count": 29,
   "id": "f59d6e1a-97b2-49b0-8a6e-ac3b8763e23d",
   "metadata": {},
   "outputs": [
    {
     "data": {
      "text/plain": [
       "{2: 'two', 9: 'nine', 'friends': ['bapu', 'amit', 'nirban']}"
      ]
     },
     "execution_count": 29,
     "metadata": {},
     "output_type": "execute_result"
    }
   ],
   "source": [
    "d1"
   ]
  },
  {
   "cell_type": "code",
   "execution_count": 30,
   "id": "d550a6a7-9f22-42b2-a5c5-1acc36d57e23",
   "metadata": {},
   "outputs": [],
   "source": [
    "d2 ={'fruit':'apple','drinks':['sprite','cock','thumpsup'],'first food':('chowmin','chicken pokoda','momturian')}"
   ]
  },
  {
   "cell_type": "code",
   "execution_count": 31,
   "id": "f5bc6586-124f-4144-b6b3-40d524bdb38c",
   "metadata": {},
   "outputs": [
    {
     "data": {
      "text/plain": [
       "{'fruit': 'apple',\n",
       " 'drinks': ['sprite', 'cock', 'thumpsup'],\n",
       " 'first food': ('chowmin', 'chicken pokoda', 'momturian')}"
      ]
     },
     "execution_count": 31,
     "metadata": {},
     "output_type": "execute_result"
    }
   ],
   "source": [
    "d2"
   ]
  },
  {
   "cell_type": "code",
   "execution_count": 32,
   "id": "1ae0476d-d979-4c1d-ad2d-57131c6243c9",
   "metadata": {},
   "outputs": [
    {
     "data": {
      "text/plain": [
       "3"
      ]
     },
     "execution_count": 32,
     "metadata": {},
     "output_type": "execute_result"
    }
   ],
   "source": [
    "len(d2)"
   ]
  },
  {
   "cell_type": "code",
   "execution_count": 33,
   "id": "4f044b55-6eca-450c-8a15-55b28ca3eee6",
   "metadata": {},
   "outputs": [],
   "source": [
    "d3 = {'nagh':('partha','age  23'),'name':{'chitta','age' '24'}}\n",
    "      "
   ]
  },
  {
   "cell_type": "code",
   "execution_count": 34,
   "id": "4150dce1-f4a0-4061-9f97-3b0d08f231c3",
   "metadata": {},
   "outputs": [
    {
     "data": {
      "text/plain": [
       "{'nagh': ('partha', 'age  23'), 'name': {'age24', 'chitta'}}"
      ]
     },
     "execution_count": 34,
     "metadata": {},
     "output_type": "execute_result"
    }
   ],
   "source": [
    "d3"
   ]
  },
  {
   "cell_type": "code",
   "execution_count": 35,
   "id": "bbc5a616-6491-4857-8761-3a0adcdf9e19",
   "metadata": {},
   "outputs": [],
   "source": [
    "mydict = {1:'one' , 2:'two' , 'A':{'Name':'asif' , 'Age' :20}, 'B':('Bat' , 'cat')}"
   ]
  },
  {
   "cell_type": "code",
   "execution_count": 36,
   "id": "20e775a8-737a-4b42-809c-1743a58cfc78",
   "metadata": {},
   "outputs": [
    {
     "data": {
      "text/plain": [
       "{1: 'one', 2: 'two', 'A': {'Name': 'asif', 'Age': 20}, 'B': ('Bat', 'cat')}"
      ]
     },
     "execution_count": 36,
     "metadata": {},
     "output_type": "execute_result"
    }
   ],
   "source": [
    "mydict"
   ]
  },
  {
   "cell_type": "code",
   "execution_count": 37,
   "id": "8dbad163-117b-4e35-8c7b-19645f8013c0",
   "metadata": {},
   "outputs": [],
   "source": [
    "d4 = {'name':('partha','gudu'),'age':{'23','24'},'address':['odisha','bhadrak']}"
   ]
  },
  {
   "cell_type": "code",
   "execution_count": 38,
   "id": "909b8db7-7bf5-4963-b63d-f78b5a79973a",
   "metadata": {},
   "outputs": [
    {
     "data": {
      "text/plain": [
       "{'name': ('partha', 'gudu'),\n",
       " 'age': {'23', '24'},\n",
       " 'address': ['odisha', 'bhadrak']}"
      ]
     },
     "execution_count": 38,
     "metadata": {},
     "output_type": "execute_result"
    }
   ],
   "source": [
    "d4"
   ]
  },
  {
   "cell_type": "code",
   "execution_count": 39,
   "id": "0357e2ad-dbee-4b62-9517-078838cfd377",
   "metadata": {},
   "outputs": [
    {
     "data": {
      "text/plain": [
       "{'a': None, 'b': None, 'c': None}"
      ]
     },
     "execution_count": 39,
     "metadata": {},
     "output_type": "execute_result"
    }
   ],
   "source": [
    "keys = {'a','b','c'}\n",
    "d5 = dict.fromkeys(keys)\n",
    "d5"
   ]
  },
  {
   "cell_type": "code",
   "execution_count": 40,
   "id": "5856a48e-0ec0-4ca5-83ce-91cfce67d2f0",
   "metadata": {},
   "outputs": [
    {
     "data": {
      "text/plain": [
       "{'a': 20, 'b': 20, 'c': 20}"
      ]
     },
     "execution_count": 40,
     "metadata": {},
     "output_type": "execute_result"
    }
   ],
   "source": [
    "keys = {'a','b','c'}\n",
    "value = 20\n",
    "d5 = dict.fromkeys(keys,value)\n",
    "d5"
   ]
  },
  {
   "cell_type": "code",
   "execution_count": 41,
   "id": "48308cff-595d-44dd-abec-1b0a546e64ec",
   "metadata": {},
   "outputs": [
    {
     "data": {
      "text/plain": [
       "{'a': [20, 34, 56], 'b': [20, 34, 56], 'c': [20, 34, 56]}"
      ]
     },
     "execution_count": 41,
     "metadata": {},
     "output_type": "execute_result"
    }
   ],
   "source": [
    "keys = {'a','b','c'}\n",
    "value = [20,34,56]\n",
    "d5 = dict.fromkeys(keys,value)\n",
    "d5"
   ]
  },
  {
   "cell_type": "code",
   "execution_count": 42,
   "id": "fde2df8a-556d-492d-abb9-dee4ff2f0c12",
   "metadata": {},
   "outputs": [
    {
     "data": {
      "text/plain": [
       "{'2': [20, 34, 56], '1': [20, 34, 56], '3': [20, 34, 56]}"
      ]
     },
     "execution_count": 42,
     "metadata": {},
     "output_type": "execute_result"
    }
   ],
   "source": [
    "keys = {'1','2','3'}\n",
    "value = [20,34,56]\n",
    "d5 = dict.fromkeys(keys,value)\n",
    "d5"
   ]
  },
  {
   "cell_type": "code",
   "execution_count": 43,
   "id": "7235b307-7b08-4966-8303-528dfae484d5",
   "metadata": {},
   "outputs": [
    {
     "data": {
      "text/plain": [
       "{False: [20, 34, 56], True: [20, 34, 56], 'c': [20, 34, 56]}"
      ]
     },
     "execution_count": 43,
     "metadata": {},
     "output_type": "execute_result"
    }
   ],
   "source": [
    "keys = {True,False,'c'}\n",
    "value = [20,34,56]\n",
    "d5 = dict.fromkeys(keys,value)\n",
    "d5"
   ]
  },
  {
   "cell_type": "code",
   "execution_count": 44,
   "id": "9743b2bd-b035-4b92-9e85-49b1f18560b2",
   "metadata": {},
   "outputs": [
    {
     "data": {
      "text/plain": [
       "{False: [20, 34, 56], True: [20, 34, 56], 'c': [20, 34, 56]}"
      ]
     },
     "execution_count": 44,
     "metadata": {},
     "output_type": "execute_result"
    }
   ],
   "source": [
    "d5"
   ]
  },
  {
   "cell_type": "code",
   "execution_count": 45,
   "id": "9bbef962-7311-475d-9418-94b91a78f7a5",
   "metadata": {},
   "outputs": [
    {
     "data": {
      "text/plain": [
       "dict_items([(False, [20, 34, 56]), (True, [20, 34, 56]), ('c', [20, 34, 56])])"
      ]
     },
     "execution_count": 45,
     "metadata": {},
     "output_type": "execute_result"
    }
   ],
   "source": [
    "d5.items()"
   ]
  },
  {
   "cell_type": "code",
   "execution_count": 46,
   "id": "00cdadfa-1936-4634-89c6-8fbbb3cf0498",
   "metadata": {},
   "outputs": [
    {
     "data": {
      "text/plain": [
       "{'a': [20, 34, 56], 'b': [20, 34, 56], 'c': [20, 34, 56]}"
      ]
     },
     "execution_count": 46,
     "metadata": {},
     "output_type": "execute_result"
    }
   ],
   "source": [
    "keys = {'a','b','c'}\n",
    "value = [20,34,56]\n",
    "d5 = dict.fromkeys(keys,value)\n",
    "d5"
   ]
  },
  {
   "cell_type": "code",
   "execution_count": 47,
   "id": "08c37c78-f33f-4934-8a48-1dd972d64794",
   "metadata": {},
   "outputs": [
    {
     "data": {
      "text/plain": [
       "{'a': [20, 34, 56, 20], 'b': [20, 34, 56, 20], 'c': [20, 34, 56, 20]}"
      ]
     },
     "execution_count": 47,
     "metadata": {},
     "output_type": "execute_result"
    }
   ],
   "source": [
    "value.append(20)\n",
    "d5"
   ]
  },
  {
   "cell_type": "markdown",
   "id": "d7ca18e5-da3b-4b35-a95b-b3d5edd51776",
   "metadata": {},
   "source": [
    "ACCESSING ITEEMS"
   ]
  },
  {
   "cell_type": "code",
   "execution_count": 48,
   "id": "3a31b359-55ed-41c1-b21f-14e1f0ffdfe1",
   "metadata": {},
   "outputs": [
    {
     "data": {
      "text/plain": [
       "{1: 'one', 2: 'two', 3: 'three'}"
      ]
     },
     "execution_count": 48,
     "metadata": {},
     "output_type": "execute_result"
    }
   ],
   "source": [
    "mydict1"
   ]
  },
  {
   "cell_type": "code",
   "execution_count": 49,
   "id": "5c8d2444-c15b-46d3-898f-5139f2f85e2f",
   "metadata": {},
   "outputs": [
    {
     "data": {
      "text/plain": [
       "'one'"
      ]
     },
     "execution_count": 49,
     "metadata": {},
     "output_type": "execute_result"
    }
   ],
   "source": [
    "mydict1[1]"
   ]
  },
  {
   "cell_type": "code",
   "execution_count": 50,
   "id": "42e4270b-77e5-46db-b901-deb61d247ff5",
   "metadata": {},
   "outputs": [
    {
     "ename": "NameError",
     "evalue": "name 'one' is not defined",
     "output_type": "error",
     "traceback": [
      "\u001b[1;31m---------------------------------------------------------------------------\u001b[0m",
      "\u001b[1;31mNameError\u001b[0m                                 Traceback (most recent call last)",
      "Cell \u001b[1;32mIn[50], line 1\u001b[0m\n\u001b[1;32m----> 1\u001b[0m mydict1[one]\n",
      "\u001b[1;31mNameError\u001b[0m: name 'one' is not defined"
     ]
    }
   ],
   "source": [
    "mydict1[one]"
   ]
  },
  {
   "cell_type": "code",
   "execution_count": null,
   "id": "fc739c01-9c7d-4de8-8d0d-4f14f8b57605",
   "metadata": {},
   "outputs": [],
   "source": [
    "mydict1[1]"
   ]
  },
  {
   "cell_type": "code",
   "execution_count": 51,
   "id": "d177071d-36ee-4a0d-b1fd-d276739ff6f6",
   "metadata": {},
   "outputs": [
    {
     "data": {
      "text/plain": [
       "'one'"
      ]
     },
     "execution_count": 51,
     "metadata": {},
     "output_type": "execute_result"
    }
   ],
   "source": [
    "mydict1.get(1)"
   ]
  },
  {
   "cell_type": "code",
   "execution_count": 52,
   "id": "5f2d8bd6-ef39-4e3f-94bd-6a62e1266c5c",
   "metadata": {},
   "outputs": [
    {
     "data": {
      "text/plain": [
       "{2: 'two', 9: 'nine', 'friends': ['bapu', 'amit', 'nirban']}"
      ]
     },
     "execution_count": 52,
     "metadata": {},
     "output_type": "execute_result"
    }
   ],
   "source": [
    "d1"
   ]
  },
  {
   "cell_type": "code",
   "execution_count": 53,
   "id": "9780670c-f9d1-4888-832d-6b2c72b6f63a",
   "metadata": {},
   "outputs": [
    {
     "data": {
      "text/plain": [
       "['bapu', 'amit', 'nirban']"
      ]
     },
     "execution_count": 53,
     "metadata": {},
     "output_type": "execute_result"
    }
   ],
   "source": [
    "d1['friends']"
   ]
  },
  {
   "cell_type": "code",
   "execution_count": 54,
   "id": "b4110dc5-9f13-4475-9a26-3dd17be44cc6",
   "metadata": {},
   "outputs": [
    {
     "ename": "KeyError",
     "evalue": "('bapu', 'amit', 'nirban')",
     "output_type": "error",
     "traceback": [
      "\u001b[1;31m---------------------------------------------------------------------------\u001b[0m",
      "\u001b[1;31mKeyError\u001b[0m                                  Traceback (most recent call last)",
      "Cell \u001b[1;32mIn[54], line 1\u001b[0m\n\u001b[1;32m----> 1\u001b[0m d1[\u001b[38;5;124m'\u001b[39m\u001b[38;5;124mbapu\u001b[39m\u001b[38;5;124m'\u001b[39m, \u001b[38;5;124m'\u001b[39m\u001b[38;5;124mamit\u001b[39m\u001b[38;5;124m'\u001b[39m, \u001b[38;5;124m'\u001b[39m\u001b[38;5;124mnirban\u001b[39m\u001b[38;5;124m'\u001b[39m]\n",
      "\u001b[1;31mKeyError\u001b[0m: ('bapu', 'amit', 'nirban')"
     ]
    }
   ],
   "source": [
    "d1['bapu', 'amit', 'nirban']"
   ]
  },
  {
   "cell_type": "code",
   "execution_count": 55,
   "id": "f7b37089-85c6-4df1-a779-18bb524ea14e",
   "metadata": {},
   "outputs": [],
   "source": [
    " d9 = {'Name':'partha' , 'ID': 2305242026 , 'DOB': 2003 , 'job' :'data cleaner'}\n"
   ]
  },
  {
   "cell_type": "code",
   "execution_count": 56,
   "id": "bf04000b-2013-4c16-a660-0675b78ef668",
   "metadata": {},
   "outputs": [
    {
     "data": {
      "text/plain": [
       "{'Name': 'partha', 'ID': 2305242026, 'DOB': 2003, 'job': 'data cleaner'}"
      ]
     },
     "execution_count": 56,
     "metadata": {},
     "output_type": "execute_result"
    }
   ],
   "source": [
    "d9"
   ]
  },
  {
   "cell_type": "code",
   "execution_count": 57,
   "id": "e8d26852-48b8-4551-a92d-ce9e37d45c7d",
   "metadata": {},
   "outputs": [
    {
     "name": "stdout",
     "output_type": "stream",
     "text": [
      "partha\n",
      "2305242026\n",
      "2003\n",
      "data cleaner\n"
     ]
    }
   ],
   "source": [
    "print(d9['Name'])\n",
    "print(d9['ID'])\n",
    "print(d9['DOB'])\n",
    "print(d9['job'])"
   ]
  },
  {
   "cell_type": "code",
   "execution_count": 58,
   "id": "3a6a01d6-d283-456d-9332-ea960dcd60ef",
   "metadata": {},
   "outputs": [
    {
     "name": "stdout",
     "output_type": "stream",
     "text": [
      "partha\n",
      "2305242026\n",
      "2003\n",
      "data cleaner\n"
     ]
    }
   ],
   "source": [
    "print(d9.get('Name'))\n",
    "print(d9.get('ID'))\n",
    "print(d9.get('DOB'))\n",
    "print(d9.get('job'))"
   ]
  },
  {
   "cell_type": "markdown",
   "id": "ea34e646-cfe7-4e4d-9f69-d3df10c84f67",
   "metadata": {},
   "source": [
    "ADD REMOVE AND CHANGE ITEM"
   ]
  },
  {
   "cell_type": "code",
   "execution_count": 59,
   "id": "a37f1147-7431-487e-b44a-a7952dda2a9c",
   "metadata": {},
   "outputs": [
    {
     "data": {
      "text/plain": [
       "{'Name': 'partha', 'ID': 2305242026, 'DOB': 2003, 'job': 'data cleaner'}"
      ]
     },
     "execution_count": 59,
     "metadata": {},
     "output_type": "execute_result"
    }
   ],
   "source": [
    "d9\n"
   ]
  },
  {
   "cell_type": "code",
   "execution_count": 60,
   "id": "1540d8aa-ebe2-4faa-85f3-3d30811c6a02",
   "metadata": {},
   "outputs": [
    {
     "data": {
      "text/plain": [
       "{'Name': 'parthasarathi',\n",
       " 'ID': 2305242026,\n",
       " 'DOB': '2002',\n",
       " 'job': 'data cleaner'}"
      ]
     },
     "execution_count": 60,
     "metadata": {},
     "output_type": "execute_result"
    }
   ],
   "source": [
    "d9['Name'] = 'parthasarathi'\n",
    "d9['DOB'] = '2002'\n",
    "d9"
   ]
  },
  {
   "cell_type": "code",
   "execution_count": 61,
   "id": "8bebf942-7362-45d0-a688-e1880922dbe6",
   "metadata": {},
   "outputs": [
    {
     "ename": "NameError",
     "evalue": "name 'DOB' is not defined",
     "output_type": "error",
     "traceback": [
      "\u001b[1;31m---------------------------------------------------------------------------\u001b[0m",
      "\u001b[1;31mNameError\u001b[0m                                 Traceback (most recent call last)",
      "Cell \u001b[1;32mIn[61], line 1\u001b[0m\n\u001b[1;32m----> 1\u001b[0m d9 \u001b[38;5;241m=\u001b[39m {DOB :\u001b[38;5;124m'\u001b[39m\u001b[38;5;124m3323\u001b[39m\u001b[38;5;124m'\u001b[39m}\n\u001b[0;32m      2\u001b[0m d9\u001b[38;5;241m.\u001b[39mupdate(d9)\n",
      "\u001b[1;31mNameError\u001b[0m: name 'DOB' is not defined"
     ]
    }
   ],
   "source": [
    "d9 = {DOB :'3323'}\n",
    "d9.update(d9)\n"
   ]
  },
  {
   "cell_type": "code",
   "execution_count": null,
   "id": "63e0dc32-a38f-44a9-9286-27c5ca8e11ab",
   "metadata": {},
   "outputs": [],
   "source": []
  },
  {
   "cell_type": "code",
   "execution_count": 62,
   "id": "90442c74-d050-48a4-8649-ee05d0cff85e",
   "metadata": {},
   "outputs": [],
   "source": [
    "p1 = {1:'one',2:'two',3:'three',4:'four',5:'five',6:'six'}"
   ]
  },
  {
   "cell_type": "code",
   "execution_count": 63,
   "id": "20dab296-22b6-432d-a4bb-765449348ca0",
   "metadata": {},
   "outputs": [
    {
     "name": "stdout",
     "output_type": "stream",
     "text": [
      "{1: 'one', 2: 'two', 3: 'three', 4: 'four', 5: 'five', 6: 'six'}\n"
     ]
    }
   ],
   "source": [
    "print(p1)"
   ]
  },
  {
   "cell_type": "code",
   "execution_count": 64,
   "id": "6eb1559b-1e7f-4874-9452-8c37e16b52ae",
   "metadata": {},
   "outputs": [
    {
     "data": {
      "text/plain": [
       "{'a': 'one', 'b': 'two', 'c': 'three'}"
      ]
     },
     "execution_count": 64,
     "metadata": {},
     "output_type": "execute_result"
    }
   ],
   "source": [
    "p2 = {'a':'one','b':'two','c':'three'}\n",
    "p2"
   ]
  },
  {
   "cell_type": "code",
   "execution_count": 65,
   "id": "ebc79d3b-f741-4fd0-827a-1eb4625627b8",
   "metadata": {},
   "outputs": [
    {
     "ename": "TypeError",
     "evalue": "unhashable type: 'set'",
     "output_type": "error",
     "traceback": [
      "\u001b[1;31m---------------------------------------------------------------------------\u001b[0m",
      "\u001b[1;31mTypeError\u001b[0m                                 Traceback (most recent call last)",
      "Cell \u001b[1;32mIn[65], line 1\u001b[0m\n\u001b[1;32m----> 1\u001b[0m p3 \u001b[38;5;241m=\u001b[39m {{\u001b[38;5;124m'\u001b[39m\u001b[38;5;124mvagetable\u001b[39m\u001b[38;5;124m'\u001b[39m\u001b[38;5;124m'\u001b[39m\u001b[38;5;124mpotato\u001b[39m\u001b[38;5;124m'\u001b[39m,\u001b[38;5;124m'\u001b[39m\u001b[38;5;124mtomato\u001b[39m\u001b[38;5;124m'\u001b[39m,\u001b[38;5;124m'\u001b[39m\u001b[38;5;124mcocomber\u001b[39m\u001b[38;5;124m'\u001b[39m},(\u001b[38;5;124m'\u001b[39m\u001b[38;5;124mname\u001b[39m\u001b[38;5;124m'\u001b[39m\u001b[38;5;124m'\u001b[39m\u001b[38;5;124mpartha\u001b[39m\u001b[38;5;124m'\u001b[39m,\u001b[38;5;124m'\u001b[39m\u001b[38;5;124mage\u001b[39m\u001b[38;5;124m'\u001b[39m\u001b[38;5;124m'\u001b[39m\u001b[38;5;124m23\u001b[39m\u001b[38;5;124m'\u001b[39m),\u001b[38;5;124m'\u001b[39m\u001b[38;5;124mid\u001b[39m\u001b[38;5;124m'\u001b[39m\u001b[38;5;124m'\u001b[39m\u001b[38;5;124m230524\u001b[39m\u001b[38;5;124m'\u001b[39m}\n\u001b[0;32m      2\u001b[0m p3\n",
      "\u001b[1;31mTypeError\u001b[0m: unhashable type: 'set'"
     ]
    }
   ],
   "source": [
    "p3 = {{'vagetable''potato','tomato','cocomber'},('name''partha','age''23'),'id''230524'}\n",
    "p3"
   ]
  },
  {
   "cell_type": "code",
   "execution_count": null,
   "id": "68d74a55-ecb3-4c87-9fd1-c395944e1834",
   "metadata": {},
   "outputs": [],
   "source": []
  },
  {
   "cell_type": "code",
   "execution_count": 66,
   "id": "5ab182f5-fe77-4183-80f9-233dfeda71ed",
   "metadata": {},
   "outputs": [],
   "source": [
    "set2 ={1,2,3,4,5,67,89}"
   ]
  },
  {
   "cell_type": "code",
   "execution_count": 67,
   "id": "2f8f9344-f70a-4d6c-8de7-5a9c8ba8ef08",
   "metadata": {},
   "outputs": [
    {
     "name": "stdout",
     "output_type": "stream",
     "text": [
      "1\n",
      "2\n",
      "3\n",
      "4\n",
      "5\n",
      "67\n",
      "89\n"
     ]
    }
   ],
   "source": [
    "for i in set2:\n",
    "    print(i)\n"
   ]
  },
  {
   "cell_type": "code",
   "execution_count": 68,
   "id": "6edb94b6-f6ab-44c9-a805-421a5d3d5b6d",
   "metadata": {},
   "outputs": [
    {
     "name": "stdout",
     "output_type": "stream",
     "text": [
      "(0, 1)\n",
      "(1, 2)\n",
      "(2, 3)\n",
      "(3, 4)\n",
      "(4, 5)\n",
      "(5, 67)\n",
      "(6, 89)\n"
     ]
    }
   ],
   "source": [
    "for i in enumerate(set2):\n",
    "    print(i)"
   ]
  },
  {
   "cell_type": "code",
   "execution_count": 69,
   "id": "9e3336d8-b5cc-45ce-8bdb-d70e8723f074",
   "metadata": {},
   "outputs": [
    {
     "data": {
      "text/plain": [
       "{1, 2, 3, 4, 5, 67, 89}"
      ]
     },
     "execution_count": 69,
     "metadata": {},
     "output_type": "execute_result"
    }
   ],
   "source": [
    "set2"
   ]
  },
  {
   "cell_type": "code",
   "execution_count": 70,
   "id": "a6733500-2170-49cb-bc9b-d5376cd75744",
   "metadata": {},
   "outputs": [
    {
     "data": {
      "text/plain": [
       "[(0, 1), (1, 2), (2, 3), (3, 4), (4, 5), (5, 67), (6, 89)]"
      ]
     },
     "execution_count": 70,
     "metadata": {},
     "output_type": "execute_result"
    }
   ],
   "source": [
    "list(enumerate(set2))"
   ]
  },
  {
   "cell_type": "code",
   "execution_count": 71,
   "id": "a71222f9-6def-4e29-873a-67e165ae2392",
   "metadata": {},
   "outputs": [],
   "source": [
    "p3 = {'a':'one','name':['partha','prakash','age''23','25'],'colddrink':('cock','sprite')}"
   ]
  },
  {
   "cell_type": "code",
   "execution_count": 72,
   "id": "1792d803-8e48-48a2-97e2-c2b20c18196c",
   "metadata": {},
   "outputs": [
    {
     "data": {
      "text/plain": [
       "{'a': 'one',\n",
       " 'name': ['partha', 'prakash', 'age23', '25'],\n",
       " 'colddrink': ('cock', 'sprite')}"
      ]
     },
     "execution_count": 72,
     "metadata": {},
     "output_type": "execute_result"
    }
   ],
   "source": [
    "p3"
   ]
  },
  {
   "cell_type": "code",
   "execution_count": 73,
   "id": "b451aff3-aea1-49ce-aaeb-d4c2358ecc16",
   "metadata": {},
   "outputs": [
    {
     "data": {
      "text/plain": [
       "dict_values(['one', ['partha', 'prakash', 'age23', '25'], ('cock', 'sprite')])"
      ]
     },
     "execution_count": 73,
     "metadata": {},
     "output_type": "execute_result"
    }
   ],
   "source": [
    "p3.values()"
   ]
  },
  {
   "cell_type": "code",
   "execution_count": 74,
   "id": "29b9c3eb-ef5a-4063-bb74-8671efc67600",
   "metadata": {},
   "outputs": [
    {
     "data": {
      "text/plain": [
       "dict_keys(['a', 'name', 'colddrink'])"
      ]
     },
     "execution_count": 74,
     "metadata": {},
     "output_type": "execute_result"
    }
   ],
   "source": [
    "p3.keys()"
   ]
  },
  {
   "cell_type": "code",
   "execution_count": 75,
   "id": "857a3124-77ea-4bf7-8d1b-1d95f1f9579e",
   "metadata": {},
   "outputs": [
    {
     "data": {
      "text/plain": [
       "dict_items([('a', 'one'), ('name', ['partha', 'prakash', 'age23', '25']), ('colddrink', ('cock', 'sprite'))])"
      ]
     },
     "execution_count": 75,
     "metadata": {},
     "output_type": "execute_result"
    }
   ],
   "source": [
    "p3.items()"
   ]
  },
  {
   "cell_type": "code",
   "execution_count": 79,
   "id": "aa739f18-1728-4517-8f35-580545e09266",
   "metadata": {},
   "outputs": [
    {
     "data": {
      "text/plain": [
       "3"
      ]
     },
     "execution_count": 79,
     "metadata": {},
     "output_type": "execute_result"
    }
   ],
   "source": [
    "len(p3)"
   ]
  },
  {
   "cell_type": "code",
   "execution_count": 86,
   "id": "7c0aa11a-4d72-444c-910c-4a80db20850a",
   "metadata": {},
   "outputs": [
    {
     "data": {
      "text/plain": [
       "{'y': [20, 34, 56, 20],\n",
       " 'r': [20, 34, 56, 20],\n",
       " 'z': [20, 34, 56, 20],\n",
       " 'x': [20, 34, 56, 20]}"
      ]
     },
     "execution_count": 86,
     "metadata": {},
     "output_type": "execute_result"
    }
   ],
   "source": [
    "keys = {'x','r','y','z'}\n",
    "values = [10,222,485]\n",
    "p3 = dict.fromkeys(keys,value)\n",
    "p3"
   ]
  },
  {
   "cell_type": "code",
   "execution_count": 89,
   "id": "a6b65ba8-f72e-4abf-9e4b-6d1872d44a2a",
   "metadata": {},
   "outputs": [
    {
     "data": {
      "text/plain": [
       "{'y': [20, 34, 56, 20, 234, 234, 234],\n",
       " 'r': [20, 34, 56, 20, 234, 234, 234],\n",
       " 'z': [20, 34, 56, 20, 234, 234, 234],\n",
       " 'x': [20, 34, 56, 20, 234, 234, 234]}"
      ]
     },
     "execution_count": 89,
     "metadata": {},
     "output_type": "execute_result"
    }
   ],
   "source": [
    "value.append(234)\n",
    "p3"
   ]
  },
  {
   "cell_type": "code",
   "execution_count": 90,
   "id": "d0e4d614-d915-47f5-bc65-088f3966d214",
   "metadata": {},
   "outputs": [
    {
     "data": {
      "text/plain": [
       "{1, 2, 3, 4, 5, 67, 89}"
      ]
     },
     "execution_count": 90,
     "metadata": {},
     "output_type": "execute_result"
    }
   ],
   "source": [
    "set2"
   ]
  },
  {
   "cell_type": "code",
   "execution_count": 93,
   "id": "ebc1b017-709c-4681-acbc-338a758c98f5",
   "metadata": {},
   "outputs": [
    {
     "data": {
      "text/plain": [
       "[89, 67, 5, 4, 3, 2, 1]"
      ]
     },
     "execution_count": 93,
     "metadata": {},
     "output_type": "execute_result"
    }
   ],
   "source": [
    "sorted(set2,reverse=True)"
   ]
  },
  {
   "cell_type": "code",
   "execution_count": 94,
   "id": "7b1c4e5b-1e7e-4291-8706-fcbc0e88f95c",
   "metadata": {},
   "outputs": [
    {
     "data": {
      "text/plain": [
       "{1: 'one', 2: 'two', 3: 'three', 4: 'four', 5: 'five', 6: 'six'}"
      ]
     },
     "execution_count": 94,
     "metadata": {},
     "output_type": "execute_result"
    }
   ],
   "source": [
    "p1"
   ]
  },
  {
   "cell_type": "code",
   "execution_count": 96,
   "id": "afea0b02-7bb9-414b-9fc5-53016289ece2",
   "metadata": {},
   "outputs": [
    {
     "data": {
      "text/plain": [
       "'six'"
      ]
     },
     "execution_count": 96,
     "metadata": {},
     "output_type": "execute_result"
    }
   ],
   "source": [
    "p1[6]"
   ]
  },
  {
   "cell_type": "code",
   "execution_count": 98,
   "id": "8c53b118-2641-4d38-a6f6-9d85795863ad",
   "metadata": {},
   "outputs": [
    {
     "data": {
      "text/plain": [
       "'four'"
      ]
     },
     "execution_count": 98,
     "metadata": {},
     "output_type": "execute_result"
    }
   ],
   "source": [
    "p1.get(4)"
   ]
  },
  {
   "cell_type": "markdown",
   "id": "6c1f8b3e-3267-4ce0-a450-11baf94cbdc2",
   "metadata": {},
   "source": [
    "COPY"
   ]
  },
  {
   "cell_type": "code",
   "execution_count": 99,
   "id": "ddf572b3-fe86-4829-965d-d0c4a1420c54",
   "metadata": {},
   "outputs": [
    {
     "data": {
      "text/plain": [
       "{1, 2, 3, 4, 5, 67, 89}"
      ]
     },
     "execution_count": 99,
     "metadata": {},
     "output_type": "execute_result"
    }
   ],
   "source": [
    "set2"
   ]
  },
  {
   "cell_type": "code",
   "execution_count": 102,
   "id": "125b8108-8b27-41b4-8e33-8d56d13a609b",
   "metadata": {},
   "outputs": [
    {
     "data": {
      "text/plain": [
       "{1, 2, 3, 4, 5, 67, 89}"
      ]
     },
     "execution_count": 102,
     "metadata": {},
     "output_type": "execute_result"
    }
   ],
   "source": [
    "l1 = set2.copy()\n",
    "l1"
   ]
  },
  {
   "cell_type": "code",
   "execution_count": 106,
   "id": "e18a644a-97a6-4598-bb45-3d4db71253a2",
   "metadata": {},
   "outputs": [
    {
     "name": "stdout",
     "output_type": "stream",
     "text": [
      "2041069109536\n",
      "2041064278048\n"
     ]
    }
   ],
   "source": [
    "print(id(l1))\n",
    "print(id(set2))"
   ]
  },
  {
   "cell_type": "code",
   "execution_count": 108,
   "id": "2e858fc9-80b7-4fdc-8cd0-be8749292d91",
   "metadata": {},
   "outputs": [
    {
     "data": {
      "text/plain": [
       "{6, 7, 34, 56}"
      ]
     },
     "execution_count": 108,
     "metadata": {},
     "output_type": "execute_result"
    }
   ],
   "source": [
    "k = {34,56,6,7}\n",
    "l = k.copy()\n",
    "l"
   ]
  },
  {
   "cell_type": "code",
   "execution_count": 111,
   "id": "d2ff3e87-24e9-4da1-94d6-b503f1a1d382",
   "metadata": {},
   "outputs": [],
   "source": [
    "k=l"
   ]
  },
  {
   "cell_type": "code",
   "execution_count": 113,
   "id": "5181c9c5-9e61-4ed2-9cfd-8287a622cfef",
   "metadata": {},
   "outputs": [
    {
     "name": "stdout",
     "output_type": "stream",
     "text": [
      "2041050619616\n",
      "2041050619616\n"
     ]
    }
   ],
   "source": [
    "print(id(k))\n",
    "print(id(l))"
   ]
  },
  {
   "cell_type": "markdown",
   "id": "2748111d-8d65-422f-af01-37bb3afb71cc",
   "metadata": {},
   "source": [
    "loop through a dict"
   ]
  },
  {
   "cell_type": "code",
   "execution_count": 114,
   "id": "82d987bb-24e6-4a5d-ba69-724c0bdb6b14",
   "metadata": {},
   "outputs": [
    {
     "data": {
      "text/plain": [
       "{'Name': 'parthasarathi',\n",
       " 'ID': 2305242026,\n",
       " 'DOB': '2002',\n",
       " 'job': 'data cleaner'}"
      ]
     },
     "execution_count": 114,
     "metadata": {},
     "output_type": "execute_result"
    }
   ],
   "source": [
    "d9"
   ]
  },
  {
   "cell_type": "code",
   "execution_count": 116,
   "id": "6dd86701-bb18-4a96-a102-abb5bf01e9c3",
   "metadata": {},
   "outputs": [
    {
     "name": "stdout",
     "output_type": "stream",
     "text": [
      "Name\n",
      "ID\n",
      "DOB\n",
      "job\n"
     ]
    }
   ],
   "source": [
    "for i in d9:\n",
    "    print(i)"
   ]
  },
  {
   "cell_type": "code",
   "execution_count": 118,
   "id": "bba65064-28c0-47c6-b079-03d82748b720",
   "metadata": {},
   "outputs": [
    {
     "name": "stdout",
     "output_type": "stream",
     "text": [
      "(0, 'Name')\n",
      "(1, 'ID')\n",
      "(2, 'DOB')\n",
      "(3, 'job')\n"
     ]
    }
   ],
   "source": [
    "for i in enumerate(d9):\n",
    "    print(i)"
   ]
  },
  {
   "cell_type": "code",
   "execution_count": 120,
   "id": "40bcec58-bf4e-44ba-8e50-6097d45adbec",
   "metadata": {},
   "outputs": [
    {
     "name": "stdout",
     "output_type": "stream",
     "text": [
      "Name : {'Name': 'parthasarathi', 'ID': 2305242026, 'DOB': '2002', 'job': 'data cleaner'}\n",
      "ID : {'Name': 'parthasarathi', 'ID': 2305242026, 'DOB': '2002', 'job': 'data cleaner'}\n",
      "DOB : {'Name': 'parthasarathi', 'ID': 2305242026, 'DOB': '2002', 'job': 'data cleaner'}\n",
      "job : {'Name': 'parthasarathi', 'ID': 2305242026, 'DOB': '2002', 'job': 'data cleaner'}\n"
     ]
    }
   ],
   "source": [
    "for i in d9:\n",
    "    print(i,':',d9)"
   ]
  },
  {
   "cell_type": "code",
   "execution_count": 121,
   "id": "6daa3602-3110-490b-932a-534d614dc014",
   "metadata": {},
   "outputs": [],
   "source": [
    "g1 = {'Name':'Asif' , 'ID': 12345 , 'DOB': 1991 , 'Address' : 'Hilsinki' }"
   ]
  },
  {
   "cell_type": "code",
   "execution_count": 123,
   "id": "84f126a3-dc17-4963-817f-24c7e351ffff",
   "metadata": {},
   "outputs": [
    {
     "name": "stdout",
     "output_type": "stream",
     "text": [
      "Name : {'Name': 'Asif', 'ID': 12345, 'DOB': 1991, 'Address': 'Hilsinki'}\n",
      "ID : {'Name': 'Asif', 'ID': 12345, 'DOB': 1991, 'Address': 'Hilsinki'}\n",
      "DOB : {'Name': 'Asif', 'ID': 12345, 'DOB': 1991, 'Address': 'Hilsinki'}\n",
      "Address : {'Name': 'Asif', 'ID': 12345, 'DOB': 1991, 'Address': 'Hilsinki'}\n"
     ]
    }
   ],
   "source": [
    "for i in g1:\n",
    "    print(i,':',g1)"
   ]
  },
  {
   "cell_type": "markdown",
   "id": "dbaf67c1-d855-4301-b35e-ec2ec07f0b33",
   "metadata": {},
   "source": [
    "Membership"
   ]
  },
  {
   "cell_type": "code",
   "execution_count": 124,
   "id": "a1d30f31-f8e5-4fbf-bf6e-88610c670afa",
   "metadata": {},
   "outputs": [
    {
     "data": {
      "text/plain": [
       "{'Name': 'Asif', 'ID': 12345, 'DOB': 1991, 'Address': 'Hilsinki'}"
      ]
     },
     "execution_count": 124,
     "metadata": {},
     "output_type": "execute_result"
    }
   ],
   "source": [
    "g1"
   ]
  },
  {
   "cell_type": "code",
   "execution_count": 126,
   "id": "78ce868d-5ed3-4502-b7e2-51498c05d7ac",
   "metadata": {},
   "outputs": [
    {
     "data": {
      "text/plain": [
       "True"
      ]
     },
     "execution_count": 126,
     "metadata": {},
     "output_type": "execute_result"
    }
   ],
   "source": [
    "'Name' in g1"
   ]
  },
  {
   "cell_type": "code",
   "execution_count": 127,
   "id": "fbbbbaa6-05ec-4666-96cb-7a2e9075bc35",
   "metadata": {},
   "outputs": [
    {
     "data": {
      "text/plain": [
       "False"
      ]
     },
     "execution_count": 127,
     "metadata": {},
     "output_type": "execute_result"
    }
   ],
   "source": [
    "1991 in g1"
   ]
  },
  {
   "cell_type": "code",
   "execution_count": 128,
   "id": "f9448227-cf24-4775-87b8-407a028527dc",
   "metadata": {},
   "outputs": [
    {
     "data": {
      "text/plain": [
       "True"
      ]
     },
     "execution_count": 128,
     "metadata": {},
     "output_type": "execute_result"
    }
   ],
   "source": [
    "'Address' in g1"
   ]
  },
  {
   "cell_type": "markdown",
   "id": "42d62373-5094-4f22-921c-fa86d4bbd147",
   "metadata": {},
   "source": [
    "ADD REMOVE CHANGE"
   ]
  },
  {
   "cell_type": "code",
   "execution_count": 130,
   "id": "f0b1a942-372b-4247-a13b-87e2042acdc5",
   "metadata": {},
   "outputs": [
    {
     "data": {
      "text/plain": [
       "{'Name': 'Asif', 'ID': 12345, 'DOB': 1991, 'Address': 'Hilsinki'}"
      ]
     },
     "execution_count": 130,
     "metadata": {},
     "output_type": "execute_result"
    }
   ],
   "source": [
    "g1"
   ]
  },
  {
   "cell_type": "code",
   "execution_count": 133,
   "id": "e4c188a7-ae40-4ec0-93b4-0fe5c6a27069",
   "metadata": {},
   "outputs": [],
   "source": [
    "g1['Name'] = 'partha'\n",
    "g1['Address'] = 'odisha'\n"
   ]
  },
  {
   "cell_type": "code",
   "execution_count": 134,
   "id": "b1bda239-299d-4bea-a45e-35caa5e764d7",
   "metadata": {},
   "outputs": [
    {
     "data": {
      "text/plain": [
       "{'Name': 'partha',\n",
       " 'ID': 12345,\n",
       " 'DOB': 1991,\n",
       " 'Address': 'odisha',\n",
       " 'address': 'odisha'}"
      ]
     },
     "execution_count": 134,
     "metadata": {},
     "output_type": "execute_result"
    }
   ],
   "source": [
    "g1"
   ]
  },
  {
   "cell_type": "code",
   "execution_count": 136,
   "id": "b08f6c7a-5767-4175-8d75-092879583bde",
   "metadata": {},
   "outputs": [
    {
     "data": {
      "text/plain": [
       "True"
      ]
     },
     "execution_count": 136,
     "metadata": {},
     "output_type": "execute_result"
    }
   ],
   "source": [
    "all(g1)"
   ]
  },
  {
   "cell_type": "code",
   "execution_count": 137,
   "id": "79723cfb-becb-4a5c-82e6-25a0b3ecef4e",
   "metadata": {},
   "outputs": [
    {
     "data": {
      "text/plain": [
       "True"
      ]
     },
     "execution_count": 137,
     "metadata": {},
     "output_type": "execute_result"
    }
   ],
   "source": [
    "any(g1)"
   ]
  }
 ],
 "metadata": {
  "kernelspec": {
   "display_name": "Python 3 (ipykernel)",
   "language": "python",
   "name": "python3"
  },
  "language_info": {
   "codemirror_mode": {
    "name": "ipython",
    "version": 3
   },
   "file_extension": ".py",
   "mimetype": "text/x-python",
   "name": "python",
   "nbconvert_exporter": "python",
   "pygments_lexer": "ipython3",
   "version": "3.13.5"
  }
 },
 "nbformat": 4,
 "nbformat_minor": 5
}
