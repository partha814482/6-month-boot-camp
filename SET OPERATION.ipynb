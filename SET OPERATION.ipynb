{
 "cells": [
  {
   "cell_type": "code",
   "execution_count": 1,
   "id": "59b77536-60fc-43e5-bfe4-e3b3a9479bfb",
   "metadata": {},
   "outputs": [],
   "source": [
    "a1 = {1,3,2,4,5,6,7,8,9}\n",
    "b2 = {35,4,555,65,75}\n",
    "c2= {10,20,30,40}"
   ]
  },
  {
   "cell_type": "code",
   "execution_count": 2,
   "id": "68468d39-636d-4f54-9085-5c9a6338c9a4",
   "metadata": {},
   "outputs": [
    {
     "data": {
      "text/plain": [
       "False"
      ]
     },
     "execution_count": 2,
     "metadata": {},
     "output_type": "execute_result"
    }
   ],
   "source": [
    "a1.issubset(b2)"
   ]
  },
  {
   "cell_type": "code",
   "execution_count": 3,
   "id": "595a4fea-6029-40bf-85a8-597913731ee8",
   "metadata": {},
   "outputs": [
    {
     "data": {
      "text/plain": [
       "True"
      ]
     },
     "execution_count": 3,
     "metadata": {},
     "output_type": "execute_result"
    }
   ],
   "source": [
    "b2.isdisjoint(c2)"
   ]
  },
  {
   "cell_type": "code",
   "execution_count": 4,
   "id": "00c12eeb-1a6b-47a5-ab06-c7ebe90efba4",
   "metadata": {},
   "outputs": [
    {
     "data": {
      "text/plain": [
       "False"
      ]
     },
     "execution_count": 4,
     "metadata": {},
     "output_type": "execute_result"
    }
   ],
   "source": [
    "b2.issuperset(a1)\n"
   ]
  },
  {
   "cell_type": "code",
   "execution_count": 5,
   "id": "fb19c586-1376-468f-ae2d-5c27bc374015",
   "metadata": {},
   "outputs": [],
   "source": [
    "d = {}"
   ]
  },
  {
   "cell_type": "code",
   "execution_count": 6,
   "id": "b7cfe114-71fb-4472-8199-6626d4379d41",
   "metadata": {},
   "outputs": [
    {
     "data": {
      "text/plain": [
       "{}"
      ]
     },
     "execution_count": 6,
     "metadata": {},
     "output_type": "execute_result"
    }
   ],
   "source": [
    "d"
   ]
  },
  {
   "cell_type": "code",
   "execution_count": null,
   "id": "a0570a71-40a1-47e2-bfc9-52d06fde865f",
   "metadata": {},
   "outputs": [],
   "source": []
  },
  {
   "cell_type": "code",
   "execution_count": 7,
   "id": "4ccb7667-b785-414e-b695-7ac0cc14aa42",
   "metadata": {},
   "outputs": [
    {
     "data": {
      "text/plain": [
       "dict"
      ]
     },
     "execution_count": 7,
     "metadata": {},
     "output_type": "execute_result"
    }
   ],
   "source": [
    "type(d)"
   ]
  },
  {
   "cell_type": "code",
   "execution_count": 8,
   "id": "88634bbb-f010-4ef5-97a8-bd03e00ed4bc",
   "metadata": {},
   "outputs": [
    {
     "data": {
      "text/plain": [
       "{1: 'one', 2: 'two', 3: 'three'}"
      ]
     },
     "execution_count": 8,
     "metadata": {},
     "output_type": "execute_result"
    }
   ],
   "source": [
    "d1 = {1:'one',2:'two',3:'three'}\n",
    "d1"
   ]
  },
  {
   "cell_type": "code",
   "execution_count": 9,
   "id": "be1f6c35-c6bc-4ec9-a077-7c8ed9d26280",
   "metadata": {},
   "outputs": [
    {
     "data": {
      "text/plain": [
       "dict_keys([1, 2, 3])"
      ]
     },
     "execution_count": 9,
     "metadata": {},
     "output_type": "execute_result"
    }
   ],
   "source": [
    "d1.keys()"
   ]
  },
  {
   "cell_type": "code",
   "execution_count": 10,
   "id": "2024a356-f895-4f38-bea6-89ff01b23d24",
   "metadata": {},
   "outputs": [
    {
     "data": {
      "text/plain": [
       "dict_values(['one', 'two', 'three'])"
      ]
     },
     "execution_count": 10,
     "metadata": {},
     "output_type": "execute_result"
    }
   ],
   "source": [
    "d1.values()"
   ]
  },
  {
   "cell_type": "code",
   "execution_count": 11,
   "id": "00cfb568-2e5f-46d6-9593-58eda837b115",
   "metadata": {},
   "outputs": [
    {
     "data": {
      "text/plain": [
       "dict_items([(1, 'one'), (2, 'two'), (3, 'three')])"
      ]
     },
     "execution_count": 11,
     "metadata": {},
     "output_type": "execute_result"
    }
   ],
   "source": [
    "d1.items()"
   ]
  },
  {
   "cell_type": "code",
   "execution_count": 12,
   "id": "34ac4f65-5d7d-4fe1-9669-2db13f00ec10",
   "metadata": {},
   "outputs": [
    {
     "data": {
      "text/plain": [
       "'two'"
      ]
     },
     "execution_count": 12,
     "metadata": {},
     "output_type": "execute_result"
    }
   ],
   "source": [
    "d1[2]"
   ]
  },
  {
   "cell_type": "code",
   "execution_count": 13,
   "id": "88c170ac-2e63-4c7d-8f8c-36077727c5cb",
   "metadata": {},
   "outputs": [
    {
     "data": {
      "text/plain": [
       "'three'"
      ]
     },
     "execution_count": 13,
     "metadata": {},
     "output_type": "execute_result"
    }
   ],
   "source": [
    "d1.get(3)"
   ]
  },
  {
   "cell_type": "code",
   "execution_count": 14,
   "id": "d44abe4f-c904-4be0-a3fd-afe9485ac5b5",
   "metadata": {},
   "outputs": [
    {
     "data": {
      "text/plain": [
       "{1: 'one', 2: 'two', 3: 'three'}"
      ]
     },
     "execution_count": 14,
     "metadata": {},
     "output_type": "execute_result"
    }
   ],
   "source": [
    "d1"
   ]
  },
  {
   "cell_type": "code",
   "execution_count": 15,
   "id": "3887e920-46ed-4c78-92b7-090eaa257f7b",
   "metadata": {},
   "outputs": [
    {
     "name": "stdout",
     "output_type": "stream",
     "text": [
      "1\n",
      "2\n",
      "3\n"
     ]
    }
   ],
   "source": [
    "for i in d1:\n",
    "    print(i)"
   ]
  },
  {
   "cell_type": "code",
   "execution_count": 16,
   "id": "1b16a361-71cb-456c-9c88-e2a712b1c1f3",
   "metadata": {},
   "outputs": [
    {
     "data": {
      "text/plain": [
       "2681921356608"
      ]
     },
     "execution_count": 16,
     "metadata": {},
     "output_type": "execute_result"
    }
   ],
   "source": [
    "id(d1)"
   ]
  },
  {
   "cell_type": "code",
   "execution_count": 17,
   "id": "7e90f4e7-b189-4593-8af6-f96109437d58",
   "metadata": {},
   "outputs": [],
   "source": [
    "x = 3\n",
    "y = 5"
   ]
  },
  {
   "cell_type": "code",
   "execution_count": null,
   "id": "27b79c37-2623-4959-be1b-9c33de152bb5",
   "metadata": {},
   "outputs": [],
   "source": []
  },
  {
   "cell_type": "code",
   "execution_count": 18,
   "id": "f9e558f3-9765-4edd-baff-13d7a8d96d19",
   "metadata": {},
   "outputs": [],
   "source": [
    "#help()"
   ]
  },
  {
   "cell_type": "markdown",
   "id": "dac08e56-8212-49f8-a79a-b318656875fe",
   "metadata": {},
   "source": [
    "TUPLE CREATION\n"
   ]
  },
  {
   "cell_type": "code",
   "execution_count": 19,
   "id": "317a0ecf-c603-4a12-9d32-a8eb9f8032f6",
   "metadata": {},
   "outputs": [],
   "source": [
    "t1 = (1,2,3,4,5)\n",
    "t2 = (1.2,3.4,5.6,98.7)\n",
    "t3 = ('apple','orange','dragen fruit','grapes')\n",
    "t4 = (True,False)\n",
    "t5 = (2+3j,5+7j,56+80j)\n",
    "t6 = (34,5.6,'partha',True,{45,56},5+6j,{'prakash','deep'},[23,9.5],('nit','usa'))"
   ]
  },
  {
   "cell_type": "code",
   "execution_count": 20,
   "id": "6af188b4-5b26-42df-a049-27e27f8c2522",
   "metadata": {},
   "outputs": [
    {
     "name": "stdout",
     "output_type": "stream",
     "text": [
      "the intiger tuple t1 is = (1, 2, 3, 4, 5)\n",
      "the float tuple t2 is = (1.2, 3.4, 5.6, 98.7)\n",
      "the string tuple t3 is = ('apple', 'orange', 'dragen fruit', 'grapes')\n",
      "the boolen tuple t4 is = (True, False)\n",
      "the complex tuple t5 is = ((2+3j), (5+7j), (56+80j))\n",
      "the mixed type of tuple t6 is = (34, 5.6, 'partha', True, {56, 45}, (5+6j), {'deep', 'prakash'}, [23, 9.5], ('nit', 'usa'))\n"
     ]
    }
   ],
   "source": [
    "print(f'the intiger tuple t1 is = {t1}')\n",
    "print(f'the float tuple t2 is = {t2}')\n",
    "print(f'the string tuple t3 is = {t3}')\n",
    "print(f'the boolen tuple t4 is = {t4}')\n",
    "print(f'the complex tuple t5 is = {t5}')\n",
    "print(f'the mixed type of tuple t6 is = {t6}')"
   ]
  },
  {
   "cell_type": "markdown",
   "id": "c83f9bdd-b206-4896-8032-17e3c4cacaae",
   "metadata": {},
   "source": [
    "TUPLE INDEXING"
   ]
  },
  {
   "cell_type": "code",
   "execution_count": 21,
   "id": "ced69d8a-ef2e-4f18-bb15-999d41c2aaae",
   "metadata": {},
   "outputs": [
    {
     "data": {
      "text/plain": [
       "1"
      ]
     },
     "execution_count": 21,
     "metadata": {},
     "output_type": "execute_result"
    }
   ],
   "source": [
    "t1[0]"
   ]
  },
  {
   "cell_type": "code",
   "execution_count": 22,
   "id": "101027d7-d0c2-44b0-b822-66e4763bf554",
   "metadata": {},
   "outputs": [
    {
     "data": {
      "text/plain": [
       "('apple', 'orange', 'dragen fruit', 'grapes')"
      ]
     },
     "execution_count": 22,
     "metadata": {},
     "output_type": "execute_result"
    }
   ],
   "source": [
    "t3"
   ]
  },
  {
   "cell_type": "code",
   "execution_count": 23,
   "id": "9c92b856-1705-4f07-91c6-27631ce6991b",
   "metadata": {},
   "outputs": [
    {
     "data": {
      "text/plain": [
       "'dragen fruit'"
      ]
     },
     "execution_count": 23,
     "metadata": {},
     "output_type": "execute_result"
    }
   ],
   "source": [
    "t3[2]"
   ]
  },
  {
   "cell_type": "code",
   "execution_count": 24,
   "id": "b305f42e-e5a5-41e1-b0d0-f2c4dfa2001d",
   "metadata": {},
   "outputs": [
    {
     "data": {
      "text/plain": [
       "12"
      ]
     },
     "execution_count": 24,
     "metadata": {},
     "output_type": "execute_result"
    }
   ],
   "source": [
    "len(t3[2])"
   ]
  },
  {
   "cell_type": "code",
   "execution_count": 25,
   "id": "b1dafe0a-0d5f-47c3-84f2-86c59353b3b2",
   "metadata": {},
   "outputs": [
    {
     "data": {
      "text/plain": [
       "'e'"
      ]
     },
     "execution_count": 25,
     "metadata": {},
     "output_type": "execute_result"
    }
   ],
   "source": [
    "t3[2][4]"
   ]
  },
  {
   "cell_type": "code",
   "execution_count": 26,
   "id": "e64645de-8746-47c7-91ac-09e85104e6ac",
   "metadata": {},
   "outputs": [
    {
     "data": {
      "text/plain": [
       "False"
      ]
     },
     "execution_count": 26,
     "metadata": {},
     "output_type": "execute_result"
    }
   ],
   "source": [
    "t4[1]"
   ]
  },
  {
   "cell_type": "code",
   "execution_count": 27,
   "id": "c478a79d-823a-4b3f-9a37-6561766bc6d9",
   "metadata": {},
   "outputs": [
    {
     "ename": "TypeError",
     "evalue": "'bool' object is not subscriptable",
     "output_type": "error",
     "traceback": [
      "\u001b[1;31m---------------------------------------------------------------------------\u001b[0m",
      "\u001b[1;31mTypeError\u001b[0m                                 Traceback (most recent call last)",
      "Cell \u001b[1;32mIn[27], line 1\u001b[0m\n\u001b[1;32m----> 1\u001b[0m t4[\u001b[38;5;241m1\u001b[39m][\u001b[38;5;241m2\u001b[39m]\n",
      "\u001b[1;31mTypeError\u001b[0m: 'bool' object is not subscriptable"
     ]
    }
   ],
   "source": [
    "t4[1][2]"
   ]
  },
  {
   "cell_type": "code",
   "execution_count": null,
   "id": "0fac4707-afec-473c-91d7-c0a014229a41",
   "metadata": {},
   "outputs": [],
   "source": [
    "d5 = (true,false)\n",
    "print(d5)"
   ]
  },
  {
   "cell_type": "code",
   "execution_count": null,
   "id": "48c2fc5c-f02c-4eaf-bd5e-fbc0bb53aba5",
   "metadata": {},
   "outputs": [],
   "source": [
    "d5"
   ]
  },
  {
   "cell_type": "code",
   "execution_count": null,
   "id": "5faa8714-0561-4c38-bcc7-a4f673ff37cb",
   "metadata": {},
   "outputs": [],
   "source": [
    "d5 = {true,false}\n",
    "print(d5)"
   ]
  },
  {
   "cell_type": "code",
   "execution_count": 28,
   "id": "520a554b-bbc4-4a22-a2d0-bea49467672c",
   "metadata": {},
   "outputs": [
    {
     "data": {
      "text/plain": [
       "(1, 2, 3, 4, 5)"
      ]
     },
     "execution_count": 28,
     "metadata": {},
     "output_type": "execute_result"
    }
   ],
   "source": [
    "t1"
   ]
  },
  {
   "cell_type": "code",
   "execution_count": 29,
   "id": "20f9b904-ee19-445e-976c-5c9ac8675f04",
   "metadata": {},
   "outputs": [
    {
     "ename": "NameError",
     "evalue": "name 'd5' is not defined",
     "output_type": "error",
     "traceback": [
      "\u001b[1;31m---------------------------------------------------------------------------\u001b[0m",
      "\u001b[1;31mNameError\u001b[0m                                 Traceback (most recent call last)",
      "Cell \u001b[1;32mIn[29], line 1\u001b[0m\n\u001b[1;32m----> 1\u001b[0m d5\n",
      "\u001b[1;31mNameError\u001b[0m: name 'd5' is not defined"
     ]
    }
   ],
   "source": [
    "d5"
   ]
  },
  {
   "cell_type": "code",
   "execution_count": 30,
   "id": "f809acc6-6ada-4728-a014-bf50777dca56",
   "metadata": {},
   "outputs": [
    {
     "name": "stdout",
     "output_type": "stream",
     "text": [
      "('true', 'false')\n"
     ]
    }
   ],
   "source": [
    "tuple1 = ('true','false')\n",
    "print(tuple1)"
   ]
  },
  {
   "cell_type": "code",
   "execution_count": 31,
   "id": "8013aef5-b263-4fd3-bd58-c2663a68fed2",
   "metadata": {},
   "outputs": [
    {
     "data": {
      "text/plain": [
       "'false'"
      ]
     },
     "execution_count": 31,
     "metadata": {},
     "output_type": "execute_result"
    }
   ],
   "source": [
    "tuple1[1]\n"
   ]
  },
  {
   "cell_type": "code",
   "execution_count": 32,
   "id": "e78fab31-dadf-45fc-93e7-fe1d090a5008",
   "metadata": {},
   "outputs": [
    {
     "data": {
      "text/plain": [
       "'l'"
      ]
     },
     "execution_count": 32,
     "metadata": {},
     "output_type": "execute_result"
    }
   ],
   "source": [
    "tuple1[1][2]"
   ]
  },
  {
   "cell_type": "code",
   "execution_count": 33,
   "id": "859e53b2-f5f6-4ddd-94c5-080388df1fad",
   "metadata": {},
   "outputs": [
    {
     "data": {
      "text/plain": [
       "('apple', 'orange', 'dragen fruit', 'grapes')"
      ]
     },
     "execution_count": 33,
     "metadata": {},
     "output_type": "execute_result"
    }
   ],
   "source": [
    "t3"
   ]
  },
  {
   "cell_type": "code",
   "execution_count": 34,
   "id": "5acdc2b4-ae20-4175-97c7-302e3c30b3da",
   "metadata": {},
   "outputs": [
    {
     "data": {
      "text/plain": [
       "'grapes'"
      ]
     },
     "execution_count": 34,
     "metadata": {},
     "output_type": "execute_result"
    }
   ],
   "source": [
    "t3[-1]"
   ]
  },
  {
   "cell_type": "code",
   "execution_count": 35,
   "id": "caa58f8c-48bf-47b6-992f-29c9f7b4aea8",
   "metadata": {},
   "outputs": [
    {
     "data": {
      "text/plain": [
       "'orange'"
      ]
     },
     "execution_count": 35,
     "metadata": {},
     "output_type": "execute_result"
    }
   ],
   "source": [
    "t3[-3]"
   ]
  },
  {
   "cell_type": "code",
   "execution_count": 36,
   "id": "766c63db-8a69-4385-b859-ac2180255e9c",
   "metadata": {},
   "outputs": [
    {
     "data": {
      "text/plain": [
       "('apple', 'orange', 'dragen fruit')"
      ]
     },
     "execution_count": 36,
     "metadata": {},
     "output_type": "execute_result"
    }
   ],
   "source": [
    "t3[:-1]"
   ]
  },
  {
   "cell_type": "code",
   "execution_count": 37,
   "id": "b4d02c65-a680-4400-9625-c98c8f4c4fc0",
   "metadata": {},
   "outputs": [
    {
     "data": {
      "text/plain": [
       "('apple', 'orange', 'dragen fruit', 'grapes')"
      ]
     },
     "execution_count": 37,
     "metadata": {},
     "output_type": "execute_result"
    }
   ],
   "source": [
    "t3"
   ]
  },
  {
   "cell_type": "code",
   "execution_count": 38,
   "id": "3e76c415-bfb2-45b8-9b05-8616c054ca0e",
   "metadata": {},
   "outputs": [
    {
     "data": {
      "text/plain": [
       "('grapes', 'dragen fruit', 'orange', 'apple')"
      ]
     },
     "execution_count": 38,
     "metadata": {},
     "output_type": "execute_result"
    }
   ],
   "source": [
    "t3[::-1]"
   ]
  },
  {
   "cell_type": "code",
   "execution_count": 39,
   "id": "a0d3216e-3f83-4102-a30d-a3a4014fd8a6",
   "metadata": {},
   "outputs": [
    {
     "data": {
      "text/plain": [
       "('apple', 'orange')"
      ]
     },
     "execution_count": 39,
     "metadata": {},
     "output_type": "execute_result"
    }
   ],
   "source": [
    "t3[:-2]"
   ]
  },
  {
   "cell_type": "code",
   "execution_count": 40,
   "id": "1b7ad773-8462-44bd-8397-e6bbcbfd6da6",
   "metadata": {},
   "outputs": [
    {
     "data": {
      "text/plain": [
       "('grapes', 'orange')"
      ]
     },
     "execution_count": 40,
     "metadata": {},
     "output_type": "execute_result"
    }
   ],
   "source": [
    "t3[::-2]"
   ]
  },
  {
   "cell_type": "code",
   "execution_count": 41,
   "id": "c33cab37-72b1-4f2f-b0b1-e0d873d9a8f7",
   "metadata": {},
   "outputs": [
    {
     "data": {
      "text/plain": [
       "('apple', 'orange', 'dragen fruit', 'grapes')"
      ]
     },
     "execution_count": 41,
     "metadata": {},
     "output_type": "execute_result"
    }
   ],
   "source": [
    "t3"
   ]
  },
  {
   "cell_type": "code",
   "execution_count": 42,
   "id": "db40b441-7f8b-4cd9-928b-761bae90c2e1",
   "metadata": {},
   "outputs": [
    {
     "data": {
      "text/plain": [
       "(34,\n",
       " 5.6,\n",
       " 'partha',\n",
       " True,\n",
       " {45, 56},\n",
       " (5+6j),\n",
       " {'deep', 'prakash'},\n",
       " [23, 9.5],\n",
       " ('nit', 'usa'))"
      ]
     },
     "execution_count": 42,
     "metadata": {},
     "output_type": "execute_result"
    }
   ],
   "source": [
    "t6"
   ]
  },
  {
   "cell_type": "code",
   "execution_count": 43,
   "id": "fa5261a2-1008-48c5-b73e-e5fe894f160b",
   "metadata": {},
   "outputs": [
    {
     "name": "stdout",
     "output_type": "stream",
     "text": [
      "9\n"
     ]
    }
   ],
   "source": [
    "print(len(t6))"
   ]
  },
  {
   "cell_type": "code",
   "execution_count": 44,
   "id": "5f3ca1ca-d801-4594-bfd3-7205472d85e0",
   "metadata": {},
   "outputs": [
    {
     "data": {
      "text/plain": [
       "('nit', 'usa')"
      ]
     },
     "execution_count": 44,
     "metadata": {},
     "output_type": "execute_result"
    }
   ],
   "source": [
    "t6[8]"
   ]
  },
  {
   "cell_type": "markdown",
   "id": "68909a2e-8a8c-4421-8ee2-da16bcdd1742",
   "metadata": {},
   "source": [
    "TUPLE SLICING"
   ]
  },
  {
   "cell_type": "code",
   "execution_count": 45,
   "id": "dae30b6d-c1c5-46fa-9f36-124765d928e5",
   "metadata": {},
   "outputs": [],
   "source": [
    "mytuple = ('one' , 'two' , 'three' , 'four' , 'five' , 'six' , 'seven' , 'eight')\n"
   ]
  },
  {
   "cell_type": "code",
   "execution_count": 46,
   "id": "d16f8772-4bca-44ec-a1ec-b907e8e6ab66",
   "metadata": {},
   "outputs": [
    {
     "data": {
      "text/plain": [
       "('one', 'two', 'three', 'four', 'five', 'six', 'seven', 'eight')"
      ]
     },
     "execution_count": 46,
     "metadata": {},
     "output_type": "execute_result"
    }
   ],
   "source": [
    "mytuple"
   ]
  },
  {
   "cell_type": "code",
   "execution_count": 47,
   "id": "80bda7c9-6070-4b79-a070-518b2f90ba77",
   "metadata": {},
   "outputs": [
    {
     "data": {
      "text/plain": [
       "('one', 'two', 'three', 'four', 'five')"
      ]
     },
     "execution_count": 47,
     "metadata": {},
     "output_type": "execute_result"
    }
   ],
   "source": [
    "mytuple[ : -3]"
   ]
  },
  {
   "cell_type": "code",
   "execution_count": 48,
   "id": "6df84d3a-5c9e-4e83-9c69-f606b994a074",
   "metadata": {},
   "outputs": [
    {
     "data": {
      "text/plain": [
       "('six', 'seven', 'eight')"
      ]
     },
     "execution_count": 48,
     "metadata": {},
     "output_type": "execute_result"
    }
   ],
   "source": [
    "mytuple[-3:]"
   ]
  },
  {
   "cell_type": "code",
   "execution_count": 49,
   "id": "8d9c1ad7-a6f3-42a8-b24d-d19ce2d3db87",
   "metadata": {},
   "outputs": [
    {
     "data": {
      "text/plain": [
       "('two', 'three', 'four', 'five')"
      ]
     },
     "execution_count": 49,
     "metadata": {},
     "output_type": "execute_result"
    }
   ],
   "source": [
    "mytuple[1:-3]"
   ]
  },
  {
   "cell_type": "code",
   "execution_count": 50,
   "id": "f5cedc5a-8bd2-4dbe-96ff-25e6332db437",
   "metadata": {},
   "outputs": [
    {
     "data": {
      "text/plain": [
       "('seven', 'eight')"
      ]
     },
     "execution_count": 50,
     "metadata": {},
     "output_type": "execute_result"
    }
   ],
   "source": [
    "mytuple[-2:]"
   ]
  },
  {
   "cell_type": "code",
   "execution_count": 51,
   "id": "e7f7d3ad-16ce-4261-88e2-2b34152591e8",
   "metadata": {},
   "outputs": [
    {
     "data": {
      "text/plain": [
       "('one', 'two', 'three', 'four', 'five', 'six', 'seven', 'eight')"
      ]
     },
     "execution_count": 51,
     "metadata": {},
     "output_type": "execute_result"
    }
   ],
   "source": [
    "mytuple"
   ]
  },
  {
   "cell_type": "code",
   "execution_count": 52,
   "id": "371d1e07-0ada-42df-8db9-caebda487fce",
   "metadata": {},
   "outputs": [
    {
     "data": {
      "text/plain": [
       "('one', 'two', 'three', 'four', 'five', 'six')"
      ]
     },
     "execution_count": 52,
     "metadata": {},
     "output_type": "execute_result"
    }
   ],
   "source": [
    "mytuple[0:-2]"
   ]
  },
  {
   "cell_type": "code",
   "execution_count": 53,
   "id": "6473aa67-c77b-493f-9e61-59788d62e2dc",
   "metadata": {},
   "outputs": [
    {
     "data": {
      "text/plain": [
       "('one', 'two', 'three', 'four', 'five', 'six', 'seven', 'eight')"
      ]
     },
     "execution_count": 53,
     "metadata": {},
     "output_type": "execute_result"
    }
   ],
   "source": [
    "mytuple[:]"
   ]
  },
  {
   "cell_type": "markdown",
   "id": "9b61a1cf-880e-47ea-b9fe-5640bbfbdfdd",
   "metadata": {},
   "source": [
    "REMOVE AND CHANGE ITEM"
   ]
  },
  {
   "cell_type": "code",
   "execution_count": 54,
   "id": "ef8284b2-6fbf-47de-a027-8ae77a56e5b6",
   "metadata": {},
   "outputs": [
    {
     "data": {
      "text/plain": [
       "('one', 'two', 'three', 'four', 'five', 'six', 'seven', 'eight')"
      ]
     },
     "execution_count": 54,
     "metadata": {},
     "output_type": "execute_result"
    }
   ],
   "source": [
    "mytuple"
   ]
  },
  {
   "cell_type": "code",
   "execution_count": 55,
   "id": "eb59feda-38dc-4517-9bf4-0b6a58b80568",
   "metadata": {},
   "outputs": [
    {
     "ename": "TypeError",
     "evalue": "'tuple' object doesn't support item deletion",
     "output_type": "error",
     "traceback": [
      "\u001b[1;31m---------------------------------------------------------------------------\u001b[0m",
      "\u001b[1;31mTypeError\u001b[0m                                 Traceback (most recent call last)",
      "Cell \u001b[1;32mIn[55], line 1\u001b[0m\n\u001b[1;32m----> 1\u001b[0m \u001b[38;5;28;01mdel\u001b[39;00m mytuple[\u001b[38;5;241m1\u001b[39m]\n",
      "\u001b[1;31mTypeError\u001b[0m: 'tuple' object doesn't support item deletion"
     ]
    }
   ],
   "source": [
    "del mytuple[1] # tuple is immutable so the user can not change any element in the tuple"
   ]
  },
  {
   "cell_type": "code",
   "execution_count": 56,
   "id": "7d28063b-2b09-4914-8f57-0598694aa19e",
   "metadata": {},
   "outputs": [
    {
     "ename": "TypeError",
     "evalue": "'tuple' object does not support item assignment",
     "output_type": "error",
     "traceback": [
      "\u001b[1;31m---------------------------------------------------------------------------\u001b[0m",
      "\u001b[1;31mTypeError\u001b[0m                                 Traceback (most recent call last)",
      "Cell \u001b[1;32mIn[56], line 1\u001b[0m\n\u001b[1;32m----> 1\u001b[0m mytuple[\u001b[38;5;241m1\u001b[39m] \u001b[38;5;241m=\u001b[39m \u001b[38;5;241m6\u001b[39m\n",
      "\u001b[1;31mTypeError\u001b[0m: 'tuple' object does not support item assignment"
     ]
    }
   ],
   "source": [
    "mytuple[1] = 6 # tuple is immutable so the user can not modifay any element in the tuple"
   ]
  },
  {
   "cell_type": "markdown",
   "id": "123b0231-e52a-4a2b-8c8f-f4fe06d7b3f6",
   "metadata": {},
   "source": [
    "LOOP THROUGH A TUPLE"
   ]
  },
  {
   "cell_type": "code",
   "execution_count": 57,
   "id": "7297b50a-715f-4fbb-b32b-35a0e0bdfb6a",
   "metadata": {},
   "outputs": [
    {
     "name": "stdout",
     "output_type": "stream",
     "text": [
      "one\n",
      "two\n",
      "three\n",
      "four\n",
      "five\n",
      "six\n",
      "seven\n",
      "eight\n"
     ]
    }
   ],
   "source": [
    "for i in mytuple:\n",
    "    print(i)"
   ]
  },
  {
   "cell_type": "code",
   "execution_count": 58,
   "id": "571f324f-0dd5-4a79-a0a1-8cf4e8428b97",
   "metadata": {},
   "outputs": [
    {
     "name": "stdout",
     "output_type": "stream",
     "text": [
      "(0, 'one')\n",
      "(1, 'two')\n",
      "(2, 'three')\n",
      "(3, 'four')\n",
      "(4, 'five')\n",
      "(5, 'six')\n",
      "(6, 'seven')\n",
      "(7, 'eight')\n"
     ]
    }
   ],
   "source": [
    "for i in enumerate(mytuple):\n",
    "    print(i)"
   ]
  },
  {
   "cell_type": "markdown",
   "id": "cf03e64f-9622-4ccd-a7b5-7a02a946716f",
   "metadata": {},
   "source": [
    "COUNT"
   ]
  },
  {
   "cell_type": "code",
   "execution_count": 59,
   "id": "30b4ed27-54b8-4c3e-8eb0-1d8a6e5c6faf",
   "metadata": {},
   "outputs": [
    {
     "name": "stdout",
     "output_type": "stream",
     "text": [
      "('one', 'two', 'three', 'four', 'one', 'one', 'two', 'three')\n"
     ]
    }
   ],
   "source": [
    "mytuple1 =('one', 'two', 'three', 'four', 'one', 'one', 'two', 'three')\n",
    "print(mytuple1)"
   ]
  },
  {
   "cell_type": "code",
   "execution_count": 60,
   "id": "00f9aac0-a47b-4481-ae94-aa760140d3b9",
   "metadata": {},
   "outputs": [
    {
     "data": {
      "text/plain": [
       "3"
      ]
     },
     "execution_count": 60,
     "metadata": {},
     "output_type": "execute_result"
    }
   ],
   "source": [
    "mytuple1.count('one')"
   ]
  },
  {
   "cell_type": "code",
   "execution_count": 61,
   "id": "5f63f7ae-8c18-4f25-ac1e-d58b2d96fd88",
   "metadata": {},
   "outputs": [
    {
     "data": {
      "text/plain": [
       "2"
      ]
     },
     "execution_count": 61,
     "metadata": {},
     "output_type": "execute_result"
    }
   ],
   "source": [
    "mytuple1.count('two')"
   ]
  },
  {
   "cell_type": "markdown",
   "id": "9a5491f0-46af-48aa-9a5a-e160d9ae6dd3",
   "metadata": {},
   "source": [
    "TUPLE MEMBERSHIP"
   ]
  },
  {
   "cell_type": "code",
   "execution_count": 62,
   "id": "ba01a8fb-b7f3-47a9-8d74-26440c2d7c7b",
   "metadata": {},
   "outputs": [
    {
     "data": {
      "text/plain": [
       "('one', 'two', 'three', 'four', 'five', 'six', 'seven', 'eight')"
      ]
     },
     "execution_count": 62,
     "metadata": {},
     "output_type": "execute_result"
    }
   ],
   "source": [
    "mytuple"
   ]
  },
  {
   "cell_type": "code",
   "execution_count": 63,
   "id": "0cfdda18-1efe-4999-9b29-fd28abb6e4e0",
   "metadata": {},
   "outputs": [
    {
     "name": "stdout",
     "output_type": "stream",
     "text": [
      "True\n"
     ]
    }
   ],
   "source": [
    "if 'six' in mytuple:\n",
    "    print(True)"
   ]
  },
  {
   "cell_type": "code",
   "execution_count": 64,
   "id": "f2f4361d-bc4b-462e-998f-644724304a07",
   "metadata": {},
   "outputs": [
    {
     "data": {
      "text/plain": [
       "True"
      ]
     },
     "execution_count": 64,
     "metadata": {},
     "output_type": "execute_result"
    }
   ],
   "source": [
    "\"four\" in mytuple"
   ]
  },
  {
   "cell_type": "code",
   "execution_count": 65,
   "id": "aba26364-6dab-4142-bd33-31c15cc7edc5",
   "metadata": {},
   "outputs": [
    {
     "data": {
      "text/plain": [
       "False"
      ]
     },
     "execution_count": 65,
     "metadata": {},
     "output_type": "execute_result"
    }
   ],
   "source": [
    "'lone' in mytuple"
   ]
  },
  {
   "cell_type": "code",
   "execution_count": 66,
   "id": "dd8eef3a-c9cd-4395-956d-0312ed3d68d3",
   "metadata": {},
   "outputs": [
    {
     "data": {
      "text/plain": [
       "('one', 'two', 'three', 'four', 'five', 'six', 'seven', 'eight')"
      ]
     },
     "execution_count": 66,
     "metadata": {},
     "output_type": "execute_result"
    }
   ],
   "source": [
    "mytuple"
   ]
  },
  {
   "cell_type": "code",
   "execution_count": 67,
   "id": "50817ab9-7d66-497e-8a02-6499f1157751",
   "metadata": {},
   "outputs": [
    {
     "name": "stdout",
     "output_type": "stream",
     "text": [
      "nine is not present in mytuple\n"
     ]
    }
   ],
   "source": [
    "if 'nine' in mytuple:\n",
    "    print('nine present in mytuple')\n",
    "else:\n",
    "    print('nine is not present in mytuple')"
   ]
  },
  {
   "cell_type": "code",
   "execution_count": 68,
   "id": "d26178e0-a413-4c72-bca0-bdeae51604a8",
   "metadata": {},
   "outputs": [
    {
     "name": "stdout",
     "output_type": "stream",
     "text": [
      "'one' and 'two' are present in mytuple\n"
     ]
    }
   ],
   "source": [
    "print(\"'one' and 'two' are present in mytuple\")"
   ]
  },
  {
   "cell_type": "code",
   "execution_count": 69,
   "id": "455413a1-522d-41c4-b9f1-d1400aff2ad6",
   "metadata": {},
   "outputs": [
    {
     "name": "stdout",
     "output_type": "stream",
     "text": [
      "'one' and 'two' are present in mytuple\n"
     ]
    }
   ],
   "source": [
    "if 'one'and 'two' in mytuple:\n",
    "    print(\"'one' and 'two' are present in mytuple\")\n",
    "else:\n",
    "    print(\"'one' and 'two' are not present in mytuple\")"
   ]
  },
  {
   "cell_type": "code",
   "execution_count": 70,
   "id": "0bd39715-0b6f-4b11-bb5d-9512878da86b",
   "metadata": {},
   "outputs": [
    {
     "name": "stdout",
     "output_type": "stream",
     "text": [
      "'ten' and 'two' are present in mytuple\n"
     ]
    }
   ],
   "source": [
    "if 'ten'and 'two' in mytuple:\n",
    "    print(\"'ten' and 'two' are present in mytuple\")\n",
    "else:\n",
    "    print(\"'ten' and 'two' are not present in mytuple\")"
   ]
  },
  {
   "cell_type": "code",
   "execution_count": 71,
   "id": "f984a62a-08e9-409b-ac17-be1a47a28c31",
   "metadata": {},
   "outputs": [
    {
     "name": "stdout",
     "output_type": "stream",
     "text": [
      "'ten' and 'twenty' are not present in mytuple\n"
     ]
    }
   ],
   "source": [
    "if 'ten'and 'twenty' in mytuple:\n",
    "    print(\"'ten' and 'twenty' are present in mytuple\")\n",
    "else:\n",
    "    print(\"'ten' and 'twenty' are not present in mytuple\")"
   ]
  },
  {
   "cell_type": "markdown",
   "id": "2fdf54d6-cca8-48b3-8546-c42adbdd3bb0",
   "metadata": {},
   "source": [
    "INDEX POSITION"
   ]
  },
  {
   "cell_type": "code",
   "execution_count": 72,
   "id": "ca923c45-13c2-41f0-bb62-2c7bc678baa7",
   "metadata": {},
   "outputs": [
    {
     "data": {
      "text/plain": [
       "('one', 'two', 'three', 'four', 'one', 'one', 'two', 'three')"
      ]
     },
     "execution_count": 72,
     "metadata": {},
     "output_type": "execute_result"
    }
   ],
   "source": [
    "mytuple1"
   ]
  },
  {
   "cell_type": "code",
   "execution_count": 73,
   "id": "a3d3149c-8c75-405b-aecc-1220180397a5",
   "metadata": {},
   "outputs": [
    {
     "data": {
      "text/plain": [
       "1"
      ]
     },
     "execution_count": 73,
     "metadata": {},
     "output_type": "execute_result"
    }
   ],
   "source": [
    "mytuple1.index('two')"
   ]
  },
  {
   "cell_type": "code",
   "execution_count": 74,
   "id": "1dbefdcc-0f3a-49ed-a5ca-e7e011d2771b",
   "metadata": {},
   "outputs": [
    {
     "ename": "ValueError",
     "evalue": "tuple.index(x): x not in tuple",
     "output_type": "error",
     "traceback": [
      "\u001b[1;31m---------------------------------------------------------------------------\u001b[0m",
      "\u001b[1;31mValueError\u001b[0m                                Traceback (most recent call last)",
      "Cell \u001b[1;32mIn[74], line 1\u001b[0m\n\u001b[1;32m----> 1\u001b[0m mytuple1\u001b[38;5;241m.\u001b[39mindex(\u001b[38;5;124m'\u001b[39m\u001b[38;5;124mtwenty\u001b[39m\u001b[38;5;124m'\u001b[39m)\n",
      "\u001b[1;31mValueError\u001b[0m: tuple.index(x): x not in tuple"
     ]
    }
   ],
   "source": [
    "mytuple1.index('twenty')"
   ]
  },
  {
   "cell_type": "code",
   "execution_count": 75,
   "id": "522db211-a6df-44d1-80f3-9839dee94cc5",
   "metadata": {},
   "outputs": [
    {
     "data": {
      "text/plain": [
       "0"
      ]
     },
     "execution_count": 75,
     "metadata": {},
     "output_type": "execute_result"
    }
   ],
   "source": [
    "mytuple1.index('one')"
   ]
  },
  {
   "cell_type": "markdown",
   "id": "3fc292db-64de-488d-b27d-9da533c43652",
   "metadata": {},
   "source": [
    "SORTING"
   ]
  },
  {
   "cell_type": "code",
   "execution_count": 76,
   "id": "a161e3ff-e659-4e9f-98a9-794a68262833",
   "metadata": {},
   "outputs": [],
   "source": [
    "mytuple2 = (43,67,99,12,6,90,67)"
   ]
  },
  {
   "cell_type": "code",
   "execution_count": 77,
   "id": "05736def-aac3-4f0c-bcdc-3704902ae88d",
   "metadata": {},
   "outputs": [
    {
     "data": {
      "text/plain": [
       "(43, 67, 99, 12, 6, 90, 67)"
      ]
     },
     "execution_count": 77,
     "metadata": {},
     "output_type": "execute_result"
    }
   ],
   "source": [
    "mytuple2"
   ]
  },
  {
   "cell_type": "code",
   "execution_count": 78,
   "id": "02039af9-bfd8-4c2b-a4c0-b53b1e8c198d",
   "metadata": {},
   "outputs": [
    {
     "data": {
      "text/plain": [
       "[6, 12, 43, 67, 67, 90, 99]"
      ]
     },
     "execution_count": 78,
     "metadata": {},
     "output_type": "execute_result"
    }
   ],
   "source": [
    "sorted(mytuple2)"
   ]
  },
  {
   "cell_type": "code",
   "execution_count": 79,
   "id": "7dc795a3-fc7b-4a81-b755-35f12b5c29d4",
   "metadata": {},
   "outputs": [
    {
     "data": {
      "text/plain": [
       "[99, 90, 67, 67, 43, 12, 6]"
      ]
     },
     "execution_count": 79,
     "metadata": {},
     "output_type": "execute_result"
    }
   ],
   "source": [
    "sorted(mytuple2 ,reverse=True)"
   ]
  },
  {
   "cell_type": "markdown",
   "id": "d314251f-5fc3-4168-8c64-fc271a7e03c2",
   "metadata": {},
   "source": [
    "SET"
   ]
  },
  {
   "cell_type": "code",
   "execution_count": 80,
   "id": "ba5289ea-1683-477e-94e5-11e9e0269e2a",
   "metadata": {},
   "outputs": [],
   "source": [
    "s1 = set()"
   ]
  },
  {
   "cell_type": "code",
   "execution_count": 81,
   "id": "8b7c1ab9-b940-4bd2-be9a-196ad087f39d",
   "metadata": {},
   "outputs": [
    {
     "data": {
      "text/plain": [
       "set()"
      ]
     },
     "execution_count": 81,
     "metadata": {},
     "output_type": "execute_result"
    }
   ],
   "source": [
    "s1"
   ]
  },
  {
   "cell_type": "code",
   "execution_count": 82,
   "id": "266bade0-354f-432f-a6c4-55c774faacfa",
   "metadata": {},
   "outputs": [
    {
     "data": {
      "text/plain": [
       "set"
      ]
     },
     "execution_count": 82,
     "metadata": {},
     "output_type": "execute_result"
    }
   ],
   "source": [
    "type(s1)"
   ]
  },
  {
   "cell_type": "code",
   "execution_count": 83,
   "id": "12a4ff58-7b46-44a8-95de-8d103d5a847d",
   "metadata": {},
   "outputs": [],
   "source": [
    "myset = {5,6,7,8,9}"
   ]
  },
  {
   "cell_type": "code",
   "execution_count": 84,
   "id": "c5f561b7-27df-4366-a958-15a258be2f36",
   "metadata": {},
   "outputs": [
    {
     "data": {
      "text/plain": [
       "5"
      ]
     },
     "execution_count": 84,
     "metadata": {},
     "output_type": "execute_result"
    }
   ],
   "source": [
    "len(myset)"
   ]
  },
  {
   "cell_type": "code",
   "execution_count": 85,
   "id": "d65e33e7-d4f7-4389-bce8-e9d8199a26e8",
   "metadata": {},
   "outputs": [],
   "source": [
    "myset.add(5)# in set duplite of "
   ]
  },
  {
   "cell_type": "code",
   "execution_count": 86,
   "id": "bfb3f4ef-2113-4968-a839-5c1d02d16e4c",
   "metadata": {},
   "outputs": [
    {
     "name": "stdout",
     "output_type": "stream",
     "text": [
      "{5, 6, 7, 8, 9}\n"
     ]
    }
   ],
   "source": [
    "print(myset)"
   ]
  },
  {
   "cell_type": "code",
   "execution_count": 91,
   "id": "0fa42c29-fd46-4489-a9b7-8537c6941bb3",
   "metadata": {},
   "outputs": [],
   "source": [
    "s1 = {1,2,3,4,5}\n",
    "s2 = {2.3,4.5,7.6}\n",
    "s3 = {'apple','potato','tomato','ledisfinger'}\n",
    "s4 = {23,987,'partha',(10,34),('tomato','ledisfinger')}\n"
   ]
  },
  {
   "cell_type": "code",
   "execution_count": 93,
   "id": "47fe6008-45e8-41bf-8828-61a554d2842e",
   "metadata": {},
   "outputs": [
    {
     "name": "stdout",
     "output_type": "stream",
     "text": [
      "The integer set s1 = {1, 2, 3, 4, 5}\n",
      "the float type of the set s2 = {2.3, 4.5, 7.6}\n",
      "the string type  of set s3 = {'apple', 'tomato', 'ledisfinger', 'potato'}\n",
      "the mixed type of set s4 = {('tomato', 'ledisfinger'), (10, 34), 23, 'partha', 987}\n"
     ]
    }
   ],
   "source": [
    "print(f'The integer set s1 = {s1}')\n",
    "print(f'the float type of the set s2 = {s2}')\n",
    "print(f'the string type  of set s3 = {s3}')\n",
    "print(f'the mixed type of set s4 = {s4}')"
   ]
  },
  {
   "cell_type": "code",
   "execution_count": 95,
   "id": "15a8cd52-72b5-4b9d-8ff2-747a9e07700a",
   "metadata": {},
   "outputs": [
    {
     "data": {
      "text/plain": [
       "5"
      ]
     },
     "execution_count": 95,
     "metadata": {},
     "output_type": "execute_result"
    }
   ],
   "source": [
    "len(s4)"
   ]
  },
  {
   "cell_type": "code",
   "execution_count": 96,
   "id": "594c4995-580c-4e63-b49f-0bd454731b86",
   "metadata": {},
   "outputs": [],
   "source": [
    "set1 = {'one','two','three','four','five'}\n"
   ]
  },
  {
   "cell_type": "code",
   "execution_count": 98,
   "id": "c095e93f-c212-4d7c-a228-26e3cae6c966",
   "metadata": {},
   "outputs": [
    {
     "name": "stdout",
     "output_type": "stream",
     "text": [
      "three\n",
      "one\n",
      "two\n",
      "five\n",
      "four\n"
     ]
    }
   ],
   "source": [
    "for i in set1:\n",
    "    print(i)"
   ]
  },
  {
   "cell_type": "code",
   "execution_count": 100,
   "id": "fe8190e0-637a-4a4c-8240-a7409a011df2",
   "metadata": {},
   "outputs": [
    {
     "name": "stdout",
     "output_type": "stream",
     "text": [
      "(0, 'three')\n",
      "(1, 'one')\n",
      "(2, 'two')\n",
      "(3, 'five')\n",
      "(4, 'four')\n"
     ]
    }
   ],
   "source": [
    "for i in enumerate(set1):\n",
    "    print(i)"
   ]
  },
  {
   "cell_type": "markdown",
   "id": "7632cef8-60d5-451c-9173-fb124a9f002d",
   "metadata": {},
   "source": [
    "SET MEMBERSHIP"
   ]
  },
  {
   "cell_type": "code",
   "execution_count": 101,
   "id": "5919f1a7-5a69-4b56-85b3-cac59bea8b66",
   "metadata": {},
   "outputs": [
    {
     "data": {
      "text/plain": [
       "{'five', 'four', 'one', 'three', 'two'}"
      ]
     },
     "execution_count": 101,
     "metadata": {},
     "output_type": "execute_result"
    }
   ],
   "source": [
    "set1"
   ]
  },
  {
   "cell_type": "code",
   "execution_count": 104,
   "id": "865ff9d2-5736-497c-af74-fef2fe88fff8",
   "metadata": {},
   "outputs": [
    {
     "data": {
      "text/plain": [
       "True"
      ]
     },
     "execution_count": 104,
     "metadata": {},
     "output_type": "execute_result"
    }
   ],
   "source": [
    "'one' in set1\n"
   ]
  },
  {
   "cell_type": "code",
   "execution_count": 106,
   "id": "2d5c1c79-f7ac-4fb5-bc35-5a48d1fd80fd",
   "metadata": {},
   "outputs": [
    {
     "data": {
      "text/plain": [
       "('one', True)"
      ]
     },
     "execution_count": 106,
     "metadata": {},
     "output_type": "execute_result"
    }
   ],
   "source": [
    "'one','two' in set1"
   ]
  },
  {
   "cell_type": "code",
   "execution_count": 108,
   "id": "771dc53f-9e9a-4990-9fe8-11f667721578",
   "metadata": {},
   "outputs": [
    {
     "data": {
      "text/plain": [
       "('one', False)"
      ]
     },
     "execution_count": 108,
     "metadata": {},
     "output_type": "execute_result"
    }
   ],
   "source": [
    "'one','twenty' in set1"
   ]
  },
  {
   "cell_type": "code",
   "execution_count": 113,
   "id": "b751632d-b13b-4b25-9390-359e12694cb3",
   "metadata": {},
   "outputs": [
    {
     "name": "stdout",
     "output_type": "stream",
     "text": [
      "one present in set1\n"
     ]
    }
   ],
   "source": [
    "if 'one' in set1:\n",
    "    print('one present in set1')\n",
    "else:\n",
    "    print('two is not present in the  set')"
   ]
  },
  {
   "cell_type": "code",
   "execution_count": 115,
   "id": "2af400f1-97fa-45d7-8aba-cd1442083722",
   "metadata": {},
   "outputs": [
    {
     "name": "stdout",
     "output_type": "stream",
     "text": [
      "ten is not present in the  set\n"
     ]
    }
   ],
   "source": [
    "if 'ten' in set1:\n",
    "    print('ten present in set1')\n",
    "else:\n",
    "    print('ten is not present in the  set')"
   ]
  },
  {
   "cell_type": "markdown",
   "id": "e3785908-9288-4ac0-b412-e671d7a645d6",
   "metadata": {},
   "source": [
    "ADD AND REMOVE IN SET"
   ]
  },
  {
   "cell_type": "code",
   "execution_count": 116,
   "id": "2c5a2622-990e-4420-9244-cc189e229867",
   "metadata": {},
   "outputs": [
    {
     "data": {
      "text/plain": [
       "{'five', 'four', 'one', 'three', 'two'}"
      ]
     },
     "execution_count": 116,
     "metadata": {},
     "output_type": "execute_result"
    }
   ],
   "source": [
    "set1"
   ]
  },
  {
   "cell_type": "code",
   "execution_count": 123,
   "id": "5d527450-3e7a-4138-b1bf-5ad3e68db9a5",
   "metadata": {},
   "outputs": [],
   "source": [
    "set1.add('six')"
   ]
  },
  {
   "cell_type": "code",
   "execution_count": 124,
   "id": "41ef20c5-ad1f-418e-ba17-5c3bb5e8a7eb",
   "metadata": {},
   "outputs": [
    {
     "data": {
      "text/plain": [
       "{'five', 'four', 'one', 'six', 'three', 'two'}"
      ]
     },
     "execution_count": 124,
     "metadata": {},
     "output_type": "execute_result"
    }
   ],
   "source": [
    "set1"
   ]
  },
  {
   "cell_type": "code",
   "execution_count": 127,
   "id": "bda4bab9-59cd-4d1c-b889-c1953d8e928a",
   "metadata": {},
   "outputs": [],
   "source": [
    "set1.update(['seven','eight','nine'])"
   ]
  },
  {
   "cell_type": "code",
   "execution_count": 128,
   "id": "e6e46ccd-ae3d-4304-b83f-d85cc4537ec3",
   "metadata": {},
   "outputs": [
    {
     "data": {
      "text/plain": [
       "{'eight', 'five', 'four', 'nine', 'one', 'seven', 'six', 'three', 'two'}"
      ]
     },
     "execution_count": 128,
     "metadata": {},
     "output_type": "execute_result"
    }
   ],
   "source": [
    "set1"
   ]
  },
  {
   "cell_type": "code",
   "execution_count": 129,
   "id": "d4471747-3887-4e8e-857c-af50c1740d3d",
   "metadata": {},
   "outputs": [],
   "source": [
    "set1.remove('nine')"
   ]
  },
  {
   "cell_type": "code",
   "execution_count": 130,
   "id": "10e6018e-13c3-4e47-8701-33b5335febaa",
   "metadata": {},
   "outputs": [
    {
     "data": {
      "text/plain": [
       "{'eight', 'five', 'four', 'one', 'seven', 'six', 'three', 'two'}"
      ]
     },
     "execution_count": 130,
     "metadata": {},
     "output_type": "execute_result"
    }
   ],
   "source": [
    "set1"
   ]
  },
  {
   "cell_type": "code",
   "execution_count": 132,
   "id": "d881c560-b066-4ce4-b91d-27143d25f6c9",
   "metadata": {},
   "outputs": [],
   "source": [
    "set1.discard('six')"
   ]
  },
  {
   "cell_type": "code",
   "execution_count": 133,
   "id": "86584c6d-e497-4cac-81ac-2ae6914b0f27",
   "metadata": {},
   "outputs": [
    {
     "data": {
      "text/plain": [
       "{'eight', 'five', 'four', 'one', 'seven', 'three', 'two'}"
      ]
     },
     "execution_count": 133,
     "metadata": {},
     "output_type": "execute_result"
    }
   ],
   "source": [
    "set1"
   ]
  },
  {
   "cell_type": "code",
   "execution_count": 135,
   "id": "bd863763-6b76-4c15-9a14-d06384db0641",
   "metadata": {},
   "outputs": [],
   "source": [
    "set1.clear()"
   ]
  },
  {
   "cell_type": "code",
   "execution_count": 136,
   "id": "fd779ef7-f104-43ce-a997-34b805d5e7c0",
   "metadata": {},
   "outputs": [
    {
     "data": {
      "text/plain": [
       "set()"
      ]
     },
     "execution_count": 136,
     "metadata": {},
     "output_type": "execute_result"
    }
   ],
   "source": [
    "set1"
   ]
  },
  {
   "cell_type": "code",
   "execution_count": 137,
   "id": "d1d07829-3ba9-492b-8c6e-cabaf00374f0",
   "metadata": {},
   "outputs": [],
   "source": [
    "set1 ={' eight', 'five', 'four', 'nine', 'one', 'seven', 'six', 'three', 'two'}\n"
   ]
  },
  {
   "cell_type": "code",
   "execution_count": 138,
   "id": "6b72d4fb-00e3-46f9-bee8-e2f01f5a1a76",
   "metadata": {},
   "outputs": [
    {
     "data": {
      "text/plain": [
       "{' eight', 'five', 'four', 'nine', 'one', 'seven', 'six', 'three', 'two'}"
      ]
     },
     "execution_count": 138,
     "metadata": {},
     "output_type": "execute_result"
    }
   ],
   "source": [
    "set1"
   ]
  },
  {
   "cell_type": "code",
   "execution_count": 140,
   "id": "b9303047-65a0-461d-b5d0-38629aa9366b",
   "metadata": {},
   "outputs": [],
   "source": [
    "set2 = set1.copy()"
   ]
  },
  {
   "cell_type": "code",
   "execution_count": 142,
   "id": "8052983a-35f9-4bc0-990a-ba19fffbfc32",
   "metadata": {},
   "outputs": [
    {
     "data": {
      "text/plain": [
       "{' eight', 'five', 'four', 'nine', 'one', 'seven', 'six', 'three', 'two'}"
      ]
     },
     "execution_count": 142,
     "metadata": {},
     "output_type": "execute_result"
    }
   ],
   "source": [
    "set2"
   ]
  },
  {
   "cell_type": "code",
   "execution_count": 144,
   "id": "9158a845-30e1-40c0-9278-1a4707cb831b",
   "metadata": {},
   "outputs": [
    {
     "data": {
      "text/plain": [
       "2681940592896"
      ]
     },
     "execution_count": 144,
     "metadata": {},
     "output_type": "execute_result"
    }
   ],
   "source": [
    "id(set1)"
   ]
  },
  {
   "cell_type": "code",
   "execution_count": 145,
   "id": "3e4ce843-a244-4f34-a7a0-21b472c6e187",
   "metadata": {},
   "outputs": [
    {
     "data": {
      "text/plain": [
       "2681946400896"
      ]
     },
     "execution_count": 145,
     "metadata": {},
     "output_type": "execute_result"
    }
   ],
   "source": [
    "id(set2)"
   ]
  },
  {
   "cell_type": "markdown",
   "id": "87cd360a-8edf-4dce-9d50-04a8f1368191",
   "metadata": {},
   "source": [
    "SET OPERATION"
   ]
  },
  {
   "cell_type": "code",
   "execution_count": 146,
   "id": "0af1b21a-e6ef-4988-87b4-d1c9a7c923b9",
   "metadata": {},
   "outputs": [],
   "source": [
    "A = {1,2,3,4,5}\n",
    "B = {4,5,6,7,8}\n",
    "C = {8,9,10}\n"
   ]
  },
  {
   "cell_type": "code",
   "execution_count": 148,
   "id": "13e0be8f-d8ae-4453-8073-6204a3deadd9",
   "metadata": {},
   "outputs": [
    {
     "name": "stdout",
     "output_type": "stream",
     "text": [
      "{1, 2, 3, 4, 5}\n",
      "{4, 5, 6, 7, 8}\n",
      "{8, 9, 10}\n"
     ]
    }
   ],
   "source": [
    "print(A)\n",
    "print(B)\n",
    "print(C)"
   ]
  },
  {
   "cell_type": "code",
   "execution_count": 149,
   "id": "c4fd666b-5f5a-426f-a687-966c68dc4494",
   "metadata": {},
   "outputs": [
    {
     "data": {
      "text/plain": [
       "{1, 2, 3, 4, 5, 6, 7, 8}"
      ]
     },
     "execution_count": 149,
     "metadata": {},
     "output_type": "execute_result"
    }
   ],
   "source": [
    "A|B"
   ]
  },
  {
   "cell_type": "code",
   "execution_count": 151,
   "id": "93c6d0df-7042-4cea-9e99-20e0e10e2260",
   "metadata": {},
   "outputs": [
    {
     "data": {
      "text/plain": [
       "{4, 5}"
      ]
     },
     "execution_count": 151,
     "metadata": {},
     "output_type": "execute_result"
    }
   ],
   "source": [
    "A.intersection(B)"
   ]
  },
  {
   "cell_type": "code",
   "execution_count": 153,
   "id": "ca3f1660-31bb-4531-92c7-161aaaa09276",
   "metadata": {},
   "outputs": [
    {
     "data": {
      "text/plain": [
       "{1, 2, 3}"
      ]
     },
     "execution_count": 153,
     "metadata": {},
     "output_type": "execute_result"
    }
   ],
   "source": [
    "A-B"
   ]
  },
  {
   "cell_type": "code",
   "execution_count": 155,
   "id": "2da6d933-a181-4d1b-9e9c-a460adaedaf9",
   "metadata": {},
   "outputs": [
    {
     "data": {
      "text/plain": [
       "{1, 2, 3, 6, 7, 8}"
      ]
     },
     "execution_count": 155,
     "metadata": {},
     "output_type": "execute_result"
    }
   ],
   "source": [
    "A^B"
   ]
  },
  {
   "cell_type": "code",
   "execution_count": 157,
   "id": "43b29a98-8723-4db0-90bd-360607c884b3",
   "metadata": {},
   "outputs": [
    {
     "data": {
      "text/plain": [
       "{1, 2, 3, 6, 7, 8}"
      ]
     },
     "execution_count": 157,
     "metadata": {},
     "output_type": "execute_result"
    }
   ],
   "source": [
    "A.symmetric_difference(B)"
   ]
  },
  {
   "cell_type": "code",
   "execution_count": 158,
   "id": "c912a8df-9ef6-44fb-b210-f6ea06a465c2",
   "metadata": {},
   "outputs": [
    {
     "name": "stdout",
     "output_type": "stream",
     "text": [
      "{1, 2, 3, 4, 5}\n",
      "{4, 5, 6, 7, 8}\n",
      "{8, 9, 10}\n"
     ]
    }
   ],
   "source": [
    "print(A)\n",
    "print(B)\n",
    "print(C)"
   ]
  },
  {
   "cell_type": "code",
   "execution_count": 160,
   "id": "2572aede-5388-4b55-aee1-6688f2ea73ad",
   "metadata": {},
   "outputs": [
    {
     "data": {
      "text/plain": [
       "False"
      ]
     },
     "execution_count": 160,
     "metadata": {},
     "output_type": "execute_result"
    }
   ],
   "source": [
    "A.isdisjoint(B)"
   ]
  },
  {
   "cell_type": "code",
   "execution_count": 162,
   "id": "23549a12-ec26-48e2-9d04-ca87a6d81827",
   "metadata": {},
   "outputs": [
    {
     "data": {
      "text/plain": [
       "False"
      ]
     },
     "execution_count": 162,
     "metadata": {},
     "output_type": "execute_result"
    }
   ],
   "source": [
    "A.issubset(B)"
   ]
  },
  {
   "cell_type": "code",
   "execution_count": 164,
   "id": "d09ec59e-9f36-4d86-9ab7-eb1b006db408",
   "metadata": {},
   "outputs": [
    {
     "data": {
      "text/plain": [
       "False"
      ]
     },
     "execution_count": 164,
     "metadata": {},
     "output_type": "execute_result"
    }
   ],
   "source": [
    "B.issuperset(A)"
   ]
  },
  {
   "cell_type": "code",
   "execution_count": null,
   "id": "0478d762-1f92-481a-b3be-dfb9e7824f5e",
   "metadata": {},
   "outputs": [],
   "source": []
  }
 ],
 "metadata": {
  "kernelspec": {
   "display_name": "Python 3 (ipykernel)",
   "language": "python",
   "name": "python3"
  },
  "language_info": {
   "codemirror_mode": {
    "name": "ipython",
    "version": 3
   },
   "file_extension": ".py",
   "mimetype": "text/x-python",
   "name": "python",
   "nbconvert_exporter": "python",
   "pygments_lexer": "ipython3",
   "version": "3.13.5"
  }
 },
 "nbformat": 4,
 "nbformat_minor": 5
}
