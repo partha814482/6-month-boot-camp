{
 "cells": [
  {
   "cell_type": "markdown",
   "id": "95149ff5-5cdb-4a84-a1ba-927cb59863a0",
   "metadata": {},
   "source": [
    "Mathematical Function"
   ]
  },
  {
   "cell_type": "code",
   "execution_count": 1,
   "id": "6af73412-8b25-4356-98a7-c3d112b11d5a",
   "metadata": {},
   "outputs": [
    {
     "name": "stdout",
     "output_type": "stream",
     "text": [
      "the sum of the array is = [ 6  7  8  9 10]\n"
     ]
    }
   ],
   "source": [
    "import numpy as np\n",
    "# add two array\n",
    "g = np.array([1,2,3,4,5])\n",
    "added = np.add(g,5) # add 5 on each element\n",
    "print(f'the sum of the array is = {added}')"
   ]
  },
  {
   "cell_type": "code",
   "execution_count": 2,
   "id": "f638ac61-2e8a-4c29-ba18-b16022777051",
   "metadata": {},
   "outputs": [
    {
     "name": "stdout",
     "output_type": "stream",
     "text": [
      "the substraction of the array a is = [ 7  9 29 51 93]\n"
     ]
    }
   ],
   "source": [
    "# substract two array\n",
    "a = np.array([12,14,34,56,98])\n",
    "sub = np.subtract(a,5) # substract 5 from each element\n",
    "print(f'the substraction of the array a is = {sub}')"
   ]
  },
  {
   "cell_type": "code",
   "execution_count": 3,
   "id": "df183419-5a8b-49b6-88f7-81487048276d",
   "metadata": {},
   "outputs": [
    {
     "name": "stdout",
     "output_type": "stream",
     "text": [
      " the multiplication of array a is = [ 20  30  60 780 550]\n"
     ]
    }
   ],
   "source": [
    "# Multiplication of two array\n",
    "a = np.array([2,3,6,78,55])\n",
    "multiply = np.multiply(a,10) # multiply 10 on each element of the array\n",
    "print(f' the multiplication of array a is = {multiply}')"
   ]
  },
  {
   "cell_type": "code",
   "execution_count": 4,
   "id": "8b4fe9d9-1416-43ae-a6da-e35044a7ff7e",
   "metadata": {},
   "outputs": [
    {
     "name": "stdout",
     "output_type": "stream",
     "text": [
      "the division of the array a is = [2. 3. 4. 5. 6. 7.]\n"
     ]
    }
   ],
   "source": [
    "#division of th array\n",
    "a = np.array([4,6,8,10,12,14])\n",
    "div = np.divide(a,2) #  divide 2 from the each element of the array a\n",
    "print(f'the division of the array a is = {div}')"
   ]
  },
  {
   "cell_type": "code",
   "execution_count": 5,
   "id": "67f37c77-201b-42b5-aee9-c4ee8ec220bd",
   "metadata": {},
   "outputs": [
    {
     "name": "stdout",
     "output_type": "stream",
     "text": [
      "the square of the array a is = [ 100  400  900 1600 2500 8100]\n"
     ]
    }
   ],
   "source": [
    "# square each element\n",
    "a = np.array([10,20,30,40,50,90])\n",
    "square = np.power(a,2) # square each element\n",
    "print(f'the square of the array a is = {square}')"
   ]
  },
  {
   "cell_type": "code",
   "execution_count": 6,
   "id": "0c688b2b-ef9d-44be-8a6e-9048224f2b80",
   "metadata": {},
   "outputs": [
    {
     "name": "stdout",
     "output_type": "stream",
     "text": [
      "the square of the array a is = [  1000   8000  27000  64000 125000 729000]\n"
     ]
    }
   ],
   "source": [
    "# cube each element\n",
    "a = np.array([10,20,30,40,50,90])\n",
    "square = np.pow(a,3) # cube each element\n",
    "print(f'the square of the array a is = {square}')"
   ]
  },
  {
   "cell_type": "code",
   "execution_count": 7,
   "id": "ea2cd3f3-0b3d-4991-8f30-2832997cdeee",
   "metadata": {},
   "outputs": [
    {
     "name": "stdout",
     "output_type": "stream",
     "text": [
      "the square root of the array a is = [10. 20. 30. 40. 50. 90.]\n"
     ]
    }
   ],
   "source": [
    "# square root of each element\n",
    "a = np.array([100,400,900,1600,2500,8100])\n",
    "square_root = np.sqrt(a) # it give the square root of the array a\n",
    "print(f'the square root of the array a is = {square_root}')"
   ]
  },
  {
   "cell_type": "markdown",
   "id": "9e40ff0d-66e9-4014-a381-0711c588dafe",
   "metadata": {},
   "source": [
    "Statistical Function"
   ]
  },
  {
   "cell_type": "code",
   "execution_count": 8,
   "id": "5de91ab8-3fed-443e-a5b2-006764678d37",
   "metadata": {},
   "outputs": [
    {
     "name": "stdout",
     "output_type": "stream",
     "text": [
      "the mean of the array a is = 4.0\n"
     ]
    }
   ],
   "source": [
    "# mean of the array\n",
    "a = np.array([1,2,3,5,6,7])\n",
    "mean = np.mean(a) # 1+2+3+5+6+7 = 24 => 24/6 => 4\n",
    "print(f'the mean of the array a is = {mean}')"
   ]
  },
  {
   "cell_type": "code",
   "execution_count": 9,
   "id": "a179e163-6ddf-4244-b959-3b3e370cbad0",
   "metadata": {},
   "outputs": [
    {
     "name": "stdout",
     "output_type": "stream",
     "text": [
      "the mean of the array a is = 2.0\n"
     ]
    }
   ],
   "source": [
    "# mean of the array\n",
    "a = np.array([1,2,3])\n",
    "mean = np.mean(a) # 1+2+3 = 6 =>6/3 =>2\n",
    "print(f'the mean of the array a is = {mean}')"
   ]
  },
  {
   "cell_type": "code",
   "execution_count": 10,
   "id": "f010c50c-44cb-42ee-bb45-025769ee1878",
   "metadata": {},
   "outputs": [
    {
     "name": "stdout",
     "output_type": "stream",
     "text": [
      "the standard dvation of the array is = 1.118033988749895\n"
     ]
    }
   ],
   "source": [
    "# Standard dviation of an array\n",
    "#std = log of the varience to the size of the array\n",
    "a = np.array([1,2,3,4])\n",
    "std_div = np.std(a)\n",
    "print(f'the standard dvation of the array is = {std_div}')"
   ]
  },
  {
   "cell_type": "code",
   "execution_count": 11,
   "id": "ecf7439e-b140-4aeb-8334-2cef9be61306",
   "metadata": {},
   "outputs": [
    {
     "name": "stdout",
     "output_type": "stream",
     "text": [
      "the minimum of the array a is = 1\n"
     ]
    }
   ],
   "source": [
    "# minimum of a array\n",
    "a = np.array([1,2,3,4,5,6,9])\n",
    "minimum = np.min(a)\n",
    "print(f'the minimum of the array a is = {minimum}')"
   ]
  },
  {
   "cell_type": "code",
   "execution_count": 12,
   "id": "01369005-d47a-43f6-9804-3a4a18ebcd36",
   "metadata": {},
   "outputs": [
    {
     "name": "stdout",
     "output_type": "stream",
     "text": [
      "the maximum of the array a is = 9\n"
     ]
    }
   ],
   "source": [
    "# maximum of a array\n",
    "a = np.array([1,2,3,4,5,6,9])\n",
    "maximum = np.max(a)\n",
    "print(f'the maximum of the array a is = {maximum}')"
   ]
  },
  {
   "cell_type": "markdown",
   "id": "b0823fd4-1ef8-459e-aa05-dc0c55e89a2c",
   "metadata": {},
   "source": [
    "Linear Algebra Function"
   ]
  },
  {
   "cell_type": "code",
   "execution_count": 13,
   "id": "561d5a78-ffa4-4867-b2eb-1a90837cfe38",
   "metadata": {},
   "outputs": [
    {
     "name": "stdout",
     "output_type": "stream",
     "text": [
      "the 2d matrix is = [[1 2]\n",
      " [3 4]]\n"
     ]
    }
   ],
   "source": [
    "# create a metrix\n",
    "matrix = np.array([[1,2],[3,4]])\n",
    "print(f'the 2d matrix is = {matrix}')"
   ]
  },
  {
   "cell_type": "code",
   "execution_count": 14,
   "id": "044eea7f-776b-4b4f-b956-0f29a46d5097",
   "metadata": {},
   "outputs": [
    {
     "name": "stdout",
     "output_type": "stream",
     "text": [
      "the determinant of a matrix is = -2.0000000000000004\n"
     ]
    }
   ],
   "source": [
    "# Determinant of a matrix\n",
    "determinent=np.linalg.det(matrix)\n",
    "print(f'the determinant of a matrix is = {determinent}')"
   ]
  },
  {
   "cell_type": "code",
   "execution_count": 15,
   "id": "1e427f99-698d-45ee-b621-a2b59c75fc18",
   "metadata": {},
   "outputs": [
    {
     "name": "stdout",
     "output_type": "stream",
     "text": [
      "the determinent is = 3.552713678800486e-15\n"
     ]
    }
   ],
   "source": [
    "matrix = np.array([[1,2,3],[4,5,6],[5,6,7]])\n",
    "determinent = np.linalg.det(matrix)\n",
    "print(f'the determinent is = {determinent}')"
   ]
  },
  {
   "cell_type": "code",
   "execution_count": 16,
   "id": "309cb20a-4376-4c1a-8ce8-397217aeb7c0",
   "metadata": {},
   "outputs": [],
   "source": [
    "l = [1,2,3,4]\n"
   ]
  },
  {
   "cell_type": "code",
   "execution_count": 17,
   "id": "f38f96d3-ef25-44bf-9446-3b6b91123acf",
   "metadata": {},
   "outputs": [
    {
     "data": {
      "text/plain": [
       "[1, 3]"
      ]
     },
     "execution_count": 17,
     "metadata": {},
     "output_type": "execute_result"
    }
   ],
   "source": [
    "l[0:3:2]"
   ]
  },
  {
   "cell_type": "code",
   "execution_count": 18,
   "id": "c98c6571-3493-4835-b036-432dee0c0bdc",
   "metadata": {},
   "outputs": [
    {
     "data": {
      "text/plain": [
       "[]"
      ]
     },
     "execution_count": 18,
     "metadata": {},
     "output_type": "execute_result"
    }
   ],
   "source": [
    "l[-2:-4]"
   ]
  },
  {
   "cell_type": "code",
   "execution_count": 19,
   "id": "ef8c2d80-8028-46c3-b08f-c9ee16ab9751",
   "metadata": {},
   "outputs": [
    {
     "name": "stdout",
     "output_type": "stream",
     "text": [
      "the inverse is = [[-2.81474977e+14  1.12589991e+15 -8.44424930e+14]\n",
      " [ 5.62949953e+14 -2.25179981e+15  1.68884986e+15]\n",
      " [-2.81474977e+14  1.12589991e+15 -8.44424930e+14]]\n"
     ]
    }
   ],
   "source": [
    "matrix = np.array([[1,2,3],[4,5,6],[5,6,7]])\n",
    "inverce= np.linalg.inv(matrix)\n",
    "print(f'the inverse is = {inverce}')"
   ]
  },
  {
   "cell_type": "code",
   "execution_count": 21,
   "id": "862c2e13-2879-42a7-a7d9-a330efd2cdc2",
   "metadata": {},
   "outputs": [
    {
     "name": "stdin",
     "output_type": "stream",
     "text": [
      "Enter your wishes \n"
     ]
    },
    {
     "ename": "NameError",
     "evalue": "name 'name' is not defined",
     "output_type": "error",
     "traceback": [
      "\u001b[1;31m---------------------------------------------------------------------------\u001b[0m",
      "\u001b[1;31mNameError\u001b[0m                                 Traceback (most recent call last)",
      "Cell \u001b[1;32mIn[21], line 2\u001b[0m\n\u001b[0;32m      1\u001b[0m wish \u001b[38;5;241m=\u001b[39m \u001b[38;5;28minput\u001b[39m(\u001b[38;5;124m'\u001b[39m\u001b[38;5;124mEnter your wishes\u001b[39m\u001b[38;5;124m'\u001b[39m)\n\u001b[1;32m----> 2\u001b[0m \u001b[38;5;28;01mif\u001b[39;00m wish \u001b[38;5;241m==\u001b[39m name:\n\u001b[0;32m      3\u001b[0m     \u001b[38;5;28mprint\u001b[39m(\u001b[38;5;124m'\u001b[39m\u001b[38;5;124mHAPPY GANESH CHATURTHI\u001b[39m\u001b[38;5;124m'\u001b[39m)\n\u001b[0;32m      4\u001b[0m \u001b[38;5;28;01melif\u001b[39;00m wish \u001b[38;5;241m==\u001b[39m mrs:\n",
      "\u001b[1;31mNameError\u001b[0m: name 'name' is not defined"
     ]
    }
   ],
   "source": [
    "wish = input('Enter your wishes')\n",
    "if wish == name:\n",
    "    print('HAPPY GANESH CHATURTHI')\n",
    "elif wish == mrs:\n",
    "    print('Hpaay ganesh chrturthi')\n",
    "else:\n",
    "    print('WISH YOU ALL HAPPY GANESH CHARTURTHI')\n"
   ]
  },
  {
   "cell_type": "code",
   "execution_count": 22,
   "id": "64e5adc1-a653-4716-9743-555be1f45d98",
   "metadata": {},
   "outputs": [
    {
     "name": "stdin",
     "output_type": "stream",
     "text": [
      "Enter your wishes cv\n"
     ]
    },
    {
     "ename": "NameError",
     "evalue": "name 'name' is not defined",
     "output_type": "error",
     "traceback": [
      "\u001b[1;31m---------------------------------------------------------------------------\u001b[0m",
      "\u001b[1;31mNameError\u001b[0m                                 Traceback (most recent call last)",
      "Cell \u001b[1;32mIn[22], line 2\u001b[0m\n\u001b[0;32m      1\u001b[0m wish \u001b[38;5;241m=\u001b[39m \u001b[38;5;28minput\u001b[39m(\u001b[38;5;124m'\u001b[39m\u001b[38;5;124mEnter your wishes\u001b[39m\u001b[38;5;124m'\u001b[39m)\n\u001b[1;32m----> 2\u001b[0m \u001b[38;5;28;01mif\u001b[39;00m wish \u001b[38;5;241m==\u001b[39m name:\n\u001b[0;32m      3\u001b[0m     \u001b[38;5;28mprint\u001b[39m(\u001b[38;5;124m'\u001b[39m\u001b[38;5;124mHAPPY GANESH CHATURTHI\u001b[39m\u001b[38;5;124m'\u001b[39m)\n\u001b[0;32m      4\u001b[0m \u001b[38;5;28;01melif\u001b[39;00m wish \u001b[38;5;241m==\u001b[39m mrs:\n",
      "\u001b[1;31mNameError\u001b[0m: name 'name' is not defined"
     ]
    }
   ],
   "source": [
    "wish = input('Enter your wishes')\n",
    "if wish == name:\n",
    "    print('HAPPY GANESH CHATURTHI')\n",
    "elif wish == mrs:\n",
    "    print('Hpaay ganesh chrturthi')\n",
    "else:\n",
    "    print('WISH YOU ALL HAPPY GANESH CHARTURTHI')\n"
   ]
  },
  {
   "cell_type": "code",
   "execution_count": 24,
   "id": "a25c69cd-dd65-4fa5-9c86-c2657a1e80f6",
   "metadata": {},
   "outputs": [
    {
     "name": "stdin",
     "output_type": "stream",
     "text": [
      "enter the number 4\n"
     ]
    },
    {
     "name": "stdout",
     "output_type": "stream",
     "text": [
      "ALL MY BEST WISHES\n"
     ]
    }
   ],
   "source": [
    "number = int(input('enter the number'))\n",
    "if number ==1:\n",
    "    print('Ganesh chaturthi')\n",
    "elif number ==5:\n",
    "    print('GANESH CHATURTHI')\n",
    "else:\n",
    "    print('ALL MY BEST WISHES')"
   ]
  },
  {
   "cell_type": "code",
   "execution_count": 23,
   "id": "42018891-4489-4079-bc81-6a8d66406b87",
   "metadata": {},
   "outputs": [
    {
     "name": "stdin",
     "output_type": "stream",
     "text": [
      "Enter your name dvnz\n"
     ]
    },
    {
     "ename": "NameError",
     "evalue": "name 'partha' is not defined",
     "output_type": "error",
     "traceback": [
      "\u001b[1;31m---------------------------------------------------------------------------\u001b[0m",
      "\u001b[1;31mNameError\u001b[0m                                 Traceback (most recent call last)",
      "Cell \u001b[1;32mIn[23], line 2\u001b[0m\n\u001b[0;32m      1\u001b[0m Name \u001b[38;5;241m=\u001b[39m \u001b[38;5;28minput\u001b[39m(\u001b[38;5;124m'\u001b[39m\u001b[38;5;124mEnter your name\u001b[39m\u001b[38;5;124m'\u001b[39m)\n\u001b[1;32m----> 2\u001b[0m \u001b[38;5;28;01mif\u001b[39;00m  Name \u001b[38;5;241m==\u001b[39m partha :\n\u001b[0;32m      3\u001b[0m     \u001b[38;5;28mprint\u001b[39m(\u001b[38;5;124m'\u001b[39m\u001b[38;5;124mHAPPY GANESH CHATURTHI\u001b[39m\u001b[38;5;124m'\u001b[39m)\n\u001b[0;32m      4\u001b[0m \u001b[38;5;28;01melif\u001b[39;00m Name\u001b[38;5;241m==\u001b[39m Gudu:\n",
      "\u001b[1;31mNameError\u001b[0m: name 'partha' is not defined"
     ]
    }
   ],
   "source": [
    "Name = input('Enter your name')\n",
    "if  Name == partha :\n",
    "    print('HAPPY GANESH CHATURTHI')\n",
    "elif Name== Gudu:\n",
    "    print('Hpaay ganesh chrturthi')\n",
    "else:\n",
    "    print('WISH YOU ALL HAPPY GANESH CHARTURTHI')\n"
   ]
  },
  {
   "cell_type": "code",
   "execution_count": 25,
   "id": "e2e0b3a2-8aee-4450-bfb1-6c11b7f11122",
   "metadata": {},
   "outputs": [
    {
     "name": "stdout",
     "output_type": "stream",
     "text": [
      "12\n"
     ]
    }
   ],
   "source": [
    "x = \"2\"\n",
    "y = 3\n",
    "z = int(x) *y + int(x)*y\n",
    "print(z)"
   ]
  },
  {
   "cell_type": "code",
   "execution_count": 26,
   "id": "e6b40da0-eb50-4de9-a461-fab5702bea2c",
   "metadata": {},
   "outputs": [
    {
     "name": "stdout",
     "output_type": "stream",
     "text": [
      "[[5, 0], [5, 0], [5, 0]]\n"
     ]
    }
   ],
   "source": [
    "lst = [[0] *2]*3\n",
    "lst[0][0] =5\n",
    "print(lst)"
   ]
  },
  {
   "cell_type": "code",
   "execution_count": 27,
   "id": "420ba847-2f3d-4d42-acfb-9225819cd953",
   "metadata": {},
   "outputs": [],
   "source": [
    "lst = [[0] *2]*3"
   ]
  },
  {
   "cell_type": "code",
   "execution_count": 28,
   "id": "ea38262a-f7b0-4b2a-ad5f-9f9cfce214ee",
   "metadata": {},
   "outputs": [
    {
     "data": {
      "text/plain": [
       "[[0, 0], [0, 0], [0, 0]]"
      ]
     },
     "execution_count": 28,
     "metadata": {},
     "output_type": "execute_result"
    }
   ],
   "source": [
    "lst"
   ]
  },
  {
   "cell_type": "code",
   "execution_count": 29,
   "id": "737ac368-85bf-4281-a5f1-8de14655ba02",
   "metadata": {},
   "outputs": [
    {
     "data": {
      "text/plain": [
       "[[5, 0], [5, 0], [5, 0]]"
      ]
     },
     "execution_count": 29,
     "metadata": {},
     "output_type": "execute_result"
    }
   ],
   "source": [
    "lst[0][0] =5\n",
    "lst"
   ]
  },
  {
   "cell_type": "code",
   "execution_count": 30,
   "id": "4c5ebbab-7bde-4dc5-ae8f-6eccd360e533",
   "metadata": {},
   "outputs": [
    {
     "name": "stdout",
     "output_type": "stream",
     "text": [
      "ge\n"
     ]
    }
   ],
   "source": [
    "s = 'abcdefg'\n",
    "print(s[10:2:-2])"
   ]
  },
  {
   "cell_type": "code",
   "execution_count": 31,
   "id": "83906dfa-9434-4428-bf8a-8b7b4ac92994",
   "metadata": {},
   "outputs": [
    {
     "ename": "SyntaxError",
     "evalue": "closing parenthesis ')' does not match opening parenthesis '[' (225832813.py, line 2)",
     "output_type": "error",
     "traceback": [
      "\u001b[1;36m  Cell \u001b[1;32mIn[31], line 2\u001b[1;36m\u001b[0m\n\u001b[1;33m    print(s[10:5:-7)\u001b[0m\n\u001b[1;37m                   ^\u001b[0m\n\u001b[1;31mSyntaxError\u001b[0m\u001b[1;31m:\u001b[0m closing parenthesis ')' does not match opening parenthesis '['\n"
     ]
    }
   ],
   "source": [
    "s = 'abcdefg'\n",
    "print(s[10:5:-7)"
   ]
  },
  {
   "cell_type": "code",
   "execution_count": 32,
   "id": "8f15e6e6-bb52-44c8-a8ea-30d0ec23cc8e",
   "metadata": {},
   "outputs": [
    {
     "data": {
      "text/plain": [
       "7"
      ]
     },
     "execution_count": 32,
     "metadata": {},
     "output_type": "execute_result"
    }
   ],
   "source": [
    "len(s)"
   ]
  },
  {
   "cell_type": "code",
   "execution_count": 33,
   "id": "dca65a3c-5f3e-48d3-b81f-1ac2bb4a4ac4",
   "metadata": {},
   "outputs": [
    {
     "data": {
      "text/plain": [
       "'gfed'"
      ]
     },
     "execution_count": 33,
     "metadata": {},
     "output_type": "execute_result"
    }
   ],
   "source": [
    "s[10:2:-1]"
   ]
  },
  {
   "cell_type": "code",
   "execution_count": 34,
   "id": "324dfe29-36e6-48ac-bde8-4b6a3bc44872",
   "metadata": {},
   "outputs": [
    {
     "data": {
      "text/plain": [
       "'abcdefg'"
      ]
     },
     "execution_count": 34,
     "metadata": {},
     "output_type": "execute_result"
    }
   ],
   "source": [
    "s"
   ]
  },
  {
   "cell_type": "code",
   "execution_count": 35,
   "id": "b8336746-b851-4f5d-8863-e377b1a374d5",
   "metadata": {},
   "outputs": [
    {
     "data": {
      "text/plain": [
       "'ge'"
      ]
     },
     "execution_count": 35,
     "metadata": {},
     "output_type": "execute_result"
    }
   ],
   "source": [
    "s[10:2:-2]"
   ]
  },
  {
   "cell_type": "code",
   "execution_count": 36,
   "id": "0bf18c44-6bb1-4e9c-aded-5b378560404e",
   "metadata": {},
   "outputs": [],
   "source": [
    "number = 13\n",
    "result = -(number)"
   ]
  },
  {
   "cell_type": "code",
   "execution_count": 37,
   "id": "827fd963-9bcf-44f0-a475-1b728e234068",
   "metadata": {},
   "outputs": [
    {
     "data": {
      "text/plain": [
       "-13"
      ]
     },
     "execution_count": 37,
     "metadata": {},
     "output_type": "execute_result"
    }
   ],
   "source": [
    "result"
   ]
  },
  {
   "cell_type": "code",
   "execution_count": 38,
   "id": "4d0c1a7f-9daa-4c8a-9ea3-0d2bb9313aef",
   "metadata": {},
   "outputs": [
    {
     "name": "stdout",
     "output_type": "stream",
     "text": [
      "23\n"
     ]
    }
   ],
   "source": [
    "age = -23\n",
    "result = -(age)\n",
    "print(result)"
   ]
  },
  {
   "cell_type": "code",
   "execution_count": null,
   "id": "d7c6af5b-977d-4168-bbef-0448b324365a",
   "metadata": {},
   "outputs": [],
   "source": []
  },
  {
   "cell_type": "code",
   "execution_count": 39,
   "id": "a12dc2c2-d627-4531-8364-3ef6b3db8219",
   "metadata": {},
   "outputs": [
    {
     "name": "stdout",
     "output_type": "stream",
     "text": [
      "15\n"
     ]
    }
   ],
   "source": [
    "l = [1,2,3,4,5]\n",
    "sum_number = 0\n",
    "for i in l:\n",
    "  sum_number = sum_number+i\n",
    "print(sum_number)"
   ]
  },
  {
   "cell_type": "code",
   "execution_count": 40,
   "id": "fc2dbbc0-cbf3-4082-909f-2a296880946a",
   "metadata": {},
   "outputs": [
    {
     "name": "stdout",
     "output_type": "stream",
     "text": [
      "1\n",
      "3\n",
      "6\n",
      "10\n",
      "15\n",
      "21\n"
     ]
    }
   ],
   "source": [
    "l = (1,2,3,4,5,6)\n",
    "sum_number  = 0\n",
    "for i in l:\n",
    "    sum_number = sum_number+i\n",
    "    print(sum_number)"
   ]
  },
  {
   "cell_type": "code",
   "execution_count": 50,
   "id": "53eb0e45-1b1f-40d1-b12d-833d7dc97eba",
   "metadata": {},
   "outputs": [
    {
     "name": "stdout",
     "output_type": "stream",
     "text": [
      "6\n"
     ]
    }
   ],
   "source": [
    "l = [1,2,3,4,5,6]\n",
    "multiplication_num = 1\n",
    "for i in l:\n",
    "    multiplication_number = i*multiplication_num\n",
    "print(multiplication_number)"
   ]
  },
  {
   "cell_type": "code",
   "execution_count": 52,
   "id": "5b0d16b2-75fa-4c91-a9d3-4b130d87d5ef",
   "metadata": {},
   "outputs": [
    {
     "name": "stdout",
     "output_type": "stream",
     "text": [
      "0\n",
      "2\n",
      "4\n",
      "6\n",
      "8\n",
      "10\n"
     ]
    }
   ],
   "source": [
    "for i in range(0,11,2):\n",
    "    print(i)"
   ]
  },
  {
   "cell_type": "code",
   "execution_count": 54,
   "id": "25a60442-64b5-4030-aece-aa243c2d1f02",
   "metadata": {},
   "outputs": [
    {
     "name": "stdout",
     "output_type": "stream",
     "text": [
      "0\n",
      "2\n",
      "4\n",
      "6\n",
      "8\n",
      "10\n"
     ]
    }
   ],
   "source": [
    "for i in range(0,11):\n",
    "    if i % 2 ==0:\n",
    "        print(i)"
   ]
  },
  {
   "cell_type": "code",
   "execution_count": 59,
   "id": "0a2fe365-923e-4ea7-a566-c7aade6a7b45",
   "metadata": {},
   "outputs": [
    {
     "name": "stdout",
     "output_type": "stream",
     "text": [
      "10\n",
      "9\n",
      "8\n",
      "7\n",
      "6\n",
      "5\n",
      "4\n",
      "3\n",
      "2\n",
      "1\n"
     ]
    }
   ],
   "source": [
    "for i in range(10,0,-1):\n",
    "    print(i)"
   ]
  },
  {
   "cell_type": "code",
   "execution_count": 57,
   "id": "5507425d-c117-4b0f-b3b6-1e126b5b57cc",
   "metadata": {},
   "outputs": [
    {
     "ename": "SyntaxError",
     "evalue": "invalid syntax (2918327108.py, line 2)",
     "output_type": "error",
     "traceback": [
      "\u001b[1;36m  Cell \u001b[1;32mIn[57], line 2\u001b[1;36m\u001b[0m\n\u001b[1;33m    reverse = [::-1]\u001b[0m\n\u001b[1;37m               ^\u001b[0m\n\u001b[1;31mSyntaxError\u001b[0m\u001b[1;31m:\u001b[0m invalid syntax\n"
     ]
    }
   ],
   "source": [
    "for i in range(1,11):\n",
    "    reverse = [::-1]\n",
    "    print(reverse)"
   ]
  },
  {
   "cell_type": "code",
   "execution_count": 61,
   "id": "1ba0f710-a3f1-4859-98c4-83f167d42db1",
   "metadata": {},
   "outputs": [
    {
     "name": "stdout",
     "output_type": "stream",
     "text": [
      "20\n",
      "18\n",
      "16\n",
      "14\n",
      "12\n",
      "10\n",
      "8\n",
      "6\n",
      "4\n",
      "2\n"
     ]
    }
   ],
   "source": [
    "for i in range(20,0,-2):\n",
    "    print(i)"
   ]
  },
  {
   "cell_type": "code",
   "execution_count": 62,
   "id": "9673859c-9eae-4be4-a1ce-8941c22db1c6",
   "metadata": {},
   "outputs": [
    {
     "name": "stdout",
     "output_type": "stream",
     "text": [
      "2\n",
      "3\n",
      "4\n",
      "5\n",
      "6\n",
      "7\n",
      "8\n",
      "9\n",
      "10\n"
     ]
    }
   ],
   "source": [
    "for i in range(2,11):\n",
    "    print(i)"
   ]
  },
  {
   "cell_type": "code",
   "execution_count": 63,
   "id": "486103a4-0a21-42f5-888f-6fa86583afb6",
   "metadata": {},
   "outputs": [
    {
     "name": "stdout",
     "output_type": "stream",
     "text": [
      "2\n",
      "7\n",
      "12\n",
      "17\n"
     ]
    }
   ],
   "source": [
    "for i in range(2,20,5):\n",
    "    print(i)"
   ]
  },
  {
   "cell_type": "code",
   "execution_count": 64,
   "id": "0beaa702-b659-4a49-9683-030a4b3d7efa",
   "metadata": {},
   "outputs": [
    {
     "name": "stdout",
     "output_type": "stream",
     "text": [
      "p\n",
      "a\n",
      "r\n",
      "t\n",
      "h\n",
      "a\n",
      "s\n",
      "a\n",
      "r\n",
      "a\n",
      "t\n",
      "h\n",
      "i\n"
     ]
    }
   ],
   "source": [
    "string = 'parthasarathi'\n",
    "for i in  string:\n",
    "    print(i)"
   ]
  },
  {
   "cell_type": "code",
   "execution_count": 66,
   "id": "c932c068-dd9e-4625-b85a-f4f8fcf106ea",
   "metadata": {},
   "outputs": [
    {
     "ename": "TypeError",
     "evalue": "'int' object is not iterable",
     "output_type": "error",
     "traceback": [
      "\u001b[1;31m---------------------------------------------------------------------------\u001b[0m",
      "\u001b[1;31mTypeError\u001b[0m                                 Traceback (most recent call last)",
      "Cell \u001b[1;32mIn[66], line 2\u001b[0m\n\u001b[0;32m      1\u001b[0m \u001b[38;5;28;01mfor\u001b[39;00m i \u001b[38;5;129;01min\u001b[39;00m \u001b[38;5;28mrange\u001b[39m(\u001b[38;5;241m20\u001b[39m):\n\u001b[1;32m----> 2\u001b[0m     \u001b[38;5;28mprint\u001b[39m(\u001b[38;5;28mmax\u001b[39m(i))\n",
      "\u001b[1;31mTypeError\u001b[0m: 'int' object is not iterable"
     ]
    }
   ],
   "source": [
    "for i in range(20):\n",
    "    print(max(i))\n",
    "    "
   ]
  },
  {
   "cell_type": "code",
   "execution_count": 68,
   "id": "3c816ee9-5963-46ef-9793-548d0eaa3b94",
   "metadata": {},
   "outputs": [
    {
     "name": "stdout",
     "output_type": "stream",
     "text": [
      "478\n",
      "478\n",
      "478\n",
      "478\n",
      "478\n",
      "\n"
     ]
    }
   ],
   "source": [
    "l = [1,2,3,478,23]\n",
    "for i in l:\n",
    "    print(max(l))\n",
    "print()"
   ]
  },
  {
   "cell_type": "code",
   "execution_count": 69,
   "id": "bb44558b-1bfa-4f0d-b499-16f1ed21968c",
   "metadata": {},
   "outputs": [
    {
     "name": "stdout",
     "output_type": "stream",
     "text": [
      "1\n",
      "1\n",
      "1\n",
      "1\n",
      "1\n"
     ]
    }
   ],
   "source": [
    "l = [1,2,3,478,23]\n",
    "for i in l:\n",
    "    print(min(l))"
   ]
  },
  {
   "cell_type": "code",
   "execution_count": 73,
   "id": "f3b6a024-9aca-43a4-8f5a-01b3e4ee6beb",
   "metadata": {},
   "outputs": [
    {
     "name": "stdout",
     "output_type": "stream",
     "text": [
      "[23, 478, 3, 2, 1]\n"
     ]
    }
   ],
   "source": [
    "l = [1,2,3,478,23]\n",
    "for i in l:\n",
    "    reverse = l[::-1]\n",
    "print(reverse)"
   ]
  },
  {
   "cell_type": "code",
   "execution_count": 79,
   "id": "8a23716c-3651-4782-887a-d914916470da",
   "metadata": {},
   "outputs": [
    {
     "name": "stdout",
     "output_type": "stream",
     "text": [
      "PARTHA\n"
     ]
    }
   ],
   "source": [
    "name = 'partha'\n",
    "for i in name:\n",
    "    uppercase = name.upper()\n",
    "print(uppercase)"
   ]
  },
  {
   "cell_type": "code",
   "execution_count": 80,
   "id": "c3c4407e-9bad-4507-8bfe-da0fc6c8d37e",
   "metadata": {},
   "outputs": [
    {
     "name": "stdout",
     "output_type": "stream",
     "text": [
      "partha\n"
     ]
    }
   ],
   "source": [
    "name = 'PARTHA'\n",
    "for i in name:\n",
    "    lowercase = name.lower()\n",
    "print(lowercase)"
   ]
  },
  {
   "cell_type": "code",
   "execution_count": null,
   "id": "126b5c69-71d0-45af-a5f5-4875b82281e7",
   "metadata": {},
   "outputs": [],
   "source": []
  }
 ],
 "metadata": {
  "kernelspec": {
   "display_name": "Python 3 (ipykernel)",
   "language": "python",
   "name": "python3"
  },
  "language_info": {
   "codemirror_mode": {
    "name": "ipython",
    "version": 3
   },
   "file_extension": ".py",
   "mimetype": "text/x-python",
   "name": "python",
   "nbconvert_exporter": "python",
   "pygments_lexer": "ipython3",
   "version": "3.13.5"
  }
 },
 "nbformat": 4,
 "nbformat_minor": 5
}
