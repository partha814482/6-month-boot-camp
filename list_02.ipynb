{
 "cells": [
  {
   "cell_type": "code",
   "execution_count": 6,
   "id": "b01599f4-b9fa-40af-8f29-22a33da6d586",
   "metadata": {},
   "outputs": [
    {
     "name": "stdout",
     "output_type": "stream",
     "text": [
      "the list is = [1, 2, 45, 677, 8, 999]\n",
      "the length of list is = 6\n",
      "the list is = [1, 2, 45, 677, 8, 999, 2.8]\n",
      "the list is = [1, 2, 45, 677, 8, 999, 2.8, 2.8]\n"
     ]
    }
   ],
   "source": [
    "l = [1,2,45,677,8,999]\n",
    "print(f'the list is = {l}')\n",
    "print(f'the length of list is = {len(l)}')\n",
    "l.append(2.8)\n",
    "print(f'the list is = {l}')\n",
    "l.append(2.8)\n",
    "print(f'the list is = {l}')\n",
    "\n",
    "\n"
   ]
  },
  {
   "cell_type": "code",
   "execution_count": 16,
   "id": "55c245e1-a437-4ac1-91d9-96629157e9c8",
   "metadata": {},
   "outputs": [
    {
     "data": {
      "text/plain": [
       "2"
      ]
     },
     "execution_count": 16,
     "metadata": {},
     "output_type": "execute_result"
    }
   ],
   "source": [
    "l.count(2.8)"
   ]
  },
  {
   "cell_type": "code",
   "execution_count": 17,
   "id": "3ec83685-8d18-4ff9-a811-c99a3bcb419e",
   "metadata": {},
   "outputs": [
    {
     "data": {
      "text/plain": [
       "5"
      ]
     },
     "execution_count": 17,
     "metadata": {},
     "output_type": "execute_result"
    }
   ],
   "source": [
    "l.index(999)"
   ]
  },
  {
   "cell_type": "code",
   "execution_count": 18,
   "id": "c55e81ad-7a0b-41f3-bc02-b15bfe05a631",
   "metadata": {},
   "outputs": [
    {
     "data": {
      "text/plain": [
       "6"
      ]
     },
     "execution_count": 18,
     "metadata": {},
     "output_type": "execute_result"
    }
   ],
   "source": [
    "l.index(2.8)"
   ]
  },
  {
   "cell_type": "code",
   "execution_count": 19,
   "id": "7d199f60-7232-4e77-9c02-a37003e2e35f",
   "metadata": {},
   "outputs": [
    {
     "data": {
      "text/plain": [
       "6"
      ]
     },
     "execution_count": 19,
     "metadata": {},
     "output_type": "execute_result"
    }
   ],
   "source": [
    "l.index(2.8)"
   ]
  },
  {
   "cell_type": "code",
   "execution_count": 1,
   "id": "17afe0cd-4c8a-4d6a-aa33-b5ce6c724312",
   "metadata": {},
   "outputs": [
    {
     "ename": "NameError",
     "evalue": "name 'l1' is not defined",
     "output_type": "error",
     "traceback": [
      "\u001b[1;31m---------------------------------------------------------------------------\u001b[0m",
      "\u001b[1;31mNameError\u001b[0m                                 Traceback (most recent call last)",
      "Cell \u001b[1;32mIn[1], line 1\u001b[0m\n\u001b[1;32m----> 1\u001b[0m l \u001b[38;5;241m=\u001b[39m l1\u001b[38;5;241m.\u001b[39mcopy()\n\u001b[0;32m      2\u001b[0m l1\n",
      "\u001b[1;31mNameError\u001b[0m: name 'l1' is not defined"
     ]
    }
   ],
   "source": [
    "\n",
    "l = l1.copy()\n",
    "l1"
   ]
  },
  {
   "cell_type": "code",
   "execution_count": 28,
   "id": "b595f92a-8925-4fc0-b284-3179caf872b1",
   "metadata": {},
   "outputs": [
    {
     "data": {
      "text/plain": [
       "[1, 2, 45, 677, 8, 999, 2.8, 2.8]"
      ]
     },
     "execution_count": 28,
     "metadata": {},
     "output_type": "execute_result"
    }
   ],
   "source": [
    "l"
   ]
  },
  {
   "cell_type": "code",
   "execution_count": 33,
   "id": "1e640577-bff6-4e9d-929c-45bb33585526",
   "metadata": {},
   "outputs": [
    {
     "data": {
      "text/plain": [
       "[1, 2, 45, 22, 677, 8, 999, 2.8, 2.8, 1, 1]"
      ]
     },
     "execution_count": 33,
     "metadata": {},
     "output_type": "execute_result"
    }
   ],
   "source": [
    "l.insert(3,22)\n",
    "l"
   ]
  },
  {
   "cell_type": "code",
   "execution_count": 35,
   "id": "6a1c4770-6f6f-4d92-a02a-18a9ac419748",
   "metadata": {},
   "outputs": [
    {
     "name": "stdout",
     "output_type": "stream",
     "text": [
      "[1, 2, 45, 22, 677, 8, 999, 2.8, 2.8, 1, 1]\n"
     ]
    }
   ],
   "source": [
    "print(l)"
   ]
  },
  {
   "cell_type": "code",
   "execution_count": 37,
   "id": "d0ee5da3-fb14-4152-8905-41962b788632",
   "metadata": {},
   "outputs": [
    {
     "data": {
      "text/plain": [
       "[2, 45, 22, 677, 8, 999, 2.8, 2.8, 1]"
      ]
     },
     "execution_count": 37,
     "metadata": {},
     "output_type": "execute_result"
    }
   ],
   "source": [
    "l.remove(1)\n",
    "l"
   ]
  },
  {
   "cell_type": "code",
   "execution_count": 43,
   "id": "2ae617b2-1e75-4974-a726-1c064554b7ea",
   "metadata": {},
   "outputs": [
    {
     "ename": "ValueError",
     "evalue": "list.remove(x): x not in list",
     "output_type": "error",
     "traceback": [
      "\u001b[1;31m---------------------------------------------------------------------------\u001b[0m",
      "\u001b[1;31mValueError\u001b[0m                                Traceback (most recent call last)",
      "Cell \u001b[1;32mIn[43], line 1\u001b[0m\n\u001b[1;32m----> 1\u001b[0m l\u001b[38;5;241m.\u001b[39mremove(\u001b[38;5;241m2\u001b[39m)\n\u001b[0;32m      2\u001b[0m l\n",
      "\u001b[1;31mValueError\u001b[0m: list.remove(x): x not in list"
     ]
    }
   ],
   "source": [
    "l.remove(2)\n",
    "l"
   ]
  },
  {
   "cell_type": "code",
   "execution_count": 45,
   "id": "c0b5e64e-a108-450f-8d55-0af3836cedf7",
   "metadata": {},
   "outputs": [
    {
     "name": "stdout",
     "output_type": "stream",
     "text": [
      "[45, 22, 677, 8, 999, 2.8, 2.8, 1]\n"
     ]
    }
   ],
   "source": [
    "print(l)"
   ]
  },
  {
   "cell_type": "code",
   "execution_count": 47,
   "id": "be10d33f-a3aa-4bf7-bd64-9e537ba10ccf",
   "metadata": {},
   "outputs": [
    {
     "data": {
      "text/plain": [
       "[45, 22, 677, 8, 999, 2.8, 2.8, 1]"
      ]
     },
     "execution_count": 47,
     "metadata": {},
     "output_type": "execute_result"
    }
   ],
   "source": [
    "l.reverse()\n",
    "l"
   ]
  },
  {
   "cell_type": "code",
   "execution_count": 51,
   "id": "9578da95-4a50-4e35-99d6-91195ed3de7b",
   "metadata": {},
   "outputs": [
    {
     "data": {
      "text/plain": [
       "[45, 22, 677, 8, 999, 2.8, 2.8, 1, 'n', 'i', 't', 'n', 'i', 't']"
      ]
     },
     "execution_count": 51,
     "metadata": {},
     "output_type": "execute_result"
    }
   ],
   "source": [
    "l.extend('nit')\n",
    "l"
   ]
  },
  {
   "cell_type": "code",
   "execution_count": 55,
   "id": "79ab7f25-ec54-455e-9aad-3d6ca2a6b24a",
   "metadata": {},
   "outputs": [
    {
     "data": {
      "text/plain": [
       "[45,\n",
       " 22,\n",
       " 677,\n",
       " 8,\n",
       " 999,\n",
       " 2.8,\n",
       " 2.8,\n",
       " 1,\n",
       " 'n',\n",
       " 'i',\n",
       " 't',\n",
       " 'n',\n",
       " 'i',\n",
       " 't',\n",
       " '5',\n",
       " '6',\n",
       " '7',\n",
       " '5',\n",
       " '6',\n",
       " '7',\n",
       " '5',\n",
       " '6',\n",
       " '7',\n",
       " '5',\n",
       " '6',\n",
       " '7']"
      ]
     },
     "execution_count": 55,
     "metadata": {},
     "output_type": "execute_result"
    }
   ],
   "source": [
    "l.extend('567')\n",
    "l"
   ]
  },
  {
   "cell_type": "code",
   "execution_count": 56,
   "id": "e65aac32-19a1-4e4f-8375-34a122d164a6",
   "metadata": {},
   "outputs": [
    {
     "name": "stdout",
     "output_type": "stream",
     "text": [
      "[45, 22, 677, 8, 999, 2.8, 2.8, 1, 'n', 'i', 't', 'n', 'i', 't', '5', '6', '7', '5', '6', '7', '5', '6', '7', '5', '6', '7']\n"
     ]
    }
   ],
   "source": [
    "print(l)"
   ]
  },
  {
   "cell_type": "code",
   "execution_count": 60,
   "id": "6d1b46b8-2729-4adb-abc1-a149e665614d",
   "metadata": {},
   "outputs": [
    {
     "data": {
      "text/plain": [
       "4"
      ]
     },
     "execution_count": 60,
     "metadata": {},
     "output_type": "execute_result"
    }
   ],
   "source": [
    "l.index(999)"
   ]
  },
  {
   "cell_type": "code",
   "execution_count": 64,
   "id": "ceda6659-b854-495f-a52f-b571d1792cc8",
   "metadata": {},
   "outputs": [
    {
     "data": {
      "text/plain": [
       "[0, 1, 3, 34.2, 99]"
      ]
     },
     "execution_count": 64,
     "metadata": {},
     "output_type": "execute_result"
    }
   ],
   "source": [
    "l1 = [1,99,34.2,3,0]\n",
    "l1.sort()\n",
    "l1\n"
   ]
  },
  {
   "cell_type": "code",
   "execution_count": 66,
   "id": "7f9edae4-c7e7-4783-9ce5-562dce848ca8",
   "metadata": {},
   "outputs": [
    {
     "data": {
      "text/plain": [
       "[99, 34.2, 3, 1, 0]"
      ]
     },
     "execution_count": 66,
     "metadata": {},
     "output_type": "execute_result"
    }
   ],
   "source": [
    "l1.sort( reverse=True)\n",
    "l1"
   ]
  },
  {
   "cell_type": "code",
   "execution_count": 71,
   "id": "0e390c10-18ef-4729-b5ee-cfaca22c6e43",
   "metadata": {},
   "outputs": [
    {
     "data": {
      "text/plain": [
       "[99, 1, 0]"
      ]
     },
     "execution_count": 71,
     "metadata": {},
     "output_type": "execute_result"
    }
   ],
   "source": [
    "l1.pop(1)\n",
    "l1"
   ]
  },
  {
   "cell_type": "code",
   "execution_count": 78,
   "id": "5045d648-63bb-4311-8125-21916d4ca974",
   "metadata": {},
   "outputs": [
    {
     "ename": "IndexError",
     "evalue": "pop from empty list",
     "output_type": "error",
     "traceback": [
      "\u001b[1;31m---------------------------------------------------------------------------\u001b[0m",
      "\u001b[1;31mIndexError\u001b[0m                                Traceback (most recent call last)",
      "Cell \u001b[1;32mIn[78], line 1\u001b[0m\n\u001b[1;32m----> 1\u001b[0m l\u001b[38;5;241m.\u001b[39mpop(\u001b[38;5;241m2\u001b[39m)\n\u001b[0;32m      2\u001b[0m l\n",
      "\u001b[1;31mIndexError\u001b[0m: pop from empty list"
     ]
    }
   ],
   "source": [
    "l.pop(2)\n",
    "l"
   ]
  },
  {
   "cell_type": "code",
   "execution_count": 79,
   "id": "e0badf8b-4735-4638-a783-c3c778a504eb",
   "metadata": {},
   "outputs": [
    {
     "data": {
      "text/plain": [
       "[]"
      ]
     },
     "execution_count": 79,
     "metadata": {},
     "output_type": "execute_result"
    }
   ],
   "source": [
    "l.clear()\n",
    "l"
   ]
  },
  {
   "cell_type": "code",
   "execution_count": 82,
   "id": "3283bdf8-9ca7-46f7-b678-14c15ffcd19c",
   "metadata": {},
   "outputs": [
    {
     "data": {
      "text/plain": [
       "[45, 1, 0]"
      ]
     },
     "execution_count": 82,
     "metadata": {},
     "output_type": "execute_result"
    }
   ],
   "source": [
    "l1[0]= 45\n",
    "l1"
   ]
  },
  {
   "cell_type": "code",
   "execution_count": 81,
   "id": "6720bc62-8ac7-4157-b644-6530daf73201",
   "metadata": {},
   "outputs": [],
   "source": [
    "#copy,extend,pop,"
   ]
  },
  {
   "cell_type": "code",
   "execution_count": 85,
   "id": "f0fa980e-e395-4a5c-97bf-bdd5581184b1",
   "metadata": {},
   "outputs": [
    {
     "data": {
      "text/plain": [
       "['partha', 'gudu', 'chitta']"
      ]
     },
     "execution_count": 85,
     "metadata": {},
     "output_type": "execute_result"
    }
   ],
   "source": [
    "p = ['partha','gudu','chitta']\n",
    "p1=p.copy()\n",
    "p1"
   ]
  },
  {
   "cell_type": "code",
   "execution_count": 93,
   "id": "1792694a-8eca-4ea9-8c4e-5df3a5f3f0f4",
   "metadata": {},
   "outputs": [
    {
     "data": {
      "text/plain": [
       "[34.0, 98, 567, 89, 1, 2, 3, 4]"
      ]
     },
     "execution_count": 93,
     "metadata": {},
     "output_type": "execute_result"
    }
   ],
   "source": [
    "g = [34.0,98,567,89]\n",
    "p = [1,2,3,4]\n",
    "p=g.extend(p)\n",
    "p=g.copy()\n",
    "p"
   ]
  },
  {
   "cell_type": "code",
   "execution_count": 3,
   "id": "9367c77d-902b-4506-86ec-673739410f21",
   "metadata": {},
   "outputs": [
    {
     "data": {
      "text/plain": [
       "[1, 2, 3, 4, 5]"
      ]
     },
     "execution_count": 3,
     "metadata": {},
     "output_type": "execute_result"
    }
   ],
   "source": [
    "x = [1,2,3,4,5]\n",
    "y=x.copy()\n",
    "y"
   ]
  },
  {
   "cell_type": "code",
   "execution_count": 5,
   "id": "a833f7e7-9401-4f05-b146-b64eefd6036b",
   "metadata": {},
   "outputs": [
    {
     "name": "stdout",
     "output_type": "stream",
     "text": [
      "[1, 2, 3, 4, 5]\n"
     ]
    }
   ],
   "source": [
    "print(y)"
   ]
  },
  {
   "cell_type": "code",
   "execution_count": 12,
   "id": "b4da58d9-da4c-4497-bd70-502541065224",
   "metadata": {},
   "outputs": [
    {
     "data": {
      "text/plain": [
       "[45, 656, 23, 45, 89]"
      ]
     },
     "execution_count": 12,
     "metadata": {},
     "output_type": "execute_result"
    }
   ],
   "source": [
    "f = [45,656]\n",
    "f.extend([23,45,89])\n",
    "f\n"
   ]
  },
  {
   "cell_type": "code",
   "execution_count": 16,
   "id": "764e502e-cced-4cb5-9725-b33b7d7995ad",
   "metadata": {},
   "outputs": [
    {
     "name": "stdout",
     "output_type": "stream",
     "text": [
      "{34, 20, 56, 10, 77, 30}\n"
     ]
    }
   ],
   "source": [
    "set7 = {10,20,30}\n",
    "set7.add(77)\n",
    "set7.update({34,56})\n",
    "print(set7)"
   ]
  },
  {
   "cell_type": "code",
   "execution_count": 20,
   "id": "f4324af0-a075-4ccd-8a7a-9b305ae6983f",
   "metadata": {},
   "outputs": [
    {
     "name": "stdout",
     "output_type": "stream",
     "text": [
      "78\n"
     ]
    },
    {
     "data": {
      "text/plain": [
       "[22, 45]"
      ]
     },
     "execution_count": 20,
     "metadata": {},
     "output_type": "execute_result"
    }
   ],
   "source": [
    "l2 = [22,45,78]\n",
    "print(l2.pop(2))\n",
    "l2"
   ]
  },
  {
   "cell_type": "code",
   "execution_count": 24,
   "id": "8cafeb14-3e63-4e83-bacd-d31e3b46ba6c",
   "metadata": {},
   "outputs": [
    {
     "name": "stdout",
     "output_type": "stream",
     "text": [
      "I'am a good boy\n"
     ]
    }
   ],
   "source": [
    "print('I\\'am a good boy')"
   ]
  },
  {
   "cell_type": "code",
   "execution_count": 26,
   "id": "cc4a50e0-de37-4520-9c7b-9366063da5f2",
   "metadata": {},
   "outputs": [
    {
     "name": "stdout",
     "output_type": "stream",
     "text": [
      "i am \"going to\" school\n"
     ]
    }
   ],
   "source": [
    "print(\"i am \\\"going to\\\" school\")"
   ]
  },
  {
   "cell_type": "code",
   "execution_count": 31,
   "id": "ffa01d3e-8f9c-4fb7-9afb-1b52182bc6b9",
   "metadata": {},
   "outputs": [
    {
     "name": "stdout",
     "output_type": "stream",
     "text": [
      "my fevorite tv serise  is \" game of cricket\"\n"
     ]
    }
   ],
   "source": [
    "print(\"my fevorite tv serise  is \\\" game of cricket\\\"\")"
   ]
  },
  {
   "cell_type": "markdown",
   "id": "e3fa78d8-c985-4c29-81d6-e124c1d2bb0c",
   "metadata": {},
   "source": [
    "LIST"
   ]
  },
  {
   "cell_type": "code",
   "execution_count": 34,
   "id": "48831590-d0e8-4e57-96c7-e33b766cca43",
   "metadata": {},
   "outputs": [
    {
     "name": "stdout",
     "output_type": "stream",
     "text": [
      "[]\n",
      "<class 'list'>\n"
     ]
    }
   ],
   "source": [
    "list = []\n",
    "print(list)\n",
    "print(type(list))"
   ]
  },
  {
   "cell_type": "code",
   "execution_count": 38,
   "id": "016e806a-db39-4038-a245-2a22d7f42e99",
   "metadata": {},
   "outputs": [
    {
     "name": "stdout",
     "output_type": "stream",
     "text": [
      "[1, 2, 3, 4, 5]\n",
      "<class 'list'>\n",
      "5\n",
      "2\n"
     ]
    }
   ],
   "source": [
    "l = [1,2,3,4,5]\n",
    "print(l)\n",
    "print(type(l))\n",
    "print(len(l))\n",
    "print(l[1])"
   ]
  },
  {
   "cell_type": "code",
   "execution_count": 43,
   "id": "083b68ff-15de-41b5-9346-a560a4c437b6",
   "metadata": {},
   "outputs": [
    {
     "data": {
      "text/plain": [
       "4"
      ]
     },
     "execution_count": 43,
     "metadata": {},
     "output_type": "execute_result"
    }
   ],
   "source": [
    "l[-2]"
   ]
  },
  {
   "cell_type": "code",
   "execution_count": 46,
   "id": "f155cdc5-c661-4cc7-baef-328181a20ce2",
   "metadata": {},
   "outputs": [
    {
     "data": {
      "text/plain": [
       "[1, 2, 3, 44, 5]"
      ]
     },
     "execution_count": 46,
     "metadata": {},
     "output_type": "execute_result"
    }
   ],
   "source": [
    "l[3]= 44\n",
    "l"
   ]
  },
  {
   "cell_type": "markdown",
   "id": "b6436837-e6e7-4e2c-909a-71ce675aa6b9",
   "metadata": {},
   "source": [
    "LIST SLICING"
   ]
  },
  {
   "cell_type": "code",
   "execution_count": 49,
   "id": "753b76af-a403-499c-97ae-875a9da0ea91",
   "metadata": {},
   "outputs": [
    {
     "name": "stdout",
     "output_type": "stream",
     "text": [
      "['one', 'two', 'three', 'four', 'five', 'six', 'seven', 'eight']\n",
      "8\n"
     ]
    }
   ],
   "source": [
    "l = ['one','two','three','four','five','six','seven','eight']\n",
    "print(l)\n",
    "print(len(l))"
   ]
  },
  {
   "cell_type": "code",
   "execution_count": 51,
   "id": "bfe421e5-fd15-471a-aefc-9dab5c5a3487",
   "metadata": {},
   "outputs": [
    {
     "data": {
      "text/plain": [
       "'five'"
      ]
     },
     "execution_count": 51,
     "metadata": {},
     "output_type": "execute_result"
    }
   ],
   "source": [
    "l[4]"
   ]
  },
  {
   "cell_type": "code",
   "execution_count": 53,
   "id": "86252757-4d8f-406d-b1fd-fb0e57720c54",
   "metadata": {},
   "outputs": [
    {
     "data": {
      "text/plain": [
       "'five'"
      ]
     },
     "execution_count": 53,
     "metadata": {},
     "output_type": "execute_result"
    }
   ],
   "source": [
    "l[-4]"
   ]
  },
  {
   "cell_type": "code",
   "execution_count": 55,
   "id": "e62bff3e-5fbe-451b-8514-4c61d7a4a9c1",
   "metadata": {},
   "outputs": [
    {
     "data": {
      "text/plain": [
       "['one', 'two', 'three', 'four', 'five', 'six']"
      ]
     },
     "execution_count": 55,
     "metadata": {},
     "output_type": "execute_result"
    }
   ],
   "source": [
    "l[0:6]"
   ]
  },
  {
   "cell_type": "code",
   "execution_count": 58,
   "id": "87964be1-63f4-4bce-a793-f236e4c28a27",
   "metadata": {},
   "outputs": [
    {
     "data": {
      "text/plain": [
       "'three'"
      ]
     },
     "execution_count": 58,
     "metadata": {},
     "output_type": "execute_result"
    }
   ],
   "source": [
    "l[2]"
   ]
  },
  {
   "cell_type": "code",
   "execution_count": 60,
   "id": "224dd89d-ed26-47a2-8cd2-35e95faaf69e",
   "metadata": {},
   "outputs": [
    {
     "data": {
      "text/plain": [
       "['one', 'two', 'three', 'four', 'five']"
      ]
     },
     "execution_count": 60,
     "metadata": {},
     "output_type": "execute_result"
    }
   ],
   "source": [
    "l[:-3]"
   ]
  },
  {
   "cell_type": "code",
   "execution_count": 62,
   "id": "ef3aae9f-398e-43f9-9dc8-ecb4c5b0e4fe",
   "metadata": {},
   "outputs": [
    {
     "data": {
      "text/plain": [
       "['one', 'two', 'three', 'four']"
      ]
     },
     "execution_count": 62,
     "metadata": {},
     "output_type": "execute_result"
    }
   ],
   "source": [
    "l[0:-4]"
   ]
  },
  {
   "cell_type": "code",
   "execution_count": 64,
   "id": "9806d2f7-0d46-4717-923e-f87a31dd8831",
   "metadata": {},
   "outputs": [
    {
     "data": {
      "text/plain": [
       "['eight']"
      ]
     },
     "execution_count": 64,
     "metadata": {},
     "output_type": "execute_result"
    }
   ],
   "source": [
    "l[-1:]"
   ]
  },
  {
   "cell_type": "code",
   "execution_count": 66,
   "id": "08e91656-dd13-414d-a6c7-013c7d5b4f1c",
   "metadata": {},
   "outputs": [
    {
     "data": {
      "text/plain": [
       "['six', 'seven', 'eight']"
      ]
     },
     "execution_count": 66,
     "metadata": {},
     "output_type": "execute_result"
    }
   ],
   "source": [
    "l[-3:]# return last three element"
   ]
  },
  {
   "cell_type": "code",
   "execution_count": 69,
   "id": "00a8f1c9-a505-4bcc-8dd0-7427fe7e9c68",
   "metadata": {},
   "outputs": [
    {
     "data": {
      "text/plain": [
       "['one', 'two', 'three', 'four', 'five', 'six']"
      ]
     },
     "execution_count": 69,
     "metadata": {},
     "output_type": "execute_result"
    }
   ],
   "source": [
    "l[0:-2]"
   ]
  },
  {
   "cell_type": "code",
   "execution_count": 72,
   "id": "648f08e3-e879-4eb1-acb4-a97fff99c554",
   "metadata": {},
   "outputs": [
    {
     "data": {
      "text/plain": [
       "['seven', 'eight']"
      ]
     },
     "execution_count": 72,
     "metadata": {},
     "output_type": "execute_result"
    }
   ],
   "source": [
    "l[-2:]"
   ]
  },
  {
   "cell_type": "markdown",
   "id": "807df65f-620f-4936-b9f0-0da2d511eabe",
   "metadata": {},
   "source": [
    "Add Remove and change items"
   ]
  },
  {
   "cell_type": "code",
   "execution_count": 2,
   "id": "65d08237-845b-4089-8336-82520f787923",
   "metadata": {},
   "outputs": [
    {
     "name": "stdout",
     "output_type": "stream",
     "text": [
      "['one', 'two', 'three', 'four', 'five', 'six', 'seven', 'eight']\n"
     ]
    }
   ],
   "source": [
    "mylist = ['one','two','three','four','five','six','seven','eight']\n",
    "print(mylist)\n"
   ]
  },
  {
   "cell_type": "code",
   "execution_count": 5,
   "id": "f16a05ff-8ee2-41ba-b8bf-b9714ab676e7",
   "metadata": {},
   "outputs": [
    {
     "data": {
      "text/plain": [
       "['one',\n",
       " 'two',\n",
       " 'three',\n",
       " 'four',\n",
       " 'five',\n",
       " 'six',\n",
       " 'seven',\n",
       " 'eight',\n",
       " 'nine',\n",
       " 'nine',\n",
       " 'nine']"
      ]
     },
     "execution_count": 5,
     "metadata": {},
     "output_type": "execute_result"
    }
   ],
   "source": [
    "mylist.append('nine')\n",
    "mylist"
   ]
  },
  {
   "cell_type": "code",
   "execution_count": 9,
   "id": "f9691ad0-2001-4e21-9f02-8dca7db6e7f2",
   "metadata": {},
   "outputs": [
    {
     "data": {
      "text/plain": [
       "['one',\n",
       " 'two',\n",
       " 'three',\n",
       " 'four',\n",
       " 'five',\n",
       " 'six',\n",
       " 'seven',\n",
       " 'eight',\n",
       " 'nine',\n",
       " 'ten',\n",
       " 'ten',\n",
       " 'nine',\n",
       " 'nine']"
      ]
     },
     "execution_count": 9,
     "metadata": {},
     "output_type": "execute_result"
    }
   ],
   "source": [
    "mylist.insert(9,'ten')\n",
    "mylist"
   ]
  },
  {
   "cell_type": "code",
   "execution_count": 14,
   "id": "dabd75b6-9bed-44a0-9e3b-930b0131db2f",
   "metadata": {},
   "outputs": [
    {
     "data": {
      "text/plain": [
       "['one',\n",
       " 'ONE',\n",
       " 'ONE',\n",
       " 'ONE',\n",
       " 'two',\n",
       " 'three',\n",
       " 'four',\n",
       " 'five',\n",
       " 'six',\n",
       " 'seven',\n",
       " 'eight',\n",
       " 'nine',\n",
       " 'ten',\n",
       " 'ten',\n",
       " 'nine',\n",
       " 'nine']"
      ]
     },
     "execution_count": 14,
     "metadata": {},
     "output_type": "execute_result"
    }
   ],
   "source": [
    "mylist.insert(1,'ONE')\n",
    "mylist"
   ]
  },
  {
   "cell_type": "code",
   "execution_count": 15,
   "id": "6ee476ce-de6e-4fa0-b989-95f0d79ac0cd",
   "metadata": {},
   "outputs": [
    {
     "data": {
      "text/plain": [
       "['one',\n",
       " 'ONE',\n",
       " 'ONE',\n",
       " 'two',\n",
       " 'three',\n",
       " 'four',\n",
       " 'five',\n",
       " 'six',\n",
       " 'seven',\n",
       " 'eight',\n",
       " 'nine',\n",
       " 'ten',\n",
       " 'ten',\n",
       " 'nine',\n",
       " 'nine']"
      ]
     },
     "execution_count": 15,
     "metadata": {},
     "output_type": "execute_result"
    }
   ],
   "source": [
    "mylist.remove('ONE')\n",
    "mylist"
   ]
  },
  {
   "cell_type": "code",
   "execution_count": 21,
   "id": "88cb17ff-a209-405d-8a47-e9dccf1778db",
   "metadata": {},
   "outputs": [
    {
     "data": {
      "text/plain": [
       "['one',\n",
       " 'two',\n",
       " 'three',\n",
       " 'four',\n",
       " 'five',\n",
       " 'six',\n",
       " 'seven',\n",
       " 'eight',\n",
       " 'nine',\n",
       " 'ten',\n",
       " 'ten',\n",
       " 'nine',\n",
       " 'nine']"
      ]
     },
     "execution_count": 21,
     "metadata": {},
     "output_type": "execute_result"
    }
   ],
   "source": [
    "#mylist.remove('ONE')\n",
    "mylist"
   ]
  },
  {
   "cell_type": "code",
   "execution_count": 27,
   "id": "1cb74182-d78b-49e8-af21-d44632d19d56",
   "metadata": {},
   "outputs": [
    {
     "name": "stdout",
     "output_type": "stream",
     "text": [
      "eight\n"
     ]
    },
    {
     "data": {
      "text/plain": [
       "['one', 'two', 'three', 'four', 'five', 'nine', 'ten', 'ten', 'nine', 'nine']"
      ]
     },
     "execution_count": 27,
     "metadata": {},
     "output_type": "execute_result"
    }
   ],
   "source": [
    "print(mylist.pop(5))\n",
    "mylist\n"
   ]
  },
  {
   "cell_type": "code",
   "execution_count": 28,
   "id": "65fa0e52-4481-4eff-9719-37c05534c585",
   "metadata": {},
   "outputs": [],
   "source": [
    "#change value"
   ]
  },
  {
   "cell_type": "code",
   "execution_count": 30,
   "id": "716a3d2f-6e48-48b7-a4b5-c9f30ecdb9f3",
   "metadata": {},
   "outputs": [
    {
     "data": {
      "text/plain": [
       "[1, 2, 3, 4, 'five', 'nine', 'ten', 'ten', 'nine', 'nine']"
      ]
     },
     "execution_count": 30,
     "metadata": {},
     "output_type": "execute_result"
    }
   ],
   "source": [
    "mylist[0] = 1\n",
    "mylist[1] = 2\n",
    "mylist[2] = 3\n",
    "mylist[3] = 4\n",
    "mylist"
   ]
  },
  {
   "cell_type": "code",
   "execution_count": 32,
   "id": "5fc37f45-ec71-4173-807b-b353c8b27bc0",
   "metadata": {},
   "outputs": [
    {
     "data": {
      "text/plain": [
       "[]"
      ]
     },
     "execution_count": 32,
     "metadata": {},
     "output_type": "execute_result"
    }
   ],
   "source": [
    "mylist.clear()\n",
    "mylist"
   ]
  },
  {
   "cell_type": "code",
   "execution_count": 36,
   "id": "d7a35541-8b23-4c47-9191-d7e1c222a92a",
   "metadata": {},
   "outputs": [
    {
     "data": {
      "text/plain": [
       "[1, 2, 3, 4]"
      ]
     },
     "execution_count": 36,
     "metadata": {},
     "output_type": "execute_result"
    }
   ],
   "source": [
    "mylist = [1,2,3,4]\n",
    "mylist1 = mylist.copy()\n",
    "mylist1"
   ]
  },
  {
   "cell_type": "code",
   "execution_count": 39,
   "id": "3693190d-bf0b-4d53-9f78-b21f07f4a009",
   "metadata": {},
   "outputs": [
    {
     "name": "stdout",
     "output_type": "stream",
     "text": [
      "the id of mylist is 1769789341888\n",
      "the id of mylist1 is 1769806268288\n"
     ]
    }
   ],
   "source": [
    "print(f'the id of mylist is {id(mylist)}')\n",
    "print(f'the id of mylist1 is {id(mylist1)}')"
   ]
  },
  {
   "cell_type": "markdown",
   "id": "6a3148ee-2c7e-49a8-a64e-d0854f1b36de",
   "metadata": {},
   "source": [
    "join list"
   ]
  },
  {
   "cell_type": "code",
   "execution_count": 41,
   "id": "25c8be96-236f-4923-ac7f-aca02041ec96",
   "metadata": {},
   "outputs": [
    {
     "name": "stdout",
     "output_type": "stream",
     "text": [
      "[1, 2, 3, 'one', 'two', 'three']\n"
     ]
    }
   ],
   "source": [
    "list1 = [1,2,3]\n",
    "list2 = ['one','two','three']\n",
    "list3 = list1+list2\n",
    "print(list3)"
   ]
  },
  {
   "cell_type": "code",
   "execution_count": 43,
   "id": "12eee0cb-f81a-459e-9eee-73e7e3979c30",
   "metadata": {},
   "outputs": [
    {
     "data": {
      "text/plain": [
       "[78, 33, 100, 87, 4, 55, 3]"
      ]
     },
     "execution_count": 43,
     "metadata": {},
     "output_type": "execute_result"
    }
   ],
   "source": [
    "gt = [3,55,4,87,100,33,78]\n",
    "gt.reverse()\n",
    "gt"
   ]
  },
  {
   "cell_type": "code",
   "execution_count": 46,
   "id": "fb3371da-3cc1-4ce1-8331-89c11697162d",
   "metadata": {},
   "outputs": [
    {
     "data": {
      "text/plain": [
       "[3, 4, 33, 55, 78, 87, 100]"
      ]
     },
     "execution_count": 46,
     "metadata": {},
     "output_type": "execute_result"
    }
   ],
   "source": [
    "gt.sort()\n",
    "gt"
   ]
  },
  {
   "cell_type": "code",
   "execution_count": 49,
   "id": "892375f7-eb15-4631-bf50-38f32448bdb0",
   "metadata": {},
   "outputs": [
    {
     "data": {
      "text/plain": [
       "[100, 87, 78, 55, 33, 4, 3]"
      ]
     },
     "execution_count": 49,
     "metadata": {},
     "output_type": "execute_result"
    }
   ],
   "source": [
    "gt.sort(reverse=True)\n",
    "gt"
   ]
  },
  {
   "cell_type": "code",
   "execution_count": 50,
   "id": "b7bcca9c-2d76-4dc1-b64b-07f602cd0317",
   "metadata": {},
   "outputs": [],
   "source": [
    "#loop through a list"
   ]
  },
  {
   "cell_type": "code",
   "execution_count": 54,
   "id": "e5a837ef-3003-4dfd-b7d0-b3f1d52cdfda",
   "metadata": {},
   "outputs": [
    {
     "name": "stdout",
     "output_type": "stream",
     "text": [
      "one\n",
      "two\n",
      "three\n",
      "four\n",
      "five\n",
      "six\n",
      "seven\n",
      "eight\n"
     ]
    }
   ],
   "source": [
    "l1 = ['one', 'two', 'three', 'four', 'five', 'six', 'seven', 'eight']\n",
    "for i in l1:\n",
    "    print(i)\n"
   ]
  },
  {
   "cell_type": "code",
   "execution_count": 56,
   "id": "784998a2-49e2-45ff-8a68-78c367105bde",
   "metadata": {},
   "outputs": [
    {
     "name": "stdout",
     "output_type": "stream",
     "text": [
      "(0, 'one')\n",
      "(1, 'two')\n",
      "(2, 'three')\n",
      "(3, 'four')\n",
      "(4, 'five')\n",
      "(5, 'six')\n",
      "(6, 'seven')\n",
      "(7, 'eight')\n"
     ]
    }
   ],
   "source": [
    "for i in enumerate (l1):\n",
    "    print(i)\n"
   ]
  },
  {
   "cell_type": "code",
   "execution_count": null,
   "id": "58ea6a5e-4615-41ee-9bca-321474c9cb66",
   "metadata": {},
   "outputs": [],
   "source": []
  }
 ],
 "metadata": {
  "kernelspec": {
   "display_name": "Python 3 (ipykernel)",
   "language": "python",
   "name": "python3"
  },
  "language_info": {
   "codemirror_mode": {
    "name": "ipython",
    "version": 3
   },
   "file_extension": ".py",
   "mimetype": "text/x-python",
   "name": "python",
   "nbconvert_exporter": "python",
   "pygments_lexer": "ipython3",
   "version": "3.13.5"
  }
 },
 "nbformat": 4,
 "nbformat_minor": 5
}
