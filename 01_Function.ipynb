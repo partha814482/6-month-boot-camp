{
 "cells": [
  {
   "cell_type": "markdown",
   "id": "69113cec-e4d2-4bc0-a8a7-b34151d2833e",
   "metadata": {},
   "source": [
    "Function in python\n"
   ]
  },
  {
   "cell_type": "code",
   "execution_count": 1,
   "id": "76321fd6-01e4-4b9b-ba7e-15d118a9b19b",
   "metadata": {},
   "outputs": [],
   "source": [
    "def hello():\n",
    "    print('Good Night')\n",
    "    "
   ]
  },
  {
   "cell_type": "code",
   "execution_count": 2,
   "id": "e837d891-4f15-4f1a-83d9-44d3941a044d",
   "metadata": {},
   "outputs": [
    {
     "data": {
      "text/plain": [
       "<function __main__.hello()>"
      ]
     },
     "execution_count": 2,
     "metadata": {},
     "output_type": "execute_result"
    }
   ],
   "source": [
    "def hello():\n",
    "    print('Good Night')\n",
    "hello"
   ]
  },
  {
   "cell_type": "code",
   "execution_count": 3,
   "id": "0e3a5d83-e89c-4807-9121-2846bdd96c32",
   "metadata": {},
   "outputs": [
    {
     "name": "stdout",
     "output_type": "stream",
     "text": [
      "Good Night\n"
     ]
    }
   ],
   "source": [
    "def hello():\n",
    "    print('Good Night')\n",
    "hello()"
   ]
  },
  {
   "cell_type": "code",
   "execution_count": 4,
   "id": "72c6e6fd-5f46-41b3-b659-37880709fb65",
   "metadata": {},
   "outputs": [
    {
     "name": "stdout",
     "output_type": "stream",
     "text": [
      "Good Night\n",
      "Good Night\n",
      "Good Night\n"
     ]
    }
   ],
   "source": [
    "def hello():\n",
    "    print('Good Night')\n",
    "hello()\n",
    "def hello():\n",
    "    print('Good Night')\n",
    "hello()\n",
    "def hello():\n",
    "    print('Good Night')\n",
    "hello()\n"
   ]
  },
  {
   "cell_type": "code",
   "execution_count": 5,
   "id": "90b1e17a-2f33-4c63-b24e-fcb596303049",
   "metadata": {},
   "outputs": [
    {
     "name": "stdout",
     "output_type": "stream",
     "text": [
      "Hii Body may I help you\n"
     ]
    }
   ],
   "source": [
    "def hii():\n",
    "    print('Hii Body may I help you')\n",
    "hii()"
   ]
  },
  {
   "cell_type": "code",
   "execution_count": 6,
   "id": "17274df5-af11-4796-adc2-b8ac578a9c6f",
   "metadata": {},
   "outputs": [
    {
     "name": "stdout",
     "output_type": "stream",
     "text": [
      "Hii Body may I help you\n",
      "Hii Body may I help you\n",
      "Hii Body may I help you\n"
     ]
    }
   ],
   "source": [
    "def hii():\n",
    "    print('Hii Body may I help you')\n",
    "hii()\n",
    "hii()\n",
    "hii()"
   ]
  },
  {
   "cell_type": "markdown",
   "id": "ff417a25-4ced-4cda-b6ae-380d9069c3c3",
   "metadata": {},
   "source": [
    "Argument is devided into 2 types 1. Formal Argument 2. Actual Argument"
   ]
  },
  {
   "cell_type": "code",
   "execution_count": 9,
   "id": "6d4e81f9-0e6d-467a-b6d2-ff4434718ed7",
   "metadata": {},
   "outputs": [
    {
     "name": "stdout",
     "output_type": "stream",
     "text": [
      "10\n"
     ]
    }
   ],
   "source": [
    "def add (x,y):# Formal Argument\n",
    "    c = x+y\n",
    "    print(c)\n",
    "add(4,6) # Actual Argument"
   ]
  },
  {
   "cell_type": "code",
   "execution_count": 10,
   "id": "ab8e3bec-ecea-472b-bf31-f7c7d25ba0fc",
   "metadata": {},
   "outputs": [
    {
     "name": "stdout",
     "output_type": "stream",
     "text": [
      "5\n"
     ]
    }
   ],
   "source": [
    "def total(x,y):\n",
    "    c = x+y\n",
    "    print(c)\n",
    "total(2,3)"
   ]
  },
  {
   "cell_type": "code",
   "execution_count": 11,
   "id": "de083b23-bd0f-4927-b33b-cacff86b6a2a",
   "metadata": {},
   "outputs": [
    {
     "name": "stdout",
     "output_type": "stream",
     "text": [
      "6\n"
     ]
    }
   ],
   "source": [
    "def total(x,y):\n",
    "    c = x-y\n",
    "    print(c)\n",
    "total(9,3)"
   ]
  },
  {
   "cell_type": "code",
   "execution_count": 12,
   "id": "325c0b5b-e2a2-4e82-8541-ede3b6cb15fb",
   "metadata": {},
   "outputs": [
    {
     "name": "stdout",
     "output_type": "stream",
     "text": [
      "Hii Body may I help you\n"
     ]
    }
   ],
   "source": [
    "hii()"
   ]
  },
  {
   "cell_type": "code",
   "execution_count": 14,
   "id": "675a560c-4301-49dd-9c3b-c313201a5983",
   "metadata": {},
   "outputs": [
    {
     "name": "stdout",
     "output_type": "stream",
     "text": [
      "46\n"
     ]
    }
   ],
   "source": [
    "add(34,12)"
   ]
  },
  {
   "cell_type": "code",
   "execution_count": 15,
   "id": "bbd4af72-f48d-4afd-9005-2c73c1a11572",
   "metadata": {},
   "outputs": [
    {
     "ename": "TypeError",
     "evalue": "add() missing 1 required positional argument: 'z'",
     "output_type": "error",
     "traceback": [
      "\u001b[1;31m----------------------------------------------------------------\u001b[0m",
      "\u001b[1;31mTypeError\u001b[0m                      Traceback (most recent call last)",
      "Cell \u001b[1;32mIn[15], line 4\u001b[0m\n\u001b[0;32m      2\u001b[0m     c \u001b[38;5;241m=\u001b[39m x\u001b[38;5;241m+\u001b[39my\u001b[38;5;241m+\u001b[39mz\n\u001b[0;32m      3\u001b[0m     \u001b[38;5;28mprint\u001b[39m(c)\n\u001b[1;32m----> 4\u001b[0m add(\u001b[38;5;241m2\u001b[39m,\u001b[38;5;241m3\u001b[39m)\n",
      "\u001b[1;31mTypeError\u001b[0m: add() missing 1 required positional argument: 'z'"
     ]
    }
   ],
   "source": [
    "def add(x,y,z):\n",
    "    c = x+y+z\n",
    "    print(c)\n",
    "add(2,3)"
   ]
  },
  {
   "cell_type": "code",
   "execution_count": 16,
   "id": "0a1d4617-e952-4d98-b1a9-b04079d68e62",
   "metadata": {},
   "outputs": [
    {
     "name": "stdout",
     "output_type": "stream",
     "text": [
      "5.9\n"
     ]
    }
   ],
   "source": [
    "def add(x,y,z):\n",
    "    c = x+y+z\n",
    "    print(c)\n",
    "add(2,3,.9)"
   ]
  },
  {
   "cell_type": "code",
   "execution_count": 19,
   "id": "507dfa3d-713f-486e-b574-bb9f1adfef05",
   "metadata": {},
   "outputs": [
    {
     "data": {
      "text/plain": [
       "135"
      ]
     },
     "execution_count": 19,
     "metadata": {},
     "output_type": "execute_result"
    }
   ],
   "source": [
    "def add (a,b,c):\n",
    "    c = a+b+c\n",
    "    return c # Here we use return in place of print and the return do the same job\n",
    "add(12,34,89)"
   ]
  },
  {
   "cell_type": "code",
   "execution_count": 20,
   "id": "b6da7552-11b3-4082-befe-2a325aaf1871",
   "metadata": {},
   "outputs": [
    {
     "data": {
      "text/plain": [
       "'good morning'"
      ]
     },
     "execution_count": 20,
     "metadata": {},
     "output_type": "execute_result"
    }
   ],
   "source": [
    "def hello():\n",
    "    return 'good morning'\n",
    "hello()"
   ]
  },
  {
   "cell_type": "code",
   "execution_count": 25,
   "id": "94da7491-cfaf-47d8-a6b7-b1b16c78bcf9",
   "metadata": {},
   "outputs": [
    {
     "name": "stdout",
     "output_type": "stream",
     "text": [
      "good morning\n"
     ]
    },
    {
     "data": {
      "text/plain": [
       "7"
      ]
     },
     "execution_count": 25,
     "metadata": {},
     "output_type": "execute_result"
    }
   ],
   "source": [
    "def hello():\n",
    "    print('good morning')\n",
    "hello()\n",
    "\n",
    "def add (x,y):\n",
    "    c = x+y\n",
    "    return c\n",
    "add (3,4)\n"
   ]
  },
  {
   "cell_type": "code",
   "execution_count": 26,
   "id": "db01bef0-b6e8-4664-a41f-d8d6076cf69c",
   "metadata": {},
   "outputs": [
    {
     "data": {
      "text/plain": [
       "7"
      ]
     },
     "execution_count": 26,
     "metadata": {},
     "output_type": "execute_result"
    }
   ],
   "source": [
    "def hello():\n",
    "    return('good morning')\n",
    "hello()\n",
    "\n",
    "def add (x,y):\n",
    "    c = x+y\n",
    "    return c\n",
    "add (3,4)\n"
   ]
  },
  {
   "cell_type": "code",
   "execution_count": 28,
   "id": "8ad86894-f2c1-4287-a5a3-13bc12b124c0",
   "metadata": {},
   "outputs": [
    {
     "name": "stdout",
     "output_type": "stream",
     "text": [
      "good evening\n"
     ]
    },
    {
     "data": {
      "text/plain": [
       "14"
      ]
     },
     "execution_count": 28,
     "metadata": {},
     "output_type": "execute_result"
    }
   ],
   "source": [
    "def hello():\n",
    "    print('good evening')\n",
    "def add (x,y):\n",
    "    c = x+y\n",
    "    return c\n",
    "hello()\n",
    "add(6,8)"
   ]
  },
  {
   "cell_type": "code",
   "execution_count": 31,
   "id": "9d5bc0d7-ff2d-4e4a-90a4-8f405915522c",
   "metadata": {},
   "outputs": [
    {
     "name": "stdout",
     "output_type": "stream",
     "text": [
      "parhasarathi behera\n",
      "ss prakash das\n",
      "39\n",
      "3\n"
     ]
    }
   ],
   "source": [
    "def name ():\n",
    "    print('parhasarathi behera')\n",
    "    print('ss prakash das')\n",
    "def add(x,y):\n",
    "    c = x+y\n",
    "    print(c)\n",
    "def sub (x,y):\n",
    "    c = x-y\n",
    "    print(c)\n",
    "\n",
    "name()\n",
    "add(34,5)\n",
    "sub(12,9)"
   ]
  },
  {
   "cell_type": "code",
   "execution_count": 34,
   "id": "918424c6-1c08-43c5-98bc-1a4b2248a0ed",
   "metadata": {},
   "outputs": [
    {
     "name": "stdout",
     "output_type": "stream",
     "text": [
      "parhasarathi behera\n",
      "ss prakash das\n"
     ]
    },
    {
     "data": {
      "text/plain": [
       "3"
      ]
     },
     "execution_count": 34,
     "metadata": {},
     "output_type": "execute_result"
    }
   ],
   "source": [
    "def name ():\n",
    "    print('parhasarathi behera')\n",
    "    print('ss prakash das')\n",
    "def add(x,y):\n",
    "    c = x+y\n",
    "    return c\n",
    "def sub (x,y):\n",
    "    c = x-y\n",
    "    return c\n",
    "\n",
    "name()\n",
    "add(34,5)\n",
    "sub(12,9)"
   ]
  },
  {
   "cell_type": "code",
   "execution_count": 39,
   "id": "608108ab-ff27-4c53-b3c6-43dde94aa12a",
   "metadata": {},
   "outputs": [
    {
     "name": "stdout",
     "output_type": "stream",
     "text": [
      "<class 'tuple'>\n"
     ]
    }
   ],
   "source": [
    "def add_sub(x,y):\n",
    "    c = x+y\n",
    "    d = x-y\n",
    "    return c,d\n",
    "\n",
    "add_sub(4,5)\n",
    "print(type(add_sub(4,5))) # it give the data type tuple so we could not use the data in outher platform so we convert the data to int"
   ]
  },
  {
   "cell_type": "code",
   "execution_count": 40,
   "id": "5887ca9d-bf89-4124-a691-ebb2cbb7acc0",
   "metadata": {},
   "outputs": [
    {
     "data": {
      "text/plain": [
       "(9, -1)"
      ]
     },
     "execution_count": 40,
     "metadata": {},
     "output_type": "execute_result"
    }
   ],
   "source": [
    "def add_sub(x,y):\n",
    "    c = x+y\n",
    "    d = x-y\n",
    "    return c,d\n",
    "\n",
    "add_sub(4,5)\n",
    "#print(type(add_sub(4,5))) it give the data type tuple so we could not use the data in outher platform so we convert the data to int"
   ]
  },
  {
   "cell_type": "code",
   "execution_count": 42,
   "id": "7db52a58-193d-4722-82f8-1dc113382d1a",
   "metadata": {},
   "outputs": [
    {
     "name": "stdout",
     "output_type": "stream",
     "text": [
      "(10, 2)\n"
     ]
    }
   ],
   "source": [
    "def add_sub (x,y):\n",
    "    c = x+y\n",
    "    d = x-y\n",
    "    return c,d\n",
    "\n",
    "result = add_sub(6,4)\n",
    "print(result)\n",
    "    "
   ]
  },
  {
   "cell_type": "code",
   "execution_count": 43,
   "id": "efaf4cb9-f19d-4a82-9417-ab1898342588",
   "metadata": {},
   "outputs": [
    {
     "name": "stdout",
     "output_type": "stream",
     "text": [
      "(10, 2)\n",
      "<class 'tuple'>\n"
     ]
    }
   ],
   "source": [
    "def add_sub (x,y):\n",
    "    c = x+y\n",
    "    d = x-y\n",
    "    return c,d\n",
    "\n",
    "result = add_sub(6,4)\n",
    "print(result)\n",
    "print(type(result))"
   ]
  },
  {
   "cell_type": "code",
   "execution_count": 45,
   "id": "5645bc84-4f3c-479a-b550-8d4097778a0a",
   "metadata": {},
   "outputs": [
    {
     "name": "stdout",
     "output_type": "stream",
     "text": [
      "10\n",
      "2\n",
      "<class 'int'>\n",
      "<class 'int'>\n"
     ]
    }
   ],
   "source": [
    "def add_sub (x,y):\n",
    "    c = x+y\n",
    "    d = x-y\n",
    "    return c,d\n",
    "\n",
    "result,result1 = add_sub(6,4)\n",
    "print(result)\n",
    "print(result1)\n",
    "print(type(result))\n",
    "print(type(result1))"
   ]
  },
  {
   "cell_type": "code",
   "execution_count": 48,
   "id": "a1652a6e-83d3-4df1-8a4f-7385299620aa",
   "metadata": {},
   "outputs": [
    {
     "name": "stdout",
     "output_type": "stream",
     "text": [
      "10\n",
      "6\n",
      "16\n"
     ]
    }
   ],
   "source": [
    "def add_sub_mul(x,y):\n",
    "    a = x+y\n",
    "    b = x-y\n",
    "    c = x*y\n",
    "    return a,b,c\n",
    "    \n",
    "result,result1,result2  = add_sub_mul(8,2)\n",
    "print(result)\n",
    "print(result1)\n",
    "print(result2)"
   ]
  },
  {
   "cell_type": "code",
   "execution_count": 50,
   "id": "626b2f48-19e7-4def-8fee-023da6815193",
   "metadata": {},
   "outputs": [
    {
     "name": "stdout",
     "output_type": "stream",
     "text": [
      "15\n",
      "5\n",
      "50\n",
      "0\n",
      "<class 'int'>\n",
      "<class 'int'>\n",
      "<class 'int'>\n",
      "<class 'int'>\n"
     ]
    }
   ],
   "source": [
    "def add_sub_mul_div(x,y):\n",
    "    a = x + y\n",
    "    b = x - y\n",
    "    c = x * y\n",
    "    d = x % y\n",
    "    return a,b,c,d\n",
    "result,result1,result2,result3 = add_sub_mul_div(10,5)\n",
    "print(result)\n",
    "print(result1)\n",
    "print(result2)\n",
    "print(result3)\n",
    "print(type(result))\n",
    "print(type(result1))\n",
    "print(type(result2))\n",
    "print(type(result3))"
   ]
  },
  {
   "cell_type": "code",
   "execution_count": 51,
   "id": "61703059-2f06-45d0-8165-eaf872b5fc27",
   "metadata": {},
   "outputs": [
    {
     "name": "stdout",
     "output_type": "stream",
     "text": [
      "8\n"
     ]
    }
   ],
   "source": [
    "def update():\n",
    "    x = 8\n",
    "    print(x)\n",
    "update()"
   ]
  },
  {
   "cell_type": "code",
   "execution_count": 52,
   "id": "ccd9c898-1ec3-4d33-bd32-4388db3dbf5a",
   "metadata": {},
   "outputs": [
    {
     "name": "stdout",
     "output_type": "stream",
     "text": [
      "47\n"
     ]
    }
   ],
   "source": [
    "def sum (x,y):\n",
    "    c = x+y\n",
    "    print(c)\n",
    "sum(45,2)"
   ]
  },
  {
   "cell_type": "code",
   "execution_count": null,
   "id": "9100fe14-e000-4298-9b94-33d6163d1b31",
   "metadata": {},
   "outputs": [],
   "source": []
  }
 ],
 "metadata": {
  "kernelspec": {
   "display_name": "Python 3 (ipykernel)",
   "language": "python",
   "name": "python3"
  },
  "language_info": {
   "codemirror_mode": {
    "name": "ipython",
    "version": 3
   },
   "file_extension": ".py",
   "mimetype": "text/x-python",
   "name": "python",
   "nbconvert_exporter": "python",
   "pygments_lexer": "ipython3",
   "version": "3.13.5"
  }
 },
 "nbformat": 4,
 "nbformat_minor": 5
}
