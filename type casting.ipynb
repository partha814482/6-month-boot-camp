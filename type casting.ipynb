{
 "cells": [
  {
   "cell_type": "code",
   "execution_count": 2,
   "id": "625558d2-6411-4802-859a-b60d6a5ccee9",
   "metadata": {},
   "outputs": [
    {
     "data": {
      "text/plain": [
       "2"
      ]
     },
     "execution_count": 2,
     "metadata": {},
     "output_type": "execute_result"
    }
   ],
   "source": [
    "int(2.4)"
   ]
  },
  {
   "cell_type": "code",
   "execution_count": 4,
   "id": "a1d3782e-60f2-42b5-a4c4-126e15df5aaa",
   "metadata": {},
   "outputs": [
    {
     "data": {
      "text/plain": [
       "1"
      ]
     },
     "execution_count": 4,
     "metadata": {},
     "output_type": "execute_result"
    }
   ],
   "source": [
    "int(True)"
   ]
  },
  {
   "cell_type": "code",
   "execution_count": 3,
   "id": "6161a91c-48f8-43df-8231-d782e2f54038",
   "metadata": {},
   "outputs": [
    {
     "data": {
      "text/plain": [
       "10"
      ]
     },
     "execution_count": 3,
     "metadata": {},
     "output_type": "execute_result"
    }
   ],
   "source": [
    "int('10')"
   ]
  },
  {
   "cell_type": "code",
   "execution_count": 4,
   "id": "fc6e07ca-1939-4fa5-aaba-c54ce9139e5c",
   "metadata": {},
   "outputs": [],
   "source": [
    "#int('ten') string with text is not converted into integer"
   ]
  },
  {
   "cell_type": "code",
   "execution_count": 6,
   "id": "475cbda6-6354-4538-8fe7-358fc9496f7c",
   "metadata": {},
   "outputs": [],
   "source": [
    "#int(2+3j) complex no. is not converted in to integer"
   ]
  },
  {
   "cell_type": "code",
   "execution_count": 12,
   "id": "c88683f8-d9ed-40f9-a3d6-7b5e09756262",
   "metadata": {},
   "outputs": [
    {
     "name": "stdout",
     "output_type": "stream",
     "text": [
      "10.0\n",
      "0.0\n",
      "1.0\n",
      "20.0\n",
      "1.0\n",
      "0.0\n"
     ]
    }
   ],
   "source": [
    "print(float(10))\n",
    "print(float(False))\n",
    "print(float(True))\n",
    "print(float('20'))\n",
    "#print(float('twenty'))-->> string  with text is not converted to float\n",
    "#print(float(3+4j))-->> complex number is not converted  to float \n",
    "print(float(True) + float(False)) \n",
    "print(float(False) + float(False))  \n",
    "\n"
   ]
  },
  {
   "cell_type": "code",
   "execution_count": 25,
   "id": "7d2e0262-e649-48f6-85f3-bf5c17d1edff",
   "metadata": {},
   "outputs": [
    {
     "name": "stdout",
     "output_type": "stream",
     "text": [
      "(10+0j)\n",
      "(-10+0j)\n",
      "(25+20j)\n",
      "0j\n",
      "(5+0j)\n",
      "(2.5+0j)\n",
      "(5.8+7.9j)\n",
      "0j\n",
      "(67+0j)\n",
      "(1+0j)\n",
      "0j\n",
      "(1+0j)\n"
     ]
    }
   ],
   "source": [
    "print(complex(10))\n",
    "print(complex(-10))\n",
    "print(complex(25,20))\n",
    "print(complex(0))\n",
    "print(complex('5'))# complex take only one string argoment\n",
    "#print(complex('4','6')) -->>two string argument is not passed in the complex number\n",
    "print(complex(2.5))\n",
    "print(complex(5.8,7.9))\n",
    "print(complex(0.0))\n",
    "print(complex('67'))\n",
    "#print(complex('partha'))-->>string with text is not converted to complex number\n",
    "print(complex(True))\n",
    "print(complex(False))\n",
    "print(complex(True+False))"
   ]
  },
  {
   "cell_type": "code",
   "execution_count": 30,
   "id": "3fe7701e-7363-46e2-aec2-0c786816975e",
   "metadata": {},
   "outputs": [
    {
     "name": "stdout",
     "output_type": "stream",
     "text": [
      "10\n",
      "3\n",
      "gudu\n",
      "4.5\n",
      "(3+5j)\n",
      "True\n",
      "30\n",
      "1\n"
     ]
    }
   ],
   "source": [
    "print(str(10))\n",
    "print(str('3'))\n",
    "print(str('gudu'))\n",
    "print(str(4.5))\n",
    "print(str(3+5j))\n",
    "print(str(True))\n",
    "print(str(10+20))\n",
    "print(str(True+False))\n"
   ]
  },
  {
   "cell_type": "code",
   "execution_count": 33,
   "id": "27aef7b8-3646-47d9-a1cd-615dc9be7a4d",
   "metadata": {},
   "outputs": [
    {
     "name": "stdout",
     "output_type": "stream",
     "text": [
      "True\n",
      "True\n",
      "True\n",
      "True\n",
      "True\n",
      "True\n",
      "True\n",
      "True\n",
      "False\n"
     ]
    }
   ],
   "source": [
    "print(bool(10))\n",
    "print(bool('3'))\n",
    "print(bool('gudu'))\n",
    "print(bool(4.5))\n",
    "print(bool(3+5j))\n",
    "print(bool(True))\n",
    "print(bool(10+20))\n",
    "print(bool(True+False))\n",
    "print(bool())\n",
    "# in bool type you put any value in the ( ) give --true if the ( ) is empty then give -- false"
   ]
  },
  {
   "cell_type": "code",
   "execution_count": 41,
   "id": "71c9f092-bc0e-4e93-9aec-c71f95ba725e",
   "metadata": {},
   "outputs": [],
   "source": [
    "#1var=2 -->> identifier can not start with digit"
   ]
  },
  {
   "cell_type": "code",
   "execution_count": 45,
   "id": "8fc4586b-aad0-44a1-ad8c-475b503ebb75",
   "metadata": {},
   "outputs": [],
   "source": [
    "#var56@=45-->> identifier can not have any special cheracter\n",
    "#import = 23--> import keyword cannot use as identyfier\n"
   ]
  },
  {
   "cell_type": "code",
   "execution_count": 53,
   "id": "71331c76-81d8-4cca-83cc-a369fb41615d",
   "metadata": {},
   "outputs": [
    {
     "name": "stdout",
     "output_type": "stream",
     "text": [
      "the value of p is 34\n",
      "the type of p is <class 'int'>\n",
      "the memory laocation is p is 0x7ffb2b6bb7c8\n",
      "the value of q is 34\n",
      "the type odf q is <class 'int'>\n",
      "the memory location of q is0x7ffb2b6bb7c8\n"
     ]
    }
   ],
   "source": [
    "p = 34\n",
    "q =34\n",
    "p = q\n",
    "print(f'the value of p is {p}')\n",
    "print(f'the type of p is {type(p)}')\n",
    "print(f'the memory laocation is p is {hex(id(p))}')\n",
    "print(f'the value of q is {q}')\n",
    "print(f'the type odf q is {type(q)}')\n",
    "print(f'the memory location of q is{hex(id(q))}')\n"
   ]
  },
  {
   "cell_type": "code",
   "execution_count": 55,
   "id": "939223ac-9b9a-4833-ac77-feaf1d5508c8",
   "metadata": {},
   "outputs": [
    {
     "name": "stdout",
     "output_type": "stream",
     "text": [
      "12\n",
      "3.4\n",
      "partha\n"
     ]
    }
   ],
   "source": [
    "#variable assignment\n",
    "intvar = 12\n",
    "floatvar = 3.4\n",
    "strvar = 'partha'\n",
    "print(intvar)\n",
    "print(floatvar)\n",
    "print(strvar)"
   ]
  },
  {
   "cell_type": "code",
   "execution_count": 57,
   "id": "8a763841-3eb5-418c-8ea3-cda9d7d66a5e",
   "metadata": {},
   "outputs": [
    {
     "name": "stdout",
     "output_type": "stream",
     "text": [
      "10\n",
      "3.4\n",
      "partha\n"
     ]
    }
   ],
   "source": [
    "intvar,floatvar,strvar = 10,3.4,'partha'\n",
    "print(intvar)\n",
    "print(floatvar)\n",
    "print(strvar)\n"
   ]
  },
  {
   "cell_type": "code",
   "execution_count": 60,
   "id": "8feab76d-71bb-4e84-9522-e33bf739ebdb",
   "metadata": {},
   "outputs": [
    {
     "name": "stdout",
     "output_type": "stream",
     "text": [
      "44\n",
      "44\n",
      "44\n"
     ]
    }
   ],
   "source": [
    "p1=p2=p3 = 44\n",
    "print(p1)\n",
    "print(p2)\n",
    "print(p3)"
   ]
  },
  {
   "cell_type": "code",
   "execution_count": 2,
   "id": "bae1067f-d63c-4a18-80f7-7b552e71b9d3",
   "metadata": {},
   "outputs": [
    {
     "name": "stdout",
     "output_type": "stream",
     "text": [
      "<class 'int'>\n",
      "28\n",
      "10 is integer? True\n"
     ]
    }
   ],
   "source": [
    "number = 10\n",
    "print(type(number))\n",
    "print(sys.getsizeof(number))\n",
    "print(number,'is integer?',isinstance(number,int))"
   ]
  },
  {
   "cell_type": "code",
   "execution_count": 9,
   "id": "406258bd-a02f-4c1e-a1a4-f9b381bda5ce",
   "metadata": {},
   "outputs": [
    {
     "name": "stdout",
     "output_type": "stream",
     "text": [
      "4.5\n",
      "<class 'float'>\n",
      "24\n"
     ]
    }
   ],
   "source": [
    "pen = 4.5\n",
    "print(pen)\n",
    "print(type(pen))\n",
    "print(sys.getsizeof(pen))\n"
   ]
  },
  {
   "cell_type": "code",
   "execution_count": null,
   "id": "fbd295f5-fea0-4d29-afb3-a110668bee84",
   "metadata": {},
   "outputs": [],
   "source": []
  },
  {
   "cell_type": "code",
   "execution_count": 7,
   "id": "92e85425-6482-466f-a04c-6606b36999cc",
   "metadata": {},
   "outputs": [
    {
     "name": "stdout",
     "output_type": "stream",
     "text": [
      "92.78\n",
      "<class 'float'>\n",
      "24\n"
     ]
    },
    {
     "ename": "TypeError",
     "evalue": "isinstance() arg 2 must be a type, a tuple of types, or a union",
     "output_type": "error",
     "traceback": [
      "\u001b[1;31m---------------------------------------------------------------------------\u001b[0m",
      "\u001b[1;31mTypeError\u001b[0m                                 Traceback (most recent call last)",
      "Cell \u001b[1;32mIn[7], line 5\u001b[0m\n\u001b[0;32m      3\u001b[0m \u001b[38;5;28mprint\u001b[39m(\u001b[38;5;28mtype\u001b[39m(val2)) \u001b[38;5;66;03m# type of object\u001b[39;00m\n\u001b[0;32m      4\u001b[0m \u001b[38;5;28mprint\u001b[39m(sys\u001b[38;5;241m.\u001b[39mgetsizeof(val2)) \u001b[38;5;66;03m# size of float object in bytes\u001b[39;00m\n\u001b[1;32m----> 5\u001b[0m (val2, \u001b[38;5;124m\"\u001b[39m\u001b[38;5;124m is float?\u001b[39m\u001b[38;5;124m\"\u001b[39m, \u001b[38;5;28misinstance\u001b[39m(\u001b[38;5;28mfloat\u001b[39m, val2))\n",
      "\u001b[1;31mTypeError\u001b[0m: isinstance() arg 2 must be a type, a tuple of types, or a union"
     ]
    }
   ],
   "source": [
    "val2 = 92.78 # Float data type\n",
    "print(val2)\n",
    "print(type(val2)) # type of object\n",
    "print(sys.getsizeof(val2)) # size of float object in bytes\n",
    "(val2, \" is float?\", isinstance(float, val2)) "
   ]
  },
  {
   "cell_type": "code",
   "execution_count": 3,
   "id": "76664b64-79d6-45b7-be9d-6cd8009f0dbc",
   "metadata": {},
   "outputs": [
    {
     "data": {
      "text/plain": [
       "True"
      ]
     },
     "execution_count": 3,
     "metadata": {},
     "output_type": "execute_result"
    }
   ],
   "source": [
    "x=10.0\n",
    "isinstance(x, float)"
   ]
  },
  {
   "cell_type": "code",
   "execution_count": 4,
   "id": "9322d5c0-7180-4b61-aac6-89698f5d994e",
   "metadata": {},
   "outputs": [
    {
     "data": {
      "text/plain": [
       "10.0"
      ]
     },
     "execution_count": 4,
     "metadata": {},
     "output_type": "execute_result"
    }
   ],
   "source": [
    "x=10.0\n",
    "x"
   ]
  },
  {
   "cell_type": "code",
   "execution_count": 9,
   "id": "4c2613cc-d156-40c0-ae55-48e6a79d29cc",
   "metadata": {},
   "outputs": [
    {
     "data": {
      "text/plain": [
       "True"
      ]
     },
     "execution_count": 9,
     "metadata": {},
     "output_type": "execute_result"
    }
   ],
   "source": [
    "a = 4.6\n",
    "(isinstance(a, (float, str)))  # Output: False\n"
   ]
  },
  {
   "cell_type": "code",
   "execution_count": 16,
   "id": "d4358c62-7fc1-4e83-b979-4233f820bdbe",
   "metadata": {},
   "outputs": [
    {
     "name": "stdout",
     "output_type": "stream",
     "text": [
      "55.78\n",
      "<class 'float'>\n",
      "24\n"
     ]
    },
    {
     "data": {
      "text/plain": [
       "(55.78, 'is int?', False)"
      ]
     },
     "execution_count": 16,
     "metadata": {},
     "output_type": "execute_result"
    }
   ],
   "source": [
    "bin12 = 55.78\n",
    "print(bin12)\n",
    "print(type(bin12))\n",
    "print(sys.getsizeof(bin12))\n",
    "(bin12,'is int?',isinstance(bin12,int))"
   ]
  },
  {
   "cell_type": "code",
   "execution_count": 19,
   "id": "f1ad8c64-4365-47e8-957a-5332953f3541",
   "metadata": {},
   "outputs": [
    {
     "name": "stdout",
     "output_type": "stream",
     "text": [
      "(2+4j)\n",
      "<class 'complex'>\n",
      "32\n"
     ]
    },
    {
     "data": {
      "text/plain": [
       "((2+4j), 'is a complex ?', ((2+4j), complex))"
      ]
     },
     "execution_count": 19,
     "metadata": {},
     "output_type": "execute_result"
    }
   ],
   "source": [
    "cid = 2+4j\n",
    "print(cid)\n",
    "print(type(cid))\n",
    "print(sys.getsizeof(cid))\n",
    "(cid,'is a complex ?',(cid,complex))"
   ]
  },
  {
   "cell_type": "code",
   "execution_count": 21,
   "id": "a4ebf54e-2e0a-423e-94c3-136d7f476a45",
   "metadata": {},
   "outputs": [
    {
     "name": "stdout",
     "output_type": "stream",
     "text": [
      "28\n"
     ]
    }
   ],
   "source": [
    "print(sys.getsizeof(int()))"
   ]
  },
  {
   "cell_type": "code",
   "execution_count": 23,
   "id": "76d650ed-35ba-465e-9e4a-51f878165ffe",
   "metadata": {},
   "outputs": [
    {
     "name": "stdout",
     "output_type": "stream",
     "text": [
      "41\n"
     ]
    }
   ],
   "source": [
    "print(sys.getsizeof(str()))"
   ]
  },
  {
   "cell_type": "code",
   "execution_count": 25,
   "id": "3484a5d1-cf54-4890-91d8-3ce4a179b916",
   "metadata": {},
   "outputs": [
    {
     "name": "stdout",
     "output_type": "stream",
     "text": [
      "24\n"
     ]
    }
   ],
   "source": [
    "print(sys.getsizeof(float()))"
   ]
  },
  {
   "cell_type": "code",
   "execution_count": 27,
   "id": "48b4aed5-e1b6-4927-98df-33d409e8f62f",
   "metadata": {},
   "outputs": [
    {
     "name": "stdout",
     "output_type": "stream",
     "text": [
      "28\n"
     ]
    }
   ],
   "source": [
    "print(sys.getsizeof(bool()))"
   ]
  },
  {
   "cell_type": "code",
   "execution_count": 3,
   "id": "85cf21c4-af37-4c9f-8dfc-0dd3ac51a39f",
   "metadata": {},
   "outputs": [
    {
     "name": "stdout",
     "output_type": "stream",
     "text": [
      "<class 'list'>\n"
     ]
    },
    {
     "data": {
      "text/plain": [
       "2773127085056"
      ]
     },
     "execution_count": 3,
     "metadata": {},
     "output_type": "execute_result"
    }
   ],
   "source": [
    "l = []\n",
    "print(type(l))\n",
    "id(l)"
   ]
  },
  {
   "cell_type": "code",
   "execution_count": 5,
   "id": "cd6873a3-aafa-473a-8e3f-bcd5a51f892b",
   "metadata": {},
   "outputs": [
    {
     "ename": "TypeError",
     "evalue": "list.append() takes exactly one argument (0 given)",
     "output_type": "error",
     "traceback": [
      "\u001b[1;31m---------------------------------------------------------------------------\u001b[0m",
      "\u001b[1;31mTypeError\u001b[0m                                 Traceback (most recent call last)",
      "Cell \u001b[1;32mIn[5], line 1\u001b[0m\n\u001b[1;32m----> 1\u001b[0m l\u001b[38;5;241m.\u001b[39mappend()\n",
      "\u001b[1;31mTypeError\u001b[0m: list.append() takes exactly one argument (0 given)"
     ]
    }
   ],
   "source": [
    "l.append()"
   ]
  },
  {
   "cell_type": "code",
   "execution_count": 12,
   "id": "c82724a1-e741-4190-9614-be5a105d3365",
   "metadata": {},
   "outputs": [
    {
     "data": {
      "text/plain": [
       "[10, 10, 34, 35, 56]"
      ]
     },
     "execution_count": 12,
     "metadata": {},
     "output_type": "execute_result"
    }
   ],
   "source": [
    "#l.append(10)\n",
    "l"
   ]
  },
  {
   "cell_type": "code",
   "execution_count": 13,
   "id": "f1d5b408-6838-4f8a-b9a8-4b2c3f4e8347",
   "metadata": {},
   "outputs": [
    {
     "data": {
      "text/plain": [
       "5"
      ]
     },
     "execution_count": 13,
     "metadata": {},
     "output_type": "execute_result"
    }
   ],
   "source": [
    "len(l)"
   ]
  },
  {
   "cell_type": "code",
   "execution_count": 15,
   "id": "35c6531e-e847-490f-8aed-935d1394536f",
   "metadata": {},
   "outputs": [
    {
     "name": "stdout",
     "output_type": "stream",
     "text": [
      "[10, 10, 34, 35, 56, 34, 35, 56, 34, 35, 56]\n"
     ]
    }
   ],
   "source": [
    "l.append(34) \n",
    "l.append(35)\n",
    "l.append(56)\n",
    "print(l)"
   ]
  },
  {
   "cell_type": "code",
   "execution_count": 17,
   "id": "5d637c58-ef5d-4cad-8624-722cf26cc1b9",
   "metadata": {},
   "outputs": [
    {
     "data": {
      "text/plain": [
       "11"
      ]
     },
     "execution_count": 17,
     "metadata": {},
     "output_type": "execute_result"
    }
   ],
   "source": [
    "len(l)"
   ]
  },
  {
   "cell_type": "code",
   "execution_count": 20,
   "id": "aaf2c247-2229-4f06-882f-beff8eefa99e",
   "metadata": {},
   "outputs": [
    {
     "data": {
      "text/plain": [
       "[10, 10, 34, 35, 56, 34, 35, 56, 34, 35, 56]"
      ]
     },
     "execution_count": 20,
     "metadata": {},
     "output_type": "execute_result"
    }
   ],
   "source": [
    "l1=l.copy()\n",
    "l1"
   ]
  },
  {
   "cell_type": "code",
   "execution_count": 22,
   "id": "44aa2843-fda8-45b1-b6bd-f659c93244c5",
   "metadata": {},
   "outputs": [],
   "source": [
    "l1.clear()"
   ]
  },
  {
   "cell_type": "code",
   "execution_count": 24,
   "id": "fa96eba6-dd4e-438e-83a5-d7dbce7ea8bc",
   "metadata": {},
   "outputs": [
    {
     "data": {
      "text/plain": [
       "[]"
      ]
     },
     "execution_count": 24,
     "metadata": {},
     "output_type": "execute_result"
    }
   ],
   "source": [
    "l1"
   ]
  },
  {
   "cell_type": "code",
   "execution_count": 26,
   "id": "395be57c-4dad-40b2-bc5a-d63d009bb78b",
   "metadata": {},
   "outputs": [
    {
     "data": {
      "text/plain": [
       "2773144623104"
      ]
     },
     "execution_count": 26,
     "metadata": {},
     "output_type": "execute_result"
    }
   ],
   "source": [
    "id(l1)"
   ]
  },
  {
   "cell_type": "code",
   "execution_count": 28,
   "id": "1b5bd2d8-edf7-43aa-8317-8cbcfa5311b3",
   "metadata": {},
   "outputs": [
    {
     "ename": "TypeError",
     "evalue": "list.append() takes exactly one argument (2 given)",
     "output_type": "error",
     "traceback": [
      "\u001b[1;31m---------------------------------------------------------------------------\u001b[0m",
      "\u001b[1;31mTypeError\u001b[0m                                 Traceback (most recent call last)",
      "Cell \u001b[1;32mIn[28], line 1\u001b[0m\n\u001b[1;32m----> 1\u001b[0m l\u001b[38;5;241m.\u001b[39mappend(\u001b[38;5;241m2.3\u001b[39m,\u001b[38;5;241m34\u001b[39m)\n",
      "\u001b[1;31mTypeError\u001b[0m: list.append() takes exactly one argument (2 given)"
     ]
    }
   ],
   "source": [
    "l.append(2.3,34)"
   ]
  },
  {
   "cell_type": "code",
   "execution_count": 30,
   "id": "ca4c422c-26ed-4c66-9536-6e5d79444a55",
   "metadata": {},
   "outputs": [
    {
     "name": "stdout",
     "output_type": "stream",
     "text": [
      "[10, 10, 34, 35, 56, 34, 35, 56, 34, 35, 56, 'nit', 2.3, True, (2+4j), 'nit', 2.3, True, (2+4j)]\n"
     ]
    }
   ],
   "source": [
    "l.append('nit')\n",
    "l.append(2.3)\n",
    "l.append(True)\n",
    "l.append(2+4j)\n",
    "print(l)"
   ]
  },
  {
   "cell_type": "code",
   "execution_count": 33,
   "id": "76b52e44-a786-424d-b333-93234458b77c",
   "metadata": {},
   "outputs": [
    {
     "data": {
      "text/plain": [
       "[10,\n",
       " 10,\n",
       " 34,\n",
       " 35,\n",
       " 56,\n",
       " 34,\n",
       " 35,\n",
       " 56,\n",
       " 34,\n",
       " 35,\n",
       " 56,\n",
       " 'nit',\n",
       " 2.3,\n",
       " True,\n",
       " (2+4j),\n",
       " 'nit',\n",
       " 2.3,\n",
       " True,\n",
       " (2+4j),\n",
       " 10,\n",
       " 10,\n",
       " 10]"
      ]
     },
     "execution_count": 33,
     "metadata": {},
     "output_type": "execute_result"
    }
   ],
   "source": [
    "l.append(10)#add same value in one list\n",
    "l"
   ]
  },
  {
   "cell_type": "code",
   "execution_count": 37,
   "id": "bbed047f-a8cd-4215-98ce-ec4f0f501bdc",
   "metadata": {},
   "outputs": [
    {
     "ename": "IndexError",
     "evalue": "string index out of range",
     "output_type": "error",
     "traceback": [
      "\u001b[1;31m---------------------------------------------------------------------------\u001b[0m",
      "\u001b[1;31mIndexError\u001b[0m                                Traceback (most recent call last)",
      "Cell \u001b[1;32mIn[37], line 4\u001b[0m\n\u001b[0;32m      2\u001b[0m s[\u001b[38;5;241m0\u001b[39m]\n\u001b[0;32m      3\u001b[0m s[\u001b[38;5;241m-\u001b[39m\u001b[38;5;241m1\u001b[39m]\n\u001b[1;32m----> 4\u001b[0m s[\u001b[38;5;241m10\u001b[39m]\n",
      "\u001b[1;31mIndexError\u001b[0m: string index out of range"
     ]
    }
   ],
   "source": [
    "s = 'naresh'\n",
    "s[0]\n",
    "s[-1]\n",
    "s[10]"
   ]
  },
  {
   "cell_type": "code",
   "execution_count": 39,
   "id": "f6f72de9-a991-4151-b186-ad19886bf664",
   "metadata": {},
   "outputs": [
    {
     "data": {
      "text/plain": [
       "'na'"
      ]
     },
     "execution_count": 39,
     "metadata": {},
     "output_type": "execute_result"
    }
   ],
   "source": [
    "s[0:2]"
   ]
  },
  {
   "cell_type": "code",
   "execution_count": 41,
   "id": "03a4406b-edf3-47e9-bbb8-ae0886d90d0a",
   "metadata": {},
   "outputs": [
    {
     "data": {
      "text/plain": [
       "'naresh'"
      ]
     },
     "execution_count": 41,
     "metadata": {},
     "output_type": "execute_result"
    }
   ],
   "source": [
    "s[:]"
   ]
  },
  {
   "cell_type": "code",
   "execution_count": 44,
   "id": "403aed25-19f2-4f0f-9f16-ec7499d84992",
   "metadata": {},
   "outputs": [
    {
     "data": {
      "text/plain": [
       "'h'"
      ]
     },
     "execution_count": 44,
     "metadata": {},
     "output_type": "execute_result"
    }
   ],
   "source": [
    "s[0]\n",
    "s[1]\n",
    "s[2]\n",
    "s[3]\n",
    "s[4]\n",
    "s[5]"
   ]
  },
  {
   "cell_type": "code",
   "execution_count": 45,
   "id": "ae5c0cab-a1e4-4e85-8734-fa9184f92923",
   "metadata": {},
   "outputs": [],
   "source": [
    "#never ever giveu up!"
   ]
  },
  {
   "cell_type": "code",
   "execution_count": 48,
   "id": "0d4a8e4a-f2b8-4df0-bc49-bf5f8054acbe",
   "metadata": {},
   "outputs": [
    {
     "data": {
      "text/plain": [
       "'nareshnaresh it'"
      ]
     },
     "execution_count": 48,
     "metadata": {},
     "output_type": "execute_result"
    }
   ],
   "source": [
    "s1='naresh it'\n",
    "s+ s1"
   ]
  }
 ],
 "metadata": {
  "kernelspec": {
   "display_name": "Python 3 (ipykernel)",
   "language": "python",
   "name": "python3"
  },
  "language_info": {
   "codemirror_mode": {
    "name": "ipython",
    "version": 3
   },
   "file_extension": ".py",
   "mimetype": "text/x-python",
   "name": "python",
   "nbconvert_exporter": "python",
   "pygments_lexer": "ipython3",
   "version": "3.13.5"
  }
 },
 "nbformat": 4,
 "nbformat_minor": 5
}
