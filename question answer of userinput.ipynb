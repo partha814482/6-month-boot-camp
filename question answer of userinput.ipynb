{
 "cells": [
  {
   "cell_type": "code",
   "execution_count": 1,
   "id": "05dc79f4-17bd-4268-ab6e-c89a0cd228f3",
   "metadata": {},
   "outputs": [
    {
     "name": "stdin",
     "output_type": "stream",
     "text": [
      "enter the number 35\n"
     ]
    }
   ],
   "source": [
    "x = int(input('enter the number'))\n"
   ]
  },
  {
   "cell_type": "code",
   "execution_count": 53,
   "id": "197fbd75-65a7-4bc7-b325-a1c8e277d2b6",
   "metadata": {},
   "outputs": [
    {
     "name": "stdin",
     "output_type": "stream",
     "text": [
      "enter the float number 7\n"
     ]
    },
    {
     "data": {
      "text/plain": [
       "float"
      ]
     },
     "execution_count": 53,
     "metadata": {},
     "output_type": "execute_result"
    }
   ],
   "source": [
    "y = float(input('enter the float number'))\n",
    "type(y)"
   ]
  },
  {
   "cell_type": "code",
   "execution_count": 3,
   "id": "0d62417c-6dd3-409d-8e71-1fead7715a3e",
   "metadata": {},
   "outputs": [
    {
     "name": "stdin",
     "output_type": "stream",
     "text": [
      "enter the number 67\n"
     ]
    },
    {
     "name": "stdout",
     "output_type": "stream",
     "text": [
      "number is +ve\n"
     ]
    }
   ],
   "source": [
    "number = int(input('enter the number'))\n",
    "if number > 0:\n",
    "    print('number is +ve')\n",
    "elif number < 0:\n",
    "    print('number is -ve')\n",
    "else:\n",
    "    print('number is zero')"
   ]
  },
  {
   "cell_type": "code",
   "execution_count": 4,
   "id": "6d8a6dad-4007-4376-97e4-7353b88191b6",
   "metadata": {},
   "outputs": [
    {
     "name": "stdin",
     "output_type": "stream",
     "text": [
      "enter the list of integer 56\n"
     ]
    }
   ],
   "source": [
    "list_integer = list(input('enter the list of integer'))"
   ]
  },
  {
   "cell_type": "code",
   "execution_count": 5,
   "id": "22b35360-0061-4283-aa3b-84f48baed53c",
   "metadata": {},
   "outputs": [
    {
     "name": "stdin",
     "output_type": "stream",
     "text": [
      "enter the number :  567\n"
     ]
    }
   ],
   "source": [
    "list_integer = [int(x) for x in input('enter the number : ').split()]"
   ]
  },
  {
   "cell_type": "code",
   "execution_count": 6,
   "id": "5e739af6-1a55-426c-bf6e-c985e5d36e3b",
   "metadata": {},
   "outputs": [
    {
     "name": "stdin",
     "output_type": "stream",
     "text": [
      "['enter', 'the', 'name', 'of', 'fruit'] apple\n"
     ]
    }
   ],
   "source": [
    "fruit = input('enter the name of fruit'.split())\n"
   ]
  },
  {
   "cell_type": "code",
   "execution_count": 7,
   "id": "fbcbf062-fb3a-4261-bc9d-c4f15b4f7c22",
   "metadata": {},
   "outputs": [
    {
     "name": "stdin",
     "output_type": "stream",
     "text": [
      "enter the value 123\n"
     ]
    }
   ],
   "source": [
    "value= input('enter the value').split()\n"
   ]
  },
  {
   "cell_type": "code",
   "execution_count": 8,
   "id": "1fe52431-6ac8-41d2-9940-186eec15a7f3",
   "metadata": {},
   "outputs": [
    {
     "name": "stdin",
     "output_type": "stream",
     "text": [
      "ENTER YOUR NAME partha\n"
     ]
    }
   ],
   "source": [
    "name = input('enter your name'.upper())"
   ]
  },
  {
   "cell_type": "code",
   "execution_count": 9,
   "id": "242be37f-7a92-4cc7-91b2-ea77f64965e6",
   "metadata": {},
   "outputs": [
    {
     "name": "stdin",
     "output_type": "stream",
     "text": [
      "enter the name of food chickem\n"
     ]
    },
    {
     "name": "stdout",
     "output_type": "stream",
     "text": [
      "CHICKEM\n"
     ]
    }
   ],
   "source": [
    "food = input('enter the name of food')\n",
    "print(food.upper())"
   ]
  },
  {
   "cell_type": "code",
   "execution_count": 10,
   "id": "2d70b058-79bd-4a34-b2c5-04d86cf3e839",
   "metadata": {},
   "outputs": [
    {
     "name": "stdin",
     "output_type": "stream",
     "text": [
      "enter the number 345\n"
     ]
    },
    {
     "name": "stdout",
     "output_type": "stream",
     "text": [
      "['345']\n"
     ]
    }
   ],
   "source": [
    "number = input('enter the number')\n",
    "print(number.split())"
   ]
  },
  {
   "cell_type": "code",
   "execution_count": 11,
   "id": "1c9bb72a-7fb7-4ac9-905d-fafac8e66fdf",
   "metadata": {},
   "outputs": [
    {
     "name": "stdin",
     "output_type": "stream",
     "text": [
      "enter the number 4\n"
     ]
    },
    {
     "name": "stdout",
     "output_type": "stream",
     "text": [
      "the number is even\n"
     ]
    }
   ],
   "source": [
    "#9. Write a program that takes a number as input and checks if it is even or odd.\n",
    "number = int(input('enter the number'))\n",
    "if number %2 ==0 :\n",
    "    print('the number is even')\n",
    "else:\n",
    "    print('number is odd')\n",
    "    "
   ]
  },
  {
   "cell_type": "code",
   "execution_count": 12,
   "id": "95113ba4-391e-4125-9e0d-76696ee79848",
   "metadata": {},
   "outputs": [
    {
     "name": "stdin",
     "output_type": "stream",
     "text": [
      "enter the number 45\n"
     ]
    },
    {
     "name": "stdout",
     "output_type": "stream",
     "text": [
      "2025\n"
     ]
    }
   ],
   "source": [
    "number = int(input('enter the number'))\n",
    "square = number * number\n",
    "print(square)"
   ]
  },
  {
   "cell_type": "code",
   "execution_count": 13,
   "id": "1aaa372b-d06a-4af8-9277-166cc3b6441b",
   "metadata": {},
   "outputs": [
    {
     "name": "stdin",
     "output_type": "stream",
     "text": [
      "enter the number 21\n"
     ]
    },
    {
     "name": "stdout",
     "output_type": "stream",
     "text": [
      "True\n"
     ]
    }
   ],
   "source": [
    "number = int(input('enter the number'))\n",
    "divisible = number %3 ==0\n",
    "print(divisible)"
   ]
  },
  {
   "cell_type": "code",
   "execution_count": 14,
   "id": "33ab5c6f-556a-419b-a7c6-12c15bf4c338",
   "metadata": {},
   "outputs": [
    {
     "name": "stdin",
     "output_type": "stream",
     "text": [
      "enter the number 45\n"
     ]
    },
    {
     "name": "stdout",
     "output_type": "stream",
     "text": [
      "number is divisible by 3\n"
     ]
    }
   ],
   "source": [
    "number = int(input('enter the number'))\n",
    "if number %3==0:\n",
    "    print('number is divisible by 3')\n",
    "else:\n",
    "    print('number is not divisible by 3')"
   ]
  },
  {
   "cell_type": "code",
   "execution_count": 15,
   "id": "b47e4578-f26d-4381-8a73-13df7ec18241",
   "metadata": {},
   "outputs": [
    {
     "name": "stdin",
     "output_type": "stream",
     "text": [
      "enter the number1 45\n",
      "enter the number2 45\n"
     ]
    },
    {
     "name": "stdout",
     "output_type": "stream",
     "text": [
      "2025\n"
     ]
    }
   ],
   "source": [
    "number1 = int(input('enter the number1'))\n",
    "number2 = int(input('enter the number2'))\n",
    "product = number1*number2\n",
    "print(product)"
   ]
  },
  {
   "cell_type": "code",
   "execution_count": 16,
   "id": "5476be5d-5b03-41c3-87a5-ff9e0debda6f",
   "metadata": {},
   "outputs": [
    {
     "name": "stdin",
     "output_type": "stream",
     "text": [
      "enter the name of vagetable cocomber\n"
     ]
    },
    {
     "name": "stdout",
     "output_type": "stream",
     "text": [
      "['cocomber']\n"
     ]
    }
   ],
   "source": [
    "vagetable = input('enter the name of vagetable')\n",
    "print(vagetable.split())"
   ]
  },
  {
   "cell_type": "code",
   "execution_count": 17,
   "id": "fd0c947f-442c-4162-86b3-6d88b09ddcd2",
   "metadata": {},
   "outputs": [
    {
     "name": "stdin",
     "output_type": "stream",
     "text": [
      "enter the number 21\n"
     ]
    },
    {
     "name": "stdout",
     "output_type": "stream",
     "text": [
      "True\n"
     ]
    }
   ],
   "source": [
    "number = int(input('enter the number'))\n",
    "#number2 = int(input('enter the number2'))\n",
    "divide = number %3==0 and number %7==0\n",
    "print(divide)"
   ]
  },
  {
   "cell_type": "code",
   "execution_count": 18,
   "id": "0fc268a8-1c0c-4e08-94d4-c856220868a9",
   "metadata": {},
   "outputs": [
    {
     "name": "stdin",
     "output_type": "stream",
     "text": [
      "enter the name of word e\n"
     ]
    },
    {
     "name": "stdout",
     "output_type": "stream",
     "text": [
      "it is vowel\n"
     ]
    }
   ],
   "source": [
    "startletter= input('enter the name of word')\n",
    "if startletter =='a':\n",
    "    print('it is vowel')\n",
    "elif startletter =='e':\n",
    "     print('it is vowel')\n",
    "elif startletter =='i':\n",
    "     print('it is vowel')\n",
    "elif startletter =='o':\n",
    "     print('it is vowel')    \n",
    "elif startletter =='u':\n",
    "     print('it is vowel')\n",
    "else:\n",
    "    print('it is consonet')"
   ]
  },
  {
   "cell_type": "code",
   "execution_count": 20,
   "id": "cb7d0ec2-3af4-4240-805b-c2e5fc937715",
   "metadata": {},
   "outputs": [
    {
     "ename": "IndentationError",
     "evalue": "unexpected indent (3909008346.py, line 2)",
     "output_type": "error",
     "traceback": [
      "\u001b[1;36m  Cell \u001b[1;32mIn[20], line 2\u001b[1;36m\u001b[0m\n\u001b[1;33m    if num > 1:\u001b[0m\n\u001b[1;37m    ^\u001b[0m\n\u001b[1;31mIndentationError\u001b[0m\u001b[1;31m:\u001b[0m unexpected indent\n"
     ]
    }
   ],
   "source": [
    "num = int(input(\"Enter a number: \"))\n",
    "  if num > 1:\n",
    "     for i in range(2, num):\n",
    "         if num % i == 0:\n",
    "             print(\"Not a prime number\")\n",
    "             break\n",
    "             else:\n",
    "             print(\"Prime number\")\n",
    "     else:\n",
    "         \n",
    "         print(\"Not a prime number\")"
   ]
  },
  {
   "cell_type": "code",
   "execution_count": 21,
   "id": "534affcd-10c4-48a8-b051-0ec159a449b6",
   "metadata": {},
   "outputs": [
    {
     "name": "stdin",
     "output_type": "stream",
     "text": [
      "enter a number 3\n"
     ]
    },
    {
     "name": "stdout",
     "output_type": "stream",
     "text": [
      "prime number\n",
      "not a prime number\n"
     ]
    }
   ],
   "source": [
    "num = int(input('enter a number'))\n",
    "if num > 0:\n",
    "    for i in range(2,num):\n",
    "        if num %i ==0:\n",
    "            print('not a prime number')\n",
    "            break\n",
    "        else:\n",
    "            print('prime number')\n",
    "    else:\n",
    "        print('not a prime number')"
   ]
  },
  {
   "cell_type": "code",
   "execution_count": 22,
   "id": "1b31be5f-7cec-4c40-9ef7-77989939067e",
   "metadata": {},
   "outputs": [
    {
     "name": "stdin",
     "output_type": "stream",
     "text": [
      "enter the number 3\n"
     ]
    },
    {
     "name": "stdout",
     "output_type": "stream",
     "text": [
      "number is not a prime number\n",
      "the number is prime number\n",
      "not prime\n"
     ]
    }
   ],
   "source": [
    "number = int(input('enter the number'))\n",
    "if number > 0:\n",
    "    for i in range(1,number):\n",
    "        if number %i ==0:\n",
    "            print('number is not a prime number')\n",
    "            \n",
    "        else:\n",
    "            print('the number is prime number')\n",
    "            \n",
    "    else:\n",
    "        print('not prime')"
   ]
  },
  {
   "cell_type": "code",
   "execution_count": 23,
   "id": "29070e55-5bda-44c8-a7d6-9d8d700efba2",
   "metadata": {},
   "outputs": [
    {
     "name": "stdout",
     "output_type": "stream",
     "text": [
      "1,2,3,4,5,6\n"
     ]
    }
   ],
   "source": [
    "string1 = \"1,2,3,4,5,6\"\n",
    "print(string1)"
   ]
  },
  {
   "cell_type": "code",
   "execution_count": 24,
   "id": "05b48329-9bb7-479f-b7e6-cc3c2980e4b5",
   "metadata": {},
   "outputs": [
    {
     "data": {
      "text/plain": [
       "['6', '5', '4', '3', '2', '1', ',', ',', ',', ',', ',']"
      ]
     },
     "execution_count": 24,
     "metadata": {},
     "output_type": "execute_result"
    }
   ],
   "source": [
    "sorted(string1, reverse=True)\n"
   ]
  },
  {
   "cell_type": "code",
   "execution_count": 25,
   "id": "2cb62259-a6a3-4ac2-ab39-9c35a7d00d66",
   "metadata": {},
   "outputs": [
    {
     "data": {
      "text/plain": [
       "'1,2,3,4,5,6'"
      ]
     },
     "execution_count": 25,
     "metadata": {},
     "output_type": "execute_result"
    }
   ],
   "source": [
    "string1"
   ]
  },
  {
   "cell_type": "code",
   "execution_count": 26,
   "id": "0a7328f2-37c4-4e4a-abd2-521212c59d3e",
   "metadata": {},
   "outputs": [
    {
     "data": {
      "text/plain": [
       "'1,2,3,4,5,6'"
      ]
     },
     "execution_count": 26,
     "metadata": {},
     "output_type": "execute_result"
    }
   ],
   "source": [
    "string1"
   ]
  },
  {
   "cell_type": "code",
   "execution_count": 29,
   "id": "b9e44fdd-98cc-4357-aa86-21f5d7223cdc",
   "metadata": {},
   "outputs": [
    {
     "name": "stdin",
     "output_type": "stream",
     "text": [
      "Enter user name : partha\n",
      "enter your age  23\n"
     ]
    }
   ],
   "source": [
    "Name = input('Enter user name :')\n",
    "age = int(input('enter your age '))"
   ]
  },
  {
   "cell_type": "code",
   "execution_count": 30,
   "id": "cb946818-cbdb-4450-829c-a14ef7a89a50",
   "metadata": {},
   "outputs": [
    {
     "name": "stdout",
     "output_type": "stream",
     "text": [
      "hi, partha and your age is 23 years old\n"
     ]
    }
   ],
   "source": [
    "print(f'hi, {Name} and your age is {age} years old')"
   ]
  },
  {
   "cell_type": "code",
   "execution_count": 31,
   "id": "19edbe0c-d118-4e7e-9b32-0dd0cb10d55d",
   "metadata": {},
   "outputs": [
    {
     "name": "stdin",
     "output_type": "stream",
     "text": [
      "enter the string prakash\n"
     ]
    },
    {
     "name": "stdout",
     "output_type": "stream",
     "text": [
      "prakash hsakarp\n"
     ]
    }
   ],
   "source": [
    "string2 = input('enter the string')\n",
    "print(string2 , string2[::-1])"
   ]
  },
  {
   "cell_type": "code",
   "execution_count": 32,
   "id": "2fe30c7b-6ec8-4bde-95b5-687057c86ab8",
   "metadata": {},
   "outputs": [
    {
     "name": "stdin",
     "output_type": "stream",
     "text": [
      "enter the string cat\n"
     ]
    },
    {
     "name": "stdout",
     "output_type": "stream",
     "text": [
      "cat ['t', 'c', 'a']\n"
     ]
    }
   ],
   "source": [
    "string3 = input('enter the string')\n",
    "print(string3,sorted(string3 ,reverse=True))"
   ]
  },
  {
   "cell_type": "code",
   "execution_count": 33,
   "id": "396e05e4-86e1-43d7-8fbf-47de769af02d",
   "metadata": {},
   "outputs": [
    {
     "name": "stdin",
     "output_type": "stream",
     "text": [
      "enter the string bat\n"
     ]
    },
    {
     "name": "stdout",
     "output_type": "stream",
     "text": [
      "bat ['a', 'b', 't']\n"
     ]
    }
   ],
   "source": [
    "string3 = input('enter the string')\n",
    "print(string3,sorted(string3 ,reverse=False))"
   ]
  },
  {
   "cell_type": "code",
   "execution_count": 50,
   "id": "d9f8da4b-ff47-493f-a4ba-26fa0f6ea78b",
   "metadata": {},
   "outputs": [
    {
     "ename": "IndentationError",
     "evalue": "unindent does not match any outer indentation level (<string>, line 5)",
     "output_type": "error",
     "traceback": [
      "\u001b[1;36m  File \u001b[1;32m<string>:5\u001b[1;36m\u001b[0m\n\u001b[1;33m    factorial = number * number-1\u001b[0m\n\u001b[1;37m                                  ^\u001b[0m\n\u001b[1;31mIndentationError\u001b[0m\u001b[1;31m:\u001b[0m unindent does not match any outer indentation level\n"
     ]
    }
   ],
   "source": [
    "# factorial\n",
    "number = int(input('enter the number'))\n",
    "for i in range(1,number):\n",
    "    number = number +1\n",
    " factorial = number * number-1 \n",
    "print(factorial)"
   ]
  },
  {
   "cell_type": "code",
   "execution_count": 54,
   "id": "b69ebaba-6973-4485-8a0a-5e3c9e57bfc6",
   "metadata": {},
   "outputs": [
    {
     "data": {
      "text/plain": [
       "3"
      ]
     },
     "execution_count": 54,
     "metadata": {},
     "output_type": "execute_result"
    }
   ],
   "source": [
    "d = 3.4\n",
    "int(d)"
   ]
  },
  {
   "cell_type": "code",
   "execution_count": 55,
   "id": "7940218a-978e-4867-ab03-8386a71db67c",
   "metadata": {},
   "outputs": [
    {
     "data": {
      "text/plain": [
       "3.0"
      ]
     },
     "execution_count": 55,
     "metadata": {},
     "output_type": "execute_result"
    }
   ],
   "source": [
    "g = 3\n",
    "float(g)"
   ]
  },
  {
   "cell_type": "code",
   "execution_count": 61,
   "id": "48e4d4a9-2ae6-4da1-af24-5ee29559011a",
   "metadata": {},
   "outputs": [
    {
     "ename": "IndentationError",
     "evalue": "unindent does not match any outer indentation level (<string>, line 6)",
     "output_type": "error",
     "traceback": [
      "\u001b[1;36m  File \u001b[1;32m<string>:6\u001b[1;36m\u001b[0m\n\u001b[1;33m    factorial = f * number\u001b[0m\n\u001b[1;37m                          ^\u001b[0m\n\u001b[1;31mIndentationError\u001b[0m\u001b[1;31m:\u001b[0m unindent does not match any outer indentation level\n"
     ]
    }
   ],
   "source": [
    "# factorial\n",
    "number = int(input('enter the number'))\n",
    "for i in range(1,number):\n",
    "    number = number +1\n",
    "    f = 1\n",
    " factorial = f * number\n",
    "print(factorial)"
   ]
  },
  {
   "cell_type": "code",
   "execution_count": 65,
   "id": "f9dab2c3-b94b-4863-adac-1e159eeb48fd",
   "metadata": {},
   "outputs": [
    {
     "ename": "IndentationError",
     "evalue": "unindent does not match any outer indentation level (<string>, line 6)",
     "output_type": "error",
     "traceback": [
      "\u001b[1;36m  File \u001b[1;32m<string>:6\u001b[1;36m\u001b[0m\n\u001b[1;33m    factorial= f *i\u001b[0m\n\u001b[1;37m                    ^\u001b[0m\n\u001b[1;31mIndentationError\u001b[0m\u001b[1;31m:\u001b[0m unindent does not match any outer indentation level\n"
     ]
    }
   ],
   "source": [
    "\n",
    "# factorial\n",
    "number = int(input('enter the number'))\n",
    "for i in range(1,number):\n",
    "    number = number +1\n",
    "    f = 1\n",
    " factorial= f *i \n",
    "print(factorial)\n"
   ]
  },
  {
   "cell_type": "code",
   "execution_count": 68,
   "id": "173ce3bb-60fb-4985-b488-d8228e2df499",
   "metadata": {},
   "outputs": [
    {
     "data": {
      "text/plain": [
       "[78, 1234, 123, 23, 11, 6, 5, 4, 3, 2, 1]"
      ]
     },
     "execution_count": 68,
     "metadata": {},
     "output_type": "execute_result"
    }
   ],
   "source": [
    "list1 =[1,2,3,4,5,6,11,23,123,1234,78]\n",
    "list1[::-1]"
   ]
  },
  {
   "cell_type": "code",
   "execution_count": 69,
   "id": "9f23eff1-f9a6-4c38-a4a2-a05c91215cf1",
   "metadata": {},
   "outputs": [
    {
     "data": {
      "text/plain": [
       "[78, 123, 11, 5, 3, 1]"
      ]
     },
     "execution_count": 69,
     "metadata": {},
     "output_type": "execute_result"
    }
   ],
   "source": [
    "list1 =[1,2,3,4,5,6,11,23,123,1234,78]\n",
    "list1[::-2]"
   ]
  },
  {
   "cell_type": "code",
   "execution_count": 70,
   "id": "8d8a2b3c-69c8-4999-bd70-0d37c2743702",
   "metadata": {},
   "outputs": [
    {
     "data": {
      "text/plain": [
       "[1, 4, 11]"
      ]
     },
     "execution_count": 70,
     "metadata": {},
     "output_type": "execute_result"
    }
   ],
   "source": [
    "list1 =[1,2,3,4,5,6,11,23,123,1234,78]\n",
    "list1[0:8:3]"
   ]
  },
  {
   "cell_type": "code",
   "execution_count": 71,
   "id": "afb4b947-1c7d-4283-b2bd-48dd9770960c",
   "metadata": {},
   "outputs": [],
   "source": [
    "def print_factors(n):\n",
    "    \"\"\"\n",
    "    This function takes an integer 'n' as input and prints all of its factors.\n",
    "    \"\"\"\n",
    "    if n <= 0:\n",
    "        print(\"Please enter a positive integer.\")\n",
    "        return\n",
    "\n",
    "    print(\"The factors of\", n, \"are:\")\n",
    "    for i in range(1, n + 1):\n",
    "        if n % i == 0:\n",
    "            print(i)"
   ]
  },
  {
   "cell_type": "code",
   "execution_count": 79,
   "id": "f4d612e6-b094-43ae-a380-29da4a9e5b59",
   "metadata": {},
   "outputs": [
    {
     "name": "stdin",
     "output_type": "stream",
     "text": [
      "emter the number 3\n"
     ]
    },
    {
     "name": "stdout",
     "output_type": "stream",
     "text": [
      "not -ve number\n",
      "False\n"
     ]
    }
   ],
   "source": [
    "num = int(input('emter the number'))\n",
    "if num > 0:\n",
    "    print('not -ve number')\n",
    "for i in range(1,num):\n",
    "    num = num+1\n",
    "  \n",
    "f = 1\n",
    "factor = num%i ==0\n",
    "print(factor)\n",
    "    "
   ]
  },
  {
   "cell_type": "code",
   "execution_count": 82,
   "id": "bf38f465-2cd4-498d-a0b7-0f16c1a6c1bc",
   "metadata": {},
   "outputs": [
    {
     "ename": "IndentationError",
     "evalue": "unexpected indent (3484050162.py, line 2)",
     "output_type": "error",
     "traceback": [
      "\u001b[1;36m  Cell \u001b[1;32mIn[82], line 2\u001b[1;36m\u001b[0m\n\u001b[1;33m    factorial = 1\u001b[0m\n\u001b[1;37m    ^\u001b[0m\n\u001b[1;31mIndentationError\u001b[0m\u001b[1;31m:\u001b[0m unexpected indent\n"
     ]
    }
   ],
   "source": [
    " num = int(input(\"Enter a number: \"))\n",
    "  factorial = 1\n",
    " \n",
    "for i in range(1, num + 1):\n",
    " factorial *= i\n",
    " print(\"Factorial:\", factorial)"
   ]
  },
  {
   "cell_type": "code",
   "execution_count": 85,
   "id": "b509afd9-784b-45be-8a3f-aa84c36340e6",
   "metadata": {},
   "outputs": [
    {
     "name": "stdin",
     "output_type": "stream",
     "text": [
      "enter the year 2024\n"
     ]
    },
    {
     "name": "stdout",
     "output_type": "stream",
     "text": [
      "True\n"
     ]
    }
   ],
   "source": [
    "year = int(input('enter the year'))\n",
    "leapyear = year%4==0\n",
    "print(leapyear)"
   ]
  },
  {
   "cell_type": "code",
   "execution_count": 86,
   "id": "05dd14aa-1ae2-43ba-8092-5d6c64b41f97",
   "metadata": {},
   "outputs": [
    {
     "data": {
      "text/plain": [
       "54"
      ]
     },
     "execution_count": 86,
     "metadata": {},
     "output_type": "execute_result"
    }
   ],
   "source": [
    "179-125\n"
   ]
  },
  {
   "cell_type": "code",
   "execution_count": 89,
   "id": "db1b1c46-5668-4e10-86ff-56f7532bbf71",
   "metadata": {},
   "outputs": [
    {
     "name": "stdin",
     "output_type": "stream",
     "text": [
      "enter the year 2024\n"
     ]
    },
    {
     "name": "stdout",
     "output_type": "stream",
     "text": [
      "leapyear\n"
     ]
    }
   ],
   "source": [
    "year = int(input('enter the year'))\n",
    "if year%4==0:\n",
    "    print('leapyear')\n",
    "else:\n",
    "    print(\"not leapyear\")"
   ]
  },
  {
   "cell_type": "code",
   "execution_count": 92,
   "id": "fbfd723f-d936-44cc-bdcf-78fc0dcd009d",
   "metadata": {},
   "outputs": [
    {
     "name": "stdin",
     "output_type": "stream",
     "text": [
      "enter the number 25\n"
     ]
    },
    {
     "ename": "NameError",
     "evalue": "name 'sqrt' is not defined",
     "output_type": "error",
     "traceback": [
      "\u001b[1;31m---------------------------------------------------------------------------\u001b[0m",
      "\u001b[1;31mNameError\u001b[0m                                 Traceback (most recent call last)",
      "Cell \u001b[1;32mIn[92], line 2\u001b[0m\n\u001b[0;32m      1\u001b[0m number \u001b[38;5;241m=\u001b[39m \u001b[38;5;28mint\u001b[39m(\u001b[38;5;28minput\u001b[39m(\u001b[38;5;124m'\u001b[39m\u001b[38;5;124menter the number\u001b[39m\u001b[38;5;124m'\u001b[39m))\n\u001b[1;32m----> 2\u001b[0m square \u001b[38;5;241m=\u001b[39m number \u001b[38;5;241m%\u001b[39m sqrt\u001b[38;5;241m==\u001b[39m\u001b[38;5;241m0\u001b[39m\n\u001b[0;32m      3\u001b[0m \u001b[38;5;28mprint\u001b[39m(square)\n",
      "\u001b[1;31mNameError\u001b[0m: name 'sqrt' is not defined"
     ]
    }
   ],
   "source": [
    "number = int(input('enter the number'))\n",
    "square = number % sqrt==0\n",
    "print(square)"
   ]
  },
  {
   "cell_type": "code",
   "execution_count": 2,
   "id": "8a8c1d5a-b85c-401d-b5df-7057c8aa0578",
   "metadata": {},
   "outputs": [
    {
     "name": "stdin",
     "output_type": "stream",
     "text": [
      "enter the number 1\n"
     ]
    },
    {
     "name": "stdout",
     "output_type": "stream",
     "text": [
      "perfect square\n"
     ]
    }
   ],
   "source": [
    "import math\n",
    "number = int(input('enter the number'))\n",
    "if math.isqrt(number)**2 ==number:\n",
    "    print('perfect square')\n",
    "else:\n",
    "    print('not perfect square')\n"
   ]
  },
  {
   "cell_type": "code",
   "execution_count": 5,
   "id": "0f4aff58-2cfb-4680-a246-b7e6e60b25d4",
   "metadata": {},
   "outputs": [
    {
     "name": "stdin",
     "output_type": "stream",
     "text": [
      "enter the number 144\n"
     ]
    },
    {
     "name": "stdout",
     "output_type": "stream",
     "text": [
      "perfect square\n"
     ]
    }
   ],
   "source": [
    "import math\n",
    "number1 = int(input('enter the number'))\n",
    "if math.isqrt(number1)**2 ==number1:\n",
    "    print('perfect square')\n",
    "else:\n",
    "    print('not perfect square')\n"
   ]
  },
  {
   "cell_type": "code",
   "execution_count": 19,
   "id": "d2569edb-c928-4cf1-a653-51a21a5287d2",
   "metadata": {},
   "outputs": [
    {
     "name": "stdin",
     "output_type": "stream",
     "text": [
      "enter the value True or False:  true\n"
     ]
    }
   ],
   "source": [
    "user_input = input('enter the value True or False: ' ).upper()==True"
   ]
  },
  {
   "cell_type": "code",
   "execution_count": 24,
   "id": "136d5ae3-0c32-45c1-9383-c0721dc5c49f",
   "metadata": {},
   "outputs": [
    {
     "name": "stdin",
     "output_type": "stream",
     "text": [
      "enter the user input w\n"
     ]
    },
    {
     "name": "stdout",
     "output_type": "stream",
     "text": [
      "empty string\n"
     ]
    }
   ],
   "source": [
    "user_input = input('enter the user input')\n",
    "if not user_input:\n",
    "    print('not empty string')\n",
    "else:\n",
    "    print('empty string')"
   ]
  },
  {
   "cell_type": "code",
   "execution_count": 28,
   "id": "6f9e0bb9-980b-46e7-b353-0aaf16ec39f6",
   "metadata": {},
   "outputs": [
    {
     "name": "stdin",
     "output_type": "stream",
     "text": [
      "enter the number 15\n"
     ]
    },
    {
     "name": "stdout",
     "output_type": "stream",
     "text": [
      "the number is divisible by both 3 and 5\n"
     ]
    }
   ],
   "source": [
    "num = int(input('enter the number'))\n",
    "if num %3 ==0 and num %5==0:\n",
    "    print('the number is divisible by both 3 and 5')\n",
    "else:\n",
    "    print('the number is not divisible by 3 and 5')"
   ]
  },
  {
   "cell_type": "code",
   "execution_count": 29,
   "id": "6550cec0-5ddf-4270-8ef5-ced1ccc8631b",
   "metadata": {},
   "outputs": [
    {
     "name": "stdout",
     "output_type": "stream",
     "text": [
      "4\n",
      "3\n"
     ]
    }
   ],
   "source": [
    "a = 4\n",
    "b = 3\n",
    "print(a)\n",
    "print(b)"
   ]
  },
  {
   "cell_type": "code",
   "execution_count": 30,
   "id": "430dd0a4-9d6a-432e-ade3-5939c21bfe9f",
   "metadata": {},
   "outputs": [],
   "source": [
    "a,b = b,a"
   ]
  },
  {
   "cell_type": "code",
   "execution_count": 31,
   "id": "4131d2c8-a669-4b1a-acf9-015ca14444ab",
   "metadata": {},
   "outputs": [
    {
     "name": "stdout",
     "output_type": "stream",
     "text": [
      "3\n",
      "4\n"
     ]
    }
   ],
   "source": [
    "print(a)\n",
    "print(b)"
   ]
  },
  {
   "cell_type": "code",
   "execution_count": 41,
   "id": "ad011d5b-1780-4958-b366-7f7d37cece15",
   "metadata": {},
   "outputs": [
    {
     "ename": "IndentationError",
     "evalue": "unexpected indent (2048143435.py, line 3)",
     "output_type": "error",
     "traceback": [
      "\u001b[1;36m  Cell \u001b[1;32mIn[41], line 3\u001b[1;36m\u001b[0m\n\u001b[1;33m    a,b = b,a\u001b[0m\n\u001b[1;37m    ^\u001b[0m\n\u001b[1;31mIndentationError\u001b[0m\u001b[1;31m:\u001b[0m unexpected indent\n"
     ]
    }
   ],
   "source": [
    "a = int(input('enter the first number'))\n",
    "b = int(input('enter the secand number'))\n",
    "  a,b = b,a\n",
    "print(f'swap two string is a = {a} , b ={b}) "
   ]
  },
  {
   "cell_type": "code",
   "execution_count": 43,
   "id": "23de7ea6-8ce0-494b-99d3-a591c5e745a8",
   "metadata": {},
   "outputs": [
    {
     "ename": "IndentationError",
     "evalue": "unexpected indent (2118710879.py, line 3)",
     "output_type": "error",
     "traceback": [
      "\u001b[1;36m  Cell \u001b[1;32mIn[43], line 3\u001b[1;36m\u001b[0m\n\u001b[1;33m    a, b = b, a\u001b[0m\n\u001b[1;37m    ^\u001b[0m\n\u001b[1;31mIndentationError\u001b[0m\u001b[1;31m:\u001b[0m unexpected indent\n"
     ]
    }
   ],
   "source": [
    "a = input(\"Enter first value: \")\n",
    "b = input(\"Enter second value: \")\n",
    " a, b = b, a\n",
    " print(f\"Swapped values: a = {a}, b = {b}\")"
   ]
  },
  {
   "cell_type": "code",
   "execution_count": 46,
   "id": "c44877b9-c3a2-4224-9572-8911a2e006e8",
   "metadata": {},
   "outputs": [
    {
     "name": "stdin",
     "output_type": "stream",
     "text": [
      "enter the number 5\n"
     ]
    },
    {
     "name": "stdout",
     "output_type": "stream",
     "text": [
      "125\n"
     ]
    }
   ],
   "source": [
    "number = int(input('enter the number'))\n",
    "cube = number * number * number\n",
    "print(cube)"
   ]
  },
  {
   "cell_type": "code",
   "execution_count": 50,
   "id": "15752735-58aa-466a-9f78-9fca9f7d6af4",
   "metadata": {},
   "outputs": [
    {
     "name": "stdin",
     "output_type": "stream",
     "text": [
      "enter the number 1,2,3\n"
     ]
    },
    {
     "ename": "TypeError",
     "evalue": "int() argument must be a string, a bytes-like object or a real number, not 'list'",
     "output_type": "error",
     "traceback": [
      "\u001b[1;31m---------------------------------------------------------------------------\u001b[0m",
      "\u001b[1;31mTypeError\u001b[0m                                 Traceback (most recent call last)",
      "Cell \u001b[1;32mIn[50], line 1\u001b[0m\n\u001b[1;32m----> 1\u001b[0m number \u001b[38;5;241m=\u001b[39m \u001b[38;5;28mint\u001b[39m(\u001b[38;5;28minput\u001b[39m(\u001b[38;5;124m'\u001b[39m\u001b[38;5;124menter the number\u001b[39m\u001b[38;5;124m'\u001b[39m)\u001b[38;5;241m.\u001b[39msplit())\n",
      "\u001b[1;31mTypeError\u001b[0m: int() argument must be a string, a bytes-like object or a real number, not 'list'"
     ]
    }
   ],
   "source": [
    "number = int(input('enter the number').split())\n"
   ]
  },
  {
   "cell_type": "code",
   "execution_count": null,
   "id": "e632a336-7062-40ef-a974-217aaf28e1bd",
   "metadata": {},
   "outputs": [],
   "source": []
  }
 ],
 "metadata": {
  "kernelspec": {
   "display_name": "Python 3 (ipykernel)",
   "language": "python",
   "name": "python3"
  },
  "language_info": {
   "codemirror_mode": {
    "name": "ipython",
    "version": 3
   },
   "file_extension": ".py",
   "mimetype": "text/x-python",
   "name": "python",
   "nbconvert_exporter": "python",
   "pygments_lexer": "ipython3",
   "version": "3.13.5"
  }
 },
 "nbformat": 4,
 "nbformat_minor": 5
}
