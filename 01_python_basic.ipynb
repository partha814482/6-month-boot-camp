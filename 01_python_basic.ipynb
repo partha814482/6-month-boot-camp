{
 "cells": [
  {
   "cell_type": "code",
   "execution_count": 4,
   "id": "84189880-5bdb-46d9-8faa-bce18de73601",
   "metadata": {},
   "outputs": [],
   "source": [
    "a = 5"
   ]
  },
  {
   "cell_type": "code",
   "execution_count": 5,
   "id": "7f70c6b3-263c-4ea4-9e40-3375562aeb9a",
   "metadata": {},
   "outputs": [],
   "source": [
    "b = 2"
   ]
  },
  {
   "cell_type": "code",
   "execution_count": 7,
   "id": "4387b515-dc8f-4722-9055-5de441a47417",
   "metadata": {},
   "outputs": [
    {
     "data": {
      "text/plain": [
       "7"
      ]
     },
     "execution_count": 7,
     "metadata": {},
     "output_type": "execute_result"
    }
   ],
   "source": [
    "a + b"
   ]
  },
  {
   "cell_type": "code",
   "execution_count": 13,
   "id": "0ff201ea-d340-4962-83f4-1653dc311bed",
   "metadata": {},
   "outputs": [
    {
     "name": "stdout",
     "output_type": "stream",
     "text": [
      "Parthasarathi\n"
     ]
    }
   ],
   "source": [
    "print(\"Parthasarathi\") # this will print my name"
   ]
  },
  {
   "cell_type": "code",
   "execution_count": 12,
   "id": "c8bee559-b394-4bd4-9b0d-07541bd66418",
   "metadata": {},
   "outputs": [
    {
     "name": "stdout",
     "output_type": "stream",
     "text": [
      "7\n"
     ]
    }
   ],
   "source": [
    "c = 4\n",
    "d = 3\n",
    "print(c +d)"
   ]
  },
  {
   "cell_type": "code",
   "execution_count": 14,
   "id": "78559e6e-2e26-4c10-87c8-22f7e7de5b33",
   "metadata": {},
   "outputs": [],
   "source": [
    "w = 34\n",
    "g = 45.5\n",
    "h = \"asdf\"\n",
    "k = 6.789\n",
    "You are a thif = true"
   ]
  },
  {
   "cell_type": "code",
   "execution_count": null,
   "id": "a7e894ec-9793-4ca6-ad81-cd602dc424e5",
   "metadata": {},
   "outputs": [],
   "source": []
  },
  {
   "cell_type": "code",
   "execution_count": 21,
   "id": "7e65b159-b3a0-488a-8051-13423e33926d",
   "metadata": {},
   "outputs": [
    {
     "name": "stdout",
     "output_type": "stream",
     "text": [
      "<class 'int'>\n",
      "<class 'float'>\n",
      "<class 'str'>\n",
      "<class 'float'>\n"
     ]
    }
   ],
   "source": [
    "print(type(w))\n",
    "print(type(g))\n",
    "print(type(h))\n",
    "print(type(k))\n",
    "#print(type(You_ thif))\n",
    "\n",
    "\n"
   ]
  },
  {
   "cell_type": "code",
   "execution_count": 29,
   "id": "caeb8b50-fa02-442a-add7-7647a49d97a9",
   "metadata": {},
   "outputs": [
    {
     "name": "stdout",
     "output_type": "stream",
     "text": [
      "P [3]\n",
      "A\n",
      "R\n",
      "T\n",
      "H\n"
     ]
    }
   ],
   "source": [
    "Name = \"PARTHA\"\n",
    "print(Name[0] ,[ 3])\n",
    "print(Name[1])\n",
    "print(Name[2])\n",
    "print(Name[3])\n",
    "print(Name[4])\n",
    "\n"
   ]
  },
  {
   "cell_type": "code",
   "execution_count": null,
   "id": "ec3206ea-a9f3-4578-bf91-d0ced3546e48",
   "metadata": {},
   "outputs": [],
   "source": []
  }
 ],
 "metadata": {
  "kernelspec": {
   "display_name": "Python 3 (ipykernel)",
   "language": "python",
   "name": "python3"
  },
  "language_info": {
   "codemirror_mode": {
    "name": "ipython",
    "version": 3
   },
   "file_extension": ".py",
   "mimetype": "text/x-python",
   "name": "python",
   "nbconvert_exporter": "python",
   "pygments_lexer": "ipython3",
   "version": "3.13.5"
  }
 },
 "nbformat": 4,
 "nbformat_minor": 5
}
