{
 "cells": [
  {
   "cell_type": "code",
   "execution_count": 1,
   "id": "b479ec6c-578e-4f30-a035-ce2373a59f83",
   "metadata": {},
   "outputs": [
    {
     "data": {
      "text/plain": [
       "'2.3.2'"
      ]
     },
     "execution_count": 1,
     "metadata": {},
     "output_type": "execute_result"
    }
   ],
   "source": [
    "import numpy as np\n",
    "np.__version__\n"
   ]
  },
  {
   "cell_type": "code",
   "execution_count": 2,
   "id": "8dd9155e-4077-4891-bffc-a125ffba9c1e",
   "metadata": {},
   "outputs": [
    {
     "data": {
      "text/plain": [
       "[0, 1, 2, 3, 4, 5]"
      ]
     },
     "execution_count": 2,
     "metadata": {},
     "output_type": "execute_result"
    }
   ],
   "source": [
    "mylist = [0,1,2,3,4,5]\n",
    "mylist"
   ]
  },
  {
   "cell_type": "code",
   "execution_count": 3,
   "id": "781f5015-1abf-45a3-b4a8-5080f8e13e40",
   "metadata": {},
   "outputs": [
    {
     "data": {
      "text/plain": [
       "list"
      ]
     },
     "execution_count": 3,
     "metadata": {},
     "output_type": "execute_result"
    }
   ],
   "source": [
    "type(mylist)"
   ]
  },
  {
   "cell_type": "code",
   "execution_count": 4,
   "id": "3aca4d25-6c04-4575-be50-799216fd4527",
   "metadata": {},
   "outputs": [
    {
     "data": {
      "text/plain": [
       "array([1, 2, 3, 4])"
      ]
     },
     "execution_count": 4,
     "metadata": {},
     "output_type": "execute_result"
    }
   ],
   "source": [
    "my_list = np.array([1,2,3,4])\n",
    "my_list"
   ]
  },
  {
   "cell_type": "code",
   "execution_count": 5,
   "id": "bfee3191-5a87-4fba-ace1-e03da096a2f9",
   "metadata": {},
   "outputs": [
    {
     "data": {
      "text/plain": [
       "numpy.ndarray"
      ]
     },
     "execution_count": 5,
     "metadata": {},
     "output_type": "execute_result"
    }
   ],
   "source": [
    "type(my_list)"
   ]
  },
  {
   "cell_type": "code",
   "execution_count": 6,
   "id": "0d7735f3-42d2-4685-ae0a-1678ef4046cf",
   "metadata": {},
   "outputs": [
    {
     "data": {
      "text/plain": [
       "array([0, 1, 2, 3, 4, 5, 6, 7, 8, 9])"
      ]
     },
     "execution_count": 6,
     "metadata": {},
     "output_type": "execute_result"
    }
   ],
   "source": [
    "np.arange(10)\n"
   ]
  },
  {
   "cell_type": "code",
   "execution_count": 7,
   "id": "efd287c8-2b3e-44a7-ae07-0c6a89f4d268",
   "metadata": {},
   "outputs": [
    {
     "data": {
      "text/plain": [
       "array([90, 91, 92, 93, 94, 95, 96, 97, 98, 99])"
      ]
     },
     "execution_count": 7,
     "metadata": {},
     "output_type": "execute_result"
    }
   ],
   "source": [
    "np.arange(90,100)"
   ]
  },
  {
   "cell_type": "code",
   "execution_count": 8,
   "id": "ab20b14d-560f-487a-92f3-113195e50313",
   "metadata": {},
   "outputs": [
    {
     "data": {
      "text/plain": [
       "array([-10,  -9,  -8,  -7,  -6,  -5,  -4,  -3,  -2,  -1])"
      ]
     },
     "execution_count": 8,
     "metadata": {},
     "output_type": "execute_result"
    }
   ],
   "source": [
    "np.arange(-10,0)"
   ]
  },
  {
   "cell_type": "code",
   "execution_count": 9,
   "id": "a1d3858a-ed85-4aba-8c28-bf49d6ee1f00",
   "metadata": {},
   "outputs": [
    {
     "data": {
      "text/plain": [
       "array([ 0,  2,  4,  6,  8, 10, 12, 14, 16, 18, 20])"
      ]
     },
     "execution_count": 9,
     "metadata": {},
     "output_type": "execute_result"
    }
   ],
   "source": [
    "np.arange(0,21,2)"
   ]
  },
  {
   "cell_type": "code",
   "execution_count": 10,
   "id": "4c5d7a2c-40d3-4299-99e2-355b20168c04",
   "metadata": {},
   "outputs": [
    {
     "data": {
      "text/plain": [
       "array([], dtype=int64)"
      ]
     },
     "execution_count": 10,
     "metadata": {},
     "output_type": "execute_result"
    }
   ],
   "source": [
    "np.arange(3,1)"
   ]
  },
  {
   "cell_type": "code",
   "execution_count": 11,
   "id": "4f9425d0-4b14-47b3-be41-205beca016e2",
   "metadata": {},
   "outputs": [
    {
     "data": {
      "text/plain": [
       "<function numpy.zeros>"
      ]
     },
     "execution_count": 11,
     "metadata": {},
     "output_type": "execute_result"
    }
   ],
   "source": [
    "np.zeros"
   ]
  },
  {
   "cell_type": "code",
   "execution_count": 12,
   "id": "4fa01b96-c5ab-46cf-9451-a88afe309816",
   "metadata": {},
   "outputs": [
    {
     "data": {
      "text/plain": [
       "array([[0., 0., 0.],\n",
       "       [0., 0., 0.]])"
      ]
     },
     "execution_count": 12,
     "metadata": {},
     "output_type": "execute_result"
    }
   ],
   "source": [
    "np.zeros((2,3))"
   ]
  },
  {
   "cell_type": "code",
   "execution_count": 13,
   "id": "39738710-c971-437c-b6bd-ec5e805b0476",
   "metadata": {},
   "outputs": [
    {
     "data": {
      "text/plain": [
       "array([[0., 0., 0.],\n",
       "       [0., 0., 0.]])"
      ]
     },
     "execution_count": 13,
     "metadata": {},
     "output_type": "execute_result"
    }
   ],
   "source": [
    "np.zeros([2,3])"
   ]
  },
  {
   "cell_type": "code",
   "execution_count": 14,
   "id": "c32c0444-bca5-45a7-b4fc-c7b7ed15862c",
   "metadata": {},
   "outputs": [
    {
     "data": {
      "text/plain": [
       "array([0, 0, 0, 0])"
      ]
     },
     "execution_count": 14,
     "metadata": {},
     "output_type": "execute_result"
    }
   ],
   "source": [
    "np.zeros(4,dtype=int)"
   ]
  },
  {
   "cell_type": "code",
   "execution_count": 15,
   "id": "8a624157-a781-4668-a5f9-5003ddf13d46",
   "metadata": {},
   "outputs": [
    {
     "data": {
      "text/plain": [
       "array([0, 0, 0, 0, 0])"
      ]
     },
     "execution_count": 15,
     "metadata": {},
     "output_type": "execute_result"
    }
   ],
   "source": [
    "np.zeros(5, dtype=int)"
   ]
  },
  {
   "cell_type": "code",
   "execution_count": 16,
   "id": "183790b1-108a-443a-b054-1e845988c7a0",
   "metadata": {},
   "outputs": [
    {
     "data": {
      "text/plain": [
       "array([[0., 0., 0., 0.],\n",
       "       [0., 0., 0., 0.],\n",
       "       [0., 0., 0., 0.],\n",
       "       [0., 0., 0., 0.]])"
      ]
     },
     "execution_count": 16,
     "metadata": {},
     "output_type": "execute_result"
    }
   ],
   "source": [
    "np.zeros((4,4))"
   ]
  },
  {
   "cell_type": "code",
   "execution_count": 17,
   "id": "1f03de25-b04f-4bf9-9212-97edceb13d8f",
   "metadata": {},
   "outputs": [
    {
     "data": {
      "text/plain": [
       "array([[0, 0, 0, 0],\n",
       "       [0, 0, 0, 0],\n",
       "       [0, 0, 0, 0],\n",
       "       [0, 0, 0, 0]])"
      ]
     },
     "execution_count": 17,
     "metadata": {},
     "output_type": "execute_result"
    }
   ],
   "source": [
    "np.zeros((4,4),dtype=int)"
   ]
  },
  {
   "cell_type": "code",
   "execution_count": 18,
   "id": "1d9cef0f-424b-4df4-87f9-05d1edf206b8",
   "metadata": {},
   "outputs": [
    {
     "data": {
      "text/plain": [
       "array([[1., 1., 1., 1.],\n",
       "       [1., 1., 1., 1.],\n",
       "       [1., 1., 1., 1.]])"
      ]
     },
     "execution_count": 18,
     "metadata": {},
     "output_type": "execute_result"
    }
   ],
   "source": [
    "np.ones((3,4))"
   ]
  },
  {
   "cell_type": "code",
   "execution_count": 19,
   "id": "97647622-813e-4871-a204-83da3fc295f9",
   "metadata": {},
   "outputs": [
    {
     "data": {
      "text/plain": [
       "array([[1, 1, 1, 1],\n",
       "       [1, 1, 1, 1],\n",
       "       [1, 1, 1, 1]])"
      ]
     },
     "execution_count": 19,
     "metadata": {},
     "output_type": "execute_result"
    }
   ],
   "source": [
    "np.ones((3,4),dtype=int)"
   ]
  },
  {
   "cell_type": "code",
   "execution_count": 20,
   "id": "9ea38062-769d-408a-922d-ab2327c6038a",
   "metadata": {},
   "outputs": [
    {
     "ename": "NameError",
     "evalue": "name 'rand' is not defined",
     "output_type": "error",
     "traceback": [
      "\u001b[1;31m---------------------------------------------------------------------------\u001b[0m",
      "\u001b[1;31mNameError\u001b[0m                                 Traceback (most recent call last)",
      "Cell \u001b[1;32mIn[20], line 1\u001b[0m\n\u001b[1;32m----> 1\u001b[0m rand(\u001b[38;5;241m3\u001b[39m,\u001b[38;5;241m2\u001b[39m)\n",
      "\u001b[1;31mNameError\u001b[0m: name 'rand' is not defined"
     ]
    }
   ],
   "source": [
    "rand(3,2)"
   ]
  },
  {
   "cell_type": "code",
   "execution_count": 21,
   "id": "67021d4b-d665-43d6-8338-695b7a995bb3",
   "metadata": {},
   "outputs": [
    {
     "ename": "NameError",
     "evalue": "name 'andom' is not defined",
     "output_type": "error",
     "traceback": [
      "\u001b[1;31m---------------------------------------------------------------------------\u001b[0m",
      "\u001b[1;31mNameError\u001b[0m                                 Traceback (most recent call last)",
      "Cell \u001b[1;32mIn[21], line 1\u001b[0m\n\u001b[1;32m----> 1\u001b[0m andom\u001b[38;5;241m.\u001b[39mrand(\u001b[38;5;241m3\u001b[39m,\u001b[38;5;241m2\u001b[39m)\n",
      "\u001b[1;31mNameError\u001b[0m: name 'andom' is not defined"
     ]
    }
   ],
   "source": [
    "andom.rand(3,2)"
   ]
  },
  {
   "cell_type": "code",
   "execution_count": 22,
   "id": "161ae9e8-fa86-40e9-9202-5f3a8870662e",
   "metadata": {},
   "outputs": [
    {
     "data": {
      "text/plain": [
       "array([[0.57641797, 0.651969  , 0.54435717, 0.40818058],\n",
       "       [0.27184205, 0.49014074, 0.07030265, 0.32127718],\n",
       "       [0.34784859, 0.30845643, 0.71628176, 0.35950332]])"
      ]
     },
     "execution_count": 22,
     "metadata": {},
     "output_type": "execute_result"
    }
   ],
   "source": [
    "np.random.rand(3,4)"
   ]
  },
  {
   "cell_type": "code",
   "execution_count": 23,
   "id": "8054fd8c-d752-438c-8f22-eecb03030299",
   "metadata": {},
   "outputs": [
    {
     "data": {
      "text/plain": [
       "array([[0.98396312, 0.31701722, 0.47050378, 0.74955175],\n",
       "       [0.70766637, 0.13942594, 0.93078052, 0.83945155],\n",
       "       [0.5757514 , 0.67774783, 0.65623649, 0.96100534]])"
      ]
     },
     "execution_count": 23,
     "metadata": {},
     "output_type": "execute_result"
    }
   ],
   "source": [
    "np.random.rand(3,4)"
   ]
  },
  {
   "cell_type": "code",
   "execution_count": 24,
   "id": "65aaf816-187f-4b69-b6d4-af64da0c0f79",
   "metadata": {},
   "outputs": [
    {
     "data": {
      "text/plain": [
       "array([0.12509071, 0.81255289, 0.63179098, 0.49020657, 0.68010444])"
      ]
     },
     "execution_count": 24,
     "metadata": {},
     "output_type": "execute_result"
    }
   ],
   "source": [
    "np.random.rand(5)"
   ]
  },
  {
   "cell_type": "code",
   "execution_count": 25,
   "id": "7f83818d-1e51-4dc6-a36a-174be272eb04",
   "metadata": {},
   "outputs": [
    {
     "data": {
      "text/plain": [
       "0"
      ]
     },
     "execution_count": 25,
     "metadata": {},
     "output_type": "execute_result"
    }
   ],
   "source": [
    "np.random.randint(5)"
   ]
  },
  {
   "cell_type": "code",
   "execution_count": 26,
   "id": "2b523691-4752-4973-b5bc-9d8c135ab2f9",
   "metadata": {},
   "outputs": [
    {
     "data": {
      "text/plain": [
       "4"
      ]
     },
     "execution_count": 26,
     "metadata": {},
     "output_type": "execute_result"
    }
   ],
   "source": [
    "np.random.randint(3,6)"
   ]
  },
  {
   "cell_type": "code",
   "execution_count": 27,
   "id": "60850677-ea01-4d28-9f7e-e91ddeb978c9",
   "metadata": {},
   "outputs": [
    {
     "ename": "TypeError",
     "evalue": "'module' object is not callable",
     "output_type": "error",
     "traceback": [
      "\u001b[1;31m---------------------------------------------------------------------------\u001b[0m",
      "\u001b[1;31mTypeError\u001b[0m                                 Traceback (most recent call last)",
      "Cell \u001b[1;32mIn[27], line 1\u001b[0m\n\u001b[1;32m----> 1\u001b[0m np\u001b[38;5;241m.\u001b[39mrandom(\u001b[38;5;241m3\u001b[39m)\n",
      "\u001b[1;31mTypeError\u001b[0m: 'module' object is not callable"
     ]
    }
   ],
   "source": [
    "np.random(3)"
   ]
  },
  {
   "cell_type": "code",
   "execution_count": 28,
   "id": "86742963-b5e2-45f3-908a-0a3627f54aa6",
   "metadata": {},
   "outputs": [
    {
     "ename": "AttributeError",
     "evalue": "module 'numpy' has no attribute 'randint'",
     "output_type": "error",
     "traceback": [
      "\u001b[1;31m---------------------------------------------------------------------------\u001b[0m",
      "\u001b[1;31mAttributeError\u001b[0m                            Traceback (most recent call last)",
      "Cell \u001b[1;32mIn[28], line 1\u001b[0m\n\u001b[1;32m----> 1\u001b[0m np\u001b[38;5;241m.\u001b[39mrandint(\u001b[38;5;241m3\u001b[39m)\n",
      "File \u001b[1;32m~\\AppData\\Roaming\\Python\\Python313\\site-packages\\numpy\\__init__.py:808\u001b[0m, in \u001b[0;36m__getattr__\u001b[1;34m(attr)\u001b[0m\n\u001b[0;32m    805\u001b[0m     \u001b[38;5;28;01mimport\u001b[39;00m\u001b[38;5;250m \u001b[39m\u001b[38;5;21;01mnumpy\u001b[39;00m\u001b[38;5;21;01m.\u001b[39;00m\u001b[38;5;21;01mchar\u001b[39;00m\u001b[38;5;250m \u001b[39m\u001b[38;5;28;01mas\u001b[39;00m\u001b[38;5;250m \u001b[39m\u001b[38;5;21;01mchar\u001b[39;00m\n\u001b[0;32m    806\u001b[0m     \u001b[38;5;28;01mreturn\u001b[39;00m char\u001b[38;5;241m.\u001b[39mchararray\n\u001b[1;32m--> 808\u001b[0m \u001b[38;5;28;01mraise\u001b[39;00m \u001b[38;5;167;01mAttributeError\u001b[39;00m(\u001b[38;5;124mf\u001b[39m\u001b[38;5;124m\"\u001b[39m\u001b[38;5;124mmodule \u001b[39m\u001b[38;5;132;01m{\u001b[39;00m\u001b[38;5;18m__name__\u001b[39m\u001b[38;5;132;01m!r}\u001b[39;00m\u001b[38;5;124m has no attribute \u001b[39m\u001b[38;5;132;01m{\u001b[39;00mattr\u001b[38;5;132;01m!r}\u001b[39;00m\u001b[38;5;124m\"\u001b[39m)\n",
      "\u001b[1;31mAttributeError\u001b[0m: module 'numpy' has no attribute 'randint'"
     ]
    }
   ],
   "source": [
    "np.randint(3)"
   ]
  },
  {
   "cell_type": "code",
   "execution_count": null,
   "id": "12af78c2-71c6-4c2e-b32d-661ae0fc9f7e",
   "metadata": {},
   "outputs": [],
   "source": [
    "np.random.randint(2,20,5)"
   ]
  },
  {
   "cell_type": "code",
   "execution_count": 29,
   "id": "d0125fff-9640-48e2-9006-ccd6d9b180b9",
   "metadata": {},
   "outputs": [
    {
     "name": "stdout",
     "output_type": "stream",
     "text": [
      "[2 4]\n"
     ]
    }
   ],
   "source": [
    "a = np.random.randint(2,10,2)\n",
    "print(a)\n",
    "                     "
   ]
  },
  {
   "cell_type": "code",
   "execution_count": 30,
   "id": "832300d3-f82d-410d-a651-23a22392ec1f",
   "metadata": {},
   "outputs": [
    {
     "data": {
      "text/plain": [
       "array([8, 2, 6, 4, 0], dtype=int32)"
      ]
     },
     "execution_count": 30,
     "metadata": {},
     "output_type": "execute_result"
    }
   ],
   "source": [
    "np.random.randint(0,10,5)"
   ]
  },
  {
   "cell_type": "code",
   "execution_count": 31,
   "id": "69a89b92-a610-4178-847c-89223146afbe",
   "metadata": {},
   "outputs": [
    {
     "data": {
      "text/plain": [
       "array([2, 4, 3, 1, 2], dtype=int32)"
      ]
     },
     "execution_count": 31,
     "metadata": {},
     "output_type": "execute_result"
    }
   ],
   "source": [
    "c = np.random.randint(0,10,5)\n",
    "c"
   ]
  },
  {
   "cell_type": "code",
   "execution_count": 32,
   "id": "763fdfdc-0a02-43b4-a4d4-f7aeeac2561f",
   "metadata": {},
   "outputs": [
    {
     "name": "stdout",
     "output_type": "stream",
     "text": [
      "[3 7 5 4 0]\n"
     ]
    }
   ],
   "source": [
    "c=np.random.randint(0,10,5)\n",
    "print(c)\n",
    "\n",
    "\n"
   ]
  },
  {
   "cell_type": "code",
   "execution_count": 33,
   "id": "209f532b-c2ee-495f-af83-cf24549ee9c1",
   "metadata": {},
   "outputs": [
    {
     "name": "stdout",
     "output_type": "stream",
     "text": [
      "[[31 24 21 35 22 16 26 35 24 21]\n",
      " [21 20 15 23 23 15 38 21 37 38]\n",
      " [28 28 12 38 32 28 31 31 10 26]\n",
      " [19 33 21 25 39 25 35 27 16 32]\n",
      " [25 12 18 22 34 39 35 28 27 12]\n",
      " [13 11 38 12 14 27 26 11 27 38]\n",
      " [15 21 24 26 14 12 26 32 12 16]\n",
      " [15 17 10 34 15 21 27 14 30 18]]\n"
     ]
    }
   ],
   "source": [
    "n = np.random.randint(10,40,(8,10))\n",
    "print(n)"
   ]
  },
  {
   "cell_type": "code",
   "execution_count": 34,
   "id": "187ffbc6-68ed-4b10-85ce-872a0fa5895c",
   "metadata": {},
   "outputs": [
    {
     "data": {
      "text/plain": [
       "array([13, 11, 38, 12, 14, 27, 26, 11, 27, 38], dtype=int32)"
      ]
     },
     "execution_count": 34,
     "metadata": {},
     "output_type": "execute_result"
    }
   ],
   "source": [
    "n[5]# it give the output is 5th row"
   ]
  },
  {
   "cell_type": "code",
   "execution_count": 35,
   "id": "7822c479-2274-4375-a9e5-454419c45cc0",
   "metadata": {},
   "outputs": [
    {
     "name": "stdout",
     "output_type": "stream",
     "text": [
      "[25 12 18 22 34 39 35 28 27 12]\n"
     ]
    }
   ],
   "source": [
    "print(n[4])"
   ]
  },
  {
   "cell_type": "code",
   "execution_count": 36,
   "id": "d56dceba-7e69-4720-b224-f9ac5dd1dd0b",
   "metadata": {},
   "outputs": [
    {
     "name": "stdout",
     "output_type": "stream",
     "text": [
      "34\n"
     ]
    }
   ],
   "source": [
    "print(n[4,4])"
   ]
  },
  {
   "cell_type": "code",
   "execution_count": 37,
   "id": "f1942f15-2b60-47c2-9314-3ffb12dee9a2",
   "metadata": {},
   "outputs": [
    {
     "name": "stdout",
     "output_type": "stream",
     "text": [
      "15\n"
     ]
    }
   ],
   "source": [
    "print(n[1,5])"
   ]
  },
  {
   "cell_type": "code",
   "execution_count": 38,
   "id": "062b90b5-b075-4d97-b462-607ac6648062",
   "metadata": {},
   "outputs": [
    {
     "name": "stdout",
     "output_type": "stream",
     "text": [
      "[15 17 10 34 15 21 27 14 30 18]\n"
     ]
    }
   ],
   "source": [
    "print(n[7])"
   ]
  },
  {
   "cell_type": "code",
   "execution_count": 39,
   "id": "715de52f-b35b-4f70-a57e-e6f006fb17dd",
   "metadata": {},
   "outputs": [
    {
     "name": "stdout",
     "output_type": "stream",
     "text": [
      "18\n"
     ]
    }
   ],
   "source": [
    "print(n[7,9])"
   ]
  },
  {
   "cell_type": "code",
   "execution_count": 40,
   "id": "1b01c3be-c056-4303-a0f2-9429568a6536",
   "metadata": {},
   "outputs": [
    {
     "name": "stdout",
     "output_type": "stream",
     "text": [
      "18\n"
     ]
    }
   ],
   "source": [
    "print(n[7,-1])"
   ]
  },
  {
   "cell_type": "code",
   "execution_count": 41,
   "id": "4f4067b2-956b-4574-bddb-5d6b3c75c8be",
   "metadata": {},
   "outputs": [
    {
     "name": "stdout",
     "output_type": "stream",
     "text": [
      "[[31 24 21 35 22 16 26 35 24 21]\n",
      " [21 20 15 23 23 15 38 21 37 38]\n",
      " [28 28 12 38 32 28 31 31 10 26]\n",
      " [19 33 21 25 39 25 35 27 16 32]\n",
      " [25 12 18 22 34 39 35 28 27 12]\n",
      " [13 11 38 12 14 27 26 11 27 38]\n",
      " [15 21 24 26 14 12 26 32 12 16]\n",
      " [15 17 10 34 15 21 27 14 30 18]]\n"
     ]
    }
   ],
   "source": [
    "print(n)"
   ]
  },
  {
   "cell_type": "code",
   "execution_count": 42,
   "id": "9d4782af-ad82-4a64-8f5c-a4fce1e6f97b",
   "metadata": {},
   "outputs": [
    {
     "name": "stdout",
     "output_type": "stream",
     "text": [
      "[[21 20 15 23 23 15 38 21 37 38]\n",
      " [28 28 12 38 32 28 31 31 10 26]\n",
      " [19 33 21 25 39 25 35 27 16 32]\n",
      " [25 12 18 22 34 39 35 28 27 12]]\n"
     ]
    }
   ],
   "source": [
    "print(n[1:5])"
   ]
  },
  {
   "cell_type": "code",
   "execution_count": 43,
   "id": "98fc1938-b1fd-414d-96dd-04a4a4b03934",
   "metadata": {},
   "outputs": [
    {
     "name": "stdout",
     "output_type": "stream",
     "text": [
      "[[31 24 21 35 22 16 26 35 24 21]\n",
      " [21 20 15 23 23 15 38 21 37 38]\n",
      " [28 28 12 38 32 28 31 31 10 26]\n",
      " [19 33 21 25 39 25 35 27 16 32]\n",
      " [25 12 18 22 34 39 35 28 27 12]\n",
      " [13 11 38 12 14 27 26 11 27 38]\n",
      " [15 21 24 26 14 12 26 32 12 16]\n",
      " [15 17 10 34 15 21 27 14 30 18]]\n"
     ]
    }
   ],
   "source": [
    "print(n[::])"
   ]
  },
  {
   "cell_type": "code",
   "execution_count": 44,
   "id": "4a4b047d-e80d-4b76-ac67-6e9d3b09b1ad",
   "metadata": {},
   "outputs": [
    {
     "name": "stdout",
     "output_type": "stream",
     "text": [
      "[15 17 10 34 15 21 27 14 30 18]\n"
     ]
    }
   ],
   "source": [
    "print(n[-1])"
   ]
  },
  {
   "cell_type": "code",
   "execution_count": 45,
   "id": "8f85756f-75f0-4bfa-bf30-fe3b9a17c230",
   "metadata": {},
   "outputs": [
    {
     "name": "stdout",
     "output_type": "stream",
     "text": [
      "[[21 20 15 23 23 15 38 21 37 38]\n",
      " [19 33 21 25 39 25 35 27 16 32]\n",
      " [13 11 38 12 14 27 26 11 27 38]]\n"
     ]
    }
   ],
   "source": [
    "print(n[1:7:2])"
   ]
  },
  {
   "cell_type": "code",
   "execution_count": 46,
   "id": "f1936abc-254b-415d-978e-f1cadac3e47b",
   "metadata": {},
   "outputs": [
    {
     "name": "stdout",
     "output_type": "stream",
     "text": [
      "31\n"
     ]
    }
   ],
   "source": [
    "print(n[2,-4])"
   ]
  },
  {
   "cell_type": "code",
   "execution_count": 47,
   "id": "a10d3c2c-5053-41bf-94fd-0445436acaf7",
   "metadata": {},
   "outputs": [
    {
     "name": "stdout",
     "output_type": "stream",
     "text": [
      "[[15 17 10 34 15 21 27 14 30 18]\n",
      " [15 21 24 26 14 12 26 32 12 16]\n",
      " [13 11 38 12 14 27 26 11 27 38]\n",
      " [25 12 18 22 34 39 35 28 27 12]\n",
      " [19 33 21 25 39 25 35 27 16 32]\n",
      " [28 28 12 38 32 28 31 31 10 26]\n",
      " [21 20 15 23 23 15 38 21 37 38]\n",
      " [31 24 21 35 22 16 26 35 24 21]]\n"
     ]
    }
   ],
   "source": [
    "print(n[::-1])"
   ]
  },
  {
   "cell_type": "code",
   "execution_count": 48,
   "id": "0d5e4812-9238-4c81-bed8-dc91deff4937",
   "metadata": {},
   "outputs": [
    {
     "name": "stdout",
     "output_type": "stream",
     "text": [
      "[[15 17 10 34 15 21 27 14 30 18]\n",
      " [13 11 38 12 14 27 26 11 27 38]\n",
      " [19 33 21 25 39 25 35 27 16 32]\n",
      " [21 20 15 23 23 15 38 21 37 38]]\n"
     ]
    }
   ],
   "source": [
    "print(n[::-2])"
   ]
  },
  {
   "cell_type": "code",
   "execution_count": 49,
   "id": "cc042d4a-7bfc-4f4d-9e30-0cc7160cc53c",
   "metadata": {},
   "outputs": [
    {
     "name": "stdout",
     "output_type": "stream",
     "text": [
      "[[31 24 21 35 22 16 26 35 24 21]\n",
      " [21 20 15 23 23 15 38 21 37 38]\n",
      " [28 28 12 38 32 28 31 31 10 26]\n",
      " [19 33 21 25 39 25 35 27 16 32]\n",
      " [25 12 18 22 34 39 35 28 27 12]\n",
      " [13 11 38 12 14 27 26 11 27 38]\n",
      " [15 21 24 26 14 12 26 32 12 16]\n",
      " [15 17 10 34 15 21 27 14 30 18]]\n"
     ]
    }
   ],
   "source": [
    "print(n)"
   ]
  },
  {
   "cell_type": "code",
   "execution_count": 50,
   "id": "72bba0af-ec56-4bfa-bbcc-fb271e4ec242",
   "metadata": {},
   "outputs": [
    {
     "name": "stdout",
     "output_type": "stream",
     "text": [
      "[[31 24 21 35 22 16 26 35 24 21]\n",
      " [21 20 15 23 23 15 38 21 37 38]\n",
      " [28 28 12 38 32 28 31 31 10 26]\n",
      " [19 33 21 25 39 25 35 27 16 32]\n",
      " [25 12 18 22 34 39 35 28 27 12]\n",
      " [13 11 38 12 14 27 26 11 27 38]\n",
      " [15 21 24 26 14 12 26 32 12 16]\n",
      " [15 17 10 34 15 21 27 14 30 18]]\n"
     ]
    }
   ],
   "source": [
    "print(n[::1])"
   ]
  },
  {
   "cell_type": "code",
   "execution_count": 51,
   "id": "3b7df6eb-5771-482a-9ee5-0526a17abae8",
   "metadata": {},
   "outputs": [
    {
     "name": "stdout",
     "output_type": "stream",
     "text": [
      "[[31 24 21 35 22 16 26 35 24 21]\n",
      " [28 28 12 38 32 28 31 31 10 26]\n",
      " [25 12 18 22 34 39 35 28 27 12]\n",
      " [15 21 24 26 14 12 26 32 12 16]]\n"
     ]
    }
   ],
   "source": [
    "print(n[::2])"
   ]
  },
  {
   "cell_type": "code",
   "execution_count": 52,
   "id": "abdc27c1-a50a-408a-bdb5-826e18e3617e",
   "metadata": {},
   "outputs": [
    {
     "name": "stdout",
     "output_type": "stream",
     "text": [
      "[[1 2 3 4]\n",
      " [6 6 1 6]\n",
      " [5 7 7 5]]\n"
     ]
    }
   ],
   "source": [
    "n = np.random.randint(1,10,(3,4))\n",
    "print(n)"
   ]
  },
  {
   "cell_type": "code",
   "execution_count": 53,
   "id": "7b698256-7656-4789-b0ee-249ce93a283b",
   "metadata": {},
   "outputs": [
    {
     "name": "stdout",
     "output_type": "stream",
     "text": [
      "[[13 11 35 29 38 30 37 27 16 30]\n",
      " [37 36 33 39 38 37 34 19 27 10]\n",
      " [15 26 19 22 26 34 38 36 11 27]\n",
      " [27 22 28 10 36 12 20 16 12 14]\n",
      " [14 12 38 32 31 23 20 17 22 29]\n",
      " [21 14 36 32 15 13 36 22 26 20]\n",
      " [14 31 21 18 39 11 31 16 24 18]\n",
      " [34 37 13 28 11 39 24 33 17 31]]\n"
     ]
    }
   ],
   "source": [
    "n = np.random.randint(10,40,(8,10))\n",
    "print(n)"
   ]
  },
  {
   "cell_type": "code",
   "execution_count": 54,
   "id": "554ddbfe-cc9a-4106-9691-15546cdf2ddf",
   "metadata": {},
   "outputs": [
    {
     "name": "stdout",
     "output_type": "stream",
     "text": [
      "[[37 36 33 39 38 37 34 19 27 10]\n",
      " [15 26 19 22 26 34 38 36 11 27]\n",
      " [27 22 28 10 36 12 20 16 12 14]]\n"
     ]
    }
   ],
   "source": [
    "print(n[1:4])"
   ]
  },
  {
   "cell_type": "code",
   "execution_count": 55,
   "id": "3b7b9070-0f52-4dbd-9649-ca0c3dc49588",
   "metadata": {},
   "outputs": [
    {
     "name": "stdout",
     "output_type": "stream",
     "text": [
      "[[13 11 35 29 38 30 37 27 16 30]\n",
      " [37 36 33 39 38 37 34 19 27 10]\n",
      " [15 26 19 22 26 34 38 36 11 27]\n",
      " [27 22 28 10 36 12 20 16 12 14]\n",
      " [14 12 38 32 31 23 20 17 22 29]\n",
      " [21 14 36 32 15 13 36 22 26 20]\n",
      " [14 31 21 18 39 11 31 16 24 18]\n",
      " [34 37 13 28 11 39 24 33 17 31]]\n"
     ]
    }
   ],
   "source": [
    "print(n)"
   ]
  },
  {
   "cell_type": "code",
   "execution_count": 56,
   "id": "918ccfc5-37c1-45ff-ae12-58d01502edd5",
   "metadata": {},
   "outputs": [
    {
     "data": {
      "text/plain": [
       "np.int32(29)"
      ]
     },
     "execution_count": 56,
     "metadata": {},
     "output_type": "execute_result"
    }
   ],
   "source": [
    "n[0,3]"
   ]
  },
  {
   "cell_type": "code",
   "execution_count": 57,
   "id": "f7072219-7fab-46e3-b9b6-508ea602810e",
   "metadata": {},
   "outputs": [
    {
     "data": {
      "text/plain": [
       "np.int32(20)"
      ]
     },
     "execution_count": 57,
     "metadata": {},
     "output_type": "execute_result"
    }
   ],
   "source": [
    "n[3,-4]"
   ]
  },
  {
   "cell_type": "code",
   "execution_count": 58,
   "id": "c57062cc-28b4-470e-b244-09137bba48eb",
   "metadata": {},
   "outputs": [
    {
     "data": {
      "text/plain": [
       "array([2])"
      ]
     },
     "execution_count": 58,
     "metadata": {},
     "output_type": "execute_result"
    }
   ],
   "source": [
    "np.arange(2,3)\n"
   ]
  },
  {
   "cell_type": "code",
   "execution_count": 59,
   "id": "5c27db0a-382b-4be5-bf78-ff183f3137fb",
   "metadata": {},
   "outputs": [
    {
     "data": {
      "text/plain": [
       "array([ 0,  1,  2,  3,  4,  5,  6,  7,  8,  9, 10, 11, 12, 13, 14, 15, 16,\n",
       "       17, 18, 19])"
      ]
     },
     "execution_count": 59,
     "metadata": {},
     "output_type": "execute_result"
    }
   ],
   "source": [
    "np.arange(20)"
   ]
  },
  {
   "cell_type": "code",
   "execution_count": 61,
   "id": "bd6282ac-efc3-4284-bfb7-5928e2fd2949",
   "metadata": {},
   "outputs": [
    {
     "data": {
      "text/plain": [
       "array([3, 4])"
      ]
     },
     "execution_count": 61,
     "metadata": {},
     "output_type": "execute_result"
    }
   ],
   "source": [
    "s = np.array([3,4])\n",
    "s"
   ]
  },
  {
   "cell_type": "code",
   "execution_count": 62,
   "id": "78d390fb-9b2c-45f5-8714-44a766d0f12a",
   "metadata": {},
   "outputs": [
    {
     "data": {
      "text/plain": [
       "array([1, 2, 3, 4, 5])"
      ]
     },
     "execution_count": 62,
     "metadata": {},
     "output_type": "execute_result"
    }
   ],
   "source": [
    "s1 = np.array([1,2,3,4,5])\n",
    "s1"
   ]
  },
  {
   "cell_type": "code",
   "execution_count": 64,
   "id": "6fdda54b-4fa0-405c-9e3f-ffb28a3ab6d1",
   "metadata": {},
   "outputs": [
    {
     "data": {
      "text/plain": [
       "array([[1., 1., 1., 1., 1.],\n",
       "       [1., 1., 1., 1., 1.],\n",
       "       [1., 1., 1., 1., 1.]])"
      ]
     },
     "execution_count": 64,
     "metadata": {},
     "output_type": "execute_result"
    }
   ],
   "source": [
    "np.ones((3,5))"
   ]
  },
  {
   "cell_type": "code",
   "execution_count": 65,
   "id": "e682a976-5cac-4737-a69a-28d99ac04544",
   "metadata": {},
   "outputs": [
    {
     "data": {
      "text/plain": [
       "array([ 1,  2,  3,  4,  5,  6,  7,  8,  9, 10, 11, 12])"
      ]
     },
     "execution_count": 65,
     "metadata": {},
     "output_type": "execute_result"
    }
   ],
   "source": [
    "np.arange(1,13)"
   ]
  },
  {
   "cell_type": "code",
   "execution_count": 67,
   "id": "81769238-7a45-49fc-807b-e6a5891148fa",
   "metadata": {},
   "outputs": [
    {
     "data": {
      "text/plain": [
       "array([[ 1,  2],\n",
       "       [ 3,  4],\n",
       "       [ 5,  6],\n",
       "       [ 7,  8],\n",
       "       [ 9, 10],\n",
       "       [11, 12]])"
      ]
     },
     "execution_count": 67,
     "metadata": {},
     "output_type": "execute_result"
    }
   ],
   "source": [
    "np.arange(1,13).reshape(6,2)"
   ]
  },
  {
   "cell_type": "code",
   "execution_count": 68,
   "id": "4d15ebd0-3560-4ae0-9a22-06336211de38",
   "metadata": {},
   "outputs": [
    {
     "data": {
      "text/plain": [
       "array([1, 2, 3, 4, 5])"
      ]
     },
     "execution_count": 68,
     "metadata": {},
     "output_type": "execute_result"
    }
   ],
   "source": [
    "s1\n"
   ]
  },
  {
   "cell_type": "code",
   "execution_count": 70,
   "id": "de080d96-032a-4025-bac3-42d100226c01",
   "metadata": {},
   "outputs": [
    {
     "data": {
      "text/plain": [
       "5"
      ]
     },
     "execution_count": 70,
     "metadata": {},
     "output_type": "execute_result"
    }
   ],
   "source": [
    "len(s1)"
   ]
  },
  {
   "cell_type": "code",
   "execution_count": 74,
   "id": "2d0caed6-f70e-47b8-af0a-1351ca636cb6",
   "metadata": {},
   "outputs": [
    {
     "data": {
      "text/plain": [
       "array([[1],\n",
       "       [2],\n",
       "       [3],\n",
       "       [4],\n",
       "       [5]])"
      ]
     },
     "execution_count": 74,
     "metadata": {},
     "output_type": "execute_result"
    }
   ],
   "source": [
    "s1.reshape(5,1)"
   ]
  },
  {
   "cell_type": "code",
   "execution_count": 79,
   "id": "db3374c9-795f-4913-934a-3ce4aa18d8a2",
   "metadata": {},
   "outputs": [
    {
     "data": {
      "text/plain": [
       "array([ 1,  2,  3,  4,  5,  6,  7,  8,  9, 10, 11, 12, 13, 14, 15, 16, 17,\n",
       "       18, 19, 20])"
      ]
     },
     "execution_count": 79,
     "metadata": {},
     "output_type": "execute_result"
    }
   ],
   "source": [
    "p = np.arange(1,21)\n",
    "p"
   ]
  },
  {
   "cell_type": "code",
   "execution_count": 80,
   "id": "8b8f7135-815a-4001-a151-816144dd68b7",
   "metadata": {},
   "outputs": [
    {
     "data": {
      "text/plain": [
       "array([[ 1,  2,  3,  4,  5],\n",
       "       [ 6,  7,  8,  9, 10],\n",
       "       [11, 12, 13, 14, 15],\n",
       "       [16, 17, 18, 19, 20]])"
      ]
     },
     "execution_count": 80,
     "metadata": {},
     "output_type": "execute_result"
    }
   ],
   "source": [
    "p.reshape(4,5)"
   ]
  },
  {
   "cell_type": "code",
   "execution_count": 81,
   "id": "fecffd1b-34f2-49ef-b6a7-df8dce0085ed",
   "metadata": {},
   "outputs": [
    {
     "data": {
      "text/plain": [
       "array([[ 1,  2,  3,  4],\n",
       "       [ 5,  6,  7,  8],\n",
       "       [ 9, 10, 11, 12],\n",
       "       [13, 14, 15, 16],\n",
       "       [17, 18, 19, 20]])"
      ]
     },
     "execution_count": 81,
     "metadata": {},
     "output_type": "execute_result"
    }
   ],
   "source": [
    "p.reshape(5,4)"
   ]
  },
  {
   "cell_type": "code",
   "execution_count": 82,
   "id": "cdf7b4b0-ebae-4191-8eae-565dc75b9760",
   "metadata": {},
   "outputs": [
    {
     "data": {
      "text/plain": [
       "array([[0.06334944, 0.56122277, 0.20901529, 0.10392824],\n",
       "       [0.78207146, 0.73384575, 0.95144504, 0.03390163],\n",
       "       [0.08322391, 0.57347177, 0.76861458, 0.79606186]])"
      ]
     },
     "execution_count": 82,
     "metadata": {},
     "output_type": "execute_result"
    }
   ],
   "source": [
    "np.random.rand(3,4)"
   ]
  },
  {
   "cell_type": "code",
   "execution_count": 87,
   "id": "76ffd170-d752-4d7a-b12d-caa66be4405c",
   "metadata": {},
   "outputs": [
    {
     "data": {
      "text/plain": [
       "3"
      ]
     },
     "execution_count": 87,
     "metadata": {},
     "output_type": "execute_result"
    }
   ],
   "source": [
    "np.random.randint(3,4)"
   ]
  },
  {
   "cell_type": "code",
   "execution_count": 89,
   "id": "8dbad16b-cbbf-4399-9b5d-05059851c206",
   "metadata": {},
   "outputs": [
    {
     "data": {
      "text/plain": [
       "'2.3.2'"
      ]
     },
     "execution_count": 89,
     "metadata": {},
     "output_type": "execute_result"
    }
   ],
   "source": [
    "np.__version__"
   ]
  },
  {
   "cell_type": "code",
   "execution_count": 94,
   "id": "e5b872ec-78b6-4d09-b6b0-e77fae286266",
   "metadata": {},
   "outputs": [
    {
     "data": {
      "text/plain": [
       "array([[12, 17, 17, 14,  5],\n",
       "       [12,  9,  3, 12, 13],\n",
       "       [ 0, 18, 11, 18, 16],\n",
       "       [19,  9, 18,  1, 18]], dtype=int32)"
      ]
     },
     "execution_count": 94,
     "metadata": {},
     "output_type": "execute_result"
    }
   ],
   "source": [
    "n = np.random.randint(0,21,(4,5))\n",
    "n"
   ]
  },
  {
   "cell_type": "code",
   "execution_count": 96,
   "id": "3ec173cb-af35-406a-a416-87bc699ed82d",
   "metadata": {},
   "outputs": [
    {
     "name": "stdout",
     "output_type": "stream",
     "text": [
      "[[12 17 17 14  5]\n",
      " [12  9  3 12 13]\n",
      " [ 0 18 11 18 16]\n",
      " [19  9 18  1 18]]\n"
     ]
    }
   ],
   "source": [
    "print(n)"
   ]
  },
  {
   "cell_type": "code",
   "execution_count": 98,
   "id": "4778c2dd-9a7d-4ce6-966f-a0ff10c9bd62",
   "metadata": {},
   "outputs": [
    {
     "name": "stdout",
     "output_type": "stream",
     "text": [
      "[[5 5 5]\n",
      " [5 5 5]]\n"
     ]
    }
   ],
   "source": [
    "n = np.full((2,3),5)\n",
    "print(n)"
   ]
  },
  {
   "cell_type": "code",
   "execution_count": 99,
   "id": "e87e6b8d-bf02-4744-8f4e-05f5a09e1bf9",
   "metadata": {},
   "outputs": [
    {
     "data": {
      "text/plain": [
       "array([[10, 10, 10, 10, 10, 10],\n",
       "       [10, 10, 10, 10, 10, 10],\n",
       "       [10, 10, 10, 10, 10, 10],\n",
       "       [10, 10, 10, 10, 10, 10],\n",
       "       [10, 10, 10, 10, 10, 10]])"
      ]
     },
     "execution_count": 99,
     "metadata": {},
     "output_type": "execute_result"
    }
   ],
   "source": [
    "g = np.full((5,6),10)\n",
    "g"
   ]
  },
  {
   "cell_type": "code",
   "execution_count": 103,
   "id": "5df6ceea-d7d4-4c80-93a5-1c912d6f733d",
   "metadata": {},
   "outputs": [
    {
     "data": {
      "text/plain": [
       "array([[27, 15, 32, 21, 39, 12, 32, 12, 43, 31],\n",
       "       [24, 27, 30, 26, 38, 25, 39, 26, 26, 37],\n",
       "       [31, 38, 28, 19, 28, 37, 10, 11, 19, 10],\n",
       "       [33, 31, 20, 12, 32, 34, 40, 26, 22, 37],\n",
       "       [25, 19, 40, 23, 13, 41, 38, 20, 21, 20],\n",
       "       [11, 15, 38, 23, 18, 12, 18, 19, 22, 22],\n",
       "       [41, 32, 28, 18, 13, 12, 24, 40, 18, 33],\n",
       "       [31, 43, 24, 19, 43, 25, 44, 37, 40, 24]], dtype=int32)"
      ]
     },
     "execution_count": 103,
     "metadata": {},
     "output_type": "execute_result"
    }
   ],
   "source": [
    "h = np.random.randint(10,45,(8,10))\n",
    "h"
   ]
  },
  {
   "cell_type": "code",
   "execution_count": 105,
   "id": "27100fe0-37aa-4ddc-90cd-ec6963b6003c",
   "metadata": {},
   "outputs": [
    {
     "data": {
      "text/plain": [
       "array([31, 38, 28, 19, 28, 37, 10, 11, 19, 10], dtype=int32)"
      ]
     },
     "execution_count": 105,
     "metadata": {},
     "output_type": "execute_result"
    }
   ],
   "source": [
    "h[2]"
   ]
  },
  {
   "cell_type": "code",
   "execution_count": 106,
   "id": "1893ef35-198f-40ad-a274-cfbfe090e563",
   "metadata": {},
   "outputs": [
    {
     "data": {
      "text/plain": [
       "(8, 10)"
      ]
     },
     "execution_count": 106,
     "metadata": {},
     "output_type": "execute_result"
    }
   ],
   "source": [
    "h.shape"
   ]
  },
  {
   "cell_type": "code",
   "execution_count": 111,
   "id": "9bef0145-de69-4c46-ba02-573987b46a5d",
   "metadata": {},
   "outputs": [],
   "source": [
    "#b =np.full((20,30),10)\n",
    "#b"
   ]
  },
  {
   "cell_type": "code",
   "execution_count": 108,
   "id": "c587cf50-4d42-43ab-9f62-3372bcd1b0ac",
   "metadata": {},
   "outputs": [
    {
     "data": {
      "text/plain": [
       "(20, 30)"
      ]
     },
     "execution_count": 108,
     "metadata": {},
     "output_type": "execute_result"
    }
   ],
   "source": [
    "b.shape"
   ]
  },
  {
   "cell_type": "code",
   "execution_count": 109,
   "id": "755a8699-4c61-413b-89b0-8223194aad0f",
   "metadata": {},
   "outputs": [
    {
     "data": {
      "text/plain": [
       "600"
      ]
     },
     "execution_count": 109,
     "metadata": {},
     "output_type": "execute_result"
    }
   ],
   "source": [
    "b.size"
   ]
  },
  {
   "cell_type": "code",
   "execution_count": 112,
   "id": "584f6a94-4b59-425d-bb15-9e6b2f03c1bb",
   "metadata": {},
   "outputs": [
    {
     "data": {
      "text/plain": [
       "array([[27, 15, 32, 21, 39, 12, 32, 12, 43, 31],\n",
       "       [24, 27, 30, 26, 38, 25, 39, 26, 26, 37],\n",
       "       [31, 38, 28, 19, 28, 37, 10, 11, 19, 10],\n",
       "       [33, 31, 20, 12, 32, 34, 40, 26, 22, 37],\n",
       "       [25, 19, 40, 23, 13, 41, 38, 20, 21, 20],\n",
       "       [11, 15, 38, 23, 18, 12, 18, 19, 22, 22],\n",
       "       [41, 32, 28, 18, 13, 12, 24, 40, 18, 33],\n",
       "       [31, 43, 24, 19, 43, 25, 44, 37, 40, 24]], dtype=int32)"
      ]
     },
     "execution_count": 112,
     "metadata": {},
     "output_type": "execute_result"
    }
   ],
   "source": [
    "h"
   ]
  },
  {
   "cell_type": "code",
   "execution_count": 113,
   "id": "72b64fd5-53bf-48f5-b908-f318c741cbe0",
   "metadata": {},
   "outputs": [
    {
     "data": {
      "text/plain": [
       "array([[27, 15, 32, 21, 39, 12, 32, 12, 43, 31],\n",
       "       [31, 38, 28, 19, 28, 37, 10, 11, 19, 10],\n",
       "       [25, 19, 40, 23, 13, 41, 38, 20, 21, 20],\n",
       "       [41, 32, 28, 18, 13, 12, 24, 40, 18, 33]], dtype=int32)"
      ]
     },
     "execution_count": 113,
     "metadata": {},
     "output_type": "execute_result"
    }
   ],
   "source": [
    "h[0:7:2]"
   ]
  },
  {
   "cell_type": "code",
   "execution_count": null,
   "id": "bc3d3378-b117-49df-8f1b-5cc5008c2d54",
   "metadata": {},
   "outputs": [],
   "source": []
  }
 ],
 "metadata": {
  "kernelspec": {
   "display_name": "Python 3 (ipykernel)",
   "language": "python",
   "name": "python3"
  },
  "language_info": {
   "codemirror_mode": {
    "name": "ipython",
    "version": 3
   },
   "file_extension": ".py",
   "mimetype": "text/x-python",
   "name": "python",
   "nbconvert_exporter": "python",
   "pygments_lexer": "ipython3",
   "version": "3.13.5"
  }
 },
 "nbformat": 4,
 "nbformat_minor": 5
}
