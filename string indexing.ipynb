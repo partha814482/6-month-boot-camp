{
 "cells": [
  {
   "cell_type": "code",
   "execution_count": 6,
   "id": "7b2e2b01-335c-4f15-ba2b-6b9cba72a9c2",
   "metadata": {},
   "outputs": [
    {
     "name": "stdout",
     "output_type": "stream",
     "text": [
      "h\n",
      "o\n",
      "l\n",
      "l\n",
      "e\n"
     ]
    }
   ],
   "source": [
    "s = 'hello'\n",
    "print(s[0])\n",
    "print(s[-1])\n",
    "print(s[-2])\n",
    "print(s[2])\n",
    "print(s[1])"
   ]
  },
  {
   "cell_type": "code",
   "execution_count": 10,
   "id": "ea5fa8fc-9c66-4d06-b5c4-984397c735eb",
   "metadata": {},
   "outputs": [
    {
     "name": "stdout",
     "output_type": "stream",
     "text": [
      "hello\n",
      "h\n",
      "ello\n"
     ]
    }
   ],
   "source": [
    "print(s[:])\n",
    "print(s[:1])\n",
    "print(s[1:])"
   ]
  },
  {
   "cell_type": "code",
   "execution_count": 13,
   "id": "d4677df3-e136-448b-bcc6-d314f1dfc20d",
   "metadata": {},
   "outputs": [
    {
     "name": "stdout",
     "output_type": "stream",
     "text": [
      "h\n",
      "h\n",
      "l\n",
      "l\n",
      "o\n"
     ]
    }
   ],
   "source": [
    "print(s[0])\n",
    "print(s[0])\n",
    "print(s[2])\n",
    "print(s[3])\n",
    "print(s[4])"
   ]
  },
  {
   "cell_type": "code",
   "execution_count": 15,
   "id": "c31802a8-db7a-4872-9add-044155a2c9b2",
   "metadata": {},
   "outputs": [
    {
     "name": "stdout",
     "output_type": "stream",
     "text": [
      "h\n",
      "e\n",
      "l\n",
      "l\n",
      "o\n"
     ]
    }
   ],
   "source": [
    "for i in s:\n",
    "    print(i)"
   ]
  },
  {
   "cell_type": "code",
   "execution_count": 20,
   "id": "8d433ca7-16e6-451d-a47b-b2b18047c426",
   "metadata": {},
   "outputs": [
    {
     "name": "stdout",
     "output_type": "stream",
     "text": [
      "the sum of s and s1 is hellonaresh it\n",
      "the length of s3 is 14\n"
     ]
    }
   ],
   "source": [
    "s1 = 'naresh it'\n",
    "s3 = s + s1\n",
    "print(f'the sum of s and s1 is {s3}')\n",
    "print(f'the length of s3 is {len(s3)}')"
   ]
  },
  {
   "cell_type": "code",
   "execution_count": 23,
   "id": "d5d8725f-3efe-48a8-88dc-7a8a87136819",
   "metadata": {},
   "outputs": [
    {
     "name": "stdout",
     "output_type": "stream",
     "text": [
      "['g', 'y']\n"
     ]
    }
   ],
   "source": [
    "s2 = ['r','g','y']\n",
    "print(s2[1:3])"
   ]
  },
  {
   "cell_type": "markdown",
   "id": "cd015292-9af7-4020-8bc3-c8cd1ba23803",
   "metadata": {},
   "source": [
    "DATASTURCTURE"
   ]
  },
  {
   "cell_type": "code",
   "execution_count": 28,
   "id": "7c8a486e-fbe2-46a0-9c5a-2daa0f2c58f1",
   "metadata": {},
   "outputs": [
    {
     "name": "stdout",
     "output_type": "stream",
     "text": [
      "[]\n",
      "The type of l is <class 'list'>\n",
      "The memory location of l is 2006636536256\n"
     ]
    }
   ],
   "source": [
    "l = []\n",
    "print(l)\n",
    "print(f'The type of l is {type(l)}')\n",
    "print(f'The memory location of l is {id(l)}')"
   ]
  },
  {
   "cell_type": "code",
   "execution_count": 34,
   "id": "db038fe1-ebff-48eb-8ffb-31b10f3f9936",
   "metadata": {},
   "outputs": [
    {
     "name": "stdout",
     "output_type": "stream",
     "text": [
      "The list m is [23, 34, 45, 67]\n",
      "when we append 70 in m the list is [23, 34, 45, 67, 70]\n",
      "the length of m is 5\n"
     ]
    }
   ],
   "source": [
    "m = [23,34,45,67]\n",
    "print(f'The list m is {m}')\n",
    "m.append(70)\n",
    "print(f'when we append 70 in m the list is {m}')\n",
    "print(f'the length of m is {len(m)}')"
   ]
  },
  {
   "cell_type": "code",
   "execution_count": 39,
   "id": "1b46cbae-82dd-4a7b-a527-87090bdc388e",
   "metadata": {},
   "outputs": [
    {
     "data": {
      "text/plain": [
       "[]"
      ]
     },
     "execution_count": 39,
     "metadata": {},
     "output_type": "execute_result"
    }
   ],
   "source": [
    "\n",
    "l1 = l.copy() \n",
    "l1"
   ]
  },
  {
   "cell_type": "code",
   "execution_count": 45,
   "id": "0244adc7-9228-4694-ab2e-febdb1d21a4b",
   "metadata": {},
   "outputs": [
    {
     "name": "stdout",
     "output_type": "stream",
     "text": [
      "the length of l is 0\n",
      "the length of l is 0\n"
     ]
    }
   ],
   "source": [
    "#l1 ==l\n",
    "print(f'the length of l is {len(l)}')\n",
    "\n",
    "print(f'the length of l is {len(l1)}')"
   ]
  },
  {
   "cell_type": "code",
   "execution_count": 46,
   "id": "e7cd25d1-ff90-4b10-8013-0a2a9113858a",
   "metadata": {},
   "outputs": [
    {
     "name": "stdout",
     "output_type": "stream",
     "text": [
      "[]\n"
     ]
    }
   ],
   "source": [
    "print(l)"
   ]
  },
  {
   "cell_type": "code",
   "execution_count": 2,
   "id": "7b81eb0b-5860-4cd2-810a-6ed86b5034a9",
   "metadata": {},
   "outputs": [
    {
     "name": "stdout",
     "output_type": "stream",
     "text": [
      "ert\n"
     ]
    }
   ],
   "source": [
    "print(\"ert\")"
   ]
  },
  {
   "cell_type": "code",
   "execution_count": 7,
   "id": "ea8b0b12-e18a-437a-8eea-68834b280892",
   "metadata": {},
   "outputs": [
    {
     "name": "stdout",
     "output_type": "stream",
     "text": [
      "[23, 34, 56, 50]\n",
      "1344741183616\n",
      "4\n",
      "[23, 34, 56, 50]\n",
      "1344742715392\n",
      "[]\n",
      "1344741183616\n"
     ]
    }
   ],
   "source": [
    "p = [23,34,56]\n",
    "p.append(50)\n",
    "print(p)\n",
    "print(id(p))\n",
    "print(len(p))\n",
    "p1 = p.copy()\n",
    "print(p1)\n",
    "print(id(p1))\n",
    "p.clear()\n",
    "print(p)\n",
    "print(id(p))\n"
   ]
  },
  {
   "cell_type": "code",
   "execution_count": 9,
   "id": "1d32df90-6dc9-40a9-b15e-fe708c61577c",
   "metadata": {},
   "outputs": [
    {
     "name": "stdout",
     "output_type": "stream",
     "text": [
      "[22, 2.4, 'nit', (2+4j), True, 22, 2.4, 'nit', (2+4j), True]\n"
     ]
    }
   ],
   "source": [
    "p.append(22)\n",
    "p.append(2.4)\n",
    "p.append('nit')\n",
    "p.append(2+4j)\n",
    "p.append(True)\n",
    "print(p)"
   ]
  },
  {
   "cell_type": "markdown",
   "id": "909ec944-564e-4555-a77e-cf73b6a75c8a",
   "metadata": {},
   "source": [
    "BOOL\n"
   ]
  },
  {
   "cell_type": "code",
   "execution_count": 11,
   "id": "941105c0-4475-4726-ab7f-006fbab549a7",
   "metadata": {},
   "outputs": [
    {
     "name": "stdout",
     "output_type": "stream",
     "text": [
      "the data type of bool1 is = <class 'bool'>\n",
      "the data type of bool2 is = <class 'bool'>\n"
     ]
    }
   ],
   "source": [
    "bool1 = True\n",
    "bool2 = False\n",
    "print(f'the data type of bool1 is = {type(bool1)}')\n",
    "print(f'the data type of bool2 is = {type(bool2)}')"
   ]
  },
  {
   "cell_type": "code",
   "execution_count": 31,
   "id": "fb6f0cc5-96b5-48b5-8284-960d11cf2206",
   "metadata": {},
   "outputs": [
    {
     "name": "stdout",
     "output_type": "stream",
     "text": [
      "the list q is = [4, 5, 6]\n"
     ]
    }
   ],
   "source": [
    "q = [4,5,6]\n",
    "#q.extend(7)\n",
    "print(f'the list q is = {q}')"
   ]
  },
  {
   "cell_type": "code",
   "execution_count": 33,
   "id": "9ecea422-e012-493b-8a15-e1effb6609da",
   "metadata": {},
   "outputs": [
    {
     "name": "stdout",
     "output_type": "stream",
     "text": [
      "[4, 200, 200, 56, 5, 6]\n",
      "[4, 200, 56, 200, 56, 5, 6]\n"
     ]
    }
   ],
   "source": [
    "q.insert(1,200)\n",
    "print(q)\n",
    "q.insert(2,56)\n",
    "print(q)"
   ]
  },
  {
   "cell_type": "code",
   "execution_count": 34,
   "id": "6064591f-604b-4b5f-9e73-016a0398fce6",
   "metadata": {},
   "outputs": [
    {
     "data": {
      "text/plain": [
       "1"
      ]
     },
     "execution_count": 34,
     "metadata": {},
     "output_type": "execute_result"
    }
   ],
   "source": [
    "q.index(200)"
   ]
  },
  {
   "cell_type": "code",
   "execution_count": 35,
   "id": "10343174-ae68-43d1-ad8a-8424daaecdb8",
   "metadata": {},
   "outputs": [
    {
     "ename": "ValueError",
     "evalue": "'7' is not in list",
     "output_type": "error",
     "traceback": [
      "\u001b[1;31m---------------------------------------------------------------------------\u001b[0m",
      "\u001b[1;31mValueError\u001b[0m                                Traceback (most recent call last)",
      "Cell \u001b[1;32mIn[35], line 1\u001b[0m\n\u001b[1;32m----> 1\u001b[0m q\u001b[38;5;241m.\u001b[39mindex(\u001b[38;5;124m'\u001b[39m\u001b[38;5;124m7\u001b[39m\u001b[38;5;124m'\u001b[39m)\n",
      "\u001b[1;31mValueError\u001b[0m: '7' is not in list"
     ]
    }
   ],
   "source": [
    "q.index('7')"
   ]
  },
  {
   "cell_type": "code",
   "execution_count": 36,
   "id": "dfa26680-b00d-488a-93d7-cfec8d8e03fb",
   "metadata": {},
   "outputs": [
    {
     "data": {
      "text/plain": [
       "2"
      ]
     },
     "execution_count": 36,
     "metadata": {},
     "output_type": "execute_result"
    }
   ],
   "source": [
    "q.count(200)"
   ]
  },
  {
   "cell_type": "code",
   "execution_count": 37,
   "id": "f96202f5-eeaf-4c76-9569-4a101251bcff",
   "metadata": {},
   "outputs": [
    {
     "data": {
      "text/plain": [
       "1"
      ]
     },
     "execution_count": 37,
     "metadata": {},
     "output_type": "execute_result"
    }
   ],
   "source": [
    "q.count(5)"
   ]
  },
  {
   "cell_type": "code",
   "execution_count": 38,
   "id": "2ede3926-754f-4af8-af71-5fbe26283722",
   "metadata": {},
   "outputs": [],
   "source": [
    "q.sort()"
   ]
  },
  {
   "cell_type": "code",
   "execution_count": 40,
   "id": "3a83caba-fc31-4795-b133-1a6c20054ad8",
   "metadata": {},
   "outputs": [
    {
     "name": "stdout",
     "output_type": "stream",
     "text": [
      "[4, 5, 6, 56, 56, 200, 200]\n"
     ]
    }
   ],
   "source": [
    "print(q)"
   ]
  },
  {
   "cell_type": "code",
   "execution_count": 42,
   "id": "ba451516-a56e-4871-a4bc-9b092d0a1088",
   "metadata": {},
   "outputs": [
    {
     "data": {
      "text/plain": [
       "[4, 5, 6, 56, 56, 200, 200]"
      ]
     },
     "execution_count": 42,
     "metadata": {},
     "output_type": "execute_result"
    }
   ],
   "source": [
    "sorted(q)"
   ]
  },
  {
   "cell_type": "code",
   "execution_count": 44,
   "id": "86c32800-160d-4082-92c8-4918f73700ec",
   "metadata": {},
   "outputs": [
    {
     "name": "stdout",
     "output_type": "stream",
     "text": [
      "[4, 5, 6, 56, 56, 200, 200]\n"
     ]
    }
   ],
   "source": [
    "print(q)"
   ]
  },
  {
   "cell_type": "code",
   "execution_count": 51,
   "id": "5ad9ca21-56e3-4c3b-a3df-f13d5c9c974b",
   "metadata": {},
   "outputs": [
    {
     "name": "stdout",
     "output_type": "stream",
     "text": [
      "the new1 is [100, 3, 33, 67, 1, 2.4, 78]\n",
      "the value of new1.sort is = [1, 2.4, 3, 33, 67, 78, 100]\n"
     ]
    }
   ],
   "source": [
    "new1 = [100,3,33,67,1,2.4,78]\n",
    "sorted(new1)\n",
    "print(f'the new1 is {new1}')\n",
    "new1.sort()\n",
    "print(f'the value of new1.sort is = {new1}')"
   ]
  },
  {
   "cell_type": "code",
   "execution_count": 53,
   "id": "fc5a9cef-715a-4000-94f9-e1870e4acb65",
   "metadata": {},
   "outputs": [
    {
     "name": "stdout",
     "output_type": "stream",
     "text": [
      "[1, 2.4, 3, 33, 67, 78, 100]\n"
     ]
    }
   ],
   "source": [
    "print(new1)\n"
   ]
  },
  {
   "cell_type": "markdown",
   "id": "6cf77a58-55a2-4302-8b9e-8668ac1e5d2d",
   "metadata": {},
   "source": [
    "LIST CONCADINATION"
   ]
  },
  {
   "cell_type": "code",
   "execution_count": 56,
   "id": "8909aa23-4c6e-4746-b340-71a699506c01",
   "metadata": {},
   "outputs": [
    {
     "name": "stdout",
     "output_type": "stream",
     "text": [
      "[23, 45, 56, 'partha', 'gudu', 'golden']\n",
      "[23, 45, 56]\n",
      "['partha', 'gudu', 'golden']\n"
     ]
    }
   ],
   "source": [
    "list1 = [23,45,56]\n",
    "list2 = ['partha','gudu','golden']\n",
    "sum = list1 + list2\n",
    "print(sum)\n",
    "print(list1)\n",
    "print(list2)"
   ]
  },
  {
   "cell_type": "code",
   "execution_count": 62,
   "id": "dcb3148a-7f43-48c3-b527-e5c4b4c16ef1",
   "metadata": {},
   "outputs": [
    {
     "ename": "SyntaxError",
     "evalue": "invalid syntax (3001933021.py, line 2)",
     "output_type": "error",
     "traceback": [
      "\u001b[1;36m  Cell \u001b[1;32mIn[62], line 2\u001b[1;36m\u001b[0m\n\u001b[1;33m    if 23 in the list:\u001b[0m\n\u001b[1;37m                 ^\u001b[0m\n\u001b[1;31mSyntaxError\u001b[0m\u001b[1;31m:\u001b[0m invalid syntax\n"
     ]
    }
   ],
   "source": [
    "\n",
    "list = [23,45,78]\n",
    "if 23 in the list:\n",
    "print(yes)\n"
   ]
  },
  {
   "cell_type": "code",
   "execution_count": 68,
   "id": "279ff161-1855-406e-9973-79201afffcce",
   "metadata": {},
   "outputs": [
    {
     "data": {
      "text/plain": [
       "['suman-parhi-ghadia-omm']"
      ]
     },
     "execution_count": 68,
     "metadata": {},
     "output_type": "execute_result"
    }
   ],
   "source": [
    "s  = \"suman-parhi-ghadia-omm\"\n",
    "s.split(\"_\")\n"
   ]
  },
  {
   "cell_type": "code",
   "execution_count": 71,
   "id": "62b46941-70f4-431d-a54e-dc5cecf8464b",
   "metadata": {},
   "outputs": [
    {
     "data": {
      "text/plain": [
       "['2+3j', 'rng', '345', '']"
      ]
     },
     "execution_count": 71,
     "metadata": {},
     "output_type": "execute_result"
    }
   ],
   "source": [
    "r = '2+3j_rng_345_'\n",
    "r.split(\"_\")\n"
   ]
  },
  {
   "cell_type": "code",
   "execution_count": 2,
   "id": "d80e4111-e83f-4b6d-9612-751fb76984ac",
   "metadata": {},
   "outputs": [
    {
     "name": "stdout",
     "output_type": "stream",
     "text": [
      "<class 'bool'>\n",
      "<class 'bool'>\n"
     ]
    }
   ],
   "source": [
    "bool1 = True\n",
    "bool2 = False\n",
    "print(type(bool1))\n",
    "print(type(bool2))"
   ]
  },
  {
   "cell_type": "code",
   "execution_count": 4,
   "id": "c90a244e-65d8-4220-ac54-43abef5c2c1a",
   "metadata": {},
   "outputs": [
    {
     "data": {
      "text/plain": [
       "True"
      ]
     },
     "execution_count": 4,
     "metadata": {},
     "output_type": "execute_result"
    }
   ],
   "source": [
    "isinstance(bool1,bool)"
   ]
  },
  {
   "cell_type": "code",
   "execution_count": 7,
   "id": "ba2207e1-1e2b-4f39-ae58-d0949e418006",
   "metadata": {},
   "outputs": [
    {
     "data": {
      "text/plain": [
       "False"
      ]
     },
     "execution_count": 7,
     "metadata": {},
     "output_type": "execute_result"
    }
   ],
   "source": [
    "bool(34)\n",
    "bool()"
   ]
  },
  {
   "cell_type": "code",
   "execution_count": 13,
   "id": "38e345ab-4abe-4099-a3cd-4ef477b1685f",
   "metadata": {},
   "outputs": [
    {
     "data": {
      "text/plain": [
       "False"
      ]
     },
     "execution_count": 13,
     "metadata": {},
     "output_type": "execute_result"
    }
   ],
   "source": [
    "bool(0)"
   ]
  },
  {
   "cell_type": "code",
   "execution_count": 14,
   "id": "be938cd2-ff48-4a79-867f-6e36dd349029",
   "metadata": {},
   "outputs": [
    {
     "name": "stdout",
     "output_type": "stream",
     "text": [
      "0\n",
      "140716969603976\n"
     ]
    }
   ],
   "source": [
    "b = 0\n",
    "print(b)\n",
    "print(id(b))"
   ]
  },
  {
   "cell_type": "code",
   "execution_count": 24,
   "id": "ca66102d-492c-4702-964f-00279df74b3d",
   "metadata": {},
   "outputs": [
    {
     "data": {
      "text/plain": [
       "True"
      ]
     },
     "execution_count": 24,
     "metadata": {},
     "output_type": "execute_result"
    }
   ],
   "source": [
    "bool('False')"
   ]
  },
  {
   "cell_type": "code",
   "execution_count": 25,
   "id": "074c5092-8679-43be-9c39-07784d45f19f",
   "metadata": {},
   "outputs": [
    {
     "data": {
      "text/plain": [
       "True"
      ]
     },
     "execution_count": 25,
     "metadata": {},
     "output_type": "execute_result"
    }
   ],
   "source": [
    "bool('partha')"
   ]
  },
  {
   "cell_type": "code",
   "execution_count": 27,
   "id": "2b5aff1a-51ee-4532-a201-43cd662b52e5",
   "metadata": {},
   "outputs": [
    {
     "data": {
      "text/plain": [
       "True"
      ]
     },
     "execution_count": 27,
     "metadata": {},
     "output_type": "execute_result"
    }
   ],
   "source": [
    "bool(True)"
   ]
  },
  {
   "cell_type": "code",
   "execution_count": 39,
   "id": "205fbaab-1d40-4ffb-9de4-e7e0e8ce9700",
   "metadata": {},
   "outputs": [
    {
     "name": "stdout",
     "output_type": "stream",
     "text": [
      "h\n",
      "n\n",
      "p\n",
      " \n",
      "12\n"
     ]
    }
   ],
   "source": [
    "str1 = 'hello python'\n",
    "print(str1[0])\n",
    "print(str1[-1])\n",
    "print(str1[6])\n",
    "print(str1[5])\n",
    "print(len(str1))"
   ]
  },
  {
   "cell_type": "markdown",
   "id": "e997ea09-28f9-4cd1-8469-a38a0696d60b",
   "metadata": {},
   "source": [
    "STRING SLICING"
   ]
  },
  {
   "cell_type": "code",
   "execution_count": 40,
   "id": "5798ce1b-d156-40ab-9c39-662260a236d4",
   "metadata": {},
   "outputs": [
    {
     "name": "stdout",
     "output_type": "stream",
     "text": [
      "hell\n",
      " python\n",
      "y\n",
      "\n"
     ]
    }
   ],
   "source": [
    "print(str1[0:4])\n",
    "print(str1[5:15])\n",
    "print(str1[-5])\n",
    "print(str1[-2:-5])"
   ]
  },
  {
   "cell_type": "code",
   "execution_count": 43,
   "id": "1820af58-2ae7-430a-b448-ca8cee365fac",
   "metadata": {},
   "outputs": [
    {
     "name": "stdout",
     "output_type": "stream",
     "text": [
      "\n"
     ]
    }
   ],
   "source": [
    "print(str1[-1:-2])"
   ]
  },
  {
   "cell_type": "code",
   "execution_count": null,
   "id": "3ca9e800-b495-48d5-aadc-2f78e7c4bdbd",
   "metadata": {},
   "outputs": [],
   "source": []
  }
 ],
 "metadata": {
  "kernelspec": {
   "display_name": "Python 3 (ipykernel)",
   "language": "python",
   "name": "python3"
  },
  "language_info": {
   "codemirror_mode": {
    "name": "ipython",
    "version": 3
   },
   "file_extension": ".py",
   "mimetype": "text/x-python",
   "name": "python",
   "nbconvert_exporter": "python",
   "pygments_lexer": "ipython3",
   "version": "3.13.5"
  }
 },
 "nbformat": 4,
 "nbformat_minor": 5
}
