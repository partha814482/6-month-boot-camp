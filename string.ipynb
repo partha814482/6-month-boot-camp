{
 "cells": [
  {
   "cell_type": "code",
   "execution_count": 1,
   "id": "78526059-d9af-458b-9878-735d2a9a1f15",
   "metadata": {},
   "outputs": [],
   "source": [
    "# single line comment"
   ]
  },
  {
   "cell_type": "code",
   "execution_count": 9,
   "id": "6f6a09d9-a4c2-40e7-b7d1-174db383d9fa",
   "metadata": {},
   "outputs": [
    {
     "name": "stdout",
     "output_type": "stream",
     "text": [
      "p\n",
      "1\n"
     ]
    },
    {
     "data": {
      "text/plain": [
       "'P'"
      ]
     },
     "execution_count": 9,
     "metadata": {},
     "output_type": "execute_result"
    }
   ],
   "source": [
    "letter = \"p\"\n",
    "print(letter)\n",
    "print(len(letter))\n",
    "letter.upper()\n",
    "\n"
   ]
  },
  {
   "cell_type": "raw",
   "id": "ea0f5377-6634-4dd6-972d-e81ac73c31fb",
   "metadata": {},
   "source": []
  },
  {
   "cell_type": "code",
   "execution_count": 11,
   "id": "04e19a68-6220-4e3f-8804-8de1b50c562f",
   "metadata": {},
   "outputs": [
    {
     "name": "stdout",
     "output_type": "stream",
     "text": [
      "hey alexa\n",
      "9\n"
     ]
    },
    {
     "data": {
      "text/plain": [
       "'HEY ALEXA'"
      ]
     },
     "execution_count": 11,
     "metadata": {},
     "output_type": "execute_result"
    }
   ],
   "source": [
    "greeting = 'hey alexa'\n",
    "print(greeting)\n",
    "print(len(greeting))\n",
    "greeting.upper()"
   ]
  },
  {
   "cell_type": "code",
   "execution_count": 16,
   "id": "98478626-add6-4a78-b940-72b56eb58a53",
   "metadata": {},
   "outputs": [
    {
     "name": "stdout",
     "output_type": "stream",
     "text": [
      "I hope you are enjoying 30 days of python\n",
      "41\n"
     ]
    },
    {
     "data": {
      "text/plain": [
       "'I HOPE YOU ARE ENJOYING 30 DAYS OF PYTHON'"
      ]
     },
     "execution_count": 16,
     "metadata": {},
     "output_type": "execute_result"
    }
   ],
   "source": [
    "sentence = \"I hope you are enjoying 30 days of python\"\n",
    "print(sentence)\n",
    "print(len(sentence))\n",
    "sentence.upper()"
   ]
  },
  {
   "cell_type": "code",
   "execution_count": 28,
   "id": "3d014092-f9fe-4a89-9df2-0a1cbd80c598",
   "metadata": {},
   "outputs": [
    {
     "name": "stdout",
     "output_type": "stream",
     "text": [
      "I am a teacher and enjoy teaching.\n",
      "I didn't find anything as rewarding as empowering people.\n",
      "That is why I created 30 days of python.\n"
     ]
    }
   ],
   "source": [
    "multiline_string = '''I am a teacher and enjoy teaching.\n",
    "I didn't find anything as rewarding as empowering people.\n",
    "That is why I created 30 days of python.'''\n",
    "print(multiline_string)"
   ]
  },
  {
   "cell_type": "code",
   "execution_count": 29,
   "id": "c0847cc6-b644-4f43-b4cf-2158b64f69a1",
   "metadata": {},
   "outputs": [],
   "source": [
    "#string concadination"
   ]
  },
  {
   "cell_type": "code",
   "execution_count": 41,
   "id": "ed27012e-f8d1-4f4a-95cc-1b2da883409e",
   "metadata": {},
   "outputs": [
    {
     "name": "stdout",
     "output_type": "stream",
     "text": [
      "parthasarathi Behera\n",
      "20\n",
      "13\n",
      "6\n",
      "True\n"
     ]
    }
   ],
   "source": [
    "first_name = \"parthasarathi\"\n",
    "last_name = \"Behera\"\n",
    "space = \" \"\n",
    "full_name = first_name+space+last_name\n",
    "print(full_name)\n",
    "print(len(full_name))\n",
    "print(len(first_name))\n",
    "print(len(last_name))\n",
    "print(len(first_name) > len(last_name))"
   ]
  },
  {
   "cell_type": "code",
   "execution_count": 42,
   "id": "03f05fd0-8d2c-4021-9618-7a4ab74e5a9f",
   "metadata": {},
   "outputs": [],
   "source": [
    "#unchaking cheracters"
   ]
  },
  {
   "cell_type": "code",
   "execution_count": 44,
   "id": "ddd0c7a0-3ace-4f23-a733-7fbda50aa4eb",
   "metadata": {},
   "outputs": [
    {
     "name": "stdout",
     "output_type": "stream",
     "text": [
      "p\n",
      "y\n",
      "t\n",
      "h\n",
      "o\n",
      "n\n"
     ]
    }
   ],
   "source": [
    "language = 'python'\n",
    "a,b,c,d,e,f = language\n",
    "print(a)\n",
    "print(b)\n",
    "print(c)\n",
    "print(d)\n",
    "print(e)\n",
    "print(f)"
   ]
  },
  {
   "cell_type": "code",
   "execution_count": 50,
   "id": "28fc7b99-2534-4af7-bae2-db42aa82884f",
   "metadata": {},
   "outputs": [
    {
     "name": "stdout",
     "output_type": "stream",
     "text": [
      "p\n",
      "a\n",
      "r\n",
      "t\n",
      "h\n"
     ]
    }
   ],
   "source": [
    "name = 'partha'\n",
    "a,b,c,d,e =name[0],name[1],name[2],name[3],name[4]\n",
    "print(a)\n",
    "print(b)\n",
    "print(c)\n",
    "print(d)\n",
    "print(e)\n",
    "\n"
   ]
  },
  {
   "cell_type": "code",
   "execution_count": 53,
   "id": "fe2dd906-f986-47c2-b9db-2745da528e6f",
   "metadata": {},
   "outputs": [
    {
     "name": "stdout",
     "output_type": "stream",
     "text": [
      "j\n",
      "a\n",
      "v\n"
     ]
    }
   ],
   "source": [
    "language = 'java'\n",
    "v,x,y,z = language\n",
    "print(v)\n",
    "print(x)\n",
    "print(y)"
   ]
  },
  {
   "cell_type": "code",
   "execution_count": 64,
   "id": "35a2b473-7138-4973-87da-870dc7bf8b4b",
   "metadata": {},
   "outputs": [
    {
     "name": "stdout",
     "output_type": "stream",
     "text": [
      "j\n",
      "a\n",
      "v\n",
      "3\n",
      "v\n"
     ]
    }
   ],
   "source": [
    "first_letter = language[0]\n",
    "print(first_letter)\n",
    "print(language[1])\n",
    "print(language[2])\n",
    "last_index = language[-1]\n",
    "last_letter = len(language)-1\n",
    "print(last_letter)\n",
    "secandlast_letter = language[-2]\n",
    "print(secandlast_letter)"
   ]
  },
  {
   "cell_type": "code",
   "execution_count": 77,
   "id": "0e942a88-7e2a-4021-9408-24c62e2c8e9e",
   "metadata": {},
   "outputs": [
    {
     "name": "stdout",
     "output_type": "stream",
     "text": [
      "first_threeleter: pyt\n",
      "last_three_leter: hon\n"
     ]
    }
   ],
   "source": [
    "language = 'python'\n",
    "first_threeleter = language[0:3]\n",
    "print('first_threeleter:',first_three_leter)\n",
    "last_three_leter = language[3:6]\n",
    "print('last_three_leter:',last_three_leter)"
   ]
  },
  {
   "cell_type": "code",
   "execution_count": 85,
   "id": "6fad3b41-5314-4ff0-8074-6b3bfbc201d3",
   "metadata": {},
   "outputs": [
    {
     "name": "stdout",
     "output_type": "stream",
     "text": [
      "p\n",
      "t\n",
      "o\n",
      "pto\n"
     ]
    }
   ],
   "source": [
    "language = 'python'\n",
    "print(language[0])\n",
    "print(language[2])\n",
    "print(language[4])\n",
    "print(language[0:6:2])"
   ]
  },
  {
   "cell_type": "code",
   "execution_count": 86,
   "id": "524dc22c-d74d-4cd0-bbc4-b703b8664d7e",
   "metadata": {},
   "outputs": [
    {
     "name": "stdout",
     "output_type": "stream",
     "text": [
      "p\n"
     ]
    }
   ],
   "source": [
    "print(language[0:2:4])"
   ]
  },
  {
   "cell_type": "code",
   "execution_count": 87,
   "id": "17fef98d-555c-4806-a5d4-65a3758d9aa1",
   "metadata": {},
   "outputs": [],
   "source": [
    "#f.string"
   ]
  },
  {
   "cell_type": "code",
   "execution_count": 89,
   "id": "a21905c4-9c52-4db3-98e9-6b69709db3b2",
   "metadata": {},
   "outputs": [
    {
     "name": "stdout",
     "output_type": "stream",
     "text": [
      "i am partha sarathi.i am a lerner.i live inindia\n"
     ]
    }
   ],
   "source": [
    "first_name = 'partha'\n",
    "last_name = 'sarathi'\n",
    "job = 'lerner'\n",
    "country = 'india'\n",
    "sentence = 'i am {} {}.i am a {}.i live in{}'.format(first_name, last_name , job , country)\n",
    "print(sentence)"
   ]
  },
  {
   "cell_type": "code",
   "execution_count": 7,
   "id": "6b992882-09f7-4f8a-b093-e1492edbe7b5",
   "metadata": {},
   "outputs": [
    {
     "name": "stdout",
     "output_type": "stream",
     "text": [
      " the sum of 34 and 45 is = 79\n",
      "the multiplication of 34 and45 is=1530\n"
     ]
    }
   ],
   "source": [
    "first_number = 34\n",
    "secand_number = 45\n",
    "sum= first_number+secand_number\n",
    "sum =' the sum of {} and {} is = {}'.format(first_number,secand_number, sum)\n",
    "print(sum)\n",
    "multiplication = first_number*secand_number\n",
    "multiplication = 'the multiplication of {} and{} is={}'.format(first_number,secand_number,multiplication)\n",
    "print(multiplication)\n"
   ]
  },
  {
   "cell_type": "code",
   "execution_count": 9,
   "id": "fbafcb42-7d2d-49f4-9cdb-1616e5fa2805",
   "metadata": {},
   "outputs": [
    {
     "name": "stdout",
     "output_type": "stream",
     "text": [
      "the area of the circle is  125.64\n"
     ]
    }
   ],
   "source": [
    "radious = 20\n",
    "pi = 3.141\n",
    "area = 2*3.141*20\n",
    "print('the area of the circle is ',area)"
   ]
  },
  {
   "cell_type": "code",
   "execution_count": 2,
   "id": "160dfa03-7bd9-42ad-a44e-b0aa8d7e5273",
   "metadata": {},
   "outputs": [
    {
     "name": "stdout",
     "output_type": "stream",
     "text": [
      "5.0\n",
      "7.0\n"
     ]
    }
   ],
   "source": [
    "z = 5 +7j\n",
    "print(z.real)\n",
    "print(z.imag)"
   ]
  },
  {
   "cell_type": "code",
   "execution_count": 13,
   "id": "339b8e7b-619c-41c9-998a-d908a99d8988",
   "metadata": {},
   "outputs": [
    {
     "name": "stdout",
     "output_type": "stream",
     "text": [
      "the sum of (8+9j) and (12+11j) is=(20+20j)\n",
      "the substraction of (12+11j) and (8+9j) is = (4+2j)\n",
      "the multiplication of (8+9j) and (12+11j) is = (-3+196j)\n",
      "the devision of (8+9j) and (12+11j) is = (1.3448275862068964-0.13793103448275867j)\n"
     ]
    }
   ],
   "source": [
    "p = 8+9j\n",
    "q = 12+11j\n",
    "sum = p+q\n",
    "substraction = q-p\n",
    "multiplication = p *q\n",
    "devision = q/p\n",
    "print('the sum of {} and {} is={}'.format(p,q,sum))\n",
    "print('the substraction of {} and {} is = {}'.format(q,p,substraction))\n",
    "print('the multiplication of {} and {} is = {}'.format(p,q,multiplication))\n",
    "print('the devision of {} and {} is = {}'.format(p,q,devision))"
   ]
  },
  {
   "cell_type": "code",
   "execution_count": 1,
   "id": "31356646-8ded-4eaf-8c61-34c57aebe336",
   "metadata": {},
   "outputs": [],
   "source": [
    "# unpaking cheracter"
   ]
  },
  {
   "cell_type": "code",
   "execution_count": 3,
   "id": "174543ec-6e6a-4d5f-a589-1b685be9828f",
   "metadata": {},
   "outputs": [
    {
     "name": "stdout",
     "output_type": "stream",
     "text": [
      "j\n",
      "a\n",
      "v\n",
      "a\n"
     ]
    }
   ],
   "source": [
    "language = 'java'\n",
    "a,b,c,d = language\n",
    "print(a)\n",
    "print(b)\n",
    "print(c)\n",
    "print(d)"
   ]
  },
  {
   "cell_type": "code",
   "execution_count": 6,
   "id": "a8ab4750-8537-4d2c-a3d6-19c18ccd8a45",
   "metadata": {},
   "outputs": [
    {
     "name": "stdout",
     "output_type": "stream",
     "text": [
      "p\n",
      "a\n",
      "r\n",
      "t\n",
      "h\n",
      "a\n"
     ]
    }
   ],
   "source": [
    "name = 'partha'\n",
    "e,f,g,h,i,j = name\n",
    "print(e)\n",
    "print(f)\n",
    "print(g)\n",
    "print(h)\n",
    "print(i)\n",
    "print(j)\n"
   ]
  },
  {
   "cell_type": "code",
   "execution_count": 8,
   "id": "3114616c-0e4d-498a-9d2c-caceff321929",
   "metadata": {},
   "outputs": [
    {
     "name": "stdout",
     "output_type": "stream",
     "text": [
      "20 54.8 True very good\n"
     ]
    }
   ],
   "source": [
    "print(20,54.8,True,'very good')"
   ]
  },
  {
   "cell_type": "code",
   "execution_count": 10,
   "id": "d6e37bc6-4e11-4be6-88ad-156916a7e20b",
   "metadata": {},
   "outputs": [
    {
     "name": "stdout",
     "output_type": "stream",
     "text": [
      "The sum of num1 and num2 is : 79\n"
     ]
    }
   ],
   "source": [
    "num1 = 34\n",
    "num2 = 45\n",
    "sum = num1+num2\n",
    "print('The sum of num1 and num2 is :',sum)"
   ]
  },
  {
   "cell_type": "code",
   "execution_count": 16,
   "id": "918ccdbb-0419-4353-aba9-3c200a4f2fa7",
   "metadata": {},
   "outputs": [
    {
     "name": "stdout",
     "output_type": "stream",
     "text": [
      "my name is partha and 23 years old from  hydrabad\n"
     ]
    }
   ],
   "source": [
    "name = 'partha'\n",
    "age = 23\n",
    "city = 'hydrabad'\n",
    "print('my name is',name,'and',age ,'years old from ',city)"
   ]
  },
  {
   "cell_type": "code",
   "execution_count": 22,
   "id": "52f1dcf2-9ecf-4245-8872-a449cf6ae545",
   "metadata": {},
   "outputs": [
    {
     "name": "stdout",
     "output_type": "stream",
     "text": [
      "the sum of 50 and 20 is = 70 \n",
      "the substraction of 50 and 20 is = 30 \n",
      "the multiplication of 50 and 20 is = 1000\n"
     ]
    }
   ],
   "source": [
    "first_number = 50\n",
    "secand_number = 20\n",
    "add = first_number+secand_number\n",
    "substraction = first_number - secand_number\n",
    "multiplication = first_number*secand_number\n",
    "print('the sum of {} and {} is = {} '.format(first_number,secand_number,add))\n",
    "print('the substraction of {} and {} is = {} '.format(first_number,secand_number,substraction))\n",
    "print('the multiplication of {} and {} is = {}'.format(first_number,secand_number,multiplication))"
   ]
  },
  {
   "cell_type": "code",
   "execution_count": 33,
   "id": "294e49b7-262c-4ae8-b90e-294173c1cc38",
   "metadata": {},
   "outputs": [
    {
     "name": "stdout",
     "output_type": "stream",
     "text": [
      "my name is partha and i am from odisha\n",
      "my name is partha and i am from odisha\n"
     ]
    }
   ],
   "source": [
    "name = 'partha'\n",
    "city = 'odisha'\n",
    "print('my name is {} and i am from {}'.format(name,city))\n",
    "print(f'my name is {name} and i am from {city}')"
   ]
  },
  {
   "cell_type": "code",
   "execution_count": 39,
   "id": "9bd0bf67-ba6f-464a-a84c-af79de729f9d",
   "metadata": {},
   "outputs": [
    {
     "name": "stdout",
     "output_type": "stream",
     "text": [
      "the average of the three number is 20.0\n",
      "the sum of 20 and 10 is 70\n",
      "the sub of 30 and10 is 20\n",
      "the average of three number is(20.0, 2)\n"
     ]
    }
   ],
   "source": [
    "num1 = 20\n",
    "num2 = 10\n",
    "num3 = 30\n",
    "average  =(num1+num2+num3)/3\n",
    "avg1 = round(num1+num2+num3)/3,2\n",
    "sub = num3-num2\n",
    "print('the average of the three number is {}'.format(average))\n",
    "print(f'the sum of {num1} and {num2} is {add}')\n",
    "print(f'the sub of {num3} and{num2} is {sub}')\n",
    "print(f'the average of three number is{avg1}')"
   ]
  },
  {
   "cell_type": "code",
   "execution_count": 42,
   "id": "6563dd51-fb41-420f-8794-ee9bde3cd740",
   "metadata": {},
   "outputs": [
    {
     "name": "stdout",
     "output_type": "stream",
     "text": [
      "hey goodmorning all of you\n"
     ]
    }
   ],
   "source": [
    "print('hey goodmorning',end = ' ')\n",
    "print('all of you')"
   ]
  },
  {
   "cell_type": "code",
   "execution_count": 44,
   "id": "bf8ec7ac-73c8-4f80-a653-028e87236978",
   "metadata": {},
   "outputs": [
    {
     "name": "stdout",
     "output_type": "stream",
     "text": [
      "i am in lab  i am avalable in 7 pm\n"
     ]
    }
   ],
   "source": [
    "print(\"i am in lab\",end=\" \")\n",
    "print(\" i am avalable in 7 pm\")"
   ]
  },
  {
   "cell_type": "code",
   "execution_count": 47,
   "id": "0860e53e-5e5b-4a3a-9703-9aab9916a2e1",
   "metadata": {},
   "outputs": [
    {
     "name": "stdout",
     "output_type": "stream",
     "text": [
      "my---name---is---partha\n",
      "my-->name-->is-->partha\n",
      "my>>>name>>>is>>>partha\n"
     ]
    }
   ],
   "source": [
    "print('my','name','is','partha',sep='---')\n",
    "print('my','name','is','partha',sep='-->')\n",
    "print('my','name','is','partha',sep='>>>')"
   ]
  },
  {
   "cell_type": "code",
   "execution_count": 49,
   "id": "0df20477-027d-4725-ad1c-26d9ec111ac0",
   "metadata": {},
   "outputs": [
    {
     "name": "stdout",
     "output_type": "stream",
     "text": [
      "i&&am&&a&&good&&boy\n"
     ]
    }
   ],
   "source": [
    "print('i','am','a','good','boy',sep='&&')"
   ]
  },
  {
   "cell_type": "code",
   "execution_count": 53,
   "id": "0ef767a0-c503-4c16-b615-a619810137d8",
   "metadata": {},
   "outputs": [
    {
     "name": "stdout",
     "output_type": "stream",
     "text": [
      "3.5,6.6, 34-->>45\n"
     ]
    }
   ],
   "source": [
    "print('3.5,6.6,',end=' ')\n",
    "print('34','45',sep='-->>')"
   ]
  },
  {
   "cell_type": "code",
   "execution_count": 60,
   "id": "32d7bcae-e1f2-4b19-bbdd-1a9b85aac4fc",
   "metadata": {},
   "outputs": [
    {
     "name": "stdout",
     "output_type": "stream",
     "text": [
      "3.0\n",
      "5.0\n"
     ]
    }
   ],
   "source": [
    "i = 3+5j\n",
    "print(i.real)\n",
    "print(i.imag)"
   ]
  },
  {
   "cell_type": "code",
   "execution_count": 63,
   "id": "e21192c5-0c9b-419f-9277-3d03a6c79aa6",
   "metadata": {},
   "outputs": [
    {
     "name": "stdout",
     "output_type": "stream",
     "text": [
      "the multiplication of e and t is 1000\n",
      "the sum of e and t is (10+3j)\n"
     ]
    }
   ],
   "source": [
    "e = 5-4j\n",
    "t= 5+7j\n",
    "sum = e+t\n",
    "multipliation = e*t\n",
    "print(f'the multiplication of e and t is {multiplication}')\n",
    "print(f'the sum of e and t is {sum}')"
   ]
  },
  {
   "cell_type": "code",
   "execution_count": null,
   "id": "180d7da9-af30-4e10-9ad6-b0e394b04a46",
   "metadata": {},
   "outputs": [],
   "source": []
  }
 ],
 "metadata": {
  "kernelspec": {
   "display_name": "Python 3 (ipykernel)",
   "language": "python",
   "name": "python3"
  },
  "language_info": {
   "codemirror_mode": {
    "name": "ipython",
    "version": 3
   },
   "file_extension": ".py",
   "mimetype": "text/x-python",
   "name": "python",
   "nbconvert_exporter": "python",
   "pygments_lexer": "ipython3",
   "version": "3.13.5"
  }
 },
 "nbformat": 4,
 "nbformat_minor": 5
}
