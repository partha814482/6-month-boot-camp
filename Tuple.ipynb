{
 "cells": [
  {
   "cell_type": "code",
   "execution_count": 1,
   "id": "ce1d62df-4b3f-4250-b57b-4e75b258d6bc",
   "metadata": {},
   "outputs": [
    {
     "data": {
      "text/plain": [
       "()"
      ]
     },
     "execution_count": 1,
     "metadata": {},
     "output_type": "execute_result"
    }
   ],
   "source": [
    "t = ()\n",
    "t"
   ]
  },
  {
   "cell_type": "code",
   "execution_count": 2,
   "id": "45f8282d-d2eb-46a5-a423-e9b1f9d35413",
   "metadata": {},
   "outputs": [
    {
     "name": "stdout",
     "output_type": "stream",
     "text": [
      "<class 'tuple'>\n"
     ]
    }
   ],
   "source": [
    "print(type(t))"
   ]
  },
  {
   "cell_type": "code",
   "execution_count": 3,
   "id": "1dc3dfe3-afb5-4b37-b6b5-3622413f0f74",
   "metadata": {},
   "outputs": [
    {
     "name": "stdout",
     "output_type": "stream",
     "text": [
      "(10, 20, 30)\n",
      "the length of t is 3\n"
     ]
    }
   ],
   "source": [
    "t = (10,20,30)\n",
    "print(t)\n",
    "print(f'the length of t is {len(t)}')"
   ]
  },
  {
   "cell_type": "code",
   "execution_count": 4,
   "id": "cc873f8c-56e5-449d-a35c-f4bd105384cc",
   "metadata": {},
   "outputs": [
    {
     "name": "stdout",
     "output_type": "stream",
     "text": [
      "(10, 2.3, 'partha', (2+4j), True, 10)\n"
     ]
    }
   ],
   "source": [
    "t1 = (10,2.3,'partha',2+4j,True,10)\n",
    "print(t1)"
   ]
  },
  {
   "cell_type": "code",
   "execution_count": 5,
   "id": "f6471321-078a-4edb-a211-5c2ad93c4d8d",
   "metadata": {},
   "outputs": [
    {
     "name": "stdout",
     "output_type": "stream",
     "text": [
      "The tuple t is = (10, 20, 30)\n",
      "The tuple t1 is = (10, 2.3, 'partha', (2+4j), True, 10)\n"
     ]
    }
   ],
   "source": [
    "print(f'The tuple t is = {t}')\n",
    "print(f'The tuple t1 is = {t1}')"
   ]
  },
  {
   "cell_type": "code",
   "execution_count": 6,
   "id": "d40d7f7b-3769-4bd0-a48b-f38ce17a86f5",
   "metadata": {},
   "outputs": [
    {
     "data": {
      "text/plain": [
       "1"
      ]
     },
     "execution_count": 6,
     "metadata": {},
     "output_type": "execute_result"
    }
   ],
   "source": [
    "t.count(10)"
   ]
  },
  {
   "cell_type": "code",
   "execution_count": 7,
   "id": "f06059ab-94eb-42b9-b1ce-06a9a3f3e1c3",
   "metadata": {},
   "outputs": [
    {
     "data": {
      "text/plain": [
       "2"
      ]
     },
     "execution_count": 7,
     "metadata": {},
     "output_type": "execute_result"
    }
   ],
   "source": [
    "t1.count(10)"
   ]
  },
  {
   "cell_type": "code",
   "execution_count": 8,
   "id": "df5b950b-5a22-4264-a539-01d5fad71a68",
   "metadata": {},
   "outputs": [
    {
     "data": {
      "text/plain": [
       "0"
      ]
     },
     "execution_count": 8,
     "metadata": {},
     "output_type": "execute_result"
    }
   ],
   "source": [
    "t1.count(False)"
   ]
  },
  {
   "cell_type": "code",
   "execution_count": 9,
   "id": "c1b6a7e0-2831-4d9e-85b6-c6574aa97f76",
   "metadata": {},
   "outputs": [
    {
     "ename": "TypeError",
     "evalue": "'tuple' object does not support item assignment",
     "output_type": "error",
     "traceback": [
      "\u001b[1;31m---------------------------------------------------------------------------\u001b[0m",
      "\u001b[1;31mTypeError\u001b[0m                                 Traceback (most recent call last)",
      "Cell \u001b[1;32mIn[9], line 1\u001b[0m\n\u001b[1;32m----> 1\u001b[0m t1[\u001b[38;5;241m5\u001b[39m]\u001b[38;5;241m=\u001b[39m\u001b[38;5;241m50\u001b[39m \u001b[38;5;66;03m#the tuple is immutable user can not change the element in thetuple\u001b[39;00m\n\u001b[0;32m      2\u001b[0m t1\n",
      "\u001b[1;31mTypeError\u001b[0m: 'tuple' object does not support item assignment"
     ]
    }
   ],
   "source": [
    "t1[5]=50 #the tuple is immutable user can not change the element in thetuple\n",
    "t1"
   ]
  },
  {
   "cell_type": "code",
   "execution_count": 11,
   "id": "12afa5b8-a7c4-42b5-a39e-626a5fd5a4c9",
   "metadata": {},
   "outputs": [
    {
     "name": "stdout",
     "output_type": "stream",
     "text": [
      "the id of t1 is = 2039060142240\n"
     ]
    }
   ],
   "source": [
    "print(f'the id of t1 is = {id(t1)}')\n"
   ]
  },
  {
   "cell_type": "code",
   "execution_count": 12,
   "id": "c680e090-83fb-4b86-bcd5-8602342b0495",
   "metadata": {},
   "outputs": [
    {
     "data": {
      "text/plain": [
       "10"
      ]
     },
     "execution_count": 12,
     "metadata": {},
     "output_type": "execute_result"
    }
   ],
   "source": [
    "t[0]"
   ]
  },
  {
   "cell_type": "code",
   "execution_count": 13,
   "id": "6e529a84-3e93-478f-92be-01a1166c1aed",
   "metadata": {},
   "outputs": [
    {
     "name": "stdout",
     "output_type": "stream",
     "text": [
      "(10, 20, 30)\n",
      "(10, 20, 30, 10, 20, 30, 10, 20, 30)\n"
     ]
    }
   ],
   "source": [
    "print(t)\n",
    "t2 = t * 3\n",
    "print(t2)"
   ]
  },
  {
   "cell_type": "code",
   "execution_count": 15,
   "id": "30a5fdfb-50f0-42fa-a0a6-30c27569b109",
   "metadata": {},
   "outputs": [
    {
     "ename": "TypeError",
     "evalue": "unsupported operand type(s) for -: 'tuple' and 'int'",
     "output_type": "error",
     "traceback": [
      "\u001b[1;31m---------------------------------------------------------------------------\u001b[0m",
      "\u001b[1;31mTypeError\u001b[0m                                 Traceback (most recent call last)",
      "Cell \u001b[1;32mIn[15], line 1\u001b[0m\n\u001b[1;32m----> 1\u001b[0m t2 \u001b[38;5;241m=\u001b[39m t \u001b[38;5;241m-\u001b[39m\u001b[38;5;241m3\u001b[39m   \n\u001b[0;32m      2\u001b[0m t2\n",
      "\u001b[1;31mTypeError\u001b[0m: unsupported operand type(s) for -: 'tuple' and 'int'"
     ]
    }
   ],
   "source": [
    "t2 = t -3   \n",
    "t2"
   ]
  },
  {
   "cell_type": "code",
   "execution_count": 17,
   "id": "0be7d2fa-c430-4b31-bc83-aeb9f453d528",
   "metadata": {},
   "outputs": [
    {
     "data": {
      "text/plain": [
       "(10, 20, 30, 10, 2.3, 'partha', (2+4j), True, 10)"
      ]
     },
     "execution_count": 17,
     "metadata": {},
     "output_type": "execute_result"
    }
   ],
   "source": [
    "sum = t + t1\n",
    "sum"
   ]
  },
  {
   "cell_type": "code",
   "execution_count": 19,
   "id": "7543032b-70d1-485c-8673-bf7e9a582946",
   "metadata": {},
   "outputs": [
    {
     "name": "stdout",
     "output_type": "stream",
     "text": [
      "(10, 2.3, 'partha', (2+4j), True, 10)\n"
     ]
    }
   ],
   "source": [
    "print(t1)"
   ]
  },
  {
   "cell_type": "code",
   "execution_count": 21,
   "id": "90076f29-8709-4e54-838e-a2efe33dae5d",
   "metadata": {},
   "outputs": [
    {
     "data": {
      "text/plain": [
       "(10, 2.3, 'partha', (2+4j), True, 10)"
      ]
     },
     "execution_count": 21,
     "metadata": {},
     "output_type": "execute_result"
    }
   ],
   "source": [
    "t1[:]\n",
    "t1"
   ]
  },
  {
   "cell_type": "code",
   "execution_count": 23,
   "id": "47659f7f-45cd-4e17-b1ca-6affcf51d3fa",
   "metadata": {},
   "outputs": [
    {
     "data": {
      "text/plain": [
       "56"
      ]
     },
     "execution_count": 23,
     "metadata": {},
     "output_type": "execute_result"
    }
   ],
   "source": [
    "t3 = (56,89,4,76,23,88,99,12)\n",
    "t3[0]"
   ]
  },
  {
   "cell_type": "code",
   "execution_count": 25,
   "id": "f002b358-026c-4459-ac74-09edb25ff1e7",
   "metadata": {},
   "outputs": [
    {
     "data": {
      "text/plain": [
       "(89, 4, 76)"
      ]
     },
     "execution_count": 25,
     "metadata": {},
     "output_type": "execute_result"
    }
   ],
   "source": [
    "t3[1:4]"
   ]
  },
  {
   "cell_type": "code",
   "execution_count": 27,
   "id": "e1bdb4e9-8fe8-487a-bbf1-7f4027bdbaeb",
   "metadata": {},
   "outputs": [
    {
     "data": {
      "text/plain": [
       "(56, 89, 4)"
      ]
     },
     "execution_count": 27,
     "metadata": {},
     "output_type": "execute_result"
    }
   ],
   "source": [
    "t3[:3]"
   ]
  },
  {
   "cell_type": "code",
   "execution_count": 29,
   "id": "eb50dd92-b9a3-44ac-8e4e-8cb6d9f902fa",
   "metadata": {},
   "outputs": [
    {
     "data": {
      "text/plain": [
       "(20, 20)"
      ]
     },
     "execution_count": 29,
     "metadata": {},
     "output_type": "execute_result"
    }
   ],
   "source": [
    "tu1 = (10, 20, 30, 10, 20, 30, 10, 20, 30)\n",
    "tu1[1:6:3]"
   ]
  },
  {
   "cell_type": "code",
   "execution_count": 31,
   "id": "49a75da6-3ff3-40e9-a92b-444d35fc9f46",
   "metadata": {},
   "outputs": [
    {
     "data": {
      "text/plain": [
       "(20, 10, 30)"
      ]
     },
     "execution_count": 31,
     "metadata": {},
     "output_type": "execute_result"
    }
   ],
   "source": [
    "tu1[1:6:2]"
   ]
  },
  {
   "cell_type": "code",
   "execution_count": 33,
   "id": "a356210b-6033-4e0e-8efa-c170c3724c2c",
   "metadata": {},
   "outputs": [
    {
     "data": {
      "text/plain": [
       "(10, 10, 10)"
      ]
     },
     "execution_count": 33,
     "metadata": {},
     "output_type": "execute_result"
    }
   ],
   "source": [
    "tu1[0:7:3]"
   ]
  },
  {
   "cell_type": "code",
   "execution_count": 35,
   "id": "a98c6067-0817-42fc-8ad8-01c5cc38d88b",
   "metadata": {},
   "outputs": [
    {
     "data": {
      "text/plain": [
       "(10, 20, 30, 10, 20, 30, 10, 20)"
      ]
     },
     "execution_count": 35,
     "metadata": {},
     "output_type": "execute_result"
    }
   ],
   "source": [
    "tu1[:-1]"
   ]
  },
  {
   "cell_type": "code",
   "execution_count": 37,
   "id": "998278af-b002-4c39-b609-fd7adcd1c8a9",
   "metadata": {},
   "outputs": [
    {
     "data": {
      "text/plain": [
       "(10, 20, 30, 10, 20)"
      ]
     },
     "execution_count": 37,
     "metadata": {},
     "output_type": "execute_result"
    }
   ],
   "source": [
    "tu1[:-4]"
   ]
  },
  {
   "cell_type": "code",
   "execution_count": null,
   "id": "a7f6826a-7625-4ba4-b7cb-173f6729973d",
   "metadata": {},
   "outputs": [],
   "source": []
  },
  {
   "cell_type": "markdown",
   "id": "842fff87-1dd2-41bc-a1b6-3ca6a3ceeae3",
   "metadata": {},
   "source": [
    "TUPLE CREATION"
   ]
  },
  {
   "cell_type": "code",
   "execution_count": 39,
   "id": "14990767-f1ca-4729-8101-f6853d327769",
   "metadata": {},
   "outputs": [
    {
     "data": {
      "text/plain": [
       "()"
      ]
     },
     "execution_count": 39,
     "metadata": {},
     "output_type": "execute_result"
    }
   ],
   "source": [
    "tup1 = ()\n",
    "tup1"
   ]
  },
  {
   "cell_type": "code",
   "execution_count": 41,
   "id": "cee2da6a-3442-48d0-ba89-340eda9779a8",
   "metadata": {},
   "outputs": [
    {
     "data": {
      "text/plain": [
       "(1, 2, 23, 45, 67)"
      ]
     },
     "execution_count": 41,
     "metadata": {},
     "output_type": "execute_result"
    }
   ],
   "source": [
    "tup2 = (1,2,23,45,67) # tuple of integer number\n",
    "tup2"
   ]
  },
  {
   "cell_type": "code",
   "execution_count": 43,
   "id": "684fb2d1-1529-4c93-8fd9-aba94fa92e21",
   "metadata": {},
   "outputs": [
    {
     "name": "stdout",
     "output_type": "stream",
     "text": [
      "the float type of the tuple is = (2.8, 8.09, 66.98, 34.76)\n",
      "the dtring type of tuple is = ('apple', 'orange', 'banana', 'cocomber')\n",
      "the complex type of tuple is = ((2+4j), (3+5j), (4+2j))\n",
      "the bool type of the tuple is = (True, False)\n"
     ]
    }
   ],
   "source": [
    "tup3 = (2.8,8.09,66.98,34.76)\n",
    "print(f'the float type of the tuple is = {tup3}')\n",
    "tup4 = ('apple','orange','banana','cocomber')\n",
    "print(f'the dtring type of tuple is = {tup4}')\n",
    "tup5 = (2+4j,3+5j,4+2j)\n",
    "print(f'the complex type of tuple is = {tup5}')\n",
    "tup6 = (True,False)\n",
    "print(f'the bool type of the tuple is = {tup6}')"
   ]
  },
  {
   "cell_type": "code",
   "execution_count": 45,
   "id": "89ca50dd-d50f-4228-b81c-735b8f2b6f5d",
   "metadata": {},
   "outputs": [
    {
     "name": "stdout",
     "output_type": "stream",
     "text": [
      "the nested type of loop is = ('partha', 24, (45, 18), (2.7, 7.7))\n",
      "the mixed data type of tuple is = (7, 'nit', 4.5, True, (6+4j))\n",
      "the mixed type of tuple is = ('partha', 20, 18.89, [918, 112], [23.5, 98.45], {'alexa', 'gems'}, (456, 3))\n",
      "the length of tup9 is = 7\n"
     ]
    }
   ],
   "source": [
    "tup7 = ('partha',24,(45,18),(2.7,7.7))\n",
    "print(f'the nested type of loop is = {tup7}')\n",
    "tup8 = (7,'nit',4.5,True,6+4j)\n",
    "print(f'the mixed data type of tuple is = {tup8}')\n",
    "tup9 = ('partha',20,18.89,[918,112],[23.5,98.45],{'alexa','gems'},(456,3))\n",
    "print(f'the mixed type of tuple is = {tup9}')\n",
    "print(f'the length of tup9 is = {len(tup9)}')"
   ]
  },
  {
   "cell_type": "markdown",
   "id": "7b8c68fb-6aec-4e69-8306-c658535318c2",
   "metadata": {},
   "source": [
    "Tuple indexing"
   ]
  },
  {
   "cell_type": "code",
   "execution_count": 47,
   "id": "44bd1c0b-9f9a-4b4f-8bf9-efd68b32c8f4",
   "metadata": {},
   "outputs": [
    {
     "name": "stdout",
     "output_type": "stream",
     "text": [
      "tup2 is = (1, 2, 23, 45, 67)\n"
     ]
    }
   ],
   "source": [
    "print(f'tup2 is = {tup2}')"
   ]
  },
  {
   "cell_type": "code",
   "execution_count": 49,
   "id": "0e751574-9324-4327-a11b-d0c1fc3f37ae",
   "metadata": {},
   "outputs": [
    {
     "data": {
      "text/plain": [
       "1"
      ]
     },
     "execution_count": 49,
     "metadata": {},
     "output_type": "execute_result"
    }
   ],
   "source": [
    "tup2[0]"
   ]
  },
  {
   "cell_type": "code",
   "execution_count": 51,
   "id": "71892925-2fb0-4c40-91f7-6a1356097fbf",
   "metadata": {},
   "outputs": [
    {
     "name": "stdout",
     "output_type": "stream",
     "text": [
      "5\n"
     ]
    }
   ],
   "source": [
    "print(len(tup2))"
   ]
  },
  {
   "cell_type": "code",
   "execution_count": 53,
   "id": "17a4314d-60ea-48dd-a3a0-82c92690e030",
   "metadata": {},
   "outputs": [
    {
     "data": {
      "text/plain": [
       "(1, 2)"
      ]
     },
     "execution_count": 53,
     "metadata": {},
     "output_type": "execute_result"
    }
   ],
   "source": [
    "tup2[ :2]"
   ]
  },
  {
   "cell_type": "code",
   "execution_count": 55,
   "id": "4e0527a3-a2ea-483c-8965-ceaf69c9982e",
   "metadata": {},
   "outputs": [
    {
     "data": {
      "text/plain": [
       "'p'"
      ]
     },
     "execution_count": 55,
     "metadata": {},
     "output_type": "execute_result"
    }
   ],
   "source": [
    "tup4[0][2]\n"
   ]
  },
  {
   "cell_type": "code",
   "execution_count": 57,
   "id": "eda6bf00-6c23-4f1c-afd3-a5c73317f9aa",
   "metadata": {},
   "outputs": [
    {
     "data": {
      "text/plain": [
       "'e'"
      ]
     },
     "execution_count": 57,
     "metadata": {},
     "output_type": "execute_result"
    }
   ],
   "source": [
    "tup4[1][5]"
   ]
  },
  {
   "cell_type": "code",
   "execution_count": 59,
   "id": "112ab9c8-8faa-4d30-b974-c7338bd05b1c",
   "metadata": {},
   "outputs": [
    {
     "data": {
      "text/plain": [
       "{'alexa', 'gems'}"
      ]
     },
     "execution_count": 59,
     "metadata": {},
     "output_type": "execute_result"
    }
   ],
   "source": [
    "tup9[-2]"
   ]
  },
  {
   "cell_type": "code",
   "execution_count": 61,
   "id": "3056e130-c21f-4d08-81eb-46c96421ce4f",
   "metadata": {},
   "outputs": [
    {
     "name": "stdout",
     "output_type": "stream",
     "text": [
      "('partha', 20, 18.89, [918, 112], [23.5, 98.45], {'alexa', 'gems'}, (456, 3))\n"
     ]
    }
   ],
   "source": [
    "print(tup9)"
   ]
  },
  {
   "cell_type": "code",
   "execution_count": 63,
   "id": "944cdbcf-b5d6-422b-b268-4d500d0adb62",
   "metadata": {},
   "outputs": [
    {
     "name": "stdout",
     "output_type": "stream",
     "text": [
      "((2+4j), (3+5j), (4+2j))\n"
     ]
    }
   ],
   "source": [
    "print(tup5)"
   ]
  },
  {
   "cell_type": "markdown",
   "id": "9a1ad2fc-09bb-4a74-91bb-2ddb92737a67",
   "metadata": {},
   "source": [
    "tuple slicing"
   ]
  },
  {
   "cell_type": "code",
   "execution_count": 66,
   "id": "14169c78-35b3-438c-a141-9545c847f2cb",
   "metadata": {},
   "outputs": [
    {
     "name": "stdout",
     "output_type": "stream",
     "text": [
      "('one', 'two', 'three', 'four', 'five', 'six', 'seven', 'eight')\n"
     ]
    },
    {
     "data": {
      "text/plain": [
       "'one'"
      ]
     },
     "execution_count": 66,
     "metadata": {},
     "output_type": "execute_result"
    }
   ],
   "source": [
    "mytuple = ('one','two','three','four','five','six','seven','eight')\n",
    "print(mytuple)\n",
    "mytuple[0]"
   ]
  },
  {
   "cell_type": "code",
   "execution_count": 68,
   "id": "fea50246-abb8-44b9-ae2a-f0c115a18aa2",
   "metadata": {},
   "outputs": [
    {
     "data": {
      "text/plain": [
       "('one', 'two', 'three')"
      ]
     },
     "execution_count": 68,
     "metadata": {},
     "output_type": "execute_result"
    }
   ],
   "source": [
    "mytuple[0:3]"
   ]
  },
  {
   "cell_type": "code",
   "execution_count": 70,
   "id": "587735f5-6475-47f5-8711-1475ecf8b595",
   "metadata": {},
   "outputs": [
    {
     "data": {
      "text/plain": [
       "('three', 'four', 'five')"
      ]
     },
     "execution_count": 70,
     "metadata": {},
     "output_type": "execute_result"
    }
   ],
   "source": [
    "mytuple[2:5]"
   ]
  },
  {
   "cell_type": "code",
   "execution_count": 72,
   "id": "885db2f2-196f-4b94-9d9d-031442833320",
   "metadata": {},
   "outputs": [
    {
     "data": {
      "text/plain": [
       "('one', 'two', 'three')"
      ]
     },
     "execution_count": 72,
     "metadata": {},
     "output_type": "execute_result"
    }
   ],
   "source": [
    "mytuple[ :3]"
   ]
  },
  {
   "cell_type": "code",
   "execution_count": 74,
   "id": "8dd2d032-2b19-4d36-9753-6af230338ba9",
   "metadata": {},
   "outputs": [
    {
     "data": {
      "text/plain": [
       "('one', 'two', 'three', 'four', 'five', 'six', 'seven', 'eight')"
      ]
     },
     "execution_count": 74,
     "metadata": {},
     "output_type": "execute_result"
    }
   ],
   "source": [
    "mytuple"
   ]
  },
  {
   "cell_type": "code",
   "execution_count": 76,
   "id": "81387817-6b92-4310-9ab7-c9a494dfeda3",
   "metadata": {},
   "outputs": [
    {
     "data": {
      "text/plain": [
       "('five', 'six', 'seven', 'eight')"
      ]
     },
     "execution_count": 76,
     "metadata": {},
     "output_type": "execute_result"
    }
   ],
   "source": [
    "mytuple[-4:] # it give the last 4 element "
   ]
  },
  {
   "cell_type": "code",
   "execution_count": 78,
   "id": "aa3481c1-589b-4bfb-b82e-a9ace7779380",
   "metadata": {},
   "outputs": [
    {
     "data": {
      "text/plain": [
       "('one', 'two', 'three', 'four')"
      ]
     },
     "execution_count": 78,
     "metadata": {},
     "output_type": "execute_result"
    }
   ],
   "source": [
    "mytuple[:4]"
   ]
  },
  {
   "cell_type": "code",
   "execution_count": 80,
   "id": "039458fa-b23a-45fe-8372-51237af473f5",
   "metadata": {},
   "outputs": [
    {
     "data": {
      "text/plain": [
       "('seven', 'eight')"
      ]
     },
     "execution_count": 80,
     "metadata": {},
     "output_type": "execute_result"
    }
   ],
   "source": [
    "mytuple[-2:]"
   ]
  },
  {
   "cell_type": "code",
   "execution_count": 82,
   "id": "e6600466-9cb4-4f1b-babe-488bf10f752a",
   "metadata": {},
   "outputs": [
    {
     "data": {
      "text/plain": [
       "('one', 'two', 'three', 'four', 'five', 'six')"
      ]
     },
     "execution_count": 82,
     "metadata": {},
     "output_type": "execute_result"
    }
   ],
   "source": [
    "mytuple[:-2]"
   ]
  },
  {
   "cell_type": "code",
   "execution_count": 83,
   "id": "5a410932-0574-4506-b650-779ec9c7e8ce",
   "metadata": {},
   "outputs": [
    {
     "data": {
      "text/plain": [
       "('one', 'two', 'three', 'four', 'five', 'six', 'seven', 'eight')"
      ]
     },
     "execution_count": 83,
     "metadata": {},
     "output_type": "execute_result"
    }
   ],
   "source": [
    "mytuple"
   ]
  },
  {
   "cell_type": "code",
   "execution_count": 84,
   "id": "bcd4e784-d2ea-4114-94d8-87dc82355e44",
   "metadata": {},
   "outputs": [],
   "source": [
    "#mytuple.remove(one)"
   ]
  },
  {
   "cell_type": "markdown",
   "id": "c7d23b16-b853-449a-bc75-41cef2ec59ff",
   "metadata": {},
   "source": [
    "Loop through a tuple"
   ]
  },
  {
   "cell_type": "code",
   "execution_count": 85,
   "id": "31864cfc-6939-4b72-87c7-9adf352be27b",
   "metadata": {},
   "outputs": [
    {
     "data": {
      "text/plain": [
       "('one', 'two', 'three', 'four', 'five', 'six', 'seven', 'eight')"
      ]
     },
     "execution_count": 85,
     "metadata": {},
     "output_type": "execute_result"
    }
   ],
   "source": [
    "mytuple"
   ]
  },
  {
   "cell_type": "code",
   "execution_count": 86,
   "id": "db984f90-dc26-478c-99bd-539d94709c58",
   "metadata": {},
   "outputs": [
    {
     "name": "stdout",
     "output_type": "stream",
     "text": [
      "one\n",
      "two\n",
      "three\n",
      "four\n",
      "five\n",
      "six\n",
      "seven\n",
      "eight\n"
     ]
    }
   ],
   "source": [
    "for i in mytuple:\n",
    "    print(i)"
   ]
  },
  {
   "cell_type": "code",
   "execution_count": 87,
   "id": "1b019942-9e4d-480c-939c-45cb20786fa9",
   "metadata": {},
   "outputs": [
    {
     "name": "stdout",
     "output_type": "stream",
     "text": [
      "(0, 'one')\n",
      "(1, 'two')\n",
      "(2, 'three')\n",
      "(3, 'four')\n",
      "(4, 'five')\n",
      "(5, 'six')\n",
      "(6, 'seven')\n",
      "(7, 'eight')\n"
     ]
    }
   ],
   "source": [
    "for i in enumerate(mytuple):\n",
    "    print(i)"
   ]
  },
  {
   "cell_type": "code",
   "execution_count": 88,
   "id": "7d884700-de42-41ad-ab32-8d0eaf211b3b",
   "metadata": {},
   "outputs": [
    {
     "name": "stdout",
     "output_type": "stream",
     "text": [
      "one\n",
      "two\n",
      "three\n",
      "four\n",
      "five\n"
     ]
    }
   ],
   "source": [
    "mytuple1 = ('one','two','three','four','five')\n",
    "for i in mytuple1:\n",
    "    print(i)"
   ]
  },
  {
   "cell_type": "code",
   "execution_count": 89,
   "id": "5161a5b6-1efe-4781-9440-777a415a5017",
   "metadata": {},
   "outputs": [
    {
     "name": "stdout",
     "output_type": "stream",
     "text": [
      "(0, 'one')\n",
      "(1, 'two')\n",
      "(2, 'three')\n",
      "(3, 'four')\n",
      "(4, 'five')\n"
     ]
    }
   ],
   "source": [
    "for i in enumerate(mytuple1):\n",
    "    print(i)"
   ]
  },
  {
   "cell_type": "markdown",
   "id": "96e17b61-9993-4476-a870-07037664abce",
   "metadata": {},
   "source": [
    "Tuple Membership"
   ]
  },
  {
   "cell_type": "code",
   "execution_count": 91,
   "id": "15ab64a8-6f19-4f24-a683-bcbebb70dab6",
   "metadata": {},
   "outputs": [
    {
     "name": "stdout",
     "output_type": "stream",
     "text": [
      "('one', 'two', 'three', 'four', 'five', 'six', 'seven', 'eight')\n"
     ]
    }
   ],
   "source": [
    "print(mytuple)"
   ]
  },
  {
   "cell_type": "code",
   "execution_count": 93,
   "id": "2c8d4a70-435f-4b4c-b1b0-9283ab818ea0",
   "metadata": {},
   "outputs": [
    {
     "data": {
      "text/plain": [
       "True"
      ]
     },
     "execution_count": 93,
     "metadata": {},
     "output_type": "execute_result"
    }
   ],
   "source": [
    "'one' in mytuple"
   ]
  },
  {
   "cell_type": "code",
   "execution_count": 95,
   "id": "d9c563b2-3746-46ed-a43b-10d86ac7d92c",
   "metadata": {},
   "outputs": [
    {
     "data": {
      "text/plain": [
       "True"
      ]
     },
     "execution_count": 95,
     "metadata": {},
     "output_type": "execute_result"
    }
   ],
   "source": [
    "'eight' in mytuple"
   ]
  },
  {
   "cell_type": "code",
   "execution_count": 96,
   "id": "0512ea3f-f129-49f0-a824-40ddf6ba57f9",
   "metadata": {},
   "outputs": [
    {
     "data": {
      "text/plain": [
       "False"
      ]
     },
     "execution_count": 96,
     "metadata": {},
     "output_type": "execute_result"
    }
   ],
   "source": [
    "'twenty' in mytuple"
   ]
  },
  {
   "cell_type": "code",
   "execution_count": 99,
   "id": "30669f3c-81fd-4d3f-919b-a7d53fdf8476",
   "metadata": {},
   "outputs": [
    {
     "name": "stdout",
     "output_type": "stream",
     "text": [
      "three present in the mytuple\n"
     ]
    }
   ],
   "source": [
    "if'three' in mytuple:\n",
    "    print(\"three present in the mytuple\")\n",
    "else:\n",
    "    print('three is not present in mytuple')"
   ]
  },
  {
   "cell_type": "code",
   "execution_count": 101,
   "id": "21611330-586f-47fe-a712-81b9015f9746",
   "metadata": {},
   "outputs": [
    {
     "name": "stdout",
     "output_type": "stream",
     "text": [
      "eight is present in mytuple\n"
     ]
    }
   ],
   "source": [
    "if'eight' in mytuple:\n",
    "    print('eight is present in mytuple')\n",
    "else:\n",
    "    print('eight is not present in mytuple')"
   ]
  },
  {
   "cell_type": "code",
   "execution_count": 102,
   "id": "ddf59521-0818-48e7-880c-73cea94237be",
   "metadata": {},
   "outputs": [
    {
     "name": "stdout",
     "output_type": "stream",
     "text": [
      "twenty is not present in mytuple\n"
     ]
    }
   ],
   "source": [
    "if'twenty' in mytuple:\n",
    "    print('twenty is present in the mytuple')\n",
    "else:\n",
    "    print('twenty is not present in mytuple')\n"
   ]
  },
  {
   "cell_type": "markdown",
   "id": "fc620f34-69de-4e66-bee6-d2b64b2098ce",
   "metadata": {},
   "source": [
    "INDEX POSITION"
   ]
  },
  {
   "cell_type": "code",
   "execution_count": 103,
   "id": "3191cb49-6a77-426b-be69-bea53c2b29d4",
   "metadata": {},
   "outputs": [
    {
     "data": {
      "text/plain": [
       "('one', 'two', 'three', 'four', 'five', 'six', 'seven', 'eight')"
      ]
     },
     "execution_count": 103,
     "metadata": {},
     "output_type": "execute_result"
    }
   ],
   "source": [
    "mytuple"
   ]
  },
  {
   "cell_type": "code",
   "execution_count": 104,
   "id": "fed2dc6b-5d97-4197-84d7-5fdb3fb4453a",
   "metadata": {},
   "outputs": [
    {
     "data": {
      "text/plain": [
       "6"
      ]
     },
     "execution_count": 104,
     "metadata": {},
     "output_type": "execute_result"
    }
   ],
   "source": [
    "mytuple.index('seven')"
   ]
  },
  {
   "cell_type": "code",
   "execution_count": 106,
   "id": "7efc8b10-3e31-4803-83e4-72a01a652b76",
   "metadata": {},
   "outputs": [
    {
     "data": {
      "text/plain": [
       "0"
      ]
     },
     "execution_count": 106,
     "metadata": {},
     "output_type": "execute_result"
    }
   ],
   "source": [
    "mytuple.index('one')"
   ]
  },
  {
   "cell_type": "code",
   "execution_count": 116,
   "id": "07006080-8e2f-4348-88fc-eca96e28cd47",
   "metadata": {},
   "outputs": [
    {
     "data": {
      "text/plain": [
       "[1, 2, 8, 45, 677, 999]"
      ]
     },
     "execution_count": 116,
     "metadata": {},
     "output_type": "execute_result"
    }
   ],
   "source": [
    "l = (1,2,45,677,8,999)\n",
    "sorted(l)"
   ]
  },
  {
   "cell_type": "code",
   "execution_count": 118,
   "id": "8a1b843f-fada-429c-b151-701a89d5a1c0",
   "metadata": {},
   "outputs": [
    {
     "data": {
      "text/plain": [
       "['two', 'three', 'six', 'seven', 'one', 'four', 'five', 'eight']"
      ]
     },
     "execution_count": 118,
     "metadata": {},
     "output_type": "execute_result"
    }
   ],
   "source": [
    "sorted(mytuple, reverse = True)"
   ]
  },
  {
   "cell_type": "code",
   "execution_count": 120,
   "id": "9f3c3b61-1460-41a7-bf3b-7f56add15f58",
   "metadata": {},
   "outputs": [
    {
     "data": {
      "text/plain": [
       "[999, 677, 45, 8, 2, 1]"
      ]
     },
     "execution_count": 120,
     "metadata": {},
     "output_type": "execute_result"
    }
   ],
   "source": [
    "sorted(l,reverse = True)"
   ]
  },
  {
   "cell_type": "code",
   "execution_count": 122,
   "id": "cea273f2-b763-4295-88da-35b56199f878",
   "metadata": {},
   "outputs": [
    {
     "data": {
      "text/plain": [
       "[1, 2.5, 10, 34, 56, 99, 100]"
      ]
     },
     "execution_count": 122,
     "metadata": {},
     "output_type": "execute_result"
    }
   ],
   "source": [
    "p = (34,56,1,2.5,99,10,100)\n",
    "sorted(p)"
   ]
  },
  {
   "cell_type": "code",
   "execution_count": 123,
   "id": "0ac4f1e2-9e78-4f6d-8b0c-07d1c1881b74",
   "metadata": {},
   "outputs": [
    {
     "data": {
      "text/plain": [
       "[100, 99, 56, 34, 10, 2.5, 1]"
      ]
     },
     "execution_count": 123,
     "metadata": {},
     "output_type": "execute_result"
    }
   ],
   "source": [
    "sorted(p,reverse=True)"
   ]
  }
 ],
 "metadata": {
  "kernelspec": {
   "display_name": "Python 3 (ipykernel)",
   "language": "python",
   "name": "python3"
  },
  "language_info": {
   "codemirror_mode": {
    "name": "ipython",
    "version": 3
   },
   "file_extension": ".py",
   "mimetype": "text/x-python",
   "name": "python",
   "nbconvert_exporter": "python",
   "pygments_lexer": "ipython3",
   "version": "3.13.5"
  }
 },
 "nbformat": 4,
 "nbformat_minor": 5
}
