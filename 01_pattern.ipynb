{
 "cells": [
  {
   "cell_type": "code",
   "execution_count": 1,
   "id": "f825a1f5-21ca-4c46-972a-5886d59a6c29",
   "metadata": {},
   "outputs": [
    {
     "name": "stdout",
     "output_type": "stream",
     "text": [
      " *\n",
      " * *\n",
      " * * *\n",
      " * * * *\n",
      " * * * * *\n"
     ]
    }
   ],
   "source": [
    "for i in range(1,6):\n",
    "    print(' *' *i)"
   ]
  },
  {
   "cell_type": "code",
   "execution_count": 2,
   "id": "20495c00-48ad-4b38-98e1-50b81a6b7525",
   "metadata": {},
   "outputs": [
    {
     "name": "stdout",
     "output_type": "stream",
     "text": [
      "* * * * * * \n",
      "* * * * * \n",
      "* * * * \n",
      "* * * \n",
      "* * \n",
      "* \n"
     ]
    }
   ],
   "source": [
    "for i in range(6,0,-1):\n",
    "    print('* ' *i)"
   ]
  },
  {
   "cell_type": "code",
   "execution_count": 3,
   "id": "27e2b0d6-f794-42f3-80bd-6d1bfa3e65cf",
   "metadata": {},
   "outputs": [
    {
     "name": "stdout",
     "output_type": "stream",
     "text": [
      "* \n",
      "* * \n",
      "* * * \n"
     ]
    }
   ],
   "source": [
    "for i in range(1,4):\n",
    "    print('* ' *i)"
   ]
  },
  {
   "cell_type": "code",
   "execution_count": 4,
   "id": "8231fa49-bf7d-49e0-b6f1-3c52aa0d6a8f",
   "metadata": {},
   "outputs": [
    {
     "name": "stdout",
     "output_type": "stream",
     "text": [
      "# # # # # # # \n",
      "# # # # # # \n",
      "# # # # # \n",
      "# # # # \n",
      "# # # \n",
      "# # \n",
      "# \n"
     ]
    }
   ],
   "source": [
    "for i in range(7,0,-1):\n",
    "    print('# ' * i)"
   ]
  },
  {
   "cell_type": "markdown",
   "id": "c97e5a87-172a-48c5-ab4e-7d972a211031",
   "metadata": {},
   "source": [
    "Pyramid pattern"
   ]
  },
  {
   "cell_type": "code",
   "execution_count": 5,
   "id": "78cfaad1-1549-42a4-b5b1-7dfa87e68375",
   "metadata": {},
   "outputs": [
    {
     "name": "stdout",
     "output_type": "stream",
     "text": [
      "     * \n",
      "    *  *  * \n",
      "   *  *  *  *  * \n",
      "  *  *  *  *  *  *  * \n",
      " *  *  *  *  *  *  *  *  * \n"
     ]
    }
   ],
   "source": [
    "for i in range(1,6):\n",
    "    print(' '* (5-i)+ ' * ' *(2*i-1))"
   ]
  },
  {
   "cell_type": "code",
   "execution_count": 6,
   "id": "3d2b0dd5-8dbc-498f-b7bd-b32ea69b0c02",
   "metadata": {},
   "outputs": [
    {
     "name": "stdout",
     "output_type": "stream",
     "text": [
      "    \n",
      "   \n",
      "  \n",
      " \n",
      "\n"
     ]
    }
   ],
   "source": [
    "for i in range(1,6):\n",
    "    print(' '* (5-i))"
   ]
  },
  {
   "cell_type": "code",
   "execution_count": 7,
   "id": "7c00d0a3-c14c-40f3-a511-d150d872dfd9",
   "metadata": {},
   "outputs": [
    {
     "name": "stdout",
     "output_type": "stream",
     "text": [
      " * \n",
      " *  *  * \n",
      " *  *  *  *  * \n",
      " *  *  *  *  *  *  * \n",
      " *  *  *  *  *  *  *  *  * \n"
     ]
    }
   ],
   "source": [
    "for i in range(1,6):\n",
    "    print(' * ' *(2*i-1))"
   ]
  },
  {
   "cell_type": "code",
   "execution_count": 8,
   "id": "cd0eb819-04f6-42e1-8a17-d470ae09db66",
   "metadata": {},
   "outputs": [
    {
     "name": "stdout",
     "output_type": "stream",
     "text": [
      "* \n",
      "* * * \n",
      "* * * * * \n",
      "* * * * * * * \n",
      "* * * * * * * * * \n"
     ]
    }
   ],
   "source": [
    "for i in range(1,6):\n",
    "    print('* ' * (2*i -1))"
   ]
  },
  {
   "cell_type": "code",
   "execution_count": 9,
   "id": "6be16d50-05aa-46d4-a476-e59d8c9857f2",
   "metadata": {},
   "outputs": [
    {
     "name": "stdout",
     "output_type": "stream",
     "text": [
      " * *\n",
      " * * * *\n",
      " * * * * * *\n",
      " * * * * * * * *\n",
      " * * * * * * * * * *\n"
     ]
    }
   ],
   "source": [
    "for i in range(1,6):\n",
    "    print(' *' *(2*i))"
   ]
  },
  {
   "cell_type": "code",
   "execution_count": 33,
   "id": "890ed77c-738f-415b-a495-281e51855c2d",
   "metadata": {},
   "outputs": [
    {
     "name": "stdout",
     "output_type": "stream",
     "text": [
      "    * \n",
      "   *  *  * \n",
      "  *  *  *  *  * \n",
      " *  *  *  *  *  *  * \n",
      " *  *  *  *  *  *  *  *  * \n"
     ]
    }
   ],
   "source": [
    "for i in range(1,6):\n",
    "    print(' ' * (4-i) + ' * ' *(2*i-1))"
   ]
  },
  {
   "cell_type": "code",
   "execution_count": 34,
   "id": "e1136e80-fadf-42ed-a57f-70eefa8648cf",
   "metadata": {},
   "outputs": [
    {
     "name": "stdout",
     "output_type": "stream",
     "text": [
      "   * \n",
      "  *  *  * \n",
      " *  *  *  *  * \n",
      " *  *  *  *  *  *  * \n",
      " *  *  *  *  *  *  *  *  * \n"
     ]
    }
   ],
   "source": [
    "for i in range(1,6):\n",
    "    print(' '* (3-i)+ ' * ' *(2*i-1))"
   ]
  },
  {
   "cell_type": "code",
   "execution_count": 37,
   "id": "91adef30-b217-4ca8-92b9-eabf9efb6539",
   "metadata": {},
   "outputs": [
    {
     "name": "stdout",
     "output_type": "stream",
     "text": [
      "     * \n",
      "    *  *  * \n",
      "   *  *  *  *  * \n",
      "  *  *  *  *  *  *  * \n",
      " *  *  *  *  *  *  *  *  * \n"
     ]
    }
   ],
   "source": [
    "for i in range(1,6):\n",
    "    print(' ' * (5-i) + ' * ' *(2*i-1))"
   ]
  },
  {
   "cell_type": "code",
   "execution_count": 13,
   "id": "29fb8c58-0347-49e7-a149-dbf79d26c132",
   "metadata": {},
   "outputs": [
    {
     "name": "stdout",
     "output_type": "stream",
     "text": [
      " *  *  *  *  *  *  *  *  *  *  * \n",
      " *  *  *  *  *  *  *  *  * \n",
      "  *  *  *  *  *  *  * \n",
      "   *  *  *  *  * \n",
      "    *  *  * \n",
      "     * \n"
     ]
    }
   ],
   "source": [
    "for i in range(6,0,-1):\n",
    "    print(' ' * (5-i) + ' * ' *(2*i-1))"
   ]
  },
  {
   "cell_type": "code",
   "execution_count": 14,
   "id": "a366d7ba-7feb-4a42-bf3c-5894bc411686",
   "metadata": {},
   "outputs": [
    {
     "name": "stdout",
     "output_type": "stream",
     "text": [
      "range(6, 0)\n"
     ]
    }
   ],
   "source": [
    "print (range(6,0))"
   ]
  },
  {
   "cell_type": "code",
   "execution_count": 15,
   "id": "a7c2584e-839b-48bb-91fd-5e2a31ded41f",
   "metadata": {},
   "outputs": [
    {
     "data": {
      "text/plain": [
       "range(6, 0)"
      ]
     },
     "execution_count": 15,
     "metadata": {},
     "output_type": "execute_result"
    }
   ],
   "source": [
    "range(6,0)"
   ]
  },
  {
   "cell_type": "code",
   "execution_count": 16,
   "id": "d47a24a9-1b0f-49d8-bd2c-9af3b24a37b5",
   "metadata": {},
   "outputs": [
    {
     "name": "stdout",
     "output_type": "stream",
     "text": [
      "6\n",
      "5\n",
      "4\n",
      "3\n",
      "2\n",
      "1\n"
     ]
    }
   ],
   "source": [
    "for i in range(6,0,-1):\n",
    "    print(i)"
   ]
  },
  {
   "cell_type": "markdown",
   "id": "7b676b40-f8db-4c67-8185-4e2185506d3a",
   "metadata": {},
   "source": [
    "Diamond Pattern"
   ]
  },
  {
   "cell_type": "code",
   "execution_count": 17,
   "id": "a214e7c3-7b29-477e-9a8b-533b32e2c5ab",
   "metadata": {},
   "outputs": [
    {
     "name": "stdout",
     "output_type": "stream",
     "text": [
      " * \n",
      " *  *  * \n",
      " *  *  *  *  * \n",
      " *  *  *  *  *  *  * \n",
      " *  *  *  *  *  *  *  *  * \n",
      " *  *  *  *  *  *  *  *  *  *  * \n",
      " *  *  *  *  *  *  *  *  * \n",
      " *  *  *  *  *  *  * \n",
      " *  *  *  *  * \n",
      " *  *  * \n",
      " * \n"
     ]
    }
   ],
   "source": [
    "for i in range(1,6):\n",
    "    print('' * (5-i) + ' * ' * (2*i - 1))\n",
    "for i in range(6,0,-1):\n",
    "    print('' *(5-i)+' * ' * (2*i -1))"
   ]
  },
  {
   "cell_type": "markdown",
   "id": "2313b1bb-e6fa-4833-b8c0-e2a47a7c6b64",
   "metadata": {},
   "source": [
    "Write a program in python to print a dimond pattern in which half of the pattern is * and enother half is # ?\n"
   ]
  },
  {
   "cell_type": "code",
   "execution_count": 18,
   "id": "378d8674-3073-4506-abda-a2e2871cb45e",
   "metadata": {},
   "outputs": [
    {
     "name": "stdout",
     "output_type": "stream",
     "text": [
      " * \n",
      " *  *  * \n",
      " *  *  *  *  * \n",
      " *  *  *  *  *  *  * \n",
      " *  *  *  *  *  *  *  *  * \n",
      " #  #  #  #  #  #  #  #  # \n",
      " #  #  #  #  #  #  # \n",
      " #  #  #  #  # \n",
      " #  #  # \n",
      " # \n"
     ]
    }
   ],
   "source": [
    "for i in range(1,6):\n",
    "    print('' * (5-i) + ' * ' * (2*i - 1))\n",
    "for i in range(5,0,-1):\n",
    "    print('' *(5-i)+' # ' * (2*i -1))"
   ]
  },
  {
   "cell_type": "code",
   "execution_count": 19,
   "id": "4c805a96-4a44-4290-92fd-3130418bbf3e",
   "metadata": {},
   "outputs": [
    {
     "name": "stdout",
     "output_type": "stream",
     "text": [
      " & \n",
      " &  &  & \n",
      " &  &  &  &  & \n",
      " &  &  &  &  &  &  & \n",
      " &  &  &  &  &  &  &  &  & \n",
      " +  +  +  +  +  +  +  +  +  +  + \n",
      " +  +  +  +  +  +  +  +  + \n",
      " +  +  +  +  +  +  + \n",
      " +  +  +  +  + \n",
      " +  +  + \n",
      " + \n"
     ]
    }
   ],
   "source": [
    "for i in range(1,6):\n",
    "    print('' * (5-i) +' & ' *(2*i - 1))\n",
    "for i in range(6,0,-1):\n",
    "    print('' * (5-i) + ' + ' *(2*i - 1))"
   ]
  },
  {
   "cell_type": "markdown",
   "id": "9d6392d5-2d90-4127-b57a-c84dcb880355",
   "metadata": {},
   "source": [
    "Hallow Square Pattern"
   ]
  },
  {
   "cell_type": "code",
   "execution_count": 20,
   "id": "c2bf22e7-f71d-4ccb-b862-d6c16f8046e5",
   "metadata": {},
   "outputs": [
    {
     "name": "stdout",
     "output_type": "stream",
     "text": [
      "*****\n",
      "*   *\n",
      "*   *\n",
      "*   *\n",
      "*****\n"
     ]
    }
   ],
   "source": [
    "for i in range(5):\n",
    "    for j in range(5):\n",
    "        if i ==0 or i ==4 or j==0 or j==4:\n",
    "            print('*' , end='')\n",
    "        else:\n",
    "            print(' ' , end='')\n",
    "    print()\n"
   ]
  },
  {
   "cell_type": "code",
   "execution_count": 21,
   "id": "85ac60fc-5249-43a7-afd1-905b56d626cd",
   "metadata": {},
   "outputs": [
    {
     "name": "stdout",
     "output_type": "stream",
     "text": [
      "*   *\n",
      "*   *\n",
      "*   *\n",
      "*   *\n",
      "*   *\n"
     ]
    }
   ],
   "source": [
    "for i in range(5):\n",
    "    for j in range(5):\n",
    "        if i ==0 and i ==4 or j==0 or j==4:\n",
    "            print('*' , end='')\n",
    "        else:\n",
    "            print(' ' , end='')\n",
    "    print()\n"
   ]
  },
  {
   "cell_type": "code",
   "execution_count": 22,
   "id": "dac70d69-78d8-4564-a69f-f44087113a90",
   "metadata": {},
   "outputs": [
    {
     "name": "stdout",
     "output_type": "stream",
     "text": [
      "    *\n",
      "    *\n",
      "    *\n",
      "    *\n",
      "    *\n"
     ]
    }
   ],
   "source": [
    "for i in range(5):\n",
    "    for j in range(5):\n",
    "        if i ==0 and i ==4 and j==0 or j==4:\n",
    "            print('*' , end='')\n",
    "        else:\n",
    "            print(' ' , end='')\n",
    "    print()\n"
   ]
  },
  {
   "cell_type": "code",
   "execution_count": 23,
   "id": "1ac16d4d-1386-417b-b1c6-ff7bd8203192",
   "metadata": {},
   "outputs": [
    {
     "name": "stdout",
     "output_type": "stream",
     "text": [
      "*****\n",
      "     \n",
      "     \n",
      "     \n",
      "     \n"
     ]
    }
   ],
   "source": [
    "for i in range(5):\n",
    "    for j in range(5):\n",
    "        if i ==0 or i ==4 and j==0 and j==4:\n",
    "            print('*' , end='')\n",
    "        else:\n",
    "            print(' ' , end='')\n",
    "    print()\n"
   ]
  },
  {
   "cell_type": "code",
   "execution_count": 24,
   "id": "e8f3a5c2-1546-4b44-9547-9f450827a452",
   "metadata": {},
   "outputs": [
    {
     "name": "stdout",
     "output_type": "stream",
     "text": [
      "*****\n",
      "    *\n",
      "    *\n",
      "    *\n",
      "*   *\n"
     ]
    }
   ],
   "source": [
    "for i in range(5):\n",
    "    for j in range(5):\n",
    "        if i ==0 or i ==4 and j==0 or j==4:\n",
    "            print('*' , end='')\n",
    "        else:\n",
    "            print(' ' , end='')\n",
    "    print()\n"
   ]
  },
  {
   "cell_type": "code",
   "execution_count": 25,
   "id": "b21f5a8c-f309-4bb4-9a4e-14866de38164",
   "metadata": {},
   "outputs": [
    {
     "name": "stdout",
     "output_type": "stream",
     "text": [
      "******\n",
      "*   * \n",
      "*   * \n",
      "*   * \n",
      "******\n",
      "*   * \n"
     ]
    }
   ],
   "source": [
    "for i in range(6):\n",
    "    for j in range(6):\n",
    "        if i ==0 or i ==4 or j ==0 or j==4:\n",
    "            print('*', end='')\n",
    "        else:\n",
    "            print(' ',end='')\n",
    "    print()\n"
   ]
  },
  {
   "cell_type": "code",
   "execution_count": 26,
   "id": "a6c634b3-9ed0-4cbd-9d58-948ccb4b0e83",
   "metadata": {},
   "outputs": [
    {
     "name": "stdout",
     "output_type": "stream",
     "text": [
      "*******   * *   * *   * *******   * "
     ]
    }
   ],
   "source": [
    "for i in range(6):\n",
    "    for j in range(6):\n",
    "        if i ==0 or i ==4 or j ==0 or j==4:\n",
    "            print('*', end='')\n",
    "        else:\n",
    "            print(' ',end='')\n",
    "    \n"
   ]
  },
  {
   "cell_type": "code",
   "execution_count": 27,
   "id": "0411a2ae-aec8-4a2d-9613-8d92078a0451",
   "metadata": {},
   "outputs": [
    {
     "name": "stdout",
     "output_type": "stream",
     "text": [
      " *  *  *  *  * \n",
      " *  *  *  *  * \n",
      " *  *  *  *  * \n",
      " *  *  *  *  * \n",
      " *  *  *  *  * \n"
     ]
    }
   ],
   "source": [
    "for i in range(5):\n",
    "    print(' * ' *5)"
   ]
  },
  {
   "cell_type": "code",
   "execution_count": 28,
   "id": "77ca0fd5-ca00-4ec2-a1a3-de336ad7d80a",
   "metadata": {},
   "outputs": [
    {
     "name": "stdout",
     "output_type": "stream",
     "text": [
      " *  *  *  *  * \n",
      " *  *  *  * \n",
      " *  *  * \n",
      " *  * \n",
      " * \n"
     ]
    }
   ],
   "source": [
    "for i in range(5,0,-1):\n",
    "    print(' * ' * i)"
   ]
  },
  {
   "cell_type": "code",
   "execution_count": 29,
   "id": "eba8c73d-2407-4f86-8aad-66912a5a498c",
   "metadata": {},
   "outputs": [],
   "source": [
    "detail = ['my', 'name', 'is', 'partha']\n",
    "sen = ''.join(detail)"
   ]
  },
  {
   "cell_type": "code",
   "execution_count": 30,
   "id": "f4a4631f-fdc4-4c24-b4c2-e2ec5b7cb0ee",
   "metadata": {},
   "outputs": [
    {
     "data": {
      "text/plain": [
       "'mynameispartha'"
      ]
     },
     "execution_count": 30,
     "metadata": {},
     "output_type": "execute_result"
    }
   ],
   "source": [
    "sen\n"
   ]
  },
  {
   "cell_type": "code",
   "execution_count": 32,
   "id": "d988203b-75e1-4628-bcf0-8682ab4dbf4b",
   "metadata": {},
   "outputs": [
    {
     "name": "stdout",
     "output_type": "stream",
     "text": [
      "1\n",
      "1 2\n",
      "1 2 3\n",
      "1 2 3 4\n",
      "1 2 3 4 5\n"
     ]
    }
   ],
   "source": [
    "for i in range(1,6):\n",
    "    print(' '.join(str(x) for x in range(1,i+1)))"
   ]
  },
  {
   "cell_type": "code",
   "execution_count": 44,
   "id": "bf6c2db2-426d-41ca-ab0d-daf09e5795de",
   "metadata": {},
   "outputs": [
    {
     "name": "stdout",
     "output_type": "stream",
     "text": [
      "1 2 3 4 5 6 7 8 9 10\n",
      "1 2 3 4 5 6 7 8 9 10 11\n",
      "1 2 3 4 5 6 7 8 9 10 11 12\n",
      "1 2 3 4 5 6 7 8 9 10 11 12 13\n",
      "1 2 3 4 5 6 7 8 9 10 11 12 13 14\n",
      "1 2 3 4 5 6 7 8 9 10 11 12 13 14 15\n"
     ]
    }
   ],
   "source": [
    "for i in range(10,16):\n",
    "    print(' '.join(str(x) for x in range(1,i+1)))"
   ]
  },
  {
   "cell_type": "code",
   "execution_count": 48,
   "id": "b3b0cc3b-1097-40ef-8bce-958dc1fe5d81",
   "metadata": {},
   "outputs": [
    {
     "name": "stdout",
     "output_type": "stream",
     "text": [
      "1 2 3 4 5\n",
      "1 2 3 4\n",
      "1 2 3\n",
      "1 2\n",
      "1\n"
     ]
    }
   ],
   "source": [
    "for i in range(5,0,-1):\n",
    "    print(' '.join(str(x) for x in range (1,i+1)))"
   ]
  },
  {
   "cell_type": "code",
   "execution_count": 50,
   "id": "37196697-01aa-458a-9c35-e0f7371370c6",
   "metadata": {},
   "outputs": [
    {
     "name": "stdout",
     "output_type": "stream",
     "text": [
      "0\n",
      "1\n",
      "2\n"
     ]
    }
   ],
   "source": [
    "for i in range(3):\n",
    "    print(i)"
   ]
  },
  {
   "cell_type": "code",
   "execution_count": 57,
   "id": "0dfd1d79-596e-403b-a9df-ef6378399658",
   "metadata": {},
   "outputs": [
    {
     "name": "stdout",
     "output_type": "stream",
     "text": [
      "1\n",
      "23\n",
      "456\n",
      "78910\n",
      "1112131415\n"
     ]
    }
   ],
   "source": [
    "num = 1\n",
    "for i in range(1,6):\n",
    "    for j in range(1,i+1):\n",
    "        print(num,end='')\n",
    "        num +=1\n",
    "    print()"
   ]
  },
  {
   "cell_type": "code",
   "execution_count": null,
   "id": "7a316677-a170-4b0a-a297-2a3895e99fa0",
   "metadata": {},
   "outputs": [],
   "source": []
  }
 ],
 "metadata": {
  "kernelspec": {
   "display_name": "Python 3 (ipykernel)",
   "language": "python",
   "name": "python3"
  },
  "language_info": {
   "codemirror_mode": {
    "name": "ipython",
    "version": 3
   },
   "file_extension": ".py",
   "mimetype": "text/x-python",
   "name": "python",
   "nbconvert_exporter": "python",
   "pygments_lexer": "ipython3",
   "version": "3.13.5"
  }
 },
 "nbformat": 4,
 "nbformat_minor": 5
}
