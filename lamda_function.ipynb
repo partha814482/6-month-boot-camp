{
 "cells": [
  {
   "cell_type": "markdown",
   "id": "117650d1",
   "metadata": {},
   "source": [
    "Function without name is called as ANONYMOUS FUNCTION or LAMBDA"
   ]
  },
  {
   "cell_type": "code",
   "execution_count": 1,
   "id": "37728458",
   "metadata": {},
   "outputs": [
    {
     "name": "stdout",
     "output_type": "stream",
     "text": [
      "25\n"
     ]
    }
   ],
   "source": [
    "def square(a):\n",
    "    return a * a\n",
    "result = square(5)\n",
    "print(result)\n"
   ]
  },
  {
   "cell_type": "code",
   "execution_count": null,
   "id": "2f7b760e",
   "metadata": {},
   "outputs": [
    {
     "data": {
      "text/plain": [
       "25"
      ]
     },
     "execution_count": 3,
     "metadata": {},
     "output_type": "execute_result"
    }
   ],
   "source": [
    "# lambda function\n",
    "f = lambda a : a* a # here a is an argument & operation in the argument is a * a\n",
    "result = f(5)\n",
    "result\n",
    "# Here anonymous function is called as lambda\n",
    "# Remember lambda always you need to assign as function are object in python\n"
   ]
  },
  {
   "cell_type": "code",
   "execution_count": 4,
   "id": "b70ec38d",
   "metadata": {},
   "outputs": [
    {
     "name": "stdout",
     "output_type": "stream",
     "text": [
      "6\n"
     ]
    }
   ],
   "source": [
    "f = lambda a,b : a+b\n",
    "result = f(1,5)\n",
    "print(result)"
   ]
  },
  {
   "cell_type": "code",
   "execution_count": 6,
   "id": "ce1b8495",
   "metadata": {},
   "outputs": [
    {
     "name": "stdout",
     "output_type": "stream",
     "text": [
      "68\n",
      "73\n",
      "112\n"
     ]
    }
   ],
   "source": [
    "# lets define function which will add 2 number\n",
    "# we are defining a function which does not have name\n",
    "# lambda expression or lambda function\n",
    "\n",
    "f = lambda a,b : a+b\n",
    "f1 = lambda a,b : a-b\n",
    "f2 = lambda a,b : a*b\n",
    "\n",
    "result = f(23,45)\n",
    "result1 = f(50,23)\n",
    "result2 = f(23,89)\n",
    "\n",
    "print(result)\n",
    "print(result1)\n",
    "print(result2)\n"
   ]
  },
  {
   "cell_type": "markdown",
   "id": "8d9fe660",
   "metadata": {},
   "source": [
    "How can we use lambda in other function like - filter(), map(),reduce()\n"
   ]
  },
  {
   "cell_type": "code",
   "execution_count": 7,
   "id": "40e168ea",
   "metadata": {},
   "outputs": [
    {
     "ename": "NameError",
     "evalue": "name 'is_even' is not defined",
     "output_type": "error",
     "traceback": [
      "\u001b[1;31m---------------------------------------------------------------------------\u001b[0m",
      "\u001b[1;31mNameError\u001b[0m                                 Traceback (most recent call last)",
      "Cell \u001b[1;32mIn[7], line 3\u001b[0m\n\u001b[0;32m      1\u001b[0m \u001b[38;5;66;03m# lets take one list & i want to find the list of even numbers\u001b[39;00m\n\u001b[0;32m      2\u001b[0m nums \u001b[38;5;241m=\u001b[39m [\u001b[38;5;241m3\u001b[39m,\u001b[38;5;241m2.6\u001b[39m,\u001b[38;5;241m8\u001b[39m,\u001b[38;5;241m4\u001b[39m,\u001b[38;5;241m6\u001b[39m,\u001b[38;5;241m2\u001b[39m,\u001b[38;5;241m9\u001b[39m]\n\u001b[1;32m----> 3\u001b[0m evens \u001b[38;5;241m=\u001b[39m \u001b[38;5;28mlist\u001b[39m(\u001b[38;5;28mfilter\u001b[39m(\u001b[43mis_even\u001b[49m,nums)) \u001b[38;5;66;03m# is_even is not an inbuild function\u001b[39;00m\n",
      "\u001b[1;31mNameError\u001b[0m: name 'is_even' is not defined"
     ]
    }
   ],
   "source": [
    "# lets take one list & i want to find the list of even numbers\n",
    "nums = [3,2.6,8,4,6,2,9]\n",
    "evens = list(filter(is_even,nums)) # is_even is not an inbuild function"
   ]
  },
  {
   "cell_type": "code",
   "execution_count": 7,
   "id": "c3f58b22",
   "metadata": {},
   "outputs": [
    {
     "name": "stdout",
     "output_type": "stream",
     "text": [
      "[2, 6, 8, 4, 6, 2]\n"
     ]
    }
   ],
   "source": [
    "def is_even(n):\n",
    "    return n % 2 == 0\n",
    "nums = [3,2,6,8,4,6,2,9]\n",
    "evens = list(filter(is_even,nums))\n",
    "print(evens)"
   ]
  },
  {
   "cell_type": "code",
   "execution_count": 8,
   "id": "cc7520ec",
   "metadata": {},
   "outputs": [
    {
     "name": "stdout",
     "output_type": "stream",
     "text": [
      "[3, 9]\n"
     ]
    }
   ],
   "source": [
    "def is_odd(n):\n",
    "    return n % 2 != 0\n",
    "nums = [3,2,6,8,4,6,2,9]\n",
    "odd = list(filter(is_odd,nums))\n",
    "print(odd)"
   ]
  },
  {
   "cell_type": "code",
   "execution_count": 9,
   "id": "6922ae1a",
   "metadata": {},
   "outputs": [
    {
     "name": "stdout",
     "output_type": "stream",
     "text": [
      "[2, 6, 8, 4, 6, 2]\n"
     ]
    }
   ],
   "source": [
    "# lets write the above function using lambda function & lambda helps to reduce the line for better optimization\n",
    "nums = [3,2,6,8,4,6,2,9]\n",
    "evens = list(filter(lambda n : n%2==0,nums))\n",
    "print(evens)"
   ]
  },
  {
   "cell_type": "code",
   "execution_count": 10,
   "id": "9698a327",
   "metadata": {},
   "outputs": [
    {
     "name": "stdout",
     "output_type": "stream",
     "text": [
      "[3, 9]\n"
     ]
    }
   ],
   "source": [
    "nums = [3,2,6,8,4,6,2,9]\n",
    "odd = list(filter(lambda n : n%2 !=0,nums))\n",
    "print(odd)"
   ]
  },
  {
   "cell_type": "code",
   "execution_count": 11,
   "id": "381a3086",
   "metadata": {},
   "outputs": [
    {
     "name": "stdout",
     "output_type": "stream",
     "text": [
      "[2, 6, 8, 4, 6, 2]\n",
      "[3, 9]\n"
     ]
    }
   ],
   "source": [
    "# lets write above function using help of lambda & lambda helps to reduce the line\n",
    "nums = [3,2,6,8,4,6,2,9]\n",
    "evens = list(filter(lambda n : n%2 ==0,nums))\n",
    "odd = list(filter(lambda n : n%2 !=0,nums))\n",
    "\n",
    "print(evens)\n",
    "print(odd)\n"
   ]
  },
  {
   "cell_type": "markdown",
   "id": "52bec571",
   "metadata": {},
   "source": [
    ">> what ever even number I jave form the assigened list \n",
    ">> I want to double the even number ie. 2 becomes 4\\\\ 4 becomes 6 \\\\ 6 becomes 8 and so on\n",
    ">> That we will do using map function\n",
    ">> This largly we are using in google map reduce programming\n",
    ">> we can build using user defind and lambda "
   ]
  },
  {
   "cell_type": "code",
   "execution_count": 12,
   "id": "89119492",
   "metadata": {},
   "outputs": [
    {
     "name": "stdout",
     "output_type": "stream",
     "text": [
      "[2, 6, 8, 4, 6, 2]\n",
      "[4, 8, 10, 6, 8, 4]\n"
     ]
    }
   ],
   "source": [
    "def update(n):\n",
    "    return n+2\n",
    "nums = [3,2,6,8,4,6,2,9]\n",
    "evens = list(filter(is_even,nums))\n",
    "double = list(map(update,evens))\n",
    "\n",
    "print(evens)\n",
    "print(double)"
   ]
  },
  {
   "cell_type": "code",
   "execution_count": 13,
   "id": "c99043c2",
   "metadata": {},
   "outputs": [
    {
     "name": "stdout",
     "output_type": "stream",
     "text": [
      "[2, 6, 8, 4, 6, 2]\n",
      "[4, 12, 16, 8, 12, 4]\n"
     ]
    }
   ],
   "source": [
    "# use lambda function\n",
    "nums = [3,2,6,8,4,6,2,9]\n",
    "evens = list(filter(is_even,nums))\n",
    "double = list(map(lambda n : n*2,evens))\n",
    "\n",
    "print(evens)\n",
    "print(double)"
   ]
  },
  {
   "cell_type": "code",
   "execution_count": 14,
   "id": "b1837fe2",
   "metadata": {},
   "outputs": [
    {
     "name": "stdout",
     "output_type": "stream",
     "text": [
      "[2, 6, 8, 4, 6, 2]\n",
      "[4, 12, 16, 8, 12, 4]\n",
      "[4, 8, 10, 6, 8, 4]\n",
      "[0, 4, 6, 2, 4, 0]\n"
     ]
    }
   ],
   "source": [
    "nums = [3,2,6,8,4,6,2,9]\n",
    "\n",
    "evens = list(filter(is_even,nums))\n",
    "double = list(map(lambda n : n*2,evens))\n",
    "double_ = list(map(lambda n : n+2,evens))\n",
    "double_1 = list(map(lambda n :n-2,evens))\n",
    "\n",
    "print(evens)\n",
    "print(double)\n",
    "print(double_)\n",
    "print(double_1)\n"
   ]
  },
  {
   "cell_type": "code",
   "execution_count": 15,
   "id": "3a97b16e",
   "metadata": {},
   "outputs": [
    {
     "name": "stdout",
     "output_type": "stream",
     "text": [
      "[4, 12, 16, 8, 12, 4]\n",
      "[4, 8, 10, 6, 8, 4]\n"
     ]
    }
   ],
   "source": [
    "nums = [3,2,6,8,4,6,2,9]\n",
    "\n",
    "evens = list(filter(is_even,nums))\n",
    "double = list(map(lambda n : n*2,evens))\n",
    "double_ = list(map(lambda n : n+2,evens))\n",
    "\n",
    "print(double)\n",
    "print(double_)\n"
   ]
  },
  {
   "cell_type": "markdown",
   "id": "178e1d11",
   "metadata": {},
   "source": [
    "===> I want to perform reduce now\n",
    "==> I want to perform reduce all the valurs\n",
    "==> Reduce you can add only 2 values \n",
    "==> [4,12,16,8,12,4] if you sum everithing then you will get 56"
   ]
  },
  {
   "cell_type": "code",
   "execution_count": 16,
   "id": "bd8e39fe",
   "metadata": {},
   "outputs": [
    {
     "name": "stdout",
     "output_type": "stream",
     "text": [
      "40\n"
     ]
    }
   ],
   "source": [
    "from functools import reduce\n",
    "\n",
    "def add_all(a,b):\n",
    "    return a+b\n",
    "\n",
    "nums = [3,2,6,8,4,6,2]\n",
    "evens = list(filter(is_even,nums))\n",
    "double = list(map(lambda n : n+2,evens))\n",
    "\n",
    "sum = reduce(add_all,double)\n",
    "sum\n",
    "print(sum)\n"
   ]
  },
  {
   "cell_type": "code",
   "execution_count": 17,
   "id": "555efc3e",
   "metadata": {},
   "outputs": [
    {
     "name": "stdout",
     "output_type": "stream",
     "text": [
      "40\n"
     ]
    }
   ],
   "source": [
    "from functools import reduce\n",
    "\n",
    "def add_all(a,b):\n",
    "    return a+b\n",
    "\n",
    "nums = [3,2,6,8,4,6,2]\n",
    "evens = list(filter(is_even,nums))\n",
    "double = list(map(lambda n : n+2,evens))\n",
    "\n",
    "sum = reduce(add_all,double)\n",
    "#sum\n",
    "print(sum)\n"
   ]
  },
  {
   "cell_type": "code",
   "execution_count": 18,
   "id": "2af55d10",
   "metadata": {},
   "outputs": [
    {
     "name": "stdout",
     "output_type": "stream",
     "text": [
      "[2, 6, 8, 4, 6, 2]\n",
      "[4, 12, 16, 8, 12, 4]\n",
      "56\n"
     ]
    }
   ],
   "source": [
    "from functools import reduce\n",
    "nums = [3,2,6,8,4,6,2,9]\n",
    "evens = list(filter(is_even,nums))\n",
    "double = list(map(lambda n : n*2, evens))\n",
    "sum = (reduce(lambda a,b : a + b, double))\n",
    "\n",
    "print(evens)\n",
    "print(double)\n",
    "print(sum)\n"
   ]
  },
  {
   "cell_type": "code",
   "execution_count": null,
   "id": "a89775a8",
   "metadata": {},
   "outputs": [],
   "source": []
  },
  {
   "cell_type": "code",
   "execution_count": null,
   "id": "663e4c8d",
   "metadata": {},
   "outputs": [],
   "source": []
  },
  {
   "cell_type": "code",
   "execution_count": null,
   "metadata": {},
   "outputs": [],
   "source": []
  },
  {
   "cell_type": "code",
   "execution_count": null,
   "id": "2268c9e6",
   "metadata": {},
   "outputs": [],
   "source": []
  },
  {
   "cell_type": "code",
   "execution_count": null,
   "id": "9c0b41ba",
   "metadata": {},
   "outputs": [],
   "source": []
  },
  {
   "cell_type": "code",
   "execution_count": null,
   "id": "22a7982f",
   "metadata": {},
   "outputs": [],
   "source": []
  },
  {
   "cell_type": "markdown",
   "id": "3225358f",
   "metadata": {},
   "source": []
  }
 ],
 "metadata": {
  "kernelspec": {
   "display_name": "base",
   "language": "python",
   "name": "python3"
  },
  "language_info": {
   "codemirror_mode": {
    "name": "ipython",
    "version": 3
   },
   "file_extension": ".py",
   "mimetype": "text/x-python",
   "name": "python",
   "nbconvert_exporter": "python",
   "pygments_lexer": "ipython3",
   "version": "3.13.5"
  }
 },
 "nbformat": 4,
 "nbformat_minor": 5
}
