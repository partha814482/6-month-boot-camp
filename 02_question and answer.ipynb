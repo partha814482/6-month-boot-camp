{
 "cells": [
  {
   "cell_type": "code",
   "execution_count": 2,
   "id": "155c8a4e-56ad-40f5-87b0-cb94f7a49e65",
   "metadata": {},
   "outputs": [
    {
     "name": "stdin",
     "output_type": "stream",
     "text": [
      "enter the 1st number  23\n",
      "Enter the 2nd number 45\n",
      "enter the 3rd number 56\n"
     ]
    },
    {
     "name": "stdout",
     "output_type": "stream",
     "text": [
      "the average of the three number is = 41.333333333333336\n"
     ]
    }
   ],
   "source": [
    "number1 = int(input('enter the 1st number '))\n",
    "number2 = int(input('Enter the 2nd number'))\n",
    "number3 = int(input('enter the 3rd number'))\n",
    "sum = number1+number2+number3\n",
    "avg = sum/3\n",
    "print(f'the average of the three number is = {avg}')"
   ]
  },
  {
   "cell_type": "code",
   "execution_count": 5,
   "id": "a34f5ca0-0560-4413-a529-b56311f8b164",
   "metadata": {},
   "outputs": [
    {
     "name": "stdout",
     "output_type": "stream",
     "text": [
      "3.5\n"
     ]
    }
   ],
   "source": [
    "list1 = [1,2,3,4,5,6]\n",
    "total = 0\n",
    "for i in list1:\n",
    "    total = total+i\n",
    "avg = total/len(list1)\n",
    "print(avg)"
   ]
  },
  {
   "cell_type": "code",
   "execution_count": 9,
   "id": "1b40351b-0766-4a06-b454-93cfac2dc2fc",
   "metadata": {},
   "outputs": [
    {
     "name": "stdin",
     "output_type": "stream",
     "text": [
      "enter the string parthasarathi behera\n"
     ]
    },
    {
     "name": "stdout",
     "output_type": "stream",
     "text": [
      "20\n"
     ]
    }
   ],
   "source": [
    "string1 = input('enter the string')\n",
    "count = 0\n",
    "for char in string1:\n",
    "    count = count+1\n",
    "print(count)"
   ]
  },
  {
   "cell_type": "code",
   "execution_count": 12,
   "id": "68e2981f-8ae4-410b-b747-61cf4ab656d5",
   "metadata": {},
   "outputs": [
    {
     "name": "stdin",
     "output_type": "stream",
     "text": [
      "enter the string hello woeld\n"
     ]
    },
    {
     "name": "stdout",
     "output_type": "stream",
     "text": [
      "11\n"
     ]
    }
   ],
   "source": [
    "string1 = input('enter the string')\n",
    "vowels = 'AEIOUaeiou'\n",
    "count = 0\n",
    "\n",
    "for char in string1:\n",
    "    count = count+1\n",
    "print(count)"
   ]
  },
  {
   "cell_type": "code",
   "execution_count": 13,
   "id": "4ddce62a-8fcb-413b-83bb-2fa44fd81098",
   "metadata": {},
   "outputs": [
    {
     "name": "stdout",
     "output_type": "stream",
     "text": [
      "\n",
      " * \n",
      " *  * \n",
      " *  *  * \n",
      " *  *  *  * \n",
      " *  *  *  *  * \n"
     ]
    }
   ],
   "source": [
    "for i in range(6):\n",
    "    print(' * ' *i)"
   ]
  },
  {
   "cell_type": "code",
   "execution_count": 16,
   "id": "ab1485c2-54c4-41a9-bec0-e6f960f2f4cd",
   "metadata": {},
   "outputs": [
    {
     "name": "stdin",
     "output_type": "stream",
     "text": [
      "enter the number 8\n"
     ]
    },
    {
     "name": "stdout",
     "output_type": "stream",
     "text": [
      "40320\n"
     ]
    }
   ],
   "source": [
    "num = int(input('enter the number'))\n",
    "factor = 1\n",
    "while num>0:\n",
    "    factor = factor *num\n",
    "    num = num-1\n",
    "print(factor)"
   ]
  },
  {
   "cell_type": "code",
   "execution_count": 21,
   "id": "97add562-fc50-49ec-a37e-4f95ae23c38c",
   "metadata": {},
   "outputs": [
    {
     "name": "stdout",
     "output_type": "stream",
     "text": [
      "10\n"
     ]
    }
   ],
   "source": [
    "for i in range(1,11):\n",
    "    sum = 0\n",
    "    sum = sum+i\n",
    "    i = i+1\n",
    "    \n",
    "print(sum)"
   ]
  },
  {
   "cell_type": "code",
   "execution_count": 23,
   "id": "0693bfa8-29bb-4f01-a89f-f9993bd75c81",
   "metadata": {},
   "outputs": [
    {
     "name": "stdout",
     "output_type": "stream",
     "text": [
      "20\n"
     ]
    }
   ],
   "source": [
    "for i in range(1,21):\n",
    "    sum = 0\n",
    "    sum = sum + i\n",
    "print(sum)"
   ]
  },
  {
   "cell_type": "code",
   "execution_count": 30,
   "id": "72f4cb2e-f46c-4ce4-8a37-54dea2637874",
   "metadata": {},
   "outputs": [
    {
     "name": "stdout",
     "output_type": "stream",
     "text": [
      "1\n",
      "3\n",
      "5\n",
      "7\n",
      "9\n",
      "11\n",
      "13\n",
      "15\n",
      "17\n",
      "19\n",
      "21\n",
      "23\n",
      "25\n",
      "27\n",
      "29\n",
      "31\n",
      "33\n",
      "35\n",
      "37\n",
      "39\n",
      "41\n",
      "43\n",
      "45\n",
      "47\n",
      "49\n"
     ]
    }
   ],
   "source": [
    "for num in range(1,51):\n",
    "    if num % 2 ==1:\n",
    "        print(num)"
   ]
  },
  {
   "cell_type": "code",
   "execution_count": 34,
   "id": "34ef3ec4-d040-4bd1-9ca4-d6a8934b5215",
   "metadata": {},
   "outputs": [
    {
     "name": "stdout",
     "output_type": "stream",
     "text": [
      "3\n",
      "5\n",
      "6\n",
      "9\n",
      "10\n",
      "12\n",
      "15\n",
      "18\n",
      "20\n"
     ]
    }
   ],
   "source": [
    "for i in range(1,21):\n",
    "    if i% 3==0 or i%5==0:\n",
    "        print(i)"
   ]
  },
  {
   "cell_type": "code",
   "execution_count": 35,
   "id": "31480aa8-44ec-4f87-9d6a-09e95907c5ba",
   "metadata": {},
   "outputs": [
    {
     "name": "stdout",
     "output_type": "stream",
     "text": [
      "15\n"
     ]
    }
   ],
   "source": [
    "for i in range(1,21):\n",
    "    if i% 3==0 and i%5==0:\n",
    "        print(i)"
   ]
  },
  {
   "cell_type": "code",
   "execution_count": 45,
   "id": "b9c11873-2a7b-486d-97d9-0d151afd618e",
   "metadata": {},
   "outputs": [
    {
     "name": "stdout",
     "output_type": "stream",
     "text": [
      "the sum of number from number is 1\n",
      "the sum of number from number is 4\n",
      "the sum of number from number is 9\n",
      "the sum of number from number is 16\n",
      "the sum of number from number is 25\n",
      "the sum of number from number is 36\n",
      "the sum of number from number is 49\n",
      "the sum of number from number is 64\n",
      "the sum of number from number is 81\n",
      "the sum of number from number is 100\n"
     ]
    }
   ],
   "source": [
    "for i in range(1,11):\n",
    "    i = i*i\n",
    "    print(f'the sum of number from number is {i}')"
   ]
  },
  {
   "cell_type": "code",
   "execution_count": 52,
   "id": "e0543904-99b0-445a-9c86-c0e2748c4d36",
   "metadata": {},
   "outputs": [
    {
     "name": "stdout",
     "output_type": "stream",
     "text": [
      "2\n",
      "4\n",
      "6\n",
      "8\n",
      "10\n",
      "12\n",
      "14\n",
      "16\n",
      "18\n",
      "20\n",
      "out of the range\n"
     ]
    }
   ],
   "source": [
    "for i in range(1,21):\n",
    "    if i % 2 ==0:\n",
    "        \n",
    "        print(i)\n",
    "    \n",
    "else:\n",
    "        print('out of the range')"
   ]
  },
  {
   "cell_type": "code",
   "execution_count": 54,
   "id": "05459ea4-08f5-4487-9cf0-e8e04206b465",
   "metadata": {},
   "outputs": [
    {
     "name": "stdout",
     "output_type": "stream",
     "text": [
      "1\n",
      "3\n",
      "5\n",
      "7\n",
      "9\n",
      "11\n",
      "13\n",
      "15\n",
      "17\n",
      "19\n",
      "out of the range\n"
     ]
    }
   ],
   "source": [
    "for i in range(1,21):\n",
    "    if i % 2 ==0:\n",
    "        continue\n",
    "        \n",
    "    print(i)\n",
    "    \n",
    "else:\n",
    "        print('out of the range')"
   ]
  },
  {
   "cell_type": "code",
   "execution_count": 56,
   "id": "9ed14d7b-3201-4cc2-b96e-0da7dacf23ed",
   "metadata": {},
   "outputs": [
    {
     "name": "stdout",
     "output_type": "stream",
     "text": [
      "1\n",
      "2\n",
      "3\n",
      "5\n",
      "6\n",
      "7\n",
      "9\n",
      "10\n",
      "11\n",
      "13\n",
      "14\n",
      "15\n",
      "17\n",
      "18\n",
      "19\n"
     ]
    }
   ],
   "source": [
    "for i in range(1,20):\n",
    "    if i %4 ==0:\n",
    "        continue\n",
    "    print(i)"
   ]
  },
  {
   "cell_type": "code",
   "execution_count": 58,
   "id": "9e424089-67c5-4ac9-b80f-724ddda4bfd6",
   "metadata": {},
   "outputs": [
    {
     "name": "stdout",
     "output_type": "stream",
     "text": [
      "1\n",
      "2\n",
      "4\n",
      "5\n",
      "6\n",
      "7\n",
      "8\n",
      "9\n",
      "10\n",
      "11\n",
      "12\n",
      "13\n",
      "14\n",
      "15\n",
      "16\n",
      "17\n",
      "18\n",
      "19\n",
      "20\n",
      "21\n",
      "22\n",
      "23\n",
      "24\n",
      "25\n",
      "26\n",
      "27\n"
     ]
    }
   ],
   "source": [
    "for i in range(1,28):\n",
    "    if i ==3:\n",
    "        \n",
    "        continue\n",
    "    print(i)"
   ]
  },
  {
   "cell_type": "code",
   "execution_count": 59,
   "id": "0d012028-2337-41d2-9762-3077281a677d",
   "metadata": {},
   "outputs": [
    {
     "name": "stdout",
     "output_type": "stream",
     "text": [
      "1\n",
      "2\n"
     ]
    }
   ],
   "source": [
    "for i in range(1,28):\n",
    "    if i ==3:\n",
    "        \n",
    "        break\n",
    "    print(i)"
   ]
  },
  {
   "cell_type": "code",
   "execution_count": 60,
   "id": "fd4d2aa7-5d57-44a4-8968-a7ee7df56fc5",
   "metadata": {},
   "outputs": [
    {
     "name": "stdout",
     "output_type": "stream",
     "text": [
      "1\n",
      "2\n",
      "3\n",
      "4\n",
      "5\n",
      "6\n",
      "7\n",
      "8\n",
      "9\n",
      "10\n"
     ]
    }
   ],
   "source": [
    "for i in range(1,11):\n",
    "    if i >0:\n",
    "        print(i)"
   ]
  },
  {
   "cell_type": "code",
   "execution_count": 64,
   "id": "90c18361-5588-4f3f-90e6-258559cdf805",
   "metadata": {},
   "outputs": [
    {
     "name": "stdout",
     "output_type": "stream",
     "text": [
      "the sum of number is 0\n",
      "the sum of number is 1\n",
      "the sum of number is 2\n",
      "the sum of number is 3\n",
      "the sum of number is 4\n",
      "the sum of number is 5\n",
      "the sum of number is 6\n",
      "the sum of number is 7\n",
      "the sum of number is 8\n",
      "the sum of number is 9\n"
     ]
    }
   ],
   "source": [
    "for i in range(10):\n",
    "    sum = 0 \n",
    "    sum = sum +i\n",
    "    print (f'the sum of number is {sum}')"
   ]
  },
  {
   "cell_type": "code",
   "execution_count": 1,
   "id": "43e36ed3-697a-4597-a262-8799f829a846",
   "metadata": {},
   "outputs": [
    {
     "name": "stdin",
     "output_type": "stream",
     "text": [
      "enter the number 80\n"
     ]
    },
    {
     "name": "stdout",
     "output_type": "stream",
     "text": [
      "even\n"
     ]
    }
   ],
   "source": [
    "num = int(input('enter the number'))\n",
    "if num %2 ==0:\n",
    "    print('even')\n",
    "else:\n",
    "    print('odd')"
   ]
  },
  {
   "cell_type": "code",
   "execution_count": 2,
   "id": "385a96bd-630b-438f-b0e9-e7eb39655c9b",
   "metadata": {},
   "outputs": [
    {
     "name": "stdin",
     "output_type": "stream",
     "text": [
      "enter the age 56\n"
     ]
    },
    {
     "name": "stdout",
     "output_type": "stream",
     "text": [
      "eligible for vote\n"
     ]
    }
   ],
   "source": [
    "age = int(input('enter the age'))\n",
    "if age >= 18:\n",
    "    print('eligible for vote')\n",
    "else:\n",
    "    print('not eligible to vote')\n"
   ]
  },
  {
   "cell_type": "code",
   "execution_count": 3,
   "id": "4e991d86-17f9-42c4-ba2f-77c08baa4a56",
   "metadata": {},
   "outputs": [
    {
     "name": "stdin",
     "output_type": "stream",
     "text": [
      "enter the year 2000\n"
     ]
    },
    {
     "name": "stdout",
     "output_type": "stream",
     "text": [
      "leap year\n"
     ]
    }
   ],
   "source": [
    "year = int(input('enter the year'))\n",
    "if year % 4 ==0:\n",
    "    print('leap year')\n",
    "else:\n",
    "    print('not leap year')"
   ]
  },
  {
   "cell_type": "code",
   "execution_count": 5,
   "id": "72eb702b-3975-482f-a0cd-bd7b8c1d6fa7",
   "metadata": {},
   "outputs": [
    {
     "name": "stdin",
     "output_type": "stream",
     "text": [
      "enter the number  -2\n"
     ]
    },
    {
     "name": "stdout",
     "output_type": "stream",
     "text": [
      "-ve\n"
     ]
    }
   ],
   "source": [
    "number = int(input('enter the number '))\n",
    "if number > 0 :\n",
    "    print('+ve')\n",
    "elif number < 0:\n",
    "    print('-ve')\n",
    "else:\n",
    "    print('zero')"
   ]
  },
  {
   "cell_type": "code",
   "execution_count": 8,
   "id": "896ae94f-c33c-4377-9fd7-41d819e94402",
   "metadata": {},
   "outputs": [
    {
     "name": "stdin",
     "output_type": "stream",
     "text": [
      "enter the num1 23\n",
      "enter the num2 45\n"
     ]
    },
    {
     "name": "stdout",
     "output_type": "stream",
     "text": [
      "gratter\n"
     ]
    }
   ],
   "source": [
    "num1 = int(input('enter the num1'))\n",
    "num2 = int(input('enter the num2'))\n",
    "if num1<num2:\n",
    "    print('gratter')\n",
    "else:\n",
    "    print('not gratter')\n"
   ]
  },
  {
   "cell_type": "code",
   "execution_count": 10,
   "id": "cd2f2ab9-2d77-49bd-a168-9be730e6b695",
   "metadata": {},
   "outputs": [
    {
     "name": "stdin",
     "output_type": "stream",
     "text": [
      "emter the number 56\n"
     ]
    },
    {
     "name": "stdout",
     "output_type": "stream",
     "text": [
      "not multiplication by 5\n"
     ]
    }
   ],
   "source": [
    "num = int(input('emter the number'))\n",
    "if num % 5==0:\n",
    "    print('number  is multiplication of 5')\n",
    "else:\n",
    "    print('not multiplication by 5')"
   ]
  },
  {
   "cell_type": "code",
   "execution_count": 12,
   "id": "e590a05f-41ed-4e78-b970-fcc18eca660d",
   "metadata": {},
   "outputs": [
    {
     "name": "stdin",
     "output_type": "stream",
     "text": [
      "enter the string apple\n"
     ]
    },
    {
     "name": "stdout",
     "output_type": "stream",
     "text": [
      "consonent\n"
     ]
    }
   ],
   "source": [
    "str = input('enter the string').lower()\n",
    "if str in 'aeiou':\n",
    "    print('vowel')\n",
    "else:\n",
    "    print('consonent')"
   ]
  },
  {
   "cell_type": "code",
   "execution_count": 12,
   "id": "4ead8523-2b82-4640-966e-da6399373e7c",
   "metadata": {},
   "outputs": [
    {
     "name": "stdout",
     "output_type": "stream",
     "text": [
      "6\n"
     ]
    }
   ],
   "source": [
    "count = 0\n",
    "for i in range(3):\n",
    "    for j in range(3):\n",
    "        count = count+1\n",
    "        if count % 2==0:\n",
    "            break\n",
    "print(count)"
   ]
  },
  {
   "cell_type": "code",
   "execution_count": 13,
   "id": "6b1e73bd-207f-4baf-be08-a6157e43c960",
   "metadata": {},
   "outputs": [
    {
     "ename": "TypeError",
     "evalue": "'tuple' object does not support item assignment",
     "output_type": "error",
     "traceback": [
      "\u001b[1;31m---------------------------------------------------------------------------\u001b[0m",
      "\u001b[1;31mTypeError\u001b[0m                                 Traceback (most recent call last)",
      "Cell \u001b[1;32mIn[13], line 2\u001b[0m\n\u001b[0;32m      1\u001b[0m t \u001b[38;5;241m=\u001b[39m (\u001b[38;5;241m1\u001b[39m,[\u001b[38;5;241m2\u001b[39m,\u001b[38;5;241m3\u001b[39m])\n\u001b[1;32m----> 2\u001b[0m t[\u001b[38;5;241m1\u001b[39m] \u001b[38;5;241m=\u001b[39m t[\u001b[38;5;241m1\u001b[39m]\u001b[38;5;241m+\u001b[39m[\u001b[38;5;241m4\u001b[39m,\u001b[38;5;241m5\u001b[39m]\n\u001b[0;32m      3\u001b[0m \u001b[38;5;28mprint\u001b[39m(t)\n",
      "\u001b[1;31mTypeError\u001b[0m: 'tuple' object does not support item assignment"
     ]
    }
   ],
   "source": [
    "t = (1,[2,3])\n",
    "t[1] = t[1]+[4,5]\n",
    "print(t)"
   ]
  },
  {
   "cell_type": "code",
   "execution_count": 14,
   "id": "db0c9b95-93ab-43e0-bc76-e9412355dfa7",
   "metadata": {},
   "outputs": [
    {
     "name": "stdout",
     "output_type": "stream",
     "text": [
      "GE\n"
     ]
    }
   ],
   "source": [
    "s = 'ABCDEFG'\n",
    "print(s[10:2:-2])"
   ]
  },
  {
   "cell_type": "code",
   "execution_count": 15,
   "id": "21395648-a44a-4319-a2c2-cf4cfc275009",
   "metadata": {},
   "outputs": [
    {
     "name": "stdout",
     "output_type": "stream",
     "text": [
      "True\n"
     ]
    }
   ],
   "source": [
    "x = True + 2* False\n",
    "print(x == 1)"
   ]
  },
  {
   "cell_type": "code",
   "execution_count": 16,
   "id": "f094fd8b-4f4a-44ee-9cdf-ba9123961248",
   "metadata": {},
   "outputs": [
    {
     "name": "stdout",
     "output_type": "stream",
     "text": [
      "[2, 4]\n"
     ]
    }
   ],
   "source": [
    "lst = [i for i in range(5) if i %2 ==0 if i>1]\n",
    "print(lst)"
   ]
  },
  {
   "cell_type": "code",
   "execution_count": 18,
   "id": "a00906b6-43f4-445b-927b-4ccb7d40d01e",
   "metadata": {},
   "outputs": [
    {
     "name": "stdout",
     "output_type": "stream",
     "text": [
      "[[2 3 4]\n",
      " [3 4 5]\n",
      " [4 5 6]]\n"
     ]
    }
   ],
   "source": [
    "import numpy as np\n",
    "a = np.array([1,2,3])\n",
    "b = np.array([[1],[2],[3]])\n",
    "print(a+b)"
   ]
  },
  {
   "cell_type": "code",
   "execution_count": 19,
   "id": "f1464409-e253-4985-bf1b-6b014d661f5c",
   "metadata": {},
   "outputs": [
    {
     "data": {
      "text/html": [
       "<div>\n",
       "<style scoped>\n",
       "    .dataframe tbody tr th:only-of-type {\n",
       "        vertical-align: middle;\n",
       "    }\n",
       "\n",
       "    .dataframe tbody tr th {\n",
       "        vertical-align: top;\n",
       "    }\n",
       "\n",
       "    .dataframe thead th {\n",
       "        text-align: right;\n",
       "    }\n",
       "</style>\n",
       "<table border=\"1\" class=\"dataframe\">\n",
       "  <thead>\n",
       "    <tr style=\"text-align: right;\">\n",
       "      <th></th>\n",
       "      <th>A</th>\n",
       "    </tr>\n",
       "  </thead>\n",
       "  <tbody>\n",
       "    <tr>\n",
       "      <th>0</th>\n",
       "      <td>1</td>\n",
       "    </tr>\n",
       "    <tr>\n",
       "      <th>1</th>\n",
       "      <td>2</td>\n",
       "    </tr>\n",
       "    <tr>\n",
       "      <th>2</th>\n",
       "      <td>3</td>\n",
       "    </tr>\n",
       "  </tbody>\n",
       "</table>\n",
       "</div>"
      ],
      "text/plain": [
       "   A\n",
       "0  1\n",
       "1  2\n",
       "2  3"
      ]
     },
     "execution_count": 19,
     "metadata": {},
     "output_type": "execute_result"
    }
   ],
   "source": [
    "import pandas as pd\n",
    "df = pd.DataFrame({'A':[1,2,3]})\n",
    "df"
   ]
  },
  {
   "cell_type": "code",
   "execution_count": 20,
   "id": "e58a6821-c0b8-43e1-802b-93e32118bdb9",
   "metadata": {},
   "outputs": [
    {
     "name": "stdout",
     "output_type": "stream",
     "text": [
      "   A\n",
      "0  1\n",
      "1  3\n",
      "2  4\n"
     ]
    }
   ],
   "source": [
    "import pandas as pd\n",
    "df = pd.DataFrame({'A':[1,2,3]})\n",
    "df['A'] += df['A']>1\n",
    "print(df)"
   ]
  },
  {
   "cell_type": "code",
   "execution_count": 21,
   "id": "89b3f1a2-bbc4-4455-8b96-b79e75442c38",
   "metadata": {},
   "outputs": [
    {
     "name": "stdout",
     "output_type": "stream",
     "text": [
      "8\n"
     ]
    }
   ],
   "source": [
    "i = 1\n",
    "while i<10:\n",
    "    i *= 2\n",
    "    if i>5:\n",
    "        break\n",
    "else:\n",
    "    print('done')\n",
    "print(i)"
   ]
  },
  {
   "cell_type": "code",
   "execution_count": 22,
   "id": "ffc532ec-6035-4449-be8f-25a252c7f3c6",
   "metadata": {},
   "outputs": [
    {
     "name": "stdout",
     "output_type": "stream",
     "text": [
      "[[0, 5], [0, 5]]\n"
     ]
    }
   ],
   "source": [
    "lst = [[0]*2]*2\n",
    "lst[1][1] = 5\n",
    "print(lst)"
   ]
  },
  {
   "cell_type": "code",
   "execution_count": 26,
   "id": "6f74d27e-a3c1-4373-abe9-6e86734b1a76",
   "metadata": {},
   "outputs": [
    {
     "data": {
      "text/plain": [
       "[[0, 5], [0, 5], [0, 5]]"
      ]
     },
     "execution_count": 26,
     "metadata": {},
     "output_type": "execute_result"
    }
   ],
   "source": [
    "lst =[[0]*2] * 3\n",
    "lst[1][1] = 5\n",
    "lst"
   ]
  },
  {
   "cell_type": "code",
   "execution_count": 27,
   "id": "7da775ef-5592-40c1-88e5-4511a3eda718",
   "metadata": {},
   "outputs": [
    {
     "data": {
      "text/plain": [
       "2"
      ]
     },
     "execution_count": 27,
     "metadata": {},
     "output_type": "execute_result"
    }
   ],
   "source": [
    "x = 2+3*4**2//8%3\n",
    "x"
   ]
  },
  {
   "cell_type": "code",
   "execution_count": 28,
   "id": "3bd651ff-7fff-4fb6-87e1-b11f1447607c",
   "metadata": {},
   "outputs": [
    {
     "name": "stdout",
     "output_type": "stream",
     "text": [
      "[1, 2, 3, 4, 5]\n"
     ]
    }
   ],
   "source": [
    "a = [1,2,3,4]\n",
    "b = a\n",
    "b.append(5)\n",
    "print(a)"
   ]
  },
  {
   "cell_type": "code",
   "execution_count": 29,
   "id": "7eac0aeb-774e-41b6-8a2a-b11bc51ae983",
   "metadata": {},
   "outputs": [
    {
     "name": "stdout",
     "output_type": "stream",
     "text": [
      "[1, 2, 3, 4, 5]\n"
     ]
    }
   ],
   "source": [
    "a = [1,2,3,4]\n",
    "b = a\n",
    "b.append(5)\n",
    "print(b)"
   ]
  },
  {
   "cell_type": "code",
   "execution_count": 30,
   "id": "035f8db0-eeb7-4a98-a69a-05fffcb62803",
   "metadata": {},
   "outputs": [
    {
     "name": "stdout",
     "output_type": "stream",
     "text": [
      "[1, 2, 3]\n"
     ]
    }
   ],
   "source": [
    "a = [1,2]; b = a ; b+=[3]\n",
    "print(a)"
   ]
  },
  {
   "cell_type": "code",
   "execution_count": 31,
   "id": "02652174-1094-4b37-890f-713372a36fa6",
   "metadata": {},
   "outputs": [
    {
     "data": {
      "text/plain": [
       "{1, 4}"
      ]
     },
     "execution_count": 31,
     "metadata": {},
     "output_type": "execute_result"
    }
   ],
   "source": [
    "s1 = {1,2,3}\n",
    "s2 = {2,3,4}\n",
    "s1^s2"
   ]
  },
  {
   "cell_type": "code",
   "execution_count": 32,
   "id": "a3c2b61d-3867-4995-9c03-265cdf8746ce",
   "metadata": {},
   "outputs": [
    {
     "data": {
      "text/plain": [
       "{1, 2}"
      ]
     },
     "execution_count": 32,
     "metadata": {},
     "output_type": "execute_result"
    }
   ],
   "source": [
    "s = {1,2,3}\n",
    "s.discard(5)\n",
    "s.remove(3)\n",
    "s"
   ]
  },
  {
   "cell_type": "code",
   "execution_count": 33,
   "id": "0ad68887-039f-48bb-9b57-a7c21cb6b622",
   "metadata": {},
   "outputs": [
    {
     "name": "stdout",
     "output_type": "stream",
     "text": [
      "[4, 3, 2]\n"
     ]
    }
   ],
   "source": [
    "lst = [0,1,2,3,4,5]\n",
    "print(lst[-2:-5:-1])"
   ]
  },
  {
   "cell_type": "code",
   "execution_count": 34,
   "id": "21d94f2c-13ed-4af4-b2b0-9c710b38247e",
   "metadata": {},
   "outputs": [
    {
     "name": "stdout",
     "output_type": "stream",
     "text": [
      "[]\n"
     ]
    }
   ],
   "source": [
    "lst = [0,1,2,3,4,5]\n",
    "print(lst[-2:-5])"
   ]
  },
  {
   "cell_type": "code",
   "execution_count": 35,
   "id": "f87596ca-2eae-4d54-95d9-690369faec3c",
   "metadata": {},
   "outputs": [
    {
     "ename": "AttributeError",
     "evalue": "module 'numpy' has no attribute 'arr'",
     "output_type": "error",
     "traceback": [
      "\u001b[1;31m---------------------------------------------------------------------------\u001b[0m",
      "\u001b[1;31mAttributeError\u001b[0m                            Traceback (most recent call last)",
      "Cell \u001b[1;32mIn[35], line 1\u001b[0m\n\u001b[1;32m----> 1\u001b[0m arr \u001b[38;5;241m=\u001b[39m np\u001b[38;5;241m.\u001b[39marr([\u001b[38;5;241m1\u001b[39m,\u001b[38;5;241m2\u001b[39m,\u001b[38;5;241m3\u001b[39m],dtype \u001b[38;5;241m=\u001b[39m \u001b[38;5;28mfloat\u001b[39m)\n\u001b[0;32m      2\u001b[0m arr[\u001b[38;5;241m0\u001b[39m] \u001b[38;5;241m=\u001b[39m \u001b[38;5;124m'\u001b[39m\u001b[38;5;124m4\u001b[39m\u001b[38;5;124m'\u001b[39m\n\u001b[0;32m      3\u001b[0m arr\n",
      "File \u001b[1;32m~\\AppData\\Roaming\\Python\\Python313\\site-packages\\numpy\\__init__.py:808\u001b[0m, in \u001b[0;36m__getattr__\u001b[1;34m(attr)\u001b[0m\n\u001b[0;32m    805\u001b[0m     \u001b[38;5;28;01mimport\u001b[39;00m\u001b[38;5;250m \u001b[39m\u001b[38;5;21;01mnumpy\u001b[39;00m\u001b[38;5;21;01m.\u001b[39;00m\u001b[38;5;21;01mchar\u001b[39;00m\u001b[38;5;250m \u001b[39m\u001b[38;5;28;01mas\u001b[39;00m\u001b[38;5;250m \u001b[39m\u001b[38;5;21;01mchar\u001b[39;00m\n\u001b[0;32m    806\u001b[0m     \u001b[38;5;28;01mreturn\u001b[39;00m char\u001b[38;5;241m.\u001b[39mchararray\n\u001b[1;32m--> 808\u001b[0m \u001b[38;5;28;01mraise\u001b[39;00m \u001b[38;5;167;01mAttributeError\u001b[39;00m(\u001b[38;5;124mf\u001b[39m\u001b[38;5;124m\"\u001b[39m\u001b[38;5;124mmodule \u001b[39m\u001b[38;5;132;01m{\u001b[39;00m\u001b[38;5;18m__name__\u001b[39m\u001b[38;5;132;01m!r}\u001b[39;00m\u001b[38;5;124m has no attribute \u001b[39m\u001b[38;5;132;01m{\u001b[39;00mattr\u001b[38;5;132;01m!r}\u001b[39;00m\u001b[38;5;124m\"\u001b[39m)\n",
      "\u001b[1;31mAttributeError\u001b[0m: module 'numpy' has no attribute 'arr'"
     ]
    }
   ],
   "source": [
    "arr = np.arr([1,2,3],dtype = float)\n",
    "arr[0] = '4'\n",
    "arr"
   ]
  },
  {
   "cell_type": "code",
   "execution_count": 36,
   "id": "3ba15fa0-67af-4323-ab89-65f554eaa1d2",
   "metadata": {},
   "outputs": [
    {
     "data": {
      "text/plain": [
       "123"
      ]
     },
     "execution_count": 36,
     "metadata": {},
     "output_type": "execute_result"
    }
   ],
   "source": [
    "int('123')"
   ]
  },
  {
   "cell_type": "code",
   "execution_count": 37,
   "id": "00a87a09-7455-4d79-a53c-4f27b7f5334e",
   "metadata": {},
   "outputs": [
    {
     "data": {
      "text/plain": [
       "12.3"
      ]
     },
     "execution_count": 37,
     "metadata": {},
     "output_type": "execute_result"
    }
   ],
   "source": [
    "float('12.3')"
   ]
  },
  {
   "cell_type": "code",
   "execution_count": 38,
   "id": "a74a8e96-b2f7-41dd-90dd-955866c28592",
   "metadata": {},
   "outputs": [
    {
     "data": {
      "text/plain": [
       "'123'"
      ]
     },
     "execution_count": 38,
     "metadata": {},
     "output_type": "execute_result"
    }
   ],
   "source": [
    "str(123)"
   ]
  },
  {
   "cell_type": "code",
   "execution_count": 40,
   "id": "7c3a3fcf-9fa0-4c72-8ac3-2ae73b69fd51",
   "metadata": {},
   "outputs": [
    {
     "ename": "ValueError",
     "evalue": "invalid literal for int() with base 10: '12.3'",
     "output_type": "error",
     "traceback": [
      "\u001b[1;31m---------------------------------------------------------------------------\u001b[0m",
      "\u001b[1;31mValueError\u001b[0m                                Traceback (most recent call last)",
      "Cell \u001b[1;32mIn[40], line 1\u001b[0m\n\u001b[1;32m----> 1\u001b[0m \u001b[38;5;28mint\u001b[39m(\u001b[38;5;124m'\u001b[39m\u001b[38;5;124m12.3\u001b[39m\u001b[38;5;124m'\u001b[39m)\n",
      "\u001b[1;31mValueError\u001b[0m: invalid literal for int() with base 10: '12.3'"
     ]
    }
   ],
   "source": [
    "int('12.3')"
   ]
  },
  {
   "cell_type": "code",
   "execution_count": 41,
   "id": "e9413491-be20-4bde-bf3a-aef25e7fd835",
   "metadata": {},
   "outputs": [
    {
     "data": {
      "text/plain": [
       "'abcabcabc'"
      ]
     },
     "execution_count": 41,
     "metadata": {},
     "output_type": "execute_result"
    }
   ],
   "source": [
    "'abc'*3"
   ]
  },
  {
   "cell_type": "code",
   "execution_count": 42,
   "id": "19b0a10e-6006-4dc5-88ea-4edbde1e6ae7",
   "metadata": {},
   "outputs": [
    {
     "data": {
      "text/plain": [
       "'abcabcabc33'"
      ]
     },
     "execution_count": 42,
     "metadata": {},
     "output_type": "execute_result"
    }
   ],
   "source": [
    "'abc'*3 + '3'*2"
   ]
  },
  {
   "cell_type": "code",
   "execution_count": 44,
   "id": "13c7cc87-7c78-403a-a446-18390ef70397",
   "metadata": {},
   "outputs": [
    {
     "data": {
      "text/plain": [
       "2"
      ]
     },
     "execution_count": 44,
     "metadata": {},
     "output_type": "execute_result"
    }
   ],
   "source": [
    "4//2"
   ]
  },
  {
   "cell_type": "markdown",
   "id": "64d1df83-b66f-48a7-ad2c-5caf5bd91048",
   "metadata": {},
   "source": [
    "Linear Algebra Function"
   ]
  },
  {
   "cell_type": "code",
   "execution_count": 46,
   "id": "2ec5260f-e849-42c9-9b33-fb8a5d848074",
   "metadata": {},
   "outputs": [
    {
     "data": {
      "text/plain": [
       "array([[1, 2],\n",
       "       [3, 4]])"
      ]
     },
     "execution_count": 46,
     "metadata": {},
     "output_type": "execute_result"
    }
   ],
   "source": [
    "# create a matrix\n",
    "m = np.array([[1,2],[3,4]])\n",
    "m"
   ]
  },
  {
   "cell_type": "code",
   "execution_count": 48,
   "id": "56da7f5b-13cc-4de7-9edd-3481a941a65a",
   "metadata": {},
   "outputs": [
    {
     "data": {
      "text/plain": [
       "np.float64(-2.0000000000000004)"
      ]
     },
     "execution_count": 48,
     "metadata": {},
     "output_type": "execute_result"
    }
   ],
   "source": [
    "determinent = np.linalg.det(m)\n",
    "determinent"
   ]
  },
  {
   "cell_type": "code",
   "execution_count": 50,
   "id": "c944de49-5269-4781-97ad-cacc87378457",
   "metadata": {},
   "outputs": [
    {
     "data": {
      "text/plain": [
       "array([[-2. ,  1. ],\n",
       "       [ 1.5, -0.5]])"
      ]
     },
     "execution_count": 50,
     "metadata": {},
     "output_type": "execute_result"
    }
   ],
   "source": [
    "inverse = np.linalg.inv(m)\n",
    "inverse"
   ]
  },
  {
   "cell_type": "markdown",
   "id": "be492a3e-91c0-4db2-9549-c0f73b32c64f",
   "metadata": {},
   "source": [
    "Random Sampling Function"
   ]
  },
  {
   "cell_type": "code",
   "execution_count": 52,
   "id": "ffab68a0-5eb8-47ec-b30c-0b8893cd9000",
   "metadata": {},
   "outputs": [
    {
     "data": {
      "text/plain": [
       "array([0.15915697, 0.93628118, 0.8161081 , 0.50644675])"
      ]
     },
     "execution_count": 52,
     "metadata": {},
     "output_type": "execute_result"
    }
   ],
   "source": [
    "arr = np.random.rand(4)\n",
    "arr"
   ]
  },
  {
   "cell_type": "code",
   "execution_count": 56,
   "id": "530f4f9a-ddb4-4f9c-8e7b-087e348263fd",
   "metadata": {},
   "outputs": [],
   "source": [
    "arr = np.random.rand(12)"
   ]
  },
  {
   "cell_type": "code",
   "execution_count": 57,
   "id": "31999d1b-fc00-468e-a071-5bde060b1352",
   "metadata": {},
   "outputs": [
    {
     "data": {
      "text/plain": [
       "array([0.93496661, 0.92653904, 0.30538714, 0.21423359, 0.86993068,\n",
       "       0.737426  , 0.21186371, 0.72400206, 0.64965375, 0.48989649,\n",
       "       0.04680576, 0.90410315])"
      ]
     },
     "execution_count": 57,
     "metadata": {},
     "output_type": "execute_result"
    }
   ],
   "source": [
    "arr"
   ]
  },
  {
   "cell_type": "code",
   "execution_count": 63,
   "id": "c220f2e0-dff2-46cd-a6ca-77ac0b0df4ba",
   "metadata": {},
   "outputs": [
    {
     "data": {
      "text/plain": [
       "array([ 3,  0,  3, 10, 11], dtype=int32)"
      ]
     },
     "execution_count": 63,
     "metadata": {},
     "output_type": "execute_result"
    }
   ],
   "source": [
    "arr = np.random.randint(12,size = 5)\n",
    "arr"
   ]
  },
  {
   "cell_type": "code",
   "execution_count": 64,
   "id": "55bdcbf7-5f5a-472d-99f7-6d9a72c618c5",
   "metadata": {},
   "outputs": [
    {
     "data": {
      "text/plain": [
       "array([0.67881636, 0.23940236, 0.61005493, 0.35101637, 0.75858765])"
      ]
     },
     "execution_count": 64,
     "metadata": {},
     "output_type": "execute_result"
    }
   ],
   "source": [
    "arr = np.random.rand(5)\n",
    "arr"
   ]
  },
  {
   "cell_type": "code",
   "execution_count": 66,
   "id": "739e081c-816b-4a5a-bf55-a199f8fb77eb",
   "metadata": {},
   "outputs": [
    {
     "data": {
      "text/plain": [
       "array([0.44358553, 0.13009398, 0.26938253, 0.92258108, 0.98484345])"
      ]
     },
     "execution_count": 66,
     "metadata": {},
     "output_type": "execute_result"
    }
   ],
   "source": [
    "arr = np.random.rand(5)\n",
    "arr"
   ]
  },
  {
   "cell_type": "code",
   "execution_count": 67,
   "id": "e54ca3fb-aa2e-420e-b814-b4f8b284f4a9",
   "metadata": {},
   "outputs": [
    {
     "data": {
      "text/plain": [
       "array([12,  5, 11,  6,  7], dtype=int32)"
      ]
     },
     "execution_count": 67,
     "metadata": {},
     "output_type": "execute_result"
    }
   ],
   "source": [
    "arr = np.random.randint(5,15,size=5)\n",
    "arr"
   ]
  },
  {
   "cell_type": "code",
   "execution_count": null,
   "id": "b23c3532-9fe7-4706-824a-0daf6ea11fc8",
   "metadata": {},
   "outputs": [],
   "source": []
  }
 ],
 "metadata": {
  "kernelspec": {
   "display_name": "Python 3 (ipykernel)",
   "language": "python",
   "name": "python3"
  },
  "language_info": {
   "codemirror_mode": {
    "name": "ipython",
    "version": 3
   },
   "file_extension": ".py",
   "mimetype": "text/x-python",
   "name": "python",
   "nbconvert_exporter": "python",
   "pygments_lexer": "ipython3",
   "version": "3.13.5"
  }
 },
 "nbformat": 4,
 "nbformat_minor": 5
}
