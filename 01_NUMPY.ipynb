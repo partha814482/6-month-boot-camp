{
 "cells": [
  {
   "cell_type": "code",
   "execution_count": 1,
   "id": "0859eb18-4bd7-4201-a8b5-8ec1bf539841",
   "metadata": {},
   "outputs": [
    {
     "data": {
      "text/plain": [
       "[(1, 6), (2, 7), (3, 8)]"
      ]
     },
     "execution_count": 1,
     "metadata": {},
     "output_type": "execute_result"
    }
   ],
   "source": [
    "# python zip explanation\n",
    "l1 = [1,2,3]\n",
    "l2 = [6,7,8]\n",
    "list(zip(l1,l2))"
   ]
  },
  {
   "cell_type": "code",
   "execution_count": 2,
   "id": "fe8aa888-f706-48a9-b1f9-2d877b9609d3",
   "metadata": {},
   "outputs": [
    {
     "name": "stdout",
     "output_type": "stream",
     "text": [
      "[0, 2, 4, 6, 8, 10, 12, 14, 16, 18]\n",
      "0.00021028518676757812\n"
     ]
    }
   ],
   "source": [
    "#using python list\n",
    "import numpy as np\n",
    "import time\n",
    "size = 100\n",
    "l1 = list(range(size))\n",
    "l2 = list(range(size))\n",
    "start = time.time()\n",
    "add = [x+y for x,y in zip(l1,l2)]\n",
    "end = time.time()\n",
    "print(add[0:10])\n",
    "print(end - start)"
   ]
  },
  {
   "cell_type": "code",
   "execution_count": 3,
   "id": "a412010a-75c2-4068-8885-50e4771782a5",
   "metadata": {},
   "outputs": [
    {
     "name": "stdout",
     "output_type": "stream",
     "text": [
      "[ 0  2  4  6  8 10 12 14 16 18]\n",
      "0.002185821533203125\n"
     ]
    }
   ],
   "source": [
    "# using numpy arrays\n",
    "import numpy as np\n",
    "import time\n",
    "size = 100\n",
    "l1 = np.array(list(range(size)))\n",
    "l2 = np.array(list(range(size)))\n",
    "start = time.time()\n",
    "add = l1+l2\n",
    "print(add[0:10])\n",
    "end = time.time()\n",
    "print(end - start)"
   ]
  },
  {
   "cell_type": "code",
   "execution_count": 4,
   "id": "97f6c381-2593-4e46-94c5-6ea197862f72",
   "metadata": {},
   "outputs": [
    {
     "data": {
      "text/plain": [
       "array([1, 2, 3, 4, 5, 6])"
      ]
     },
     "execution_count": 4,
     "metadata": {},
     "output_type": "execute_result"
    }
   ],
   "source": [
    "np.array([1,2,3,4,5,6])\n"
   ]
  },
  {
   "cell_type": "code",
   "execution_count": 5,
   "id": "1c8de1f9-8772-4cc1-bee4-520a06a8a01b",
   "metadata": {},
   "outputs": [
    {
     "data": {
      "text/plain": [
       "array([[1, 2, 3],\n",
       "       [4, 5, 6]])"
      ]
     },
     "execution_count": 5,
     "metadata": {},
     "output_type": "execute_result"
    }
   ],
   "source": [
    "arr = np.array([[1,2,3],[4,5,6]])\n",
    "arr"
   ]
  },
  {
   "cell_type": "code",
   "execution_count": 6,
   "id": "1e112271-d516-4719-9c15-b7de78eaa882",
   "metadata": {},
   "outputs": [
    {
     "data": {
      "text/plain": [
       "array(list[[12, 3, 456, 89], [123, 34, 56, 66]], dtype=object)"
      ]
     },
     "execution_count": 6,
     "metadata": {},
     "output_type": "execute_result"
    }
   ],
   "source": [
    "arr = np.array(list[[12,3,456,89],[123,34,56,66]])\n",
    "arr"
   ]
  },
  {
   "cell_type": "code",
   "execution_count": 7,
   "id": "da8b40cb-a2c4-4756-9088-9d6e8019db87",
   "metadata": {},
   "outputs": [
    {
     "data": {
      "text/plain": [
       "array([[ 12,   3, 456,  89],\n",
       "       [123,  34,  56,  66]])"
      ]
     },
     "execution_count": 7,
     "metadata": {},
     "output_type": "execute_result"
    }
   ],
   "source": [
    "arr = np.array([[12,3,456,89],[123,34,56,66]])\n",
    "arr"
   ]
  },
  {
   "cell_type": "code",
   "execution_count": 8,
   "id": "624c408d-4f9a-4494-95ac-ee4042c6d0a0",
   "metadata": {},
   "outputs": [
    {
     "data": {
      "text/plain": [
       "numpy.ndarray"
      ]
     },
     "execution_count": 8,
     "metadata": {},
     "output_type": "execute_result"
    }
   ],
   "source": [
    "type(arr)"
   ]
  },
  {
   "cell_type": "code",
   "execution_count": 9,
   "id": "288e5d4a-cfd6-42d5-b584-38f7b0e691f6",
   "metadata": {},
   "outputs": [
    {
     "data": {
      "text/plain": [
       "2"
      ]
     },
     "execution_count": 9,
     "metadata": {},
     "output_type": "execute_result"
    }
   ],
   "source": [
    "len(arr)"
   ]
  },
  {
   "cell_type": "markdown",
   "id": "5dd2521f-2a55-40dd-ab42-314f633ea2ca",
   "metadata": {},
   "source": [
    "CREATING NUMPY ARRAY"
   ]
  },
  {
   "cell_type": "code",
   "execution_count": 10,
   "id": "b2faf677-5772-42ad-9b46-75fdd458edbc",
   "metadata": {},
   "outputs": [],
   "source": [
    "arr1 = np.array([1,2,3,4,5,6])\n",
    "arr2 = np.array([[1,2,3],[23,45,678]])\n",
    "arr3 = np.array([[10,20,30],[11,12,13],[20,21,22],[6,7,8],[45,55,78]])\n"
   ]
  },
  {
   "cell_type": "code",
   "execution_count": 11,
   "id": "b730002c-9249-4b89-932a-a965ae48cf09",
   "metadata": {},
   "outputs": [
    {
     "name": "stdout",
     "output_type": "stream",
     "text": [
      "the 1D array is = [1 2 3 4 5 6]\n",
      "the 2D array is = [[  1   2   3]\n",
      " [ 23  45 678]]\n",
      "the 3D array is = [[10 20 30]\n",
      " [11 12 13]\n",
      " [20 21 22]\n",
      " [ 6  7  8]\n",
      " [45 55 78]]\n"
     ]
    }
   ],
   "source": [
    "print(f'the 1D array is = {arr1}')\n",
    "print(f'the 2D array is = {arr2}')\n",
    "print(f'the 3D array is = {arr3}')"
   ]
  },
  {
   "cell_type": "code",
   "execution_count": 12,
   "id": "f458ec69-7e66-448f-b6ff-fc4714a9165e",
   "metadata": {},
   "outputs": [
    {
     "name": "stdout",
     "output_type": "stream",
     "text": [
      "<class 'numpy.ndarray'>\n",
      "<class 'numpy.ndarray'>\n",
      "<class 'numpy.ndarray'>\n"
     ]
    }
   ],
   "source": [
    "print(type(arr1))\n",
    "print(type(arr2))\n",
    "print(type(arr3))"
   ]
  },
  {
   "cell_type": "code",
   "execution_count": 13,
   "id": "f7a295a5-d36d-45a4-a915-d35d4eb080a4",
   "metadata": {},
   "outputs": [
    {
     "name": "stdout",
     "output_type": "stream",
     "text": [
      "1\n",
      "2\n",
      "2\n"
     ]
    }
   ],
   "source": [
    "print(arr1.ndim)\n",
    "print(arr2.ndim)\n",
    "print(arr3.ndim)"
   ]
  },
  {
   "cell_type": "code",
   "execution_count": 14,
   "id": "5f9bda57-a55f-4ef9-8356-471044850fa6",
   "metadata": {},
   "outputs": [
    {
     "data": {
      "text/plain": [
       "array([[0., 0., 0.],\n",
       "       [0., 0., 0.],\n",
       "       [0., 0., 0.]])"
      ]
     },
     "execution_count": 14,
     "metadata": {},
     "output_type": "execute_result"
    }
   ],
   "source": [
    "np.zeros((3,3))"
   ]
  },
  {
   "cell_type": "code",
   "execution_count": 15,
   "id": "729910d3-6aea-4f76-9130-daf760dedc72",
   "metadata": {},
   "outputs": [
    {
     "data": {
      "text/plain": [
       "array([[1., 1., 1.],\n",
       "       [1., 1., 1.]])"
      ]
     },
     "execution_count": 15,
     "metadata": {},
     "output_type": "execute_result"
    }
   ],
   "source": [
    "np.ones((2,3))"
   ]
  },
  {
   "cell_type": "code",
   "execution_count": 16,
   "id": "3f56924e-c889-42cb-a0c2-4ccceb5e7550",
   "metadata": {},
   "outputs": [
    {
     "data": {
      "text/plain": [
       "array([[5, 5, 5, 5],\n",
       "       [5, 5, 5, 5],\n",
       "       [5, 5, 5, 5]])"
      ]
     },
     "execution_count": 16,
     "metadata": {},
     "output_type": "execute_result"
    }
   ],
   "source": [
    "np.full((3,4),5)"
   ]
  },
  {
   "cell_type": "code",
   "execution_count": 17,
   "id": "11be0bcc-6f23-4ac8-a591-3daf758162bb",
   "metadata": {},
   "outputs": [
    {
     "data": {
      "text/plain": [
       "array([[-1, -1, -1],\n",
       "       [-1, -1, -1],\n",
       "       [-1, -1, -1],\n",
       "       [-1, -1, -1]])"
      ]
     },
     "execution_count": 17,
     "metadata": {},
     "output_type": "execute_result"
    }
   ],
   "source": [
    "np.full((4,3),-1)"
   ]
  },
  {
   "cell_type": "code",
   "execution_count": 18,
   "id": "66de4c46-cfe3-4765-9990-3b6a6bc098d9",
   "metadata": {},
   "outputs": [
    {
     "data": {
      "text/plain": [
       "array([[1., 0., 0., 0.],\n",
       "       [0., 1., 0., 0.],\n",
       "       [0., 0., 1., 0.],\n",
       "       [0., 0., 0., 1.]])"
      ]
     },
     "execution_count": 18,
     "metadata": {},
     "output_type": "execute_result"
    }
   ],
   "source": [
    "np.eye(4) # identy matrix"
   ]
  },
  {
   "cell_type": "code",
   "execution_count": 19,
   "id": "97999762-39b1-418a-874a-46bfd1476ab5",
   "metadata": {},
   "outputs": [
    {
     "data": {
      "text/plain": [
       "array([[1.]])"
      ]
     },
     "execution_count": 19,
     "metadata": {},
     "output_type": "execute_result"
    }
   ],
   "source": [
    "np.eye(1)"
   ]
  },
  {
   "cell_type": "code",
   "execution_count": 20,
   "id": "28de53af-d6c1-4c01-aa36-567967738bfc",
   "metadata": {},
   "outputs": [
    {
     "data": {
      "text/plain": [
       "array([[1., 0.],\n",
       "       [0., 1.]])"
      ]
     },
     "execution_count": 20,
     "metadata": {},
     "output_type": "execute_result"
    }
   ],
   "source": [
    "np.eye(2)"
   ]
  },
  {
   "cell_type": "code",
   "execution_count": 21,
   "id": "ebf9389a-d49f-459c-af58-2d53960cdb14",
   "metadata": {},
   "outputs": [
    {
     "data": {
      "text/plain": [
       "array([ 1,  6, 11, 16])"
      ]
     },
     "execution_count": 21,
     "metadata": {},
     "output_type": "execute_result"
    }
   ],
   "source": [
    "np.arange(1,20,5)"
   ]
  },
  {
   "cell_type": "code",
   "execution_count": 22,
   "id": "ede8ab80-146e-4f49-9b87-9bbf63d8ad6d",
   "metadata": {},
   "outputs": [
    {
     "data": {
      "text/plain": [
       "array([], dtype=int64)"
      ]
     },
     "execution_count": 22,
     "metadata": {},
     "output_type": "execute_result"
    }
   ],
   "source": [
    "np.arange(1,20,-1)"
   ]
  },
  {
   "cell_type": "code",
   "execution_count": 23,
   "id": "bb5dada7-387e-45b5-b550-03c5ab7785f6",
   "metadata": {},
   "outputs": [
    {
     "data": {
      "text/plain": [
       "array([5])"
      ]
     },
     "execution_count": 23,
     "metadata": {},
     "output_type": "execute_result"
    }
   ],
   "source": [
    "np.arange(5,10,5)"
   ]
  },
  {
   "cell_type": "code",
   "execution_count": 24,
   "id": "d6addd63-d665-46dd-bfff-140cce3a141d",
   "metadata": {},
   "outputs": [
    {
     "data": {
      "text/plain": [
       "array([ 1.  ,  3.25,  5.5 ,  7.75, 10.  ])"
      ]
     },
     "execution_count": 24,
     "metadata": {},
     "output_type": "execute_result"
    }
   ],
   "source": [
    "np.linspace(1,10,5)"
   ]
  },
  {
   "cell_type": "markdown",
   "id": "3159ea12-1548-4aaa-8e38-0675ed354cd6",
   "metadata": {},
   "source": [
    "CHEAKING ARRAY PROPERTIES"
   ]
  },
  {
   "cell_type": "code",
   "execution_count": 25,
   "id": "61d38918-7497-42db-9085-609a6969b9b2",
   "metadata": {},
   "outputs": [
    {
     "data": {
      "text/plain": [
       "array([1, 2, 3, 4, 5, 6])"
      ]
     },
     "execution_count": 25,
     "metadata": {},
     "output_type": "execute_result"
    }
   ],
   "source": [
    "arr1"
   ]
  },
  {
   "cell_type": "code",
   "execution_count": 26,
   "id": "61228a7c-7134-4c54-933f-9939c69e2540",
   "metadata": {},
   "outputs": [
    {
     "data": {
      "text/plain": [
       "array([[  1,   2,   3],\n",
       "       [ 23,  45, 678]])"
      ]
     },
     "execution_count": 26,
     "metadata": {},
     "output_type": "execute_result"
    }
   ],
   "source": [
    "arr2"
   ]
  },
  {
   "cell_type": "code",
   "execution_count": 27,
   "id": "0abace6a-73c2-4b06-aa21-b0a7e49d72c7",
   "metadata": {},
   "outputs": [
    {
     "data": {
      "text/plain": [
       "(2, 3)"
      ]
     },
     "execution_count": 27,
     "metadata": {},
     "output_type": "execute_result"
    }
   ],
   "source": [
    "arr2.shape"
   ]
  },
  {
   "cell_type": "code",
   "execution_count": 28,
   "id": "ffe73130-0d85-4f0c-b41c-ef446fa93090",
   "metadata": {},
   "outputs": [
    {
     "data": {
      "text/plain": [
       "2"
      ]
     },
     "execution_count": 28,
     "metadata": {},
     "output_type": "execute_result"
    }
   ],
   "source": [
    "arr2.ndim"
   ]
  },
  {
   "cell_type": "code",
   "execution_count": 29,
   "id": "6396d389-ee30-484a-9861-489efb443346",
   "metadata": {},
   "outputs": [
    {
     "data": {
      "text/plain": [
       "dtype('int64')"
      ]
     },
     "execution_count": 29,
     "metadata": {},
     "output_type": "execute_result"
    }
   ],
   "source": [
    "arr2.dtype"
   ]
  },
  {
   "cell_type": "code",
   "execution_count": 30,
   "id": "af1dfa76-40a9-4718-9c05-91b9adda40bc",
   "metadata": {},
   "outputs": [
    {
     "data": {
      "text/plain": [
       "6"
      ]
     },
     "execution_count": 30,
     "metadata": {},
     "output_type": "execute_result"
    }
   ],
   "source": [
    "arr2.size"
   ]
  },
  {
   "cell_type": "markdown",
   "id": "d9e642b9-426c-4101-a254-84a9c061e48b",
   "metadata": {},
   "source": [
    "CHANGING DATATYPE"
   ]
  },
  {
   "cell_type": "code",
   "execution_count": 31,
   "id": "af1e0bdb-926c-469a-9586-88a5d824516e",
   "metadata": {},
   "outputs": [
    {
     "data": {
      "text/plain": [
       "array([1, 2, 3])"
      ]
     },
     "execution_count": 31,
     "metadata": {},
     "output_type": "execute_result"
    }
   ],
   "source": [
    "arr = np.array([1,2,3])\n",
    "arr"
   ]
  },
  {
   "cell_type": "code",
   "execution_count": 33,
   "id": "3c6e9658-be4e-4aa6-ad63-998338f03d1b",
   "metadata": {},
   "outputs": [
    {
     "data": {
      "text/plain": [
       "2552286477648"
      ]
     },
     "execution_count": 33,
     "metadata": {},
     "output_type": "execute_result"
    }
   ],
   "source": [
    "id(arr)"
   ]
  },
  {
   "cell_type": "code",
   "execution_count": 35,
   "id": "bcb6ccff-ce80-4bba-99fd-7922d1946d8d",
   "metadata": {},
   "outputs": [
    {
     "data": {
      "text/plain": [
       "numpy.ndarray"
      ]
     },
     "execution_count": 35,
     "metadata": {},
     "output_type": "execute_result"
    }
   ],
   "source": [
    "type(arr)"
   ]
  },
  {
   "cell_type": "code",
   "execution_count": 38,
   "id": "fc728757-44f2-4f8e-b859-04b25ec58673",
   "metadata": {},
   "outputs": [
    {
     "name": "stdout",
     "output_type": "stream",
     "text": [
      "float32\n"
     ]
    }
   ],
   "source": [
    "arr = np.array([1,2,3],dtype = np.float32)\n",
    "print(arr.dtype)\n"
   ]
  },
  {
   "cell_type": "code",
   "execution_count": 39,
   "id": "eb24bd40-89a3-4776-af71-7ff28318661f",
   "metadata": {},
   "outputs": [
    {
     "name": "stdout",
     "output_type": "stream",
     "text": [
      "[1 2 3]\n"
     ]
    }
   ],
   "source": [
    "arr_int = arr.astype(np.int32) # Convert float to int\n",
    "print(arr_int) # [1 2 3]"
   ]
  },
  {
   "cell_type": "code",
   "execution_count": 40,
   "id": "782a348b-d179-42ed-b393-60d1ac066ec8",
   "metadata": {},
   "outputs": [
    {
     "data": {
      "text/plain": [
       "array([1, 2, 3, 4, 5, 6])"
      ]
     },
     "execution_count": 40,
     "metadata": {},
     "output_type": "execute_result"
    }
   ],
   "source": [
    "arr1"
   ]
  },
  {
   "cell_type": "code",
   "execution_count": 42,
   "id": "124a2526-4999-45f3-84eb-0ed5eb076f98",
   "metadata": {},
   "outputs": [
    {
     "data": {
      "text/plain": [
       "array([[ 1,  2,  3],\n",
       "       [33, 45, 67]])"
      ]
     },
     "execution_count": 42,
     "metadata": {},
     "output_type": "execute_result"
    }
   ],
   "source": [
    "a = np.array([[1,2,3],[33,45,67]])\n",
    "a"
   ]
  },
  {
   "cell_type": "code",
   "execution_count": 45,
   "id": "6d7d6cf2-137c-4d09-9d16-318dfbc6c792",
   "metadata": {},
   "outputs": [
    {
     "data": {
      "text/plain": [
       "(2, 3)"
      ]
     },
     "execution_count": 45,
     "metadata": {},
     "output_type": "execute_result"
    }
   ],
   "source": [
    "np.shape(a)"
   ]
  },
  {
   "cell_type": "code",
   "execution_count": 47,
   "id": "f6f591ee-789f-4163-badb-ba6512ba4c62",
   "metadata": {},
   "outputs": [
    {
     "data": {
      "text/plain": [
       "2"
      ]
     },
     "execution_count": 47,
     "metadata": {},
     "output_type": "execute_result"
    }
   ],
   "source": [
    "np.ndim(a)"
   ]
  },
  {
   "cell_type": "code",
   "execution_count": 50,
   "id": "c6f2c7a9-bd02-4761-b4de-367593a1c1ce",
   "metadata": {},
   "outputs": [
    {
     "data": {
      "text/plain": [
       "6"
      ]
     },
     "execution_count": 50,
     "metadata": {},
     "output_type": "execute_result"
    }
   ],
   "source": [
    "np.size(a)"
   ]
  },
  {
   "cell_type": "markdown",
   "id": "48ce7ca4-5541-4b7b-a2d6-c7fe6aa5f7c5",
   "metadata": {},
   "source": [
    "RESIZE AND FLATTING ARRAY"
   ]
  },
  {
   "cell_type": "code",
   "execution_count": 51,
   "id": "702f3923-e927-4974-b120-9b319eff96f5",
   "metadata": {},
   "outputs": [
    {
     "data": {
      "text/plain": [
       "array([[ 1,  2,  3],\n",
       "       [33, 45, 67]])"
      ]
     },
     "execution_count": 51,
     "metadata": {},
     "output_type": "execute_result"
    }
   ],
   "source": [
    "a"
   ]
  },
  {
   "cell_type": "code",
   "execution_count": 53,
   "id": "f72bd188-6762-46ae-9fda-8362948d79fb",
   "metadata": {},
   "outputs": [
    {
     "data": {
      "text/plain": [
       "(2, 3)"
      ]
     },
     "execution_count": 53,
     "metadata": {},
     "output_type": "execute_result"
    }
   ],
   "source": [
    "a.shape"
   ]
  },
  {
   "cell_type": "code",
   "execution_count": 57,
   "id": "9a6dc4b6-4351-4b14-95ea-9cbf1ea995de",
   "metadata": {},
   "outputs": [
    {
     "name": "stdout",
     "output_type": "stream",
     "text": [
      "[[ 1  2]\n",
      " [ 3 33]\n",
      " [45 67]]\n"
     ]
    }
   ],
   "source": [
    "reshaped = a.reshape((3,2))\n",
    "print(reshaped)"
   ]
  },
  {
   "cell_type": "code",
   "execution_count": 58,
   "id": "fc8a0e1b-cb76-4ea2-bd8c-22f8b762a9ea",
   "metadata": {},
   "outputs": [
    {
     "data": {
      "text/plain": [
       "array([[ 1,  2,  3,  4],\n",
       "       [ 5,  6,  7,  8],\n",
       "       [ 9, 10, 11, 12]])"
      ]
     },
     "execution_count": 58,
     "metadata": {},
     "output_type": "execute_result"
    }
   ],
   "source": [
    "b = np.array([[1,2,3,4,],[5,6,7,8],[9,10,11,12]])\n",
    "b"
   ]
  },
  {
   "cell_type": "code",
   "execution_count": 59,
   "id": "f651c60b-40cf-4c15-96d5-59bc40660436",
   "metadata": {},
   "outputs": [
    {
     "data": {
      "text/plain": [
       "(3, 4)"
      ]
     },
     "execution_count": 59,
     "metadata": {},
     "output_type": "execute_result"
    }
   ],
   "source": [
    "b.shape"
   ]
  },
  {
   "cell_type": "code",
   "execution_count": 66,
   "id": "2bbd2f10-62af-4329-9c56-add94072dccd",
   "metadata": {},
   "outputs": [
    {
     "data": {
      "text/plain": [
       "array([[ 1,  2,  3,  4,  5,  6],\n",
       "       [ 7,  8,  9, 10, 11, 12]])"
      ]
     },
     "execution_count": 66,
     "metadata": {},
     "output_type": "execute_result"
    }
   ],
   "source": [
    "reshaped = b.reshape((2,6))\n",
    "reshaped"
   ]
  },
  {
   "cell_type": "code",
   "execution_count": 65,
   "id": "7c43618e-5c1a-4899-89f1-6eea4eb56deb",
   "metadata": {},
   "outputs": [
    {
     "ename": "NameError",
     "evalue": "name 'c' is not defined",
     "output_type": "error",
     "traceback": [
      "\u001b[1;31m----------------------------------------------------------------\u001b[0m",
      "\u001b[1;31mNameError\u001b[0m                      Traceback (most recent call last)",
      "Cell \u001b[1;32mIn[65], line 1\u001b[0m\n\u001b[1;32m----> 1\u001b[0m c \u001b[38;5;241m=\u001b[39m np\u001b[38;5;241m.\u001b[39marray([[a,b,c],[d,e,f],[g,h,i]])\n\u001b[0;32m      2\u001b[0m c\n",
      "\u001b[1;31mNameError\u001b[0m: name 'c' is not defined"
     ]
    }
   ],
   "source": [
    "c = np.array([[a,b,c],[d,e,f],[g,h,i]])\n",
    "c"
   ]
  },
  {
   "cell_type": "code",
   "execution_count": 67,
   "id": "526c7641-e6eb-46a8-a033-48d165ee8519",
   "metadata": {},
   "outputs": [
    {
     "data": {
      "text/plain": [
       "array([[ 1,  2,  3],\n",
       "       [33, 45, 67]])"
      ]
     },
     "execution_count": 67,
     "metadata": {},
     "output_type": "execute_result"
    }
   ],
   "source": [
    "a"
   ]
  },
  {
   "cell_type": "code",
   "execution_count": 69,
   "id": "13a6daa1-09c0-4517-bbdc-04a9b59025b0",
   "metadata": {},
   "outputs": [
    {
     "data": {
      "text/plain": [
       "array([[ 1.2,  2.3,  2.5],\n",
       "       [12.3, 23.5, 98.4]])"
      ]
     },
     "execution_count": 69,
     "metadata": {},
     "output_type": "execute_result"
    }
   ],
   "source": [
    "c  = np.array([[1.2,2.3,2.5],[12.3,23.5,98.4]])\n",
    "c\n"
   ]
  },
  {
   "cell_type": "code",
   "execution_count": 70,
   "id": "5d28a646-f917-4c67-afee-ebc27fd70930",
   "metadata": {},
   "outputs": [
    {
     "data": {
      "text/plain": [
       "(2, 3)"
      ]
     },
     "execution_count": 70,
     "metadata": {},
     "output_type": "execute_result"
    }
   ],
   "source": [
    "c.shape"
   ]
  },
  {
   "cell_type": "code",
   "execution_count": 72,
   "id": "032ae4c5-d19b-4a59-8f33-4cd928c90a21",
   "metadata": {},
   "outputs": [
    {
     "data": {
      "text/plain": [
       "array([[ 1.2,  2.3],\n",
       "       [ 2.5, 12.3],\n",
       "       [23.5, 98.4]])"
      ]
     },
     "execution_count": 72,
     "metadata": {},
     "output_type": "execute_result"
    }
   ],
   "source": [
    "reversed = c.reshape((3,2))\n",
    "reversed"
   ]
  },
  {
   "cell_type": "markdown",
   "id": "81c824d8-4a2d-4e5f-b6c6-6cec1a411644",
   "metadata": {},
   "source": [
    "INDEXING AND SLICING"
   ]
  },
  {
   "cell_type": "code",
   "execution_count": 73,
   "id": "d69682d1-413f-4f87-88b9-49995ea4d78b",
   "metadata": {},
   "outputs": [
    {
     "data": {
      "text/plain": [
       "array([[ 1,  2,  3,  4],\n",
       "       [ 5,  6,  7,  8],\n",
       "       [ 9, 10, 11, 12]])"
      ]
     },
     "execution_count": 73,
     "metadata": {},
     "output_type": "execute_result"
    }
   ],
   "source": [
    "b"
   ]
  },
  {
   "cell_type": "code",
   "execution_count": 74,
   "id": "a8bc20b4-024d-4fae-8636-bf53abe2aba1",
   "metadata": {},
   "outputs": [
    {
     "data": {
      "text/plain": [
       "array([1, 2, 3, 4])"
      ]
     },
     "execution_count": 74,
     "metadata": {},
     "output_type": "execute_result"
    }
   ],
   "source": [
    "b[0]"
   ]
  },
  {
   "cell_type": "code",
   "execution_count": 75,
   "id": "16dd9462-f1b6-40f8-afcc-9905795e43c0",
   "metadata": {},
   "outputs": [
    {
     "data": {
      "text/plain": [
       "array([1, 2, 3, 4, 5, 6, 7])"
      ]
     },
     "execution_count": 75,
     "metadata": {},
     "output_type": "execute_result"
    }
   ],
   "source": [
    "arr1 = np.array([1,2,3,4,5,6,7])\n",
    "arr1"
   ]
  },
  {
   "cell_type": "code",
   "execution_count": 76,
   "id": "15b4b633-4afa-43f5-b37a-0a91c63169ee",
   "metadata": {},
   "outputs": [
    {
     "data": {
      "text/plain": [
       "np.int64(3)"
      ]
     },
     "execution_count": 76,
     "metadata": {},
     "output_type": "execute_result"
    }
   ],
   "source": [
    "arr1[2]"
   ]
  },
  {
   "cell_type": "code",
   "execution_count": 77,
   "id": "f5742c92-4b52-4669-87b1-12b5c03e26c4",
   "metadata": {},
   "outputs": [
    {
     "data": {
      "text/plain": [
       "np.int64(7)"
      ]
     },
     "execution_count": 77,
     "metadata": {},
     "output_type": "execute_result"
    }
   ],
   "source": [
    "arr1[-1]"
   ]
  },
  {
   "cell_type": "code",
   "execution_count": 78,
   "id": "bfd028a9-8204-4f51-ade8-fd13255686a4",
   "metadata": {},
   "outputs": [
    {
     "data": {
      "text/plain": [
       "array([2, 3, 4])"
      ]
     },
     "execution_count": 78,
     "metadata": {},
     "output_type": "execute_result"
    }
   ],
   "source": [
    "arr1[1:4]"
   ]
  },
  {
   "cell_type": "code",
   "execution_count": 80,
   "id": "314af524-0185-4495-b380-b93d3e1afbc6",
   "metadata": {},
   "outputs": [
    {
     "data": {
      "text/plain": [
       "'0x10'"
      ]
     },
     "execution_count": 80,
     "metadata": {},
     "output_type": "execute_result"
    }
   ],
   "source": [
    "hex(16)"
   ]
  },
  {
   "cell_type": "code",
   "execution_count": 81,
   "id": "f65c3317-0869-4f16-b8ad-caab5fd78ee8",
   "metadata": {},
   "outputs": [
    {
     "data": {
      "text/plain": [
       "7"
      ]
     },
     "execution_count": 81,
     "metadata": {},
     "output_type": "execute_result"
    }
   ],
   "source": [
    "16 ^ 23"
   ]
  },
  {
   "cell_type": "code",
   "execution_count": 82,
   "id": "c16489db-b800-4dbe-b5e7-1c6d368d829d",
   "metadata": {},
   "outputs": [],
   "source": [
    "a = 3\n",
    "b = 5"
   ]
  },
  {
   "cell_type": "code",
   "execution_count": 84,
   "id": "172b1c74-1457-46f8-bc56-f1fd60e718e9",
   "metadata": {},
   "outputs": [
    {
     "name": "stdout",
     "output_type": "stream",
     "text": [
      "3\n",
      "5\n"
     ]
    }
   ],
   "source": [
    "a,b = b,a\n",
    "print(a)\n",
    "print(b)"
   ]
  },
  {
   "cell_type": "code",
   "execution_count": 85,
   "id": "5bf4cf5a-607c-442c-810e-62134f909189",
   "metadata": {},
   "outputs": [],
   "source": [
    "temp = a\n",
    "a = b\n",
    "b = temp"
   ]
  },
  {
   "cell_type": "code",
   "execution_count": 93,
   "id": "6d66c94e-ccd4-4a40-9d3b-1aa83e42ae77",
   "metadata": {},
   "outputs": [
    {
     "name": "stdout",
     "output_type": "stream",
     "text": [
      "5\n",
      "3\n"
     ]
    }
   ],
   "source": [
    "print(a)\n",
    "print(b)"
   ]
  },
  {
   "cell_type": "code",
   "execution_count": 88,
   "id": "6c938efa-a57c-4dbc-950b-8ab3546fb0b9",
   "metadata": {},
   "outputs": [
    {
     "data": {
      "text/plain": [
       "'0b1010'"
      ]
     },
     "execution_count": 88,
     "metadata": {},
     "output_type": "execute_result"
    }
   ],
   "source": [
    "bin(10)"
   ]
  },
  {
   "cell_type": "code",
   "execution_count": 89,
   "id": "58609781-fcd9-4be2-ae96-6228c13ed66e",
   "metadata": {},
   "outputs": [
    {
     "data": {
      "text/plain": [
       "'0b1011'"
      ]
     },
     "execution_count": 89,
     "metadata": {},
     "output_type": "execute_result"
    }
   ],
   "source": [
    "bin(11)"
   ]
  },
  {
   "cell_type": "code",
   "execution_count": 91,
   "id": "107ddaf5-0017-4c48-9332-85dcb57ff2a3",
   "metadata": {},
   "outputs": [
    {
     "name": "stdout",
     "output_type": "stream",
     "text": [
      "10\n"
     ]
    }
   ],
   "source": [
    "print(0b1010)"
   ]
  },
  {
   "cell_type": "code",
   "execution_count": 92,
   "id": "a98ea25b-4c76-4718-ab2d-96e175453e79",
   "metadata": {},
   "outputs": [
    {
     "data": {
      "text/plain": [
       "-46"
      ]
     },
     "execution_count": 92,
     "metadata": {},
     "output_type": "execute_result"
    }
   ],
   "source": [
    "~45"
   ]
  },
  {
   "cell_type": "code",
   "execution_count": 94,
   "id": "ac4d9b00-af29-44f0-b38e-7c8e1f3282b6",
   "metadata": {},
   "outputs": [
    {
     "data": {
      "text/plain": [
       "3"
      ]
     },
     "execution_count": 94,
     "metadata": {},
     "output_type": "execute_result"
    }
   ],
   "source": [
    "b"
   ]
  },
  {
   "cell_type": "code",
   "execution_count": 95,
   "id": "ac2bdd22-ace1-459b-b628-e274aaad379e",
   "metadata": {},
   "outputs": [
    {
     "name": "stdin",
     "output_type": "stream",
     "text": [
      " fhe\n"
     ]
    }
   ],
   "source": [
    "a = input()"
   ]
  },
  {
   "cell_type": "code",
   "execution_count": 102,
   "id": "ded9f7fb-433c-4f47-ad5f-e5bf0eca3a7d",
   "metadata": {},
   "outputs": [
    {
     "name": "stdin",
     "output_type": "stream",
     "text": [
      "enter the 1st no 34\n",
      "enter the 2nd no 45\n"
     ]
    },
    {
     "name": "stdout",
     "output_type": "stream",
     "text": [
      "825184889837725994971915471173621692744697928074424045623011467853824\n"
     ]
    }
   ],
   "source": [
    "x = int(input('enter the 1st no'))\n",
    "y = int(input('enter the 2nd no'))\n",
    "devide = x**y\n",
    "print(devide)"
   ]
  },
  {
   "cell_type": "code",
   "execution_count": null,
   "id": "06b929dd-5cbc-407c-9e90-2da00aa10261",
   "metadata": {},
   "outputs": [],
   "source": []
  }
 ],
 "metadata": {
  "kernelspec": {
   "display_name": "Python 3 (ipykernel)",
   "language": "python",
   "name": "python3"
  },
  "language_info": {
   "codemirror_mode": {
    "name": "ipython",
    "version": 3
   },
   "file_extension": ".py",
   "mimetype": "text/x-python",
   "name": "python",
   "nbconvert_exporter": "python",
   "pygments_lexer": "ipython3",
   "version": "3.13.5"
  }
 },
 "nbformat": 4,
 "nbformat_minor": 5
}
